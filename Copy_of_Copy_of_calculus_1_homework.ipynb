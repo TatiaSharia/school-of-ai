{
  "nbformat": 4,
  "nbformat_minor": 0,
  "metadata": {
    "kernelspec": {
      "display_name": "Python 3",
      "language": "python",
      "name": "python3"
    },
    "language_info": {
      "codemirror_mode": {
        "name": "ipython",
        "version": 3
      },
      "file_extension": ".py",
      "mimetype": "text/x-python",
      "name": "python",
      "nbconvert_exporter": "python",
      "pygments_lexer": "ipython3",
      "version": "3.7.4"
    },
    "colab": {
      "name": "Copy of Copy of calculus-1-homework.ipynb",
      "provenance": [],
      "collapsed_sections": [],
      "include_colab_link": true
    }
  },
  "cells": [
    {
      "cell_type": "markdown",
      "metadata": {
        "id": "view-in-github",
        "colab_type": "text"
      },
      "source": [
        "<a href=\"https://colab.research.google.com/github/TatiaSharia/school-of-ai/blob/master/Copy_of_Copy_of_calculus_1_homework.ipynb\" target=\"_parent\"><img src=\"https://colab.research.google.com/assets/colab-badge.svg\" alt=\"Open In Colab\"/></a>"
      ]
    },
    {
      "cell_type": "code",
      "metadata": {
        "id": "MaXlP1V_ilhu",
        "colab_type": "code",
        "colab": {}
      },
      "source": [
        "%load_ext autoreload\n",
        "%autoreload 2\n",
        "\n",
        "%matplotlib inline"
      ],
      "execution_count": 0,
      "outputs": []
    },
    {
      "cell_type": "markdown",
      "metadata": {
        "id": "i2-WI4n4ilh0",
        "colab_type": "text"
      },
      "source": [
        "## Basic setup"
      ]
    },
    {
      "cell_type": "markdown",
      "metadata": {
        "id": "1yTZ63IMilh1",
        "colab_type": "text"
      },
      "source": [
        "Create anaconda environment\n",
        "<br>\n",
        "```bash\n",
        "conda create -n ml python=3.7.4 jupyter\n",
        "```\n",
        "Install fastai library\n",
        "<br>\n",
        "```bash\n",
        "conda install -c pytorch -c fastai fastai\n",
        "```"
      ]
    },
    {
      "cell_type": "code",
      "metadata": {
        "id": "PAo0GQ06ilh2",
        "colab_type": "code",
        "outputId": "5c1520b0-f14d-439e-8950-a10cb90b4065",
        "colab": {
          "base_uri": "https://localhost:8080/",
          "height": 1000
        }
      },
      "source": [
        "!pip install https://github.com/ipython-contrib/jupyter_contrib_nbextensions/tarball/master\n",
        "!pip install jupyter_nbextensions_configurator\n",
        "!jupyter contrib nbextension install --user\n",
        "!jupyter nbextensions_configurator enable --user"
      ],
      "execution_count": 0,
      "outputs": [
        {
          "output_type": "stream",
          "text": [
            "Collecting https://github.com/ipython-contrib/jupyter_contrib_nbextensions/tarball/master\n",
            "\u001b[?25l  Downloading https://github.com/ipython-contrib/jupyter_contrib_nbextensions/tarball/master\n",
            "\u001b[K     - 29.3MB 21.7MB/s\n",
            "\u001b[?25hRequirement already satisfied: ipython_genutils in /usr/local/lib/python3.6/dist-packages (from jupyter-contrib-nbextensions==0.5.1) (0.2.0)\n",
            "Collecting jupyter_contrib_core>=0.3.3\n",
            "  Downloading https://files.pythonhosted.org/packages/e6/8f/04a752a8b66a66e7092c035e5d87d2502ac7ec07f9fb6059059b6c0dc272/jupyter_contrib_core-0.3.3-py2.py3-none-any.whl\n",
            "Requirement already satisfied: jupyter_core in /usr/local/lib/python3.6/dist-packages (from jupyter-contrib-nbextensions==0.5.1) (4.6.1)\n",
            "Collecting jupyter_highlight_selected_word>=0.1.1\n",
            "  Downloading https://files.pythonhosted.org/packages/50/d7/19ab7cfd60bf268d2abbacc52d4295a40f52d74dfc0d938e4761ee5e598b/jupyter_highlight_selected_word-0.2.0-py2.py3-none-any.whl\n",
            "Collecting jupyter_latex_envs>=1.3.8\n",
            "\u001b[?25l  Downloading https://files.pythonhosted.org/packages/0e/15/55805de080d5542f76920364635e96e64d3b37f678befdfe3b16aa154205/jupyter_latex_envs-1.4.6.tar.gz (861kB)\n",
            "\u001b[K     |████████████████████████████████| 870kB 7.3MB/s \n",
            "\u001b[?25hCollecting jupyter_nbextensions_configurator>=0.4.0\n",
            "\u001b[?25l  Downloading https://files.pythonhosted.org/packages/51/a3/d72d5f2dc10c5ccf5a6f4c79f636bf071a5ce462dedd07af2f70384db6cb/jupyter_nbextensions_configurator-0.4.1.tar.gz (479kB)\n",
            "\u001b[K     |████████████████████████████████| 481kB 38.2MB/s \n",
            "\u001b[?25hRequirement already satisfied: nbconvert>=4.2 in /usr/local/lib/python3.6/dist-packages (from jupyter-contrib-nbextensions==0.5.1) (5.6.1)\n",
            "Requirement already satisfied: notebook>=4.0 in /usr/local/lib/python3.6/dist-packages (from jupyter-contrib-nbextensions==0.5.1) (5.2.2)\n",
            "Requirement already satisfied: pyyaml in /usr/local/lib/python3.6/dist-packages (from jupyter-contrib-nbextensions==0.5.1) (3.13)\n",
            "Requirement already satisfied: tornado in /usr/local/lib/python3.6/dist-packages (from jupyter-contrib-nbextensions==0.5.1) (4.5.3)\n",
            "Requirement already satisfied: traitlets>=4.1 in /usr/local/lib/python3.6/dist-packages (from jupyter-contrib-nbextensions==0.5.1) (4.3.3)\n",
            "Requirement already satisfied: lxml in /usr/local/lib/python3.6/dist-packages (from jupyter-contrib-nbextensions==0.5.1) (4.2.6)\n",
            "Requirement already satisfied: setuptools in /usr/local/lib/python3.6/dist-packages (from jupyter_contrib_core>=0.3.3->jupyter-contrib-nbextensions==0.5.1) (41.4.0)\n",
            "Requirement already satisfied: ipython in /usr/local/lib/python3.6/dist-packages (from jupyter_latex_envs>=1.3.8->jupyter-contrib-nbextensions==0.5.1) (5.5.0)\n",
            "Requirement already satisfied: defusedxml in /usr/local/lib/python3.6/dist-packages (from nbconvert>=4.2->jupyter-contrib-nbextensions==0.5.1) (0.6.0)\n",
            "Requirement already satisfied: bleach in /usr/local/lib/python3.6/dist-packages (from nbconvert>=4.2->jupyter-contrib-nbextensions==0.5.1) (3.1.0)\n",
            "Requirement already satisfied: jinja2>=2.4 in /usr/local/lib/python3.6/dist-packages (from nbconvert>=4.2->jupyter-contrib-nbextensions==0.5.1) (2.10.3)\n",
            "Requirement already satisfied: mistune<2,>=0.8.1 in /usr/local/lib/python3.6/dist-packages (from nbconvert>=4.2->jupyter-contrib-nbextensions==0.5.1) (0.8.4)\n",
            "Requirement already satisfied: pygments in /usr/local/lib/python3.6/dist-packages (from nbconvert>=4.2->jupyter-contrib-nbextensions==0.5.1) (2.1.3)\n",
            "Requirement already satisfied: nbformat>=4.4 in /usr/local/lib/python3.6/dist-packages (from nbconvert>=4.2->jupyter-contrib-nbextensions==0.5.1) (4.4.0)\n",
            "Requirement already satisfied: pandocfilters>=1.4.1 in /usr/local/lib/python3.6/dist-packages (from nbconvert>=4.2->jupyter-contrib-nbextensions==0.5.1) (1.4.2)\n",
            "Requirement already satisfied: testpath in /usr/local/lib/python3.6/dist-packages (from nbconvert>=4.2->jupyter-contrib-nbextensions==0.5.1) (0.4.2)\n",
            "Requirement already satisfied: entrypoints>=0.2.2 in /usr/local/lib/python3.6/dist-packages (from nbconvert>=4.2->jupyter-contrib-nbextensions==0.5.1) (0.3)\n",
            "Requirement already satisfied: jupyter-client in /usr/local/lib/python3.6/dist-packages (from notebook>=4.0->jupyter-contrib-nbextensions==0.5.1) (5.3.4)\n",
            "Requirement already satisfied: ipykernel in /usr/local/lib/python3.6/dist-packages (from notebook>=4.0->jupyter-contrib-nbextensions==0.5.1) (4.6.1)\n",
            "Requirement already satisfied: terminado>=0.3.3; sys_platform != \"win32\" in /usr/local/lib/python3.6/dist-packages (from notebook>=4.0->jupyter-contrib-nbextensions==0.5.1) (0.8.2)\n",
            "Requirement already satisfied: decorator in /usr/local/lib/python3.6/dist-packages (from traitlets>=4.1->jupyter-contrib-nbextensions==0.5.1) (4.4.1)\n",
            "Requirement already satisfied: six in /usr/local/lib/python3.6/dist-packages (from traitlets>=4.1->jupyter-contrib-nbextensions==0.5.1) (1.12.0)\n",
            "Requirement already satisfied: prompt-toolkit<2.0.0,>=1.0.4 in /usr/local/lib/python3.6/dist-packages (from ipython->jupyter_latex_envs>=1.3.8->jupyter-contrib-nbextensions==0.5.1) (1.0.18)\n",
            "Requirement already satisfied: pickleshare in /usr/local/lib/python3.6/dist-packages (from ipython->jupyter_latex_envs>=1.3.8->jupyter-contrib-nbextensions==0.5.1) (0.7.5)\n",
            "Requirement already satisfied: pexpect; sys_platform != \"win32\" in /usr/local/lib/python3.6/dist-packages (from ipython->jupyter_latex_envs>=1.3.8->jupyter-contrib-nbextensions==0.5.1) (4.7.0)\n",
            "Requirement already satisfied: simplegeneric>0.8 in /usr/local/lib/python3.6/dist-packages (from ipython->jupyter_latex_envs>=1.3.8->jupyter-contrib-nbextensions==0.5.1) (0.8.1)\n",
            "Requirement already satisfied: webencodings in /usr/local/lib/python3.6/dist-packages (from bleach->nbconvert>=4.2->jupyter-contrib-nbextensions==0.5.1) (0.5.1)\n",
            "Requirement already satisfied: MarkupSafe>=0.23 in /usr/local/lib/python3.6/dist-packages (from jinja2>=2.4->nbconvert>=4.2->jupyter-contrib-nbextensions==0.5.1) (1.1.1)\n",
            "Requirement already satisfied: jsonschema!=2.5.0,>=2.4 in /usr/local/lib/python3.6/dist-packages (from nbformat>=4.4->nbconvert>=4.2->jupyter-contrib-nbextensions==0.5.1) (2.6.0)\n",
            "Requirement already satisfied: pyzmq>=13 in /usr/local/lib/python3.6/dist-packages (from jupyter-client->notebook>=4.0->jupyter-contrib-nbextensions==0.5.1) (17.0.0)\n",
            "Requirement already satisfied: python-dateutil>=2.1 in /usr/local/lib/python3.6/dist-packages (from jupyter-client->notebook>=4.0->jupyter-contrib-nbextensions==0.5.1) (2.6.1)\n",
            "Requirement already satisfied: ptyprocess; os_name != \"nt\" in /usr/local/lib/python3.6/dist-packages (from terminado>=0.3.3; sys_platform != \"win32\"->notebook>=4.0->jupyter-contrib-nbextensions==0.5.1) (0.6.0)\n",
            "Requirement already satisfied: wcwidth in /usr/local/lib/python3.6/dist-packages (from prompt-toolkit<2.0.0,>=1.0.4->ipython->jupyter_latex_envs>=1.3.8->jupyter-contrib-nbextensions==0.5.1) (0.1.7)\n",
            "Building wheels for collected packages: jupyter-contrib-nbextensions, jupyter-latex-envs, jupyter-nbextensions-configurator\n",
            "  Building wheel for jupyter-contrib-nbextensions (setup.py) ... \u001b[?25l\u001b[?25hdone\n",
            "  Created wheel for jupyter-contrib-nbextensions: filename=jupyter_contrib_nbextensions-0.5.1-py2.py3-none-any.whl size=23430599 sha256=3fb50131f71f1f0a542b5517968a72d8cbf33ee66f6cbccd215e556c7f662616\n",
            "  Stored in directory: /tmp/pip-ephem-wheel-cache-ytj35fyx/wheels/22/4a/9f/df59e985684a10ea0e025300581870b5b3a300ee3525f0eef5\n",
            "  Building wheel for jupyter-latex-envs (setup.py) ... \u001b[?25l\u001b[?25hdone\n",
            "  Created wheel for jupyter-latex-envs: filename=jupyter_latex_envs-1.4.6-py2.py3-none-any.whl size=963395 sha256=2fa4e65f8b2f09be7c69d89e8e8be6d2c3a3c0f77f7ec2302956d398d2547d50\n",
            "  Stored in directory: /root/.cache/pip/wheels/0d/71/2a/164491997299b9f2479a251e254323fe35d946779e18f27956\n",
            "  Building wheel for jupyter-nbextensions-configurator (setup.py) ... \u001b[?25l\u001b[?25hdone\n",
            "  Created wheel for jupyter-nbextensions-configurator: filename=jupyter_nbextensions_configurator-0.4.1-py2.py3-none-any.whl size=465823 sha256=d8207d1412e5e58f576978dc8d820e173d22d0b0205d7cbdf965e005587fa77e\n",
            "  Stored in directory: /root/.cache/pip/wheels/15/df/fe/2a74fe34709e7fdc5ae153a768675d9fda93cc7d5133ed1fb0\n",
            "Successfully built jupyter-contrib-nbextensions jupyter-latex-envs jupyter-nbextensions-configurator\n",
            "Installing collected packages: jupyter-contrib-core, jupyter-highlight-selected-word, jupyter-latex-envs, jupyter-nbextensions-configurator, jupyter-contrib-nbextensions\n",
            "Successfully installed jupyter-contrib-core-0.3.3 jupyter-contrib-nbextensions-0.5.1 jupyter-highlight-selected-word-0.2.0 jupyter-latex-envs-1.4.6 jupyter-nbextensions-configurator-0.4.1\n",
            "Requirement already satisfied: jupyter_nbextensions_configurator in /usr/local/lib/python3.6/dist-packages (0.4.1)\n",
            "Requirement already satisfied: pyyaml in /usr/local/lib/python3.6/dist-packages (from jupyter_nbextensions_configurator) (3.13)\n",
            "Requirement already satisfied: notebook>=4.0 in /usr/local/lib/python3.6/dist-packages (from jupyter_nbextensions_configurator) (5.2.2)\n",
            "Requirement already satisfied: jupyter-contrib-core>=0.3.3 in /usr/local/lib/python3.6/dist-packages (from jupyter_nbextensions_configurator) (0.3.3)\n",
            "Requirement already satisfied: tornado in /usr/local/lib/python3.6/dist-packages (from jupyter_nbextensions_configurator) (4.5.3)\n",
            "Requirement already satisfied: jupyter-core in /usr/local/lib/python3.6/dist-packages (from jupyter_nbextensions_configurator) (4.6.1)\n",
            "Requirement already satisfied: traitlets in /usr/local/lib/python3.6/dist-packages (from jupyter_nbextensions_configurator) (4.3.3)\n",
            "Requirement already satisfied: ipython-genutils in /usr/local/lib/python3.6/dist-packages (from notebook>=4.0->jupyter_nbextensions_configurator) (0.2.0)\n",
            "Requirement already satisfied: ipykernel in /usr/local/lib/python3.6/dist-packages (from notebook>=4.0->jupyter_nbextensions_configurator) (4.6.1)\n",
            "Requirement already satisfied: nbconvert in /usr/local/lib/python3.6/dist-packages (from notebook>=4.0->jupyter_nbextensions_configurator) (5.6.1)\n",
            "Requirement already satisfied: nbformat in /usr/local/lib/python3.6/dist-packages (from notebook>=4.0->jupyter_nbextensions_configurator) (4.4.0)\n",
            "Requirement already satisfied: terminado>=0.3.3; sys_platform != \"win32\" in /usr/local/lib/python3.6/dist-packages (from notebook>=4.0->jupyter_nbextensions_configurator) (0.8.2)\n",
            "Requirement already satisfied: jupyter-client in /usr/local/lib/python3.6/dist-packages (from notebook>=4.0->jupyter_nbextensions_configurator) (5.3.4)\n",
            "Requirement already satisfied: jinja2 in /usr/local/lib/python3.6/dist-packages (from notebook>=4.0->jupyter_nbextensions_configurator) (2.10.3)\n",
            "Requirement already satisfied: setuptools in /usr/local/lib/python3.6/dist-packages (from jupyter-contrib-core>=0.3.3->jupyter_nbextensions_configurator) (41.4.0)\n",
            "Requirement already satisfied: decorator in /usr/local/lib/python3.6/dist-packages (from traitlets->jupyter_nbextensions_configurator) (4.4.1)\n",
            "Requirement already satisfied: six in /usr/local/lib/python3.6/dist-packages (from traitlets->jupyter_nbextensions_configurator) (1.12.0)\n",
            "Requirement already satisfied: ipython>=4.0.0 in /usr/local/lib/python3.6/dist-packages (from ipykernel->notebook>=4.0->jupyter_nbextensions_configurator) (5.5.0)\n",
            "Requirement already satisfied: entrypoints>=0.2.2 in /usr/local/lib/python3.6/dist-packages (from nbconvert->notebook>=4.0->jupyter_nbextensions_configurator) (0.3)\n",
            "Requirement already satisfied: pygments in /usr/local/lib/python3.6/dist-packages (from nbconvert->notebook>=4.0->jupyter_nbextensions_configurator) (2.1.3)\n",
            "Requirement already satisfied: pandocfilters>=1.4.1 in /usr/local/lib/python3.6/dist-packages (from nbconvert->notebook>=4.0->jupyter_nbextensions_configurator) (1.4.2)\n",
            "Requirement already satisfied: testpath in /usr/local/lib/python3.6/dist-packages (from nbconvert->notebook>=4.0->jupyter_nbextensions_configurator) (0.4.2)\n",
            "Requirement already satisfied: bleach in /usr/local/lib/python3.6/dist-packages (from nbconvert->notebook>=4.0->jupyter_nbextensions_configurator) (3.1.0)\n",
            "Requirement already satisfied: defusedxml in /usr/local/lib/python3.6/dist-packages (from nbconvert->notebook>=4.0->jupyter_nbextensions_configurator) (0.6.0)\n",
            "Requirement already satisfied: mistune<2,>=0.8.1 in /usr/local/lib/python3.6/dist-packages (from nbconvert->notebook>=4.0->jupyter_nbextensions_configurator) (0.8.4)\n",
            "Requirement already satisfied: jsonschema!=2.5.0,>=2.4 in /usr/local/lib/python3.6/dist-packages (from nbformat->notebook>=4.0->jupyter_nbextensions_configurator) (2.6.0)\n",
            "Requirement already satisfied: ptyprocess; os_name != \"nt\" in /usr/local/lib/python3.6/dist-packages (from terminado>=0.3.3; sys_platform != \"win32\"->notebook>=4.0->jupyter_nbextensions_configurator) (0.6.0)\n",
            "Requirement already satisfied: pyzmq>=13 in /usr/local/lib/python3.6/dist-packages (from jupyter-client->notebook>=4.0->jupyter_nbextensions_configurator) (17.0.0)\n",
            "Requirement already satisfied: python-dateutil>=2.1 in /usr/local/lib/python3.6/dist-packages (from jupyter-client->notebook>=4.0->jupyter_nbextensions_configurator) (2.6.1)\n",
            "Requirement already satisfied: MarkupSafe>=0.23 in /usr/local/lib/python3.6/dist-packages (from jinja2->notebook>=4.0->jupyter_nbextensions_configurator) (1.1.1)\n",
            "Requirement already satisfied: pickleshare in /usr/local/lib/python3.6/dist-packages (from ipython>=4.0.0->ipykernel->notebook>=4.0->jupyter_nbextensions_configurator) (0.7.5)\n",
            "Requirement already satisfied: simplegeneric>0.8 in /usr/local/lib/python3.6/dist-packages (from ipython>=4.0.0->ipykernel->notebook>=4.0->jupyter_nbextensions_configurator) (0.8.1)\n",
            "Requirement already satisfied: pexpect; sys_platform != \"win32\" in /usr/local/lib/python3.6/dist-packages (from ipython>=4.0.0->ipykernel->notebook>=4.0->jupyter_nbextensions_configurator) (4.7.0)\n",
            "Requirement already satisfied: prompt-toolkit<2.0.0,>=1.0.4 in /usr/local/lib/python3.6/dist-packages (from ipython>=4.0.0->ipykernel->notebook>=4.0->jupyter_nbextensions_configurator) (1.0.18)\n",
            "Requirement already satisfied: webencodings in /usr/local/lib/python3.6/dist-packages (from bleach->nbconvert->notebook>=4.0->jupyter_nbextensions_configurator) (0.5.1)\n",
            "Requirement already satisfied: wcwidth in /usr/local/lib/python3.6/dist-packages (from prompt-toolkit<2.0.0,>=1.0.4->ipython>=4.0.0->ipykernel->notebook>=4.0->jupyter_nbextensions_configurator) (0.1.7)\n",
            "\u001b[32m[I 10:24:39 InstallContribNbextensionsApp]\u001b[m jupyter contrib nbextension install --user\n",
            "\u001b[32m[I 10:24:39 InstallContribNbextensionsApp]\u001b[m Installing jupyter_contrib_nbextensions nbextension files to jupyter data directory\n",
            "\u001b[32m[I 10:24:39 InstallContribNbextensionsApp]\u001b[m Installing /usr/local/lib/python3.6/dist-packages/jupyter_contrib_nbextensions/nbextensions/zenmode -> zenmode\n",
            "\u001b[32m[I 10:24:39 InstallContribNbextensionsApp]\u001b[m Making directory: /root/.local/share/jupyter/nbextensions/zenmode/\n",
            "\u001b[32m[I 10:24:39 InstallContribNbextensionsApp]\u001b[m Copying: /usr/local/lib/python3.6/dist-packages/jupyter_contrib_nbextensions/nbextensions/zenmode/main.js -> /root/.local/share/jupyter/nbextensions/zenmode/main.js\n",
            "\u001b[32m[I 10:24:39 InstallContribNbextensionsApp]\u001b[m Copying: /usr/local/lib/python3.6/dist-packages/jupyter_contrib_nbextensions/nbextensions/zenmode/zenmode.yaml -> /root/.local/share/jupyter/nbextensions/zenmode/zenmode.yaml\n",
            "\u001b[32m[I 10:24:39 InstallContribNbextensionsApp]\u001b[m Copying: /usr/local/lib/python3.6/dist-packages/jupyter_contrib_nbextensions/nbextensions/zenmode/README.md -> /root/.local/share/jupyter/nbextensions/zenmode/README.md\n",
            "\u001b[32m[I 10:24:39 InstallContribNbextensionsApp]\u001b[m Copying: /usr/local/lib/python3.6/dist-packages/jupyter_contrib_nbextensions/nbextensions/zenmode/main.css -> /root/.local/share/jupyter/nbextensions/zenmode/main.css\n",
            "\u001b[32m[I 10:24:39 InstallContribNbextensionsApp]\u001b[m Making directory: /root/.local/share/jupyter/nbextensions/zenmode/images\n",
            "\u001b[32m[I 10:24:39 InstallContribNbextensionsApp]\u001b[m Copying: /usr/local/lib/python3.6/dist-packages/jupyter_contrib_nbextensions/nbextensions/zenmode/images/back22.jpg -> /root/.local/share/jupyter/nbextensions/zenmode/images/back22.jpg\n",
            "\u001b[32m[I 10:24:39 InstallContribNbextensionsApp]\u001b[m Copying: /usr/local/lib/python3.6/dist-packages/jupyter_contrib_nbextensions/nbextensions/zenmode/images/back2.jpg -> /root/.local/share/jupyter/nbextensions/zenmode/images/back2.jpg\n",
            "\u001b[32m[I 10:24:39 InstallContribNbextensionsApp]\u001b[m Copying: /usr/local/lib/python3.6/dist-packages/jupyter_contrib_nbextensions/nbextensions/zenmode/images/back21.jpg -> /root/.local/share/jupyter/nbextensions/zenmode/images/back21.jpg\n",
            "\u001b[32m[I 10:24:39 InstallContribNbextensionsApp]\u001b[m Copying: /usr/local/lib/python3.6/dist-packages/jupyter_contrib_nbextensions/nbextensions/zenmode/images/back1.jpg -> /root/.local/share/jupyter/nbextensions/zenmode/images/back1.jpg\n",
            "\u001b[32m[I 10:24:39 InstallContribNbextensionsApp]\u001b[m Copying: /usr/local/lib/python3.6/dist-packages/jupyter_contrib_nbextensions/nbextensions/zenmode/images/back3.jpg -> /root/.local/share/jupyter/nbextensions/zenmode/images/back3.jpg\n",
            "\u001b[32m[I 10:24:39 InstallContribNbextensionsApp]\u001b[m Copying: /usr/local/lib/python3.6/dist-packages/jupyter_contrib_nbextensions/nbextensions/zenmode/images/back11.jpg -> /root/.local/share/jupyter/nbextensions/zenmode/images/back11.jpg\n",
            "\u001b[32m[I 10:24:39 InstallContribNbextensionsApp]\u001b[m Copying: /usr/local/lib/python3.6/dist-packages/jupyter_contrib_nbextensions/nbextensions/zenmode/images/ipynblogo0.png -> /root/.local/share/jupyter/nbextensions/zenmode/images/ipynblogo0.png\n",
            "\u001b[32m[I 10:24:39 InstallContribNbextensionsApp]\u001b[m Copying: /usr/local/lib/python3.6/dist-packages/jupyter_contrib_nbextensions/nbextensions/zenmode/images/back12.jpg -> /root/.local/share/jupyter/nbextensions/zenmode/images/back12.jpg\n",
            "\u001b[32m[I 10:24:39 InstallContribNbextensionsApp]\u001b[m Copying: /usr/local/lib/python3.6/dist-packages/jupyter_contrib_nbextensions/nbextensions/zenmode/images/ipynblogo1.png -> /root/.local/share/jupyter/nbextensions/zenmode/images/ipynblogo1.png\n",
            "\u001b[32m[I 10:24:39 InstallContribNbextensionsApp]\u001b[m - Validating: \u001b[32mOK\u001b[0m\n",
            "\u001b[32m[I 10:24:39 InstallContribNbextensionsApp]\u001b[m Installing /usr/local/lib/python3.6/dist-packages/jupyter_contrib_nbextensions/nbextensions/select_keymap -> select_keymap\n",
            "\u001b[32m[I 10:24:39 InstallContribNbextensionsApp]\u001b[m Making directory: /root/.local/share/jupyter/nbextensions/select_keymap/\n",
            "\u001b[32m[I 10:24:39 InstallContribNbextensionsApp]\u001b[m Copying: /usr/local/lib/python3.6/dist-packages/jupyter_contrib_nbextensions/nbextensions/select_keymap/main.js -> /root/.local/share/jupyter/nbextensions/select_keymap/main.js\n",
            "\u001b[32m[I 10:24:39 InstallContribNbextensionsApp]\u001b[m Copying: /usr/local/lib/python3.6/dist-packages/jupyter_contrib_nbextensions/nbextensions/select_keymap/select_keymap.png -> /root/.local/share/jupyter/nbextensions/select_keymap/select_keymap.png\n",
            "\u001b[32m[I 10:24:39 InstallContribNbextensionsApp]\u001b[m Copying: /usr/local/lib/python3.6/dist-packages/jupyter_contrib_nbextensions/nbextensions/select_keymap/select_keymap.yaml -> /root/.local/share/jupyter/nbextensions/select_keymap/select_keymap.yaml\n",
            "\u001b[32m[I 10:24:39 InstallContribNbextensionsApp]\u001b[m Copying: /usr/local/lib/python3.6/dist-packages/jupyter_contrib_nbextensions/nbextensions/select_keymap/README.md -> /root/.local/share/jupyter/nbextensions/select_keymap/README.md\n",
            "\u001b[32m[I 10:24:39 InstallContribNbextensionsApp]\u001b[m - Validating: \u001b[32mOK\u001b[0m\n",
            "\u001b[32m[I 10:24:39 InstallContribNbextensionsApp]\u001b[m Installing /usr/local/lib/python3.6/dist-packages/jupyter_contrib_nbextensions/nbextensions/keyboard_shortcut_editor -> keyboard_shortcut_editor\n",
            "\u001b[32m[I 10:24:39 InstallContribNbextensionsApp]\u001b[m Making directory: /root/.local/share/jupyter/nbextensions/keyboard_shortcut_editor/\n",
            "\u001b[32m[I 10:24:39 InstallContribNbextensionsApp]\u001b[m Copying: /usr/local/lib/python3.6/dist-packages/jupyter_contrib_nbextensions/nbextensions/keyboard_shortcut_editor/main.js -> /root/.local/share/jupyter/nbextensions/keyboard_shortcut_editor/main.js\n",
            "\u001b[32m[I 10:24:39 InstallContribNbextensionsApp]\u001b[m Copying: /usr/local/lib/python3.6/dist-packages/jupyter_contrib_nbextensions/nbextensions/keyboard_shortcut_editor/readme_menu_item.png -> /root/.local/share/jupyter/nbextensions/keyboard_shortcut_editor/readme_menu_item.png\n",
            "\u001b[32m[I 10:24:39 InstallContribNbextensionsApp]\u001b[m Copying: /usr/local/lib/python3.6/dist-packages/jupyter_contrib_nbextensions/nbextensions/keyboard_shortcut_editor/quickhelp_shim.js -> /root/.local/share/jupyter/nbextensions/keyboard_shortcut_editor/quickhelp_shim.js\n",
            "\u001b[32m[I 10:24:39 InstallContribNbextensionsApp]\u001b[m Copying: /usr/local/lib/python3.6/dist-packages/jupyter_contrib_nbextensions/nbextensions/keyboard_shortcut_editor/readme_comma.png -> /root/.local/share/jupyter/nbextensions/keyboard_shortcut_editor/readme_comma.png\n",
            "\u001b[32m[I 10:24:39 InstallContribNbextensionsApp]\u001b[m Copying: /usr/local/lib/python3.6/dist-packages/jupyter_contrib_nbextensions/nbextensions/keyboard_shortcut_editor/readme_add_new_select_action.png -> /root/.local/share/jupyter/nbextensions/keyboard_shortcut_editor/readme_add_new_select_action.png\n",
            "\u001b[32m[I 10:24:39 InstallContribNbextensionsApp]\u001b[m Copying: /usr/local/lib/python3.6/dist-packages/jupyter_contrib_nbextensions/nbextensions/keyboard_shortcut_editor/readme_add_new_link.png -> /root/.local/share/jupyter/nbextensions/keyboard_shortcut_editor/readme_add_new_link.png\n",
            "\u001b[32m[I 10:24:39 InstallContribNbextensionsApp]\u001b[m Copying: /usr/local/lib/python3.6/dist-packages/jupyter_contrib_nbextensions/nbextensions/keyboard_shortcut_editor/icon.png -> /root/.local/share/jupyter/nbextensions/keyboard_shortcut_editor/icon.png\n",
            "\u001b[32m[I 10:24:39 InstallContribNbextensionsApp]\u001b[m Copying: /usr/local/lib/python3.6/dist-packages/jupyter_contrib_nbextensions/nbextensions/keyboard_shortcut_editor/readme_reset_disabled.png -> /root/.local/share/jupyter/nbextensions/keyboard_shortcut_editor/readme_reset_disabled.png\n",
            "\u001b[32m[I 10:24:39 InstallContribNbextensionsApp]\u001b[m Copying: /usr/local/lib/python3.6/dist-packages/jupyter_contrib_nbextensions/nbextensions/keyboard_shortcut_editor/keyboard_shortcut_editor.yaml -> /root/.local/share/jupyter/nbextensions/keyboard_shortcut_editor/keyboard_shortcut_editor.yaml\n",
            "\u001b[32m[I 10:24:39 InstallContribNbextensionsApp]\u001b[m Copying: /usr/local/lib/python3.6/dist-packages/jupyter_contrib_nbextensions/nbextensions/keyboard_shortcut_editor/readme_dropdown.png -> /root/.local/share/jupyter/nbextensions/keyboard_shortcut_editor/readme_dropdown.png\n",
            "\u001b[32m[I 10:24:39 InstallContribNbextensionsApp]\u001b[m Copying: /usr/local/lib/python3.6/dist-packages/jupyter_contrib_nbextensions/nbextensions/keyboard_shortcut_editor/readme_undefined_key.png -> /root/.local/share/jupyter/nbextensions/keyboard_shortcut_editor/readme_undefined_key.png\n",
            "\u001b[32m[I 10:24:39 InstallContribNbextensionsApp]\u001b[m Copying: /usr/local/lib/python3.6/dist-packages/jupyter_contrib_nbextensions/nbextensions/keyboard_shortcut_editor/kse_components.js -> /root/.local/share/jupyter/nbextensions/keyboard_shortcut_editor/kse_components.js\n",
            "\u001b[32m[I 10:24:39 InstallContribNbextensionsApp]\u001b[m Copying: /usr/local/lib/python3.6/dist-packages/jupyter_contrib_nbextensions/nbextensions/keyboard_shortcut_editor/readme_shortcut_editor_blank.png -> /root/.local/share/jupyter/nbextensions/keyboard_shortcut_editor/readme_shortcut_editor_blank.png\n",
            "\u001b[32m[I 10:24:39 InstallContribNbextensionsApp]\u001b[m Copying: /usr/local/lib/python3.6/dist-packages/jupyter_contrib_nbextensions/nbextensions/keyboard_shortcut_editor/readme_shortcut_editor_success.png -> /root/.local/share/jupyter/nbextensions/keyboard_shortcut_editor/readme_shortcut_editor_success.png\n",
            "\u001b[32m[I 10:24:39 InstallContribNbextensionsApp]\u001b[m Copying: /usr/local/lib/python3.6/dist-packages/jupyter_contrib_nbextensions/nbextensions/keyboard_shortcut_editor/readme_conflict.png -> /root/.local/share/jupyter/nbextensions/keyboard_shortcut_editor/readme_conflict.png\n",
            "\u001b[32m[I 10:24:39 InstallContribNbextensionsApp]\u001b[m Copying: /usr/local/lib/python3.6/dist-packages/jupyter_contrib_nbextensions/nbextensions/keyboard_shortcut_editor/README.md -> /root/.local/share/jupyter/nbextensions/keyboard_shortcut_editor/README.md\n",
            "\u001b[32m[I 10:24:39 InstallContribNbextensionsApp]\u001b[m Copying: /usr/local/lib/python3.6/dist-packages/jupyter_contrib_nbextensions/nbextensions/keyboard_shortcut_editor/main.css -> /root/.local/share/jupyter/nbextensions/keyboard_shortcut_editor/main.css\n",
            "\u001b[32m[I 10:24:39 InstallContribNbextensionsApp]\u001b[m - Validating: \u001b[32mOK\u001b[0m\n",
            "\u001b[32m[I 10:24:39 InstallContribNbextensionsApp]\u001b[m Installing /usr/local/lib/python3.6/dist-packages/jupyter_contrib_nbextensions/nbextensions/ruler -> ruler\n",
            "\u001b[32m[I 10:24:39 InstallContribNbextensionsApp]\u001b[m Making directory: /root/.local/share/jupyter/nbextensions/ruler/\n",
            "\u001b[32m[I 10:24:39 InstallContribNbextensionsApp]\u001b[m Copying: /usr/local/lib/python3.6/dist-packages/jupyter_contrib_nbextensions/nbextensions/ruler/main.js -> /root/.local/share/jupyter/nbextensions/ruler/main.js\n",
            "\u001b[32m[I 10:24:39 InstallContribNbextensionsApp]\u001b[m Copying: /usr/local/lib/python3.6/dist-packages/jupyter_contrib_nbextensions/nbextensions/ruler/readme.md -> /root/.local/share/jupyter/nbextensions/ruler/readme.md\n",
            "\u001b[32m[I 10:24:39 InstallContribNbextensionsApp]\u001b[m Copying: /usr/local/lib/python3.6/dist-packages/jupyter_contrib_nbextensions/nbextensions/ruler/ruler_editor.yaml -> /root/.local/share/jupyter/nbextensions/ruler/ruler_editor.yaml\n",
            "\u001b[32m[I 10:24:39 InstallContribNbextensionsApp]\u001b[m Copying: /usr/local/lib/python3.6/dist-packages/jupyter_contrib_nbextensions/nbextensions/ruler/icon.png -> /root/.local/share/jupyter/nbextensions/ruler/icon.png\n",
            "\u001b[32m[I 10:24:39 InstallContribNbextensionsApp]\u001b[m Copying: /usr/local/lib/python3.6/dist-packages/jupyter_contrib_nbextensions/nbextensions/ruler/ruler.yaml -> /root/.local/share/jupyter/nbextensions/ruler/ruler.yaml\n",
            "\u001b[32m[I 10:24:39 InstallContribNbextensionsApp]\u001b[m Copying: /usr/local/lib/python3.6/dist-packages/jupyter_contrib_nbextensions/nbextensions/ruler/edit.js -> /root/.local/share/jupyter/nbextensions/ruler/edit.js\n",
            "\u001b[32m[I 10:24:39 InstallContribNbextensionsApp]\u001b[m - Validating: \u001b[32mOK\u001b[0m\n",
            "\u001b[32m[I 10:24:39 InstallContribNbextensionsApp]\u001b[m Installing /usr/local/lib/python3.6/dist-packages/jupyter_contrib_nbextensions/nbextensions/ruler -> ruler\n",
            "\u001b[32m[I 10:24:39 InstallContribNbextensionsApp]\u001b[m Up to date: /root/.local/share/jupyter/nbextensions/ruler/main.js\n",
            "\u001b[32m[I 10:24:39 InstallContribNbextensionsApp]\u001b[m Up to date: /root/.local/share/jupyter/nbextensions/ruler/readme.md\n",
            "\u001b[32m[I 10:24:39 InstallContribNbextensionsApp]\u001b[m Up to date: /root/.local/share/jupyter/nbextensions/ruler/ruler_editor.yaml\n",
            "\u001b[32m[I 10:24:39 InstallContribNbextensionsApp]\u001b[m Up to date: /root/.local/share/jupyter/nbextensions/ruler/icon.png\n",
            "\u001b[32m[I 10:24:39 InstallContribNbextensionsApp]\u001b[m Up to date: /root/.local/share/jupyter/nbextensions/ruler/ruler.yaml\n",
            "\u001b[32m[I 10:24:39 InstallContribNbextensionsApp]\u001b[m Up to date: /root/.local/share/jupyter/nbextensions/ruler/edit.js\n",
            "\u001b[32m[I 10:24:39 InstallContribNbextensionsApp]\u001b[m - Validating: \u001b[32mOK\u001b[0m\n",
            "\u001b[32m[I 10:24:39 InstallContribNbextensionsApp]\u001b[m Installing /usr/local/lib/python3.6/dist-packages/jupyter_contrib_nbextensions/nbextensions/equation-numbering -> equation-numbering\n",
            "\u001b[32m[I 10:24:39 InstallContribNbextensionsApp]\u001b[m Making directory: /root/.local/share/jupyter/nbextensions/equation-numbering/\n",
            "\u001b[32m[I 10:24:39 InstallContribNbextensionsApp]\u001b[m Copying: /usr/local/lib/python3.6/dist-packages/jupyter_contrib_nbextensions/nbextensions/equation-numbering/main.js -> /root/.local/share/jupyter/nbextensions/equation-numbering/main.js\n",
            "\u001b[32m[I 10:24:39 InstallContribNbextensionsApp]\u001b[m Copying: /usr/local/lib/python3.6/dist-packages/jupyter_contrib_nbextensions/nbextensions/equation-numbering/readme.md -> /root/.local/share/jupyter/nbextensions/equation-numbering/readme.md\n",
            "\u001b[32m[I 10:24:39 InstallContribNbextensionsApp]\u001b[m Copying: /usr/local/lib/python3.6/dist-packages/jupyter_contrib_nbextensions/nbextensions/equation-numbering/icon.png -> /root/.local/share/jupyter/nbextensions/equation-numbering/icon.png\n",
            "\u001b[32m[I 10:24:39 InstallContribNbextensionsApp]\u001b[m Copying: /usr/local/lib/python3.6/dist-packages/jupyter_contrib_nbextensions/nbextensions/equation-numbering/info.yaml -> /root/.local/share/jupyter/nbextensions/equation-numbering/info.yaml\n",
            "\u001b[32m[I 10:24:39 InstallContribNbextensionsApp]\u001b[m Copying: /usr/local/lib/python3.6/dist-packages/jupyter_contrib_nbextensions/nbextensions/equation-numbering/button.png -> /root/.local/share/jupyter/nbextensions/equation-numbering/button.png\n",
            "\u001b[32m[I 10:24:39 InstallContribNbextensionsApp]\u001b[m - Validating: \u001b[32mOK\u001b[0m\n",
            "\u001b[32m[I 10:24:39 InstallContribNbextensionsApp]\u001b[m Installing /usr/local/lib/python3.6/dist-packages/jupyter_contrib_nbextensions/nbextensions/exercise2 -> exercise2\n",
            "\u001b[32m[I 10:24:39 InstallContribNbextensionsApp]\u001b[m Making directory: /root/.local/share/jupyter/nbextensions/exercise2/\n",
            "\u001b[32m[I 10:24:39 InstallContribNbextensionsApp]\u001b[m Copying: /usr/local/lib/python3.6/dist-packages/jupyter_contrib_nbextensions/nbextensions/exercise2/main.js -> /root/.local/share/jupyter/nbextensions/exercise2/main.js\n",
            "\u001b[32m[I 10:24:39 InstallContribNbextensionsApp]\u001b[m Copying: /usr/local/lib/python3.6/dist-packages/jupyter_contrib_nbextensions/nbextensions/exercise2/readme.md -> /root/.local/share/jupyter/nbextensions/exercise2/readme.md\n",
            "\u001b[32m[I 10:24:39 InstallContribNbextensionsApp]\u001b[m Copying: /usr/local/lib/python3.6/dist-packages/jupyter_contrib_nbextensions/nbextensions/exercise2/icon.png -> /root/.local/share/jupyter/nbextensions/exercise2/icon.png\n",
            "\u001b[32m[I 10:24:39 InstallContribNbextensionsApp]\u001b[m Copying: /usr/local/lib/python3.6/dist-packages/jupyter_contrib_nbextensions/nbextensions/exercise2/exercise2.yaml -> /root/.local/share/jupyter/nbextensions/exercise2/exercise2.yaml\n",
            "\u001b[32m[I 10:24:39 InstallContribNbextensionsApp]\u001b[m Copying: /usr/local/lib/python3.6/dist-packages/jupyter_contrib_nbextensions/nbextensions/exercise2/image.gif -> /root/.local/share/jupyter/nbextensions/exercise2/image.gif\n",
            "\u001b[32m[I 10:24:39 InstallContribNbextensionsApp]\u001b[m Copying: /usr/local/lib/python3.6/dist-packages/jupyter_contrib_nbextensions/nbextensions/exercise2/main.css -> /root/.local/share/jupyter/nbextensions/exercise2/main.css\n",
            "\u001b[32m[I 10:24:39 InstallContribNbextensionsApp]\u001b[m - Validating: \u001b[32mOK\u001b[0m\n",
            "\u001b[32m[I 10:24:39 InstallContribNbextensionsApp]\u001b[m Installing /usr/local/lib/python3.6/dist-packages/jupyter_contrib_nbextensions/nbextensions/autosavetime -> autosavetime\n",
            "\u001b[32m[I 10:24:39 InstallContribNbextensionsApp]\u001b[m Making directory: /root/.local/share/jupyter/nbextensions/autosavetime/\n",
            "\u001b[32m[I 10:24:39 InstallContribNbextensionsApp]\u001b[m Copying: /usr/local/lib/python3.6/dist-packages/jupyter_contrib_nbextensions/nbextensions/autosavetime/main.js -> /root/.local/share/jupyter/nbextensions/autosavetime/main.js\n",
            "\u001b[32m[I 10:24:39 InstallContribNbextensionsApp]\u001b[m Copying: /usr/local/lib/python3.6/dist-packages/jupyter_contrib_nbextensions/nbextensions/autosavetime/autosavetime.yaml -> /root/.local/share/jupyter/nbextensions/autosavetime/autosavetime.yaml\n",
            "\u001b[32m[I 10:24:39 InstallContribNbextensionsApp]\u001b[m Copying: /usr/local/lib/python3.6/dist-packages/jupyter_contrib_nbextensions/nbextensions/autosavetime/icon.png -> /root/.local/share/jupyter/nbextensions/autosavetime/icon.png\n",
            "\u001b[32m[I 10:24:39 InstallContribNbextensionsApp]\u001b[m Copying: /usr/local/lib/python3.6/dist-packages/jupyter_contrib_nbextensions/nbextensions/autosavetime/README.md -> /root/.local/share/jupyter/nbextensions/autosavetime/README.md\n",
            "\u001b[32m[I 10:24:39 InstallContribNbextensionsApp]\u001b[m - Validating: \u001b[32mOK\u001b[0m\n",
            "\u001b[32m[I 10:24:39 InstallContribNbextensionsApp]\u001b[m Installing /usr/local/lib/python3.6/dist-packages/jupyter_contrib_nbextensions/nbextensions/toggle_all_line_numbers -> toggle_all_line_numbers\n",
            "\u001b[32m[I 10:24:39 InstallContribNbextensionsApp]\u001b[m Making directory: /root/.local/share/jupyter/nbextensions/toggle_all_line_numbers/\n",
            "\u001b[32m[I 10:24:39 InstallContribNbextensionsApp]\u001b[m Copying: /usr/local/lib/python3.6/dist-packages/jupyter_contrib_nbextensions/nbextensions/toggle_all_line_numbers/main.js -> /root/.local/share/jupyter/nbextensions/toggle_all_line_numbers/main.js\n",
            "\u001b[32m[I 10:24:39 InstallContribNbextensionsApp]\u001b[m Copying: /usr/local/lib/python3.6/dist-packages/jupyter_contrib_nbextensions/nbextensions/toggle_all_line_numbers/main.yaml -> /root/.local/share/jupyter/nbextensions/toggle_all_line_numbers/main.yaml\n",
            "\u001b[32m[I 10:24:39 InstallContribNbextensionsApp]\u001b[m Copying: /usr/local/lib/python3.6/dist-packages/jupyter_contrib_nbextensions/nbextensions/toggle_all_line_numbers/readme.md -> /root/.local/share/jupyter/nbextensions/toggle_all_line_numbers/readme.md\n",
            "\u001b[32m[I 10:24:39 InstallContribNbextensionsApp]\u001b[m Copying: /usr/local/lib/python3.6/dist-packages/jupyter_contrib_nbextensions/nbextensions/toggle_all_line_numbers/icon.png -> /root/.local/share/jupyter/nbextensions/toggle_all_line_numbers/icon.png\n",
            "\u001b[32m[I 10:24:39 InstallContribNbextensionsApp]\u001b[m - Validating: \u001b[32mOK\u001b[0m\n",
            "\u001b[32m[I 10:24:39 InstallContribNbextensionsApp]\u001b[m Installing /usr/local/lib/python3.6/dist-packages/jupyter_contrib_nbextensions/nbextensions/autoscroll -> autoscroll\n",
            "\u001b[32m[I 10:24:39 InstallContribNbextensionsApp]\u001b[m Making directory: /root/.local/share/jupyter/nbextensions/autoscroll/\n",
            "\u001b[32m[I 10:24:39 InstallContribNbextensionsApp]\u001b[m Copying: /usr/local/lib/python3.6/dist-packages/jupyter_contrib_nbextensions/nbextensions/autoscroll/main.js -> /root/.local/share/jupyter/nbextensions/autoscroll/main.js\n",
            "\u001b[32m[I 10:24:39 InstallContribNbextensionsApp]\u001b[m Copying: /usr/local/lib/python3.6/dist-packages/jupyter_contrib_nbextensions/nbextensions/autoscroll/icon.png -> /root/.local/share/jupyter/nbextensions/autoscroll/icon.png\n",
            "\u001b[32m[I 10:24:39 InstallContribNbextensionsApp]\u001b[m Copying: /usr/local/lib/python3.6/dist-packages/jupyter_contrib_nbextensions/nbextensions/autoscroll/README.md -> /root/.local/share/jupyter/nbextensions/autoscroll/README.md\n",
            "\u001b[32m[I 10:24:39 InstallContribNbextensionsApp]\u001b[m Copying: /usr/local/lib/python3.6/dist-packages/jupyter_contrib_nbextensions/nbextensions/autoscroll/autoscroll.yaml -> /root/.local/share/jupyter/nbextensions/autoscroll/autoscroll.yaml\n",
            "\u001b[32m[I 10:24:39 InstallContribNbextensionsApp]\u001b[m - Validating: \u001b[32mOK\u001b[0m\n",
            "\u001b[32m[I 10:24:39 InstallContribNbextensionsApp]\u001b[m Installing /usr/local/lib/python3.6/dist-packages/jupyter_contrib_nbextensions/nbextensions/codemirror_mode_extensions -> codemirror_mode_extensions\n",
            "\u001b[32m[I 10:24:39 InstallContribNbextensionsApp]\u001b[m Making directory: /root/.local/share/jupyter/nbextensions/codemirror_mode_extensions/\n",
            "\u001b[32m[I 10:24:39 InstallContribNbextensionsApp]\u001b[m Copying: /usr/local/lib/python3.6/dist-packages/jupyter_contrib_nbextensions/nbextensions/codemirror_mode_extensions/main.js -> /root/.local/share/jupyter/nbextensions/codemirror_mode_extensions/main.js\n",
            "\u001b[32m[I 10:24:39 InstallContribNbextensionsApp]\u001b[m Copying: /usr/local/lib/python3.6/dist-packages/jupyter_contrib_nbextensions/nbextensions/codemirror_mode_extensions/codemirror_mode_extensions.yaml -> /root/.local/share/jupyter/nbextensions/codemirror_mode_extensions/codemirror_mode_extensions.yaml\n",
            "\u001b[32m[I 10:24:39 InstallContribNbextensionsApp]\u001b[m - Validating: \u001b[32mOK\u001b[0m\n",
            "\u001b[32m[I 10:24:39 InstallContribNbextensionsApp]\u001b[m Installing /usr/local/lib/python3.6/dist-packages/jupyter_contrib_nbextensions/nbextensions/scratchpad -> scratchpad\n",
            "\u001b[32m[I 10:24:39 InstallContribNbextensionsApp]\u001b[m Making directory: /root/.local/share/jupyter/nbextensions/scratchpad/\n",
            "\u001b[32m[I 10:24:39 InstallContribNbextensionsApp]\u001b[m Copying: /usr/local/lib/python3.6/dist-packages/jupyter_contrib_nbextensions/nbextensions/scratchpad/main.js -> /root/.local/share/jupyter/nbextensions/scratchpad/main.js\n",
            "\u001b[32m[I 10:24:39 InstallContribNbextensionsApp]\u001b[m Copying: /usr/local/lib/python3.6/dist-packages/jupyter_contrib_nbextensions/nbextensions/scratchpad/scratchpad.yaml -> /root/.local/share/jupyter/nbextensions/scratchpad/scratchpad.yaml\n",
            "\u001b[32m[I 10:24:39 InstallContribNbextensionsApp]\u001b[m Copying: /usr/local/lib/python3.6/dist-packages/jupyter_contrib_nbextensions/nbextensions/scratchpad/scratchpad.css -> /root/.local/share/jupyter/nbextensions/scratchpad/scratchpad.css\n",
            "\u001b[32m[I 10:24:39 InstallContribNbextensionsApp]\u001b[m Copying: /usr/local/lib/python3.6/dist-packages/jupyter_contrib_nbextensions/nbextensions/scratchpad/demo.gif -> /root/.local/share/jupyter/nbextensions/scratchpad/demo.gif\n",
            "\u001b[32m[I 10:24:39 InstallContribNbextensionsApp]\u001b[m Copying: /usr/local/lib/python3.6/dist-packages/jupyter_contrib_nbextensions/nbextensions/scratchpad/README.md -> /root/.local/share/jupyter/nbextensions/scratchpad/README.md\n",
            "\u001b[32m[I 10:24:39 InstallContribNbextensionsApp]\u001b[m Copying: /usr/local/lib/python3.6/dist-packages/jupyter_contrib_nbextensions/nbextensions/scratchpad/LICENSE -> /root/.local/share/jupyter/nbextensions/scratchpad/LICENSE\n",
            "\u001b[32m[I 10:24:39 InstallContribNbextensionsApp]\u001b[m - Validating: \u001b[32mOK\u001b[0m\n",
            "\u001b[32m[I 10:24:39 InstallContribNbextensionsApp]\u001b[m Installing /usr/local/lib/python3.6/dist-packages/jupyter_contrib_nbextensions/nbextensions/gist_it -> gist_it\n",
            "\u001b[32m[I 10:24:39 InstallContribNbextensionsApp]\u001b[m Making directory: /root/.local/share/jupyter/nbextensions/gist_it/\n",
            "\u001b[32m[I 10:24:39 InstallContribNbextensionsApp]\u001b[m Copying: /usr/local/lib/python3.6/dist-packages/jupyter_contrib_nbextensions/nbextensions/gist_it/gist_it.yaml -> /root/.local/share/jupyter/nbextensions/gist_it/gist_it.yaml\n",
            "\u001b[32m[I 10:24:39 InstallContribNbextensionsApp]\u001b[m Copying: /usr/local/lib/python3.6/dist-packages/jupyter_contrib_nbextensions/nbextensions/gist_it/main.js -> /root/.local/share/jupyter/nbextensions/gist_it/main.js\n",
            "\u001b[32m[I 10:24:39 InstallContribNbextensionsApp]\u001b[m Copying: /usr/local/lib/python3.6/dist-packages/jupyter_contrib_nbextensions/nbextensions/gist_it/readme.md -> /root/.local/share/jupyter/nbextensions/gist_it/readme.md\n",
            "\u001b[32m[I 10:24:39 InstallContribNbextensionsApp]\u001b[m Copying: /usr/local/lib/python3.6/dist-packages/jupyter_contrib_nbextensions/nbextensions/gist_it/icon.png -> /root/.local/share/jupyter/nbextensions/gist_it/icon.png\n",
            "\u001b[32m[I 10:24:39 InstallContribNbextensionsApp]\u001b[m - Validating: \u001b[32mOK\u001b[0m\n",
            "\u001b[32m[I 10:24:39 InstallContribNbextensionsApp]\u001b[m Installing /usr/local/lib/python3.6/dist-packages/jupyter_contrib_nbextensions/nbextensions/navigation-hotkeys -> navigation-hotkeys\n",
            "\u001b[32m[I 10:24:39 InstallContribNbextensionsApp]\u001b[m Making directory: /root/.local/share/jupyter/nbextensions/navigation-hotkeys/\n",
            "\u001b[32m[I 10:24:39 InstallContribNbextensionsApp]\u001b[m Copying: /usr/local/lib/python3.6/dist-packages/jupyter_contrib_nbextensions/nbextensions/navigation-hotkeys/main.js -> /root/.local/share/jupyter/nbextensions/navigation-hotkeys/main.js\n",
            "\u001b[32m[I 10:24:39 InstallContribNbextensionsApp]\u001b[m Copying: /usr/local/lib/python3.6/dist-packages/jupyter_contrib_nbextensions/nbextensions/navigation-hotkeys/hotkeys.yaml -> /root/.local/share/jupyter/nbextensions/navigation-hotkeys/hotkeys.yaml\n",
            "\u001b[32m[I 10:24:39 InstallContribNbextensionsApp]\u001b[m Copying: /usr/local/lib/python3.6/dist-packages/jupyter_contrib_nbextensions/nbextensions/navigation-hotkeys/readme.md -> /root/.local/share/jupyter/nbextensions/navigation-hotkeys/readme.md\n",
            "\u001b[32m[I 10:24:39 InstallContribNbextensionsApp]\u001b[m Copying: /usr/local/lib/python3.6/dist-packages/jupyter_contrib_nbextensions/nbextensions/navigation-hotkeys/icon.png -> /root/.local/share/jupyter/nbextensions/navigation-hotkeys/icon.png\n",
            "\u001b[32m[I 10:24:39 InstallContribNbextensionsApp]\u001b[m - Validating: \u001b[32mOK\u001b[0m\n",
            "\u001b[32m[I 10:24:39 InstallContribNbextensionsApp]\u001b[m Installing /usr/local/lib/python3.6/dist-packages/jupyter_contrib_nbextensions/nbextensions/splitcell -> splitcell\n",
            "\u001b[32m[I 10:24:39 InstallContribNbextensionsApp]\u001b[m Making directory: /root/.local/share/jupyter/nbextensions/splitcell/\n",
            "\u001b[32m[I 10:24:39 InstallContribNbextensionsApp]\u001b[m Copying: /usr/local/lib/python3.6/dist-packages/jupyter_contrib_nbextensions/nbextensions/splitcell/readme.md -> /root/.local/share/jupyter/nbextensions/splitcell/readme.md\n",
            "\u001b[32m[I 10:24:39 InstallContribNbextensionsApp]\u001b[m Copying: /usr/local/lib/python3.6/dist-packages/jupyter_contrib_nbextensions/nbextensions/splitcell/icon.png -> /root/.local/share/jupyter/nbextensions/splitcell/icon.png\n",
            "\u001b[32m[I 10:24:39 InstallContribNbextensionsApp]\u001b[m Copying: /usr/local/lib/python3.6/dist-packages/jupyter_contrib_nbextensions/nbextensions/splitcell/splitcell.yaml -> /root/.local/share/jupyter/nbextensions/splitcell/splitcell.yaml\n",
            "\u001b[32m[I 10:24:39 InstallContribNbextensionsApp]\u001b[m Copying: /usr/local/lib/python3.6/dist-packages/jupyter_contrib_nbextensions/nbextensions/splitcell/splitcell.js -> /root/.local/share/jupyter/nbextensions/splitcell/splitcell.js\n",
            "\u001b[32m[I 10:24:39 InstallContribNbextensionsApp]\u001b[m - Validating: \u001b[32mOK\u001b[0m\n",
            "\u001b[32m[I 10:24:39 InstallContribNbextensionsApp]\u001b[m Installing /usr/local/lib/python3.6/dist-packages/jupyter_contrib_nbextensions/nbextensions/table_beautifier -> table_beautifier\n",
            "\u001b[32m[I 10:24:39 InstallContribNbextensionsApp]\u001b[m Making directory: /root/.local/share/jupyter/nbextensions/table_beautifier/\n",
            "\u001b[32m[I 10:24:39 InstallContribNbextensionsApp]\u001b[m Copying: /usr/local/lib/python3.6/dist-packages/jupyter_contrib_nbextensions/nbextensions/table_beautifier/main.js -> /root/.local/share/jupyter/nbextensions/table_beautifier/main.js\n",
            "\u001b[32m[I 10:24:39 InstallContribNbextensionsApp]\u001b[m Copying: /usr/local/lib/python3.6/dist-packages/jupyter_contrib_nbextensions/nbextensions/table_beautifier/table_beautifier.yaml -> /root/.local/share/jupyter/nbextensions/table_beautifier/table_beautifier.yaml\n",
            "\u001b[32m[I 10:24:39 InstallContribNbextensionsApp]\u001b[m Copying: /usr/local/lib/python3.6/dist-packages/jupyter_contrib_nbextensions/nbextensions/table_beautifier/README.md -> /root/.local/share/jupyter/nbextensions/table_beautifier/README.md\n",
            "\u001b[32m[I 10:24:39 InstallContribNbextensionsApp]\u001b[m Copying: /usr/local/lib/python3.6/dist-packages/jupyter_contrib_nbextensions/nbextensions/table_beautifier/main.css -> /root/.local/share/jupyter/nbextensions/table_beautifier/main.css\n",
            "\u001b[32m[I 10:24:39 InstallContribNbextensionsApp]\u001b[m - Validating: \u001b[32mOK\u001b[0m\n",
            "\u001b[32m[I 10:24:39 InstallContribNbextensionsApp]\u001b[m Installing /usr/local/lib/python3.6/dist-packages/jupyter_contrib_nbextensions/nbextensions/livemdpreview -> livemdpreview\n",
            "\u001b[32m[I 10:24:39 InstallContribNbextensionsApp]\u001b[m Making directory: /root/.local/share/jupyter/nbextensions/livemdpreview/\n",
            "\u001b[32m[I 10:24:39 InstallContribNbextensionsApp]\u001b[m Copying: /usr/local/lib/python3.6/dist-packages/jupyter_contrib_nbextensions/nbextensions/livemdpreview/livemdpreview.js -> /root/.local/share/jupyter/nbextensions/livemdpreview/livemdpreview.js\n",
            "\u001b[32m[I 10:24:39 InstallContribNbextensionsApp]\u001b[m Copying: /usr/local/lib/python3.6/dist-packages/jupyter_contrib_nbextensions/nbextensions/livemdpreview/livemdpreview.yml -> /root/.local/share/jupyter/nbextensions/livemdpreview/livemdpreview.yml\n",
            "\u001b[32m[I 10:24:39 InstallContribNbextensionsApp]\u001b[m - Validating: \u001b[32mOK\u001b[0m\n",
            "\u001b[32m[I 10:24:39 InstallContribNbextensionsApp]\u001b[m Installing /usr/local/lib/python3.6/dist-packages/jupyter_contrib_nbextensions/nbextensions/notify -> notify\n",
            "\u001b[32m[I 10:24:39 InstallContribNbextensionsApp]\u001b[m Making directory: /root/.local/share/jupyter/nbextensions/notify/\n",
            "\u001b[32m[I 10:24:39 InstallContribNbextensionsApp]\u001b[m Copying: /usr/local/lib/python3.6/dist-packages/jupyter_contrib_nbextensions/nbextensions/notify/notify.mp3 -> /root/.local/share/jupyter/nbextensions/notify/notify.mp3\n",
            "\u001b[32m[I 10:24:39 InstallContribNbextensionsApp]\u001b[m Copying: /usr/local/lib/python3.6/dist-packages/jupyter_contrib_nbextensions/nbextensions/notify/readme.md -> /root/.local/share/jupyter/nbextensions/notify/readme.md\n",
            "\u001b[32m[I 10:24:39 InstallContribNbextensionsApp]\u001b[m Copying: /usr/local/lib/python3.6/dist-packages/jupyter_contrib_nbextensions/nbextensions/notify/notify.yaml -> /root/.local/share/jupyter/nbextensions/notify/notify.yaml\n",
            "\u001b[32m[I 10:24:39 InstallContribNbextensionsApp]\u001b[m Copying: /usr/local/lib/python3.6/dist-packages/jupyter_contrib_nbextensions/nbextensions/notify/notification.png -> /root/.local/share/jupyter/nbextensions/notify/notification.png\n",
            "\u001b[32m[I 10:24:39 InstallContribNbextensionsApp]\u001b[m Copying: /usr/local/lib/python3.6/dist-packages/jupyter_contrib_nbextensions/nbextensions/notify/notify.js -> /root/.local/share/jupyter/nbextensions/notify/notify.js\n",
            "\u001b[32m[I 10:24:39 InstallContribNbextensionsApp]\u001b[m - Validating: \u001b[32mOK\u001b[0m\n",
            "\u001b[32m[I 10:24:39 InstallContribNbextensionsApp]\u001b[m Installing /usr/local/lib/python3.6/dist-packages/jupyter_contrib_nbextensions/nbextensions/load_tex_macros -> load_tex_macros\n",
            "\u001b[32m[I 10:24:39 InstallContribNbextensionsApp]\u001b[m Making directory: /root/.local/share/jupyter/nbextensions/load_tex_macros/\n",
            "\u001b[32m[I 10:24:39 InstallContribNbextensionsApp]\u001b[m Copying: /usr/local/lib/python3.6/dist-packages/jupyter_contrib_nbextensions/nbextensions/load_tex_macros/main.js -> /root/.local/share/jupyter/nbextensions/load_tex_macros/main.js\n",
            "\u001b[32m[I 10:24:39 InstallContribNbextensionsApp]\u001b[m Copying: /usr/local/lib/python3.6/dist-packages/jupyter_contrib_nbextensions/nbextensions/load_tex_macros/load_tex_macros.yaml -> /root/.local/share/jupyter/nbextensions/load_tex_macros/load_tex_macros.yaml\n",
            "\u001b[32m[I 10:24:39 InstallContribNbextensionsApp]\u001b[m Copying: /usr/local/lib/python3.6/dist-packages/jupyter_contrib_nbextensions/nbextensions/load_tex_macros/readme.md -> /root/.local/share/jupyter/nbextensions/load_tex_macros/readme.md\n",
            "\u001b[32m[I 10:24:39 InstallContribNbextensionsApp]\u001b[m Copying: /usr/local/lib/python3.6/dist-packages/jupyter_contrib_nbextensions/nbextensions/load_tex_macros/icon.png -> /root/.local/share/jupyter/nbextensions/load_tex_macros/icon.png\n",
            "\u001b[32m[I 10:24:39 InstallContribNbextensionsApp]\u001b[m - Validating: \u001b[32mOK\u001b[0m\n",
            "\u001b[32m[I 10:24:39 InstallContribNbextensionsApp]\u001b[m Installing /usr/local/lib/python3.6/dist-packages/jupyter_contrib_nbextensions/nbextensions/datestamper -> datestamper\n",
            "\u001b[32m[I 10:24:39 InstallContribNbextensionsApp]\u001b[m Making directory: /root/.local/share/jupyter/nbextensions/datestamper/\n",
            "\u001b[32m[I 10:24:39 InstallContribNbextensionsApp]\u001b[m Copying: /usr/local/lib/python3.6/dist-packages/jupyter_contrib_nbextensions/nbextensions/datestamper/main.js -> /root/.local/share/jupyter/nbextensions/datestamper/main.js\n",
            "\u001b[32m[I 10:24:39 InstallContribNbextensionsApp]\u001b[m Copying: /usr/local/lib/python3.6/dist-packages/jupyter_contrib_nbextensions/nbextensions/datestamper/main.yaml -> /root/.local/share/jupyter/nbextensions/datestamper/main.yaml\n",
            "\u001b[32m[I 10:24:39 InstallContribNbextensionsApp]\u001b[m Copying: /usr/local/lib/python3.6/dist-packages/jupyter_contrib_nbextensions/nbextensions/datestamper/readme.md -> /root/.local/share/jupyter/nbextensions/datestamper/readme.md\n",
            "\u001b[32m[I 10:24:39 InstallContribNbextensionsApp]\u001b[m Copying: /usr/local/lib/python3.6/dist-packages/jupyter_contrib_nbextensions/nbextensions/datestamper/icon.png -> /root/.local/share/jupyter/nbextensions/datestamper/icon.png\n",
            "\u001b[32m[I 10:24:39 InstallContribNbextensionsApp]\u001b[m - Validating: \u001b[32mOK\u001b[0m\n",
            "\u001b[32m[I 10:24:39 InstallContribNbextensionsApp]\u001b[m Installing /usr/local/lib/python3.6/dist-packages/jupyter_contrib_nbextensions/nbextensions/qtconsole -> qtconsole\n",
            "\u001b[32m[I 10:24:39 InstallContribNbextensionsApp]\u001b[m Making directory: /root/.local/share/jupyter/nbextensions/qtconsole/\n",
            "\u001b[32m[I 10:24:39 InstallContribNbextensionsApp]\u001b[m Copying: /usr/local/lib/python3.6/dist-packages/jupyter_contrib_nbextensions/nbextensions/qtconsole/qtconsole.yaml -> /root/.local/share/jupyter/nbextensions/qtconsole/qtconsole.yaml\n",
            "\u001b[32m[I 10:24:39 InstallContribNbextensionsApp]\u001b[m Copying: /usr/local/lib/python3.6/dist-packages/jupyter_contrib_nbextensions/nbextensions/qtconsole/qtconsole.js -> /root/.local/share/jupyter/nbextensions/qtconsole/qtconsole.js\n",
            "\u001b[32m[I 10:24:39 InstallContribNbextensionsApp]\u001b[m Copying: /usr/local/lib/python3.6/dist-packages/jupyter_contrib_nbextensions/nbextensions/qtconsole/README.md -> /root/.local/share/jupyter/nbextensions/qtconsole/README.md\n",
            "\u001b[32m[I 10:24:39 InstallContribNbextensionsApp]\u001b[m - Validating: \u001b[32mOK\u001b[0m\n",
            "\u001b[32m[I 10:24:39 InstallContribNbextensionsApp]\u001b[m Installing /usr/local/lib/python3.6/dist-packages/jupyter_contrib_nbextensions/nbextensions/init_cell -> init_cell\n",
            "\u001b[32m[I 10:24:39 InstallContribNbextensionsApp]\u001b[m Making directory: /root/.local/share/jupyter/nbextensions/init_cell/\n",
            "\u001b[32m[I 10:24:39 InstallContribNbextensionsApp]\u001b[m Copying: /usr/local/lib/python3.6/dist-packages/jupyter_contrib_nbextensions/nbextensions/init_cell/main.js -> /root/.local/share/jupyter/nbextensions/init_cell/main.js\n",
            "\u001b[32m[I 10:24:39 InstallContribNbextensionsApp]\u001b[m Copying: /usr/local/lib/python3.6/dist-packages/jupyter_contrib_nbextensions/nbextensions/init_cell/cell_toolbar_menu.png -> /root/.local/share/jupyter/nbextensions/init_cell/cell_toolbar_menu.png\n",
            "\u001b[32m[I 10:24:39 InstallContribNbextensionsApp]\u001b[m Copying: /usr/local/lib/python3.6/dist-packages/jupyter_contrib_nbextensions/nbextensions/init_cell/icon.png -> /root/.local/share/jupyter/nbextensions/init_cell/icon.png\n",
            "\u001b[32m[I 10:24:39 InstallContribNbextensionsApp]\u001b[m Copying: /usr/local/lib/python3.6/dist-packages/jupyter_contrib_nbextensions/nbextensions/init_cell/init_cell.yaml -> /root/.local/share/jupyter/nbextensions/init_cell/init_cell.yaml\n",
            "\u001b[32m[I 10:24:39 InstallContribNbextensionsApp]\u001b[m Copying: /usr/local/lib/python3.6/dist-packages/jupyter_contrib_nbextensions/nbextensions/init_cell/README.md -> /root/.local/share/jupyter/nbextensions/init_cell/README.md\n",
            "\u001b[32m[I 10:24:39 InstallContribNbextensionsApp]\u001b[m - Validating: \u001b[32mOK\u001b[0m\n",
            "\u001b[32m[I 10:24:39 InstallContribNbextensionsApp]\u001b[m Installing /usr/local/lib/python3.6/dist-packages/jupyter_contrib_nbextensions/nbextensions/move_selected_cells -> move_selected_cells\n",
            "\u001b[32m[I 10:24:39 InstallContribNbextensionsApp]\u001b[m Making directory: /root/.local/share/jupyter/nbextensions/move_selected_cells/\n",
            "\u001b[32m[I 10:24:39 InstallContribNbextensionsApp]\u001b[m Copying: /usr/local/lib/python3.6/dist-packages/jupyter_contrib_nbextensions/nbextensions/move_selected_cells/main.js -> /root/.local/share/jupyter/nbextensions/move_selected_cells/main.js\n",
            "\u001b[32m[I 10:24:39 InstallContribNbextensionsApp]\u001b[m Copying: /usr/local/lib/python3.6/dist-packages/jupyter_contrib_nbextensions/nbextensions/move_selected_cells/move_selected_cells.yaml -> /root/.local/share/jupyter/nbextensions/move_selected_cells/move_selected_cells.yaml\n",
            "\u001b[32m[I 10:24:39 InstallContribNbextensionsApp]\u001b[m Copying: /usr/local/lib/python3.6/dist-packages/jupyter_contrib_nbextensions/nbextensions/move_selected_cells/README.md -> /root/.local/share/jupyter/nbextensions/move_selected_cells/README.md\n",
            "\u001b[32m[I 10:24:39 InstallContribNbextensionsApp]\u001b[m - Validating: \u001b[32mOK\u001b[0m\n",
            "\u001b[32m[I 10:24:39 InstallContribNbextensionsApp]\u001b[m Installing /usr/local/lib/python3.6/dist-packages/jupyter_contrib_nbextensions/nbextensions/export_embedded -> export_embedded\n",
            "\u001b[32m[I 10:24:39 InstallContribNbextensionsApp]\u001b[m Making directory: /root/.local/share/jupyter/nbextensions/export_embedded/\n",
            "\u001b[32m[I 10:24:39 InstallContribNbextensionsApp]\u001b[m Copying: /usr/local/lib/python3.6/dist-packages/jupyter_contrib_nbextensions/nbextensions/export_embedded/export_embedded.yaml -> /root/.local/share/jupyter/nbextensions/export_embedded/export_embedded.yaml\n",
            "\u001b[32m[I 10:24:39 InstallContribNbextensionsApp]\u001b[m Copying: /usr/local/lib/python3.6/dist-packages/jupyter_contrib_nbextensions/nbextensions/export_embedded/main.js -> /root/.local/share/jupyter/nbextensions/export_embedded/main.js\n",
            "\u001b[32m[I 10:24:39 InstallContribNbextensionsApp]\u001b[m Copying: /usr/local/lib/python3.6/dist-packages/jupyter_contrib_nbextensions/nbextensions/export_embedded/readme.md -> /root/.local/share/jupyter/nbextensions/export_embedded/readme.md\n",
            "\u001b[32m[I 10:24:39 InstallContribNbextensionsApp]\u001b[m Copying: /usr/local/lib/python3.6/dist-packages/jupyter_contrib_nbextensions/nbextensions/export_embedded/icon.png -> /root/.local/share/jupyter/nbextensions/export_embedded/icon.png\n",
            "\u001b[32m[I 10:24:39 InstallContribNbextensionsApp]\u001b[m - Validating: \u001b[32mOK\u001b[0m\n",
            "\u001b[32m[I 10:24:39 InstallContribNbextensionsApp]\u001b[m Installing /usr/local/lib/python3.6/dist-packages/jupyter_contrib_nbextensions/nbextensions/code_font_size -> code_font_size\n",
            "\u001b[32m[I 10:24:39 InstallContribNbextensionsApp]\u001b[m Making directory: /root/.local/share/jupyter/nbextensions/code_font_size/\n",
            "\u001b[32m[I 10:24:39 InstallContribNbextensionsApp]\u001b[m Copying: /usr/local/lib/python3.6/dist-packages/jupyter_contrib_nbextensions/nbextensions/code_font_size/code_font_size.yaml -> /root/.local/share/jupyter/nbextensions/code_font_size/code_font_size.yaml\n",
            "\u001b[32m[I 10:24:39 InstallContribNbextensionsApp]\u001b[m Copying: /usr/local/lib/python3.6/dist-packages/jupyter_contrib_nbextensions/nbextensions/code_font_size/code_font_size.js -> /root/.local/share/jupyter/nbextensions/code_font_size/code_font_size.js\n",
            "\u001b[32m[I 10:24:39 InstallContribNbextensionsApp]\u001b[m Copying: /usr/local/lib/python3.6/dist-packages/jupyter_contrib_nbextensions/nbextensions/code_font_size/README.md -> /root/.local/share/jupyter/nbextensions/code_font_size/README.md\n",
            "\u001b[32m[I 10:24:39 InstallContribNbextensionsApp]\u001b[m - Validating: \u001b[32mOK\u001b[0m\n",
            "\u001b[32m[I 10:24:39 InstallContribNbextensionsApp]\u001b[m Installing /usr/local/lib/python3.6/dist-packages/jupyter_contrib_nbextensions/nbextensions/codefolding -> codefolding\n",
            "\u001b[32m[I 10:24:39 InstallContribNbextensionsApp]\u001b[m Making directory: /root/.local/share/jupyter/nbextensions/codefolding/\n",
            "\u001b[32m[I 10:24:39 InstallContribNbextensionsApp]\u001b[m Copying: /usr/local/lib/python3.6/dist-packages/jupyter_contrib_nbextensions/nbextensions/codefolding/blockcomment-fold.js -> /root/.local/share/jupyter/nbextensions/codefolding/blockcomment-fold.js\n",
            "\u001b[32m[I 10:24:39 InstallContribNbextensionsApp]\u001b[m Copying: /usr/local/lib/python3.6/dist-packages/jupyter_contrib_nbextensions/nbextensions/codefolding/codefolding.yaml -> /root/.local/share/jupyter/nbextensions/codefolding/codefolding.yaml\n",
            "\u001b[32m[I 10:24:39 InstallContribNbextensionsApp]\u001b[m Copying: /usr/local/lib/python3.6/dist-packages/jupyter_contrib_nbextensions/nbextensions/codefolding/main.js -> /root/.local/share/jupyter/nbextensions/codefolding/main.js\n",
            "\u001b[32m[I 10:24:39 InstallContribNbextensionsApp]\u001b[m Copying: /usr/local/lib/python3.6/dist-packages/jupyter_contrib_nbextensions/nbextensions/codefolding/codefolding_editor.png -> /root/.local/share/jupyter/nbextensions/codefolding/codefolding_editor.png\n",
            "\u001b[32m[I 10:24:39 InstallContribNbextensionsApp]\u001b[m Copying: /usr/local/lib/python3.6/dist-packages/jupyter_contrib_nbextensions/nbextensions/codefolding/codefolding_firstline_folded.png -> /root/.local/share/jupyter/nbextensions/codefolding/codefolding_firstline_folded.png\n",
            "\u001b[32m[I 10:24:39 InstallContribNbextensionsApp]\u001b[m Copying: /usr/local/lib/python3.6/dist-packages/jupyter_contrib_nbextensions/nbextensions/codefolding/readme.md -> /root/.local/share/jupyter/nbextensions/codefolding/readme.md\n",
            "\u001b[32m[I 10:24:39 InstallContribNbextensionsApp]\u001b[m Copying: /usr/local/lib/python3.6/dist-packages/jupyter_contrib_nbextensions/nbextensions/codefolding/codefolding_firstline_unfolded.png -> /root/.local/share/jupyter/nbextensions/codefolding/codefolding_firstline_unfolded.png\n",
            "\u001b[32m[I 10:24:39 InstallContribNbextensionsApp]\u001b[m Copying: /usr/local/lib/python3.6/dist-packages/jupyter_contrib_nbextensions/nbextensions/codefolding/magic-folded.png -> /root/.local/share/jupyter/nbextensions/codefolding/magic-folded.png\n",
            "\u001b[32m[I 10:24:39 InstallContribNbextensionsApp]\u001b[m Copying: /usr/local/lib/python3.6/dist-packages/jupyter_contrib_nbextensions/nbextensions/codefolding/codefolding_indent_folded_2.png -> /root/.local/share/jupyter/nbextensions/codefolding/codefolding_indent_folded_2.png\n",
            "\u001b[32m[I 10:24:39 InstallContribNbextensionsApp]\u001b[m Copying: /usr/local/lib/python3.6/dist-packages/jupyter_contrib_nbextensions/nbextensions/codefolding/icon.png -> /root/.local/share/jupyter/nbextensions/codefolding/icon.png\n",
            "\u001b[32m[I 10:24:39 InstallContribNbextensionsApp]\u001b[m Copying: /usr/local/lib/python3.6/dist-packages/jupyter_contrib_nbextensions/nbextensions/codefolding/codefolding_indent_folded_1.png -> /root/.local/share/jupyter/nbextensions/codefolding/codefolding_indent_folded_1.png\n",
            "\u001b[32m[I 10:24:39 InstallContribNbextensionsApp]\u001b[m Copying: /usr/local/lib/python3.6/dist-packages/jupyter_contrib_nbextensions/nbextensions/codefolding/magic-unfolded.png -> /root/.local/share/jupyter/nbextensions/codefolding/magic-unfolded.png\n",
            "\u001b[32m[I 10:24:39 InstallContribNbextensionsApp]\u001b[m Copying: /usr/local/lib/python3.6/dist-packages/jupyter_contrib_nbextensions/nbextensions/codefolding/foldgutter.css -> /root/.local/share/jupyter/nbextensions/codefolding/foldgutter.css\n",
            "\u001b[32m[I 10:24:39 InstallContribNbextensionsApp]\u001b[m Copying: /usr/local/lib/python3.6/dist-packages/jupyter_contrib_nbextensions/nbextensions/codefolding/codefolding_indent_unfolded.png -> /root/.local/share/jupyter/nbextensions/codefolding/codefolding_indent_unfolded.png\n",
            "\u001b[32m[I 10:24:39 InstallContribNbextensionsApp]\u001b[m Copying: /usr/local/lib/python3.6/dist-packages/jupyter_contrib_nbextensions/nbextensions/codefolding/magic-fold.js -> /root/.local/share/jupyter/nbextensions/codefolding/magic-fold.js\n",
            "\u001b[32m[I 10:24:39 InstallContribNbextensionsApp]\u001b[m Copying: /usr/local/lib/python3.6/dist-packages/jupyter_contrib_nbextensions/nbextensions/codefolding/edit.js -> /root/.local/share/jupyter/nbextensions/codefolding/edit.js\n",
            "\u001b[32m[I 10:24:39 InstallContribNbextensionsApp]\u001b[m Copying: /usr/local/lib/python3.6/dist-packages/jupyter_contrib_nbextensions/nbextensions/codefolding/firstline-fold.js -> /root/.local/share/jupyter/nbextensions/codefolding/firstline-fold.js\n",
            "\u001b[32m[I 10:24:39 InstallContribNbextensionsApp]\u001b[m Copying: /usr/local/lib/python3.6/dist-packages/jupyter_contrib_nbextensions/nbextensions/codefolding/codefolding_editor.yaml -> /root/.local/share/jupyter/nbextensions/codefolding/codefolding_editor.yaml\n",
            "\u001b[32m[I 10:24:39 InstallContribNbextensionsApp]\u001b[m - Validating: \u001b[32mOK\u001b[0m\n",
            "\u001b[32m[I 10:24:39 InstallContribNbextensionsApp]\u001b[m Installing /usr/local/lib/python3.6/dist-packages/jupyter_contrib_nbextensions/nbextensions/codefolding -> codefolding\n",
            "\u001b[32m[I 10:24:39 InstallContribNbextensionsApp]\u001b[m Up to date: /root/.local/share/jupyter/nbextensions/codefolding/blockcomment-fold.js\n",
            "\u001b[32m[I 10:24:39 InstallContribNbextensionsApp]\u001b[m Up to date: /root/.local/share/jupyter/nbextensions/codefolding/codefolding.yaml\n",
            "\u001b[32m[I 10:24:39 InstallContribNbextensionsApp]\u001b[m Up to date: /root/.local/share/jupyter/nbextensions/codefolding/main.js\n",
            "\u001b[32m[I 10:24:39 InstallContribNbextensionsApp]\u001b[m Up to date: /root/.local/share/jupyter/nbextensions/codefolding/codefolding_editor.png\n",
            "\u001b[32m[I 10:24:39 InstallContribNbextensionsApp]\u001b[m Up to date: /root/.local/share/jupyter/nbextensions/codefolding/codefolding_firstline_folded.png\n",
            "\u001b[32m[I 10:24:39 InstallContribNbextensionsApp]\u001b[m Up to date: /root/.local/share/jupyter/nbextensions/codefolding/readme.md\n",
            "\u001b[32m[I 10:24:39 InstallContribNbextensionsApp]\u001b[m Up to date: /root/.local/share/jupyter/nbextensions/codefolding/codefolding_firstline_unfolded.png\n",
            "\u001b[32m[I 10:24:39 InstallContribNbextensionsApp]\u001b[m Up to date: /root/.local/share/jupyter/nbextensions/codefolding/magic-folded.png\n",
            "\u001b[32m[I 10:24:39 InstallContribNbextensionsApp]\u001b[m Up to date: /root/.local/share/jupyter/nbextensions/codefolding/codefolding_indent_folded_2.png\n",
            "\u001b[32m[I 10:24:39 InstallContribNbextensionsApp]\u001b[m Up to date: /root/.local/share/jupyter/nbextensions/codefolding/icon.png\n",
            "\u001b[32m[I 10:24:39 InstallContribNbextensionsApp]\u001b[m Up to date: /root/.local/share/jupyter/nbextensions/codefolding/codefolding_indent_folded_1.png\n",
            "\u001b[32m[I 10:24:39 InstallContribNbextensionsApp]\u001b[m Up to date: /root/.local/share/jupyter/nbextensions/codefolding/magic-unfolded.png\n",
            "\u001b[32m[I 10:24:39 InstallContribNbextensionsApp]\u001b[m Up to date: /root/.local/share/jupyter/nbextensions/codefolding/foldgutter.css\n",
            "\u001b[32m[I 10:24:39 InstallContribNbextensionsApp]\u001b[m Up to date: /root/.local/share/jupyter/nbextensions/codefolding/codefolding_indent_unfolded.png\n",
            "\u001b[32m[I 10:24:39 InstallContribNbextensionsApp]\u001b[m Up to date: /root/.local/share/jupyter/nbextensions/codefolding/magic-fold.js\n",
            "\u001b[32m[I 10:24:39 InstallContribNbextensionsApp]\u001b[m Up to date: /root/.local/share/jupyter/nbextensions/codefolding/edit.js\n",
            "\u001b[32m[I 10:24:39 InstallContribNbextensionsApp]\u001b[m Up to date: /root/.local/share/jupyter/nbextensions/codefolding/firstline-fold.js\n",
            "\u001b[32m[I 10:24:39 InstallContribNbextensionsApp]\u001b[m Up to date: /root/.local/share/jupyter/nbextensions/codefolding/codefolding_editor.yaml\n",
            "\u001b[32m[I 10:24:39 InstallContribNbextensionsApp]\u001b[m - Validating: \u001b[32mOK\u001b[0m\n",
            "\u001b[32m[I 10:24:39 InstallContribNbextensionsApp]\u001b[m Installing /usr/local/lib/python3.6/dist-packages/jupyter_contrib_nbextensions/nbextensions/comment-uncomment -> comment-uncomment\n",
            "\u001b[32m[I 10:24:39 InstallContribNbextensionsApp]\u001b[m Making directory: /root/.local/share/jupyter/nbextensions/comment-uncomment/\n",
            "\u001b[32m[I 10:24:39 InstallContribNbextensionsApp]\u001b[m Copying: /usr/local/lib/python3.6/dist-packages/jupyter_contrib_nbextensions/nbextensions/comment-uncomment/main.js -> /root/.local/share/jupyter/nbextensions/comment-uncomment/main.js\n",
            "\u001b[32m[I 10:24:39 InstallContribNbextensionsApp]\u001b[m Copying: /usr/local/lib/python3.6/dist-packages/jupyter_contrib_nbextensions/nbextensions/comment-uncomment/readme.md -> /root/.local/share/jupyter/nbextensions/comment-uncomment/readme.md\n",
            "\u001b[32m[I 10:24:39 InstallContribNbextensionsApp]\u001b[m Copying: /usr/local/lib/python3.6/dist-packages/jupyter_contrib_nbextensions/nbextensions/comment-uncomment/icon.png -> /root/.local/share/jupyter/nbextensions/comment-uncomment/icon.png\n",
            "\u001b[32m[I 10:24:39 InstallContribNbextensionsApp]\u001b[m Copying: /usr/local/lib/python3.6/dist-packages/jupyter_contrib_nbextensions/nbextensions/comment-uncomment/comment-uncomment.yaml -> /root/.local/share/jupyter/nbextensions/comment-uncomment/comment-uncomment.yaml\n",
            "\u001b[32m[I 10:24:39 InstallContribNbextensionsApp]\u001b[m - Validating: \u001b[32mOK\u001b[0m\n",
            "\u001b[32m[I 10:24:39 InstallContribNbextensionsApp]\u001b[m Installing /usr/local/lib/python3.6/dist-packages/jupyter_contrib_nbextensions/nbextensions/execution_dependencies -> execution_dependencies\n",
            "\u001b[32m[I 10:24:39 InstallContribNbextensionsApp]\u001b[m Making directory: /root/.local/share/jupyter/nbextensions/execution_dependencies/\n",
            "\u001b[32m[I 10:24:39 InstallContribNbextensionsApp]\u001b[m Copying: /usr/local/lib/python3.6/dist-packages/jupyter_contrib_nbextensions/nbextensions/execution_dependencies/execution_dependencies.js -> /root/.local/share/jupyter/nbextensions/execution_dependencies/execution_dependencies.js\n",
            "\u001b[32m[I 10:24:39 InstallContribNbextensionsApp]\u001b[m Copying: /usr/local/lib/python3.6/dist-packages/jupyter_contrib_nbextensions/nbextensions/execution_dependencies/execution_dependencies.yml -> /root/.local/share/jupyter/nbextensions/execution_dependencies/execution_dependencies.yml\n",
            "\u001b[32m[I 10:24:39 InstallContribNbextensionsApp]\u001b[m Copying: /usr/local/lib/python3.6/dist-packages/jupyter_contrib_nbextensions/nbextensions/execution_dependencies/README.md -> /root/.local/share/jupyter/nbextensions/execution_dependencies/README.md\n",
            "\u001b[32m[I 10:24:39 InstallContribNbextensionsApp]\u001b[m - Validating: \u001b[32mOK\u001b[0m\n",
            "\u001b[32m[I 10:24:39 InstallContribNbextensionsApp]\u001b[m Installing /usr/local/lib/python3.6/dist-packages/jupyter_contrib_nbextensions/nbextensions/freeze -> freeze\n",
            "\u001b[32m[I 10:24:39 InstallContribNbextensionsApp]\u001b[m Making directory: /root/.local/share/jupyter/nbextensions/freeze/\n",
            "\u001b[32m[I 10:24:39 InstallContribNbextensionsApp]\u001b[m Copying: /usr/local/lib/python3.6/dist-packages/jupyter_contrib_nbextensions/nbextensions/freeze/main.js -> /root/.local/share/jupyter/nbextensions/freeze/main.js\n",
            "\u001b[32m[I 10:24:39 InstallContribNbextensionsApp]\u001b[m Copying: /usr/local/lib/python3.6/dist-packages/jupyter_contrib_nbextensions/nbextensions/freeze/config.yaml -> /root/.local/share/jupyter/nbextensions/freeze/config.yaml\n",
            "\u001b[32m[I 10:24:39 InstallContribNbextensionsApp]\u001b[m Copying: /usr/local/lib/python3.6/dist-packages/jupyter_contrib_nbextensions/nbextensions/freeze/readme.md -> /root/.local/share/jupyter/nbextensions/freeze/readme.md\n",
            "\u001b[32m[I 10:24:39 InstallContribNbextensionsApp]\u001b[m Copying: /usr/local/lib/python3.6/dist-packages/jupyter_contrib_nbextensions/nbextensions/freeze/icon.png -> /root/.local/share/jupyter/nbextensions/freeze/icon.png\n",
            "\u001b[32m[I 10:24:39 InstallContribNbextensionsApp]\u001b[m - Validating: \u001b[32mOK\u001b[0m\n",
            "\u001b[32m[I 10:24:39 InstallContribNbextensionsApp]\u001b[m Installing /usr/local/lib/python3.6/dist-packages/jupyter_contrib_nbextensions/nbextensions/python-markdown -> python-markdown\n",
            "\u001b[32m[I 10:24:39 InstallContribNbextensionsApp]\u001b[m Making directory: /root/.local/share/jupyter/nbextensions/python-markdown/\n",
            "\u001b[32m[I 10:24:39 InstallContribNbextensionsApp]\u001b[m Copying: /usr/local/lib/python3.6/dist-packages/jupyter_contrib_nbextensions/nbextensions/python-markdown/main.js -> /root/.local/share/jupyter/nbextensions/python-markdown/main.js\n",
            "\u001b[32m[I 10:24:39 InstallContribNbextensionsApp]\u001b[m Copying: /usr/local/lib/python3.6/dist-packages/jupyter_contrib_nbextensions/nbextensions/python-markdown/untrusted.png -> /root/.local/share/jupyter/nbextensions/python-markdown/untrusted.png\n",
            "\u001b[32m[I 10:24:39 InstallContribNbextensionsApp]\u001b[m Copying: /usr/local/lib/python3.6/dist-packages/jupyter_contrib_nbextensions/nbextensions/python-markdown/python-markdown.png -> /root/.local/share/jupyter/nbextensions/python-markdown/python-markdown.png\n",
            "\u001b[32m[I 10:24:39 InstallContribNbextensionsApp]\u001b[m Copying: /usr/local/lib/python3.6/dist-packages/jupyter_contrib_nbextensions/nbextensions/python-markdown/trusted.png -> /root/.local/share/jupyter/nbextensions/python-markdown/trusted.png\n",
            "\u001b[32m[I 10:24:39 InstallContribNbextensionsApp]\u001b[m Copying: /usr/local/lib/python3.6/dist-packages/jupyter_contrib_nbextensions/nbextensions/python-markdown/readme.md -> /root/.local/share/jupyter/nbextensions/python-markdown/readme.md\n",
            "\u001b[32m[I 10:24:39 InstallContribNbextensionsApp]\u001b[m Copying: /usr/local/lib/python3.6/dist-packages/jupyter_contrib_nbextensions/nbextensions/python-markdown/python-markdown-pre.png -> /root/.local/share/jupyter/nbextensions/python-markdown/python-markdown-pre.png\n",
            "\u001b[32m[I 10:24:39 InstallContribNbextensionsApp]\u001b[m Copying: /usr/local/lib/python3.6/dist-packages/jupyter_contrib_nbextensions/nbextensions/python-markdown/python-markdown-post.png -> /root/.local/share/jupyter/nbextensions/python-markdown/python-markdown-post.png\n",
            "\u001b[32m[I 10:24:39 InstallContribNbextensionsApp]\u001b[m Copying: /usr/local/lib/python3.6/dist-packages/jupyter_contrib_nbextensions/nbextensions/python-markdown/python-markdown.yaml -> /root/.local/share/jupyter/nbextensions/python-markdown/python-markdown.yaml\n",
            "\u001b[32m[I 10:24:39 InstallContribNbextensionsApp]\u001b[m Copying: /usr/local/lib/python3.6/dist-packages/jupyter_contrib_nbextensions/nbextensions/python-markdown/main.css -> /root/.local/share/jupyter/nbextensions/python-markdown/main.css\n",
            "\u001b[32m[I 10:24:39 InstallContribNbextensionsApp]\u001b[m - Validating: \u001b[32mOK\u001b[0m\n",
            "\u001b[32m[I 10:24:39 InstallContribNbextensionsApp]\u001b[m Installing /usr/local/lib/python3.6/dist-packages/jupyter_contrib_nbextensions/nbextensions/runtools -> runtools\n",
            "\u001b[32m[I 10:24:39 InstallContribNbextensionsApp]\u001b[m Making directory: /root/.local/share/jupyter/nbextensions/runtools/\n",
            "\u001b[32m[I 10:24:39 InstallContribNbextensionsApp]\u001b[m Copying: /usr/local/lib/python3.6/dist-packages/jupyter_contrib_nbextensions/nbextensions/runtools/runtools_nb.png -> /root/.local/share/jupyter/nbextensions/runtools/runtools_nb.png\n",
            "\u001b[32m[I 10:24:39 InstallContribNbextensionsApp]\u001b[m Copying: /usr/local/lib/python3.6/dist-packages/jupyter_contrib_nbextensions/nbextensions/runtools/main.js -> /root/.local/share/jupyter/nbextensions/runtools/main.js\n",
            "\u001b[32m[I 10:24:39 InstallContribNbextensionsApp]\u001b[m Copying: /usr/local/lib/python3.6/dist-packages/jupyter_contrib_nbextensions/nbextensions/runtools/runtools.yaml -> /root/.local/share/jupyter/nbextensions/runtools/runtools.yaml\n",
            "\u001b[32m[I 10:24:39 InstallContribNbextensionsApp]\u001b[m Copying: /usr/local/lib/python3.6/dist-packages/jupyter_contrib_nbextensions/nbextensions/runtools/runtools_lock.png -> /root/.local/share/jupyter/nbextensions/runtools/runtools_lock.png\n",
            "\u001b[32m[I 10:24:39 InstallContribNbextensionsApp]\u001b[m Copying: /usr/local/lib/python3.6/dist-packages/jupyter_contrib_nbextensions/nbextensions/runtools/runtools_marker.png -> /root/.local/share/jupyter/nbextensions/runtools/runtools_marker.png\n",
            "\u001b[32m[I 10:24:39 InstallContribNbextensionsApp]\u001b[m Copying: /usr/local/lib/python3.6/dist-packages/jupyter_contrib_nbextensions/nbextensions/runtools/readme.md -> /root/.local/share/jupyter/nbextensions/runtools/readme.md\n",
            "\u001b[32m[I 10:24:39 InstallContribNbextensionsApp]\u001b[m Copying: /usr/local/lib/python3.6/dist-packages/jupyter_contrib_nbextensions/nbextensions/runtools/cellstate.js -> /root/.local/share/jupyter/nbextensions/runtools/cellstate.js\n",
            "\u001b[32m[I 10:24:39 InstallContribNbextensionsApp]\u001b[m Copying: /usr/local/lib/python3.6/dist-packages/jupyter_contrib_nbextensions/nbextensions/runtools/annotations.odg -> /root/.local/share/jupyter/nbextensions/runtools/annotations.odg\n",
            "\u001b[32m[I 10:24:39 InstallContribNbextensionsApp]\u001b[m Copying: /usr/local/lib/python3.6/dist-packages/jupyter_contrib_nbextensions/nbextensions/runtools/icon.png -> /root/.local/share/jupyter/nbextensions/runtools/icon.png\n",
            "\u001b[32m[I 10:24:39 InstallContribNbextensionsApp]\u001b[m Copying: /usr/local/lib/python3.6/dist-packages/jupyter_contrib_nbextensions/nbextensions/runtools/gutter.css -> /root/.local/share/jupyter/nbextensions/runtools/gutter.css\n",
            "\u001b[32m[I 10:24:39 InstallContribNbextensionsApp]\u001b[m Copying: /usr/local/lib/python3.6/dist-packages/jupyter_contrib_nbextensions/nbextensions/runtools/runtools_execute.png -> /root/.local/share/jupyter/nbextensions/runtools/runtools_execute.png\n",
            "\u001b[32m[I 10:24:39 InstallContribNbextensionsApp]\u001b[m Copying: /usr/local/lib/python3.6/dist-packages/jupyter_contrib_nbextensions/nbextensions/runtools/demo.gif -> /root/.local/share/jupyter/nbextensions/runtools/demo.gif\n",
            "\u001b[32m[I 10:24:39 InstallContribNbextensionsApp]\u001b[m Copying: /usr/local/lib/python3.6/dist-packages/jupyter_contrib_nbextensions/nbextensions/runtools/runtools_show_hide.png -> /root/.local/share/jupyter/nbextensions/runtools/runtools_show_hide.png\n",
            "\u001b[32m[I 10:24:39 InstallContribNbextensionsApp]\u001b[m Copying: /usr/local/lib/python3.6/dist-packages/jupyter_contrib_nbextensions/nbextensions/runtools/main.css -> /root/.local/share/jupyter/nbextensions/runtools/main.css\n",
            "\u001b[32m[I 10:24:39 InstallContribNbextensionsApp]\u001b[m - Validating: \u001b[32mOK\u001b[0m\n",
            "\u001b[32m[I 10:24:39 InstallContribNbextensionsApp]\u001b[m Installing /usr/local/lib/python3.6/dist-packages/jupyter_contrib_nbextensions/nbextensions/exercise -> exercise\n",
            "\u001b[32m[I 10:24:39 InstallContribNbextensionsApp]\u001b[m Making directory: /root/.local/share/jupyter/nbextensions/exercise/\n",
            "\u001b[32m[I 10:24:39 InstallContribNbextensionsApp]\u001b[m Copying: /usr/local/lib/python3.6/dist-packages/jupyter_contrib_nbextensions/nbextensions/exercise/main.js -> /root/.local/share/jupyter/nbextensions/exercise/main.js\n",
            "\u001b[32m[I 10:24:39 InstallContribNbextensionsApp]\u001b[m Copying: /usr/local/lib/python3.6/dist-packages/jupyter_contrib_nbextensions/nbextensions/exercise/exercise.yaml -> /root/.local/share/jupyter/nbextensions/exercise/exercise.yaml\n",
            "\u001b[32m[I 10:24:39 InstallContribNbextensionsApp]\u001b[m Copying: /usr/local/lib/python3.6/dist-packages/jupyter_contrib_nbextensions/nbextensions/exercise/readme.md -> /root/.local/share/jupyter/nbextensions/exercise/readme.md\n",
            "\u001b[32m[I 10:24:39 InstallContribNbextensionsApp]\u001b[m Copying: /usr/local/lib/python3.6/dist-packages/jupyter_contrib_nbextensions/nbextensions/exercise/icon.png -> /root/.local/share/jupyter/nbextensions/exercise/icon.png\n",
            "\u001b[32m[I 10:24:39 InstallContribNbextensionsApp]\u001b[m Copying: /usr/local/lib/python3.6/dist-packages/jupyter_contrib_nbextensions/nbextensions/exercise/history.md -> /root/.local/share/jupyter/nbextensions/exercise/history.md\n",
            "\u001b[32m[I 10:24:39 InstallContribNbextensionsApp]\u001b[m Copying: /usr/local/lib/python3.6/dist-packages/jupyter_contrib_nbextensions/nbextensions/exercise/image.gif -> /root/.local/share/jupyter/nbextensions/exercise/image.gif\n",
            "\u001b[32m[I 10:24:39 InstallContribNbextensionsApp]\u001b[m Copying: /usr/local/lib/python3.6/dist-packages/jupyter_contrib_nbextensions/nbextensions/exercise/main.css -> /root/.local/share/jupyter/nbextensions/exercise/main.css\n",
            "\u001b[32m[I 10:24:39 InstallContribNbextensionsApp]\u001b[m - Validating: \u001b[32mOK\u001b[0m\n",
            "\u001b[32m[I 10:24:39 InstallContribNbextensionsApp]\u001b[m Installing /usr/local/lib/python3.6/dist-packages/jupyter_contrib_nbextensions/nbextensions/scroll_down -> scroll_down\n",
            "\u001b[32m[I 10:24:39 InstallContribNbextensionsApp]\u001b[m Making directory: /root/.local/share/jupyter/nbextensions/scroll_down/\n",
            "\u001b[32m[I 10:24:39 InstallContribNbextensionsApp]\u001b[m Copying: /usr/local/lib/python3.6/dist-packages/jupyter_contrib_nbextensions/nbextensions/scroll_down/main.js -> /root/.local/share/jupyter/nbextensions/scroll_down/main.js\n",
            "\u001b[32m[I 10:24:39 InstallContribNbextensionsApp]\u001b[m Copying: /usr/local/lib/python3.6/dist-packages/jupyter_contrib_nbextensions/nbextensions/scroll_down/config.yaml -> /root/.local/share/jupyter/nbextensions/scroll_down/config.yaml\n",
            "\u001b[32m[I 10:24:39 InstallContribNbextensionsApp]\u001b[m Copying: /usr/local/lib/python3.6/dist-packages/jupyter_contrib_nbextensions/nbextensions/scroll_down/readme.md -> /root/.local/share/jupyter/nbextensions/scroll_down/readme.md\n",
            "\u001b[32m[I 10:24:39 InstallContribNbextensionsApp]\u001b[m Copying: /usr/local/lib/python3.6/dist-packages/jupyter_contrib_nbextensions/nbextensions/scroll_down/icon.png -> /root/.local/share/jupyter/nbextensions/scroll_down/icon.png\n",
            "\u001b[32m[I 10:24:39 InstallContribNbextensionsApp]\u001b[m - Validating: \u001b[32mOK\u001b[0m\n",
            "\u001b[32m[I 10:24:39 InstallContribNbextensionsApp]\u001b[m Installing /usr/local/lib/python3.6/dist-packages/jupyter_contrib_nbextensions/nbextensions/go_to_current_running_cell -> go_to_current_running_cell\n",
            "\u001b[32m[I 10:24:39 InstallContribNbextensionsApp]\u001b[m Making directory: /root/.local/share/jupyter/nbextensions/go_to_current_running_cell/\n",
            "\u001b[32m[I 10:24:39 InstallContribNbextensionsApp]\u001b[m Copying: /usr/local/lib/python3.6/dist-packages/jupyter_contrib_nbextensions/nbextensions/go_to_current_running_cell/main.js -> /root/.local/share/jupyter/nbextensions/go_to_current_running_cell/main.js\n",
            "\u001b[32m[I 10:24:39 InstallContribNbextensionsApp]\u001b[m Copying: /usr/local/lib/python3.6/dist-packages/jupyter_contrib_nbextensions/nbextensions/go_to_current_running_cell/go_to_current_running_cell.yaml -> /root/.local/share/jupyter/nbextensions/go_to_current_running_cell/go_to_current_running_cell.yaml\n",
            "\u001b[32m[I 10:24:39 InstallContribNbextensionsApp]\u001b[m Copying: /usr/local/lib/python3.6/dist-packages/jupyter_contrib_nbextensions/nbextensions/go_to_current_running_cell/jump_to_cell.gif -> /root/.local/share/jupyter/nbextensions/go_to_current_running_cell/jump_to_cell.gif\n",
            "\u001b[32m[I 10:24:39 InstallContribNbextensionsApp]\u001b[m Copying: /usr/local/lib/python3.6/dist-packages/jupyter_contrib_nbextensions/nbextensions/go_to_current_running_cell/auto_focus.gif -> /root/.local/share/jupyter/nbextensions/go_to_current_running_cell/auto_focus.gif\n",
            "\u001b[32m[I 10:24:39 InstallContribNbextensionsApp]\u001b[m Copying: /usr/local/lib/python3.6/dist-packages/jupyter_contrib_nbextensions/nbextensions/go_to_current_running_cell/eye.png -> /root/.local/share/jupyter/nbextensions/go_to_current_running_cell/eye.png\n",
            "\u001b[32m[I 10:24:39 InstallContribNbextensionsApp]\u001b[m Copying: /usr/local/lib/python3.6/dist-packages/jupyter_contrib_nbextensions/nbextensions/go_to_current_running_cell/README.md -> /root/.local/share/jupyter/nbextensions/go_to_current_running_cell/README.md\n",
            "\u001b[32m[I 10:24:39 InstallContribNbextensionsApp]\u001b[m Copying: /usr/local/lib/python3.6/dist-packages/jupyter_contrib_nbextensions/nbextensions/go_to_current_running_cell/anchor.png -> /root/.local/share/jupyter/nbextensions/go_to_current_running_cell/anchor.png\n",
            "\u001b[32m[I 10:24:39 InstallContribNbextensionsApp]\u001b[m - Validating: \u001b[32mOK\u001b[0m\n",
            "\u001b[32m[I 10:24:39 InstallContribNbextensionsApp]\u001b[m Installing /usr/local/lib/python3.6/dist-packages/jupyter_contrib_nbextensions/nbextensions/nbTranslate -> nbTranslate\n",
            "\u001b[32m[I 10:24:39 InstallContribNbextensionsApp]\u001b[m Making directory: /root/.local/share/jupyter/nbextensions/nbTranslate/\n",
            "\u001b[32m[I 10:24:39 InstallContribNbextensionsApp]\u001b[m Copying: /usr/local/lib/python3.6/dist-packages/jupyter_contrib_nbextensions/nbextensions/nbTranslate/nbTranslate.js -> /root/.local/share/jupyter/nbextensions/nbTranslate/nbTranslate.js\n",
            "\u001b[32m[I 10:24:39 InstallContribNbextensionsApp]\u001b[m Copying: /usr/local/lib/python3.6/dist-packages/jupyter_contrib_nbextensions/nbextensions/nbTranslate/mutils.js -> /root/.local/share/jupyter/nbextensions/nbTranslate/mutils.js\n",
            "\u001b[32m[I 10:24:39 InstallContribNbextensionsApp]\u001b[m Copying: /usr/local/lib/python3.6/dist-packages/jupyter_contrib_nbextensions/nbextensions/nbTranslate/main.js -> /root/.local/share/jupyter/nbextensions/nbTranslate/main.js\n",
            "\u001b[32m[I 10:24:39 InstallContribNbextensionsApp]\u001b[m Copying: /usr/local/lib/python3.6/dist-packages/jupyter_contrib_nbextensions/nbextensions/nbTranslate/languages.js -> /root/.local/share/jupyter/nbextensions/nbTranslate/languages.js\n",
            "\u001b[32m[I 10:24:39 InstallContribNbextensionsApp]\u001b[m Copying: /usr/local/lib/python3.6/dist-packages/jupyter_contrib_nbextensions/nbextensions/nbTranslate/nbTranslate.yaml -> /root/.local/share/jupyter/nbextensions/nbTranslate/nbTranslate.yaml\n",
            "\u001b[32m[I 10:24:39 InstallContribNbextensionsApp]\u001b[m Copying: /usr/local/lib/python3.6/dist-packages/jupyter_contrib_nbextensions/nbextensions/nbTranslate/demo1.gif -> /root/.local/share/jupyter/nbextensions/nbTranslate/demo1.gif\n",
            "\u001b[32m[I 10:24:39 InstallContribNbextensionsApp]\u001b[m Copying: /usr/local/lib/python3.6/dist-packages/jupyter_contrib_nbextensions/nbextensions/nbTranslate/demo2.gif -> /root/.local/share/jupyter/nbextensions/nbTranslate/demo2.gif\n",
            "\u001b[32m[I 10:24:39 InstallContribNbextensionsApp]\u001b[m Copying: /usr/local/lib/python3.6/dist-packages/jupyter_contrib_nbextensions/nbextensions/nbTranslate/README.md -> /root/.local/share/jupyter/nbextensions/nbTranslate/README.md\n",
            "\u001b[32m[I 10:24:39 InstallContribNbextensionsApp]\u001b[m - Validating: \u001b[32mOK\u001b[0m\n",
            "\u001b[32m[I 10:24:39 InstallContribNbextensionsApp]\u001b[m Installing /usr/local/lib/python3.6/dist-packages/jupyter_contrib_nbextensions/nbextensions/snippets -> snippets\n",
            "\u001b[32m[I 10:24:39 InstallContribNbextensionsApp]\u001b[m Making directory: /root/.local/share/jupyter/nbextensions/snippets/\n",
            "\u001b[32m[I 10:24:39 InstallContribNbextensionsApp]\u001b[m Copying: /usr/local/lib/python3.6/dist-packages/jupyter_contrib_nbextensions/nbextensions/snippets/main.js -> /root/.local/share/jupyter/nbextensions/snippets/main.js\n",
            "\u001b[32m[I 10:24:39 InstallContribNbextensionsApp]\u001b[m Copying: /usr/local/lib/python3.6/dist-packages/jupyter_contrib_nbextensions/nbextensions/snippets/snippets.yaml -> /root/.local/share/jupyter/nbextensions/snippets/snippets.yaml\n",
            "\u001b[32m[I 10:24:39 InstallContribNbextensionsApp]\u001b[m Copying: /usr/local/lib/python3.6/dist-packages/jupyter_contrib_nbextensions/nbextensions/snippets/snippets-demo.gif -> /root/.local/share/jupyter/nbextensions/snippets/snippets-demo.gif\n",
            "\u001b[32m[I 10:24:39 InstallContribNbextensionsApp]\u001b[m Copying: /usr/local/lib/python3.6/dist-packages/jupyter_contrib_nbextensions/nbextensions/snippets/snippets.json -> /root/.local/share/jupyter/nbextensions/snippets/snippets.json\n",
            "\u001b[32m[I 10:24:39 InstallContribNbextensionsApp]\u001b[m Copying: /usr/local/lib/python3.6/dist-packages/jupyter_contrib_nbextensions/nbextensions/snippets/README.md -> /root/.local/share/jupyter/nbextensions/snippets/README.md\n",
            "\u001b[32m[I 10:24:39 InstallContribNbextensionsApp]\u001b[m - Validating: \u001b[32mOK\u001b[0m\n",
            "\u001b[32m[I 10:24:39 InstallContribNbextensionsApp]\u001b[m Installing /usr/local/lib/python3.6/dist-packages/jupyter_contrib_nbextensions/nbextensions/collapsible_headings -> collapsible_headings\n",
            "\u001b[32m[I 10:24:39 InstallContribNbextensionsApp]\u001b[m Making directory: /root/.local/share/jupyter/nbextensions/collapsible_headings/\n",
            "\u001b[32m[I 10:24:39 InstallContribNbextensionsApp]\u001b[m Copying: /usr/local/lib/python3.6/dist-packages/jupyter_contrib_nbextensions/nbextensions/collapsible_headings/screenshot.png -> /root/.local/share/jupyter/nbextensions/collapsible_headings/screenshot.png\n",
            "\u001b[32m[I 10:24:39 InstallContribNbextensionsApp]\u001b[m Copying: /usr/local/lib/python3.6/dist-packages/jupyter_contrib_nbextensions/nbextensions/collapsible_headings/main.js -> /root/.local/share/jupyter/nbextensions/collapsible_headings/main.js\n",
            "\u001b[32m[I 10:24:39 InstallContribNbextensionsApp]\u001b[m Copying: /usr/local/lib/python3.6/dist-packages/jupyter_contrib_nbextensions/nbextensions/collapsible_headings/readme.md -> /root/.local/share/jupyter/nbextensions/collapsible_headings/readme.md\n",
            "\u001b[32m[I 10:24:39 InstallContribNbextensionsApp]\u001b[m Copying: /usr/local/lib/python3.6/dist-packages/jupyter_contrib_nbextensions/nbextensions/collapsible_headings/icon.png -> /root/.local/share/jupyter/nbextensions/collapsible_headings/icon.png\n",
            "\u001b[32m[I 10:24:39 InstallContribNbextensionsApp]\u001b[m Copying: /usr/local/lib/python3.6/dist-packages/jupyter_contrib_nbextensions/nbextensions/collapsible_headings/collapsible_headings.yaml -> /root/.local/share/jupyter/nbextensions/collapsible_headings/collapsible_headings.yaml\n",
            "\u001b[32m[I 10:24:39 InstallContribNbextensionsApp]\u001b[m Copying: /usr/local/lib/python3.6/dist-packages/jupyter_contrib_nbextensions/nbextensions/collapsible_headings/main.css -> /root/.local/share/jupyter/nbextensions/collapsible_headings/main.css\n",
            "\u001b[32m[I 10:24:39 InstallContribNbextensionsApp]\u001b[m - Validating: \u001b[32mOK\u001b[0m\n",
            "\u001b[32m[I 10:24:39 InstallContribNbextensionsApp]\u001b[m Installing /usr/local/lib/python3.6/dist-packages/jupyter_contrib_nbextensions/nbextensions/varInspector -> varInspector\n",
            "\u001b[32m[I 10:24:39 InstallContribNbextensionsApp]\u001b[m Making directory: /root/.local/share/jupyter/nbextensions/varInspector/\n",
            "\u001b[32m[I 10:24:39 InstallContribNbextensionsApp]\u001b[m Copying: /usr/local/lib/python3.6/dist-packages/jupyter_contrib_nbextensions/nbextensions/varInspector/jquery.tablesorter.min.js -> /root/.local/share/jupyter/nbextensions/varInspector/jquery.tablesorter.min.js\n",
            "\u001b[32m[I 10:24:39 InstallContribNbextensionsApp]\u001b[m Copying: /usr/local/lib/python3.6/dist-packages/jupyter_contrib_nbextensions/nbextensions/varInspector/main.js -> /root/.local/share/jupyter/nbextensions/varInspector/main.js\n",
            "\u001b[32m[I 10:24:39 InstallContribNbextensionsApp]\u001b[m Copying: /usr/local/lib/python3.6/dist-packages/jupyter_contrib_nbextensions/nbextensions/varInspector/icon.png -> /root/.local/share/jupyter/nbextensions/varInspector/icon.png\n",
            "\u001b[32m[I 10:24:39 InstallContribNbextensionsApp]\u001b[m Copying: /usr/local/lib/python3.6/dist-packages/jupyter_contrib_nbextensions/nbextensions/varInspector/tablesorter_LICENSE.txt -> /root/.local/share/jupyter/nbextensions/varInspector/tablesorter_LICENSE.txt\n",
            "\u001b[32m[I 10:24:39 InstallContribNbextensionsApp]\u001b[m Copying: /usr/local/lib/python3.6/dist-packages/jupyter_contrib_nbextensions/nbextensions/varInspector/varInspector.yaml -> /root/.local/share/jupyter/nbextensions/varInspector/varInspector.yaml\n",
            "\u001b[32m[I 10:24:39 InstallContribNbextensionsApp]\u001b[m Copying: /usr/local/lib/python3.6/dist-packages/jupyter_contrib_nbextensions/nbextensions/varInspector/var_list.py -> /root/.local/share/jupyter/nbextensions/varInspector/var_list.py\n",
            "\u001b[32m[I 10:24:39 InstallContribNbextensionsApp]\u001b[m Copying: /usr/local/lib/python3.6/dist-packages/jupyter_contrib_nbextensions/nbextensions/varInspector/demo.gif -> /root/.local/share/jupyter/nbextensions/varInspector/demo.gif\n",
            "\u001b[32m[I 10:24:39 InstallContribNbextensionsApp]\u001b[m Copying: /usr/local/lib/python3.6/dist-packages/jupyter_contrib_nbextensions/nbextensions/varInspector/README.md -> /root/.local/share/jupyter/nbextensions/varInspector/README.md\n",
            "\u001b[32m[I 10:24:39 InstallContribNbextensionsApp]\u001b[m Copying: /usr/local/lib/python3.6/dist-packages/jupyter_contrib_nbextensions/nbextensions/varInspector/main.css -> /root/.local/share/jupyter/nbextensions/varInspector/main.css\n",
            "\u001b[32m[I 10:24:39 InstallContribNbextensionsApp]\u001b[m Copying: /usr/local/lib/python3.6/dist-packages/jupyter_contrib_nbextensions/nbextensions/varInspector/var_list.r -> /root/.local/share/jupyter/nbextensions/varInspector/var_list.r\n",
            "\u001b[32m[I 10:24:39 InstallContribNbextensionsApp]\u001b[m Making directory: /root/.local/share/jupyter/nbextensions/varInspector/__pycache__\n",
            "\u001b[32m[I 10:24:39 InstallContribNbextensionsApp]\u001b[m Copying: /usr/local/lib/python3.6/dist-packages/jupyter_contrib_nbextensions/nbextensions/varInspector/__pycache__/var_list.cpython-36.pyc -> /root/.local/share/jupyter/nbextensions/varInspector/__pycache__/var_list.cpython-36.pyc\n",
            "\u001b[32m[I 10:24:39 InstallContribNbextensionsApp]\u001b[m - Validating: \u001b[32mOK\u001b[0m\n",
            "\u001b[32m[I 10:24:39 InstallContribNbextensionsApp]\u001b[m Installing /usr/local/lib/python3.6/dist-packages/jupyter_contrib_nbextensions/nbextensions/contrib_nbextensions_help_item -> contrib_nbextensions_help_item\n",
            "\u001b[32m[I 10:24:39 InstallContribNbextensionsApp]\u001b[m Making directory: /root/.local/share/jupyter/nbextensions/contrib_nbextensions_help_item/\n",
            "\u001b[32m[I 10:24:39 InstallContribNbextensionsApp]\u001b[m Copying: /usr/local/lib/python3.6/dist-packages/jupyter_contrib_nbextensions/nbextensions/contrib_nbextensions_help_item/main.js -> /root/.local/share/jupyter/nbextensions/contrib_nbextensions_help_item/main.js\n",
            "\u001b[32m[I 10:24:39 InstallContribNbextensionsApp]\u001b[m Copying: /usr/local/lib/python3.6/dist-packages/jupyter_contrib_nbextensions/nbextensions/contrib_nbextensions_help_item/contrib_nbextensions_help_item.yaml -> /root/.local/share/jupyter/nbextensions/contrib_nbextensions_help_item/contrib_nbextensions_help_item.yaml\n",
            "\u001b[32m[I 10:24:39 InstallContribNbextensionsApp]\u001b[m Copying: /usr/local/lib/python3.6/dist-packages/jupyter_contrib_nbextensions/nbextensions/contrib_nbextensions_help_item/README.md -> /root/.local/share/jupyter/nbextensions/contrib_nbextensions_help_item/README.md\n",
            "\u001b[32m[I 10:24:39 InstallContribNbextensionsApp]\u001b[m - Validating: \u001b[32mOK\u001b[0m\n",
            "\u001b[32m[I 10:24:39 InstallContribNbextensionsApp]\u001b[m Installing /usr/local/lib/python3.6/dist-packages/jupyter_contrib_nbextensions/nbextensions/highlighter -> highlighter\n",
            "\u001b[32m[I 10:24:39 InstallContribNbextensionsApp]\u001b[m Making directory: /root/.local/share/jupyter/nbextensions/highlighter/\n",
            "\u001b[32m[I 10:24:39 InstallContribNbextensionsApp]\u001b[m Copying: /usr/local/lib/python3.6/dist-packages/jupyter_contrib_nbextensions/nbextensions/highlighter/export_highlights.html -> /root/.local/share/jupyter/nbextensions/highlighter/export_highlights.html\n",
            "\u001b[32m[I 10:24:39 InstallContribNbextensionsApp]\u001b[m Copying: /usr/local/lib/python3.6/dist-packages/jupyter_contrib_nbextensions/nbextensions/highlighter/export_highlights.pdf -> /root/.local/share/jupyter/nbextensions/highlighter/export_highlights.pdf\n",
            "\u001b[32m[I 10:24:39 InstallContribNbextensionsApp]\u001b[m Copying: /usr/local/lib/python3.6/dist-packages/jupyter_contrib_nbextensions/nbextensions/highlighter/tst_highlights.pdf -> /root/.local/share/jupyter/nbextensions/highlighter/tst_highlights.pdf\n",
            "\u001b[32m[I 10:24:39 InstallContribNbextensionsApp]\u001b[m Copying: /usr/local/lib/python3.6/dist-packages/jupyter_contrib_nbextensions/nbextensions/highlighter/readme.md -> /root/.local/share/jupyter/nbextensions/highlighter/readme.md\n",
            "\u001b[32m[I 10:24:39 InstallContribNbextensionsApp]\u001b[m Copying: /usr/local/lib/python3.6/dist-packages/jupyter_contrib_nbextensions/nbextensions/highlighter/icon.png -> /root/.local/share/jupyter/nbextensions/highlighter/icon.png\n",
            "\u001b[32m[I 10:24:39 InstallContribNbextensionsApp]\u001b[m Copying: /usr/local/lib/python3.6/dist-packages/jupyter_contrib_nbextensions/nbextensions/highlighter/tst_highlights.ipynb -> /root/.local/share/jupyter/nbextensions/highlighter/tst_highlights.ipynb\n",
            "\u001b[32m[I 10:24:39 InstallContribNbextensionsApp]\u001b[m Copying: /usr/local/lib/python3.6/dist-packages/jupyter_contrib_nbextensions/nbextensions/highlighter/highlighter.css -> /root/.local/share/jupyter/nbextensions/highlighter/highlighter.css\n",
            "\u001b[32m[I 10:24:39 InstallContribNbextensionsApp]\u001b[m Copying: /usr/local/lib/python3.6/dist-packages/jupyter_contrib_nbextensions/nbextensions/highlighter/highlighter.yaml -> /root/.local/share/jupyter/nbextensions/highlighter/highlighter.yaml\n",
            "\u001b[32m[I 10:24:40 InstallContribNbextensionsApp]\u001b[m Copying: /usr/local/lib/python3.6/dist-packages/jupyter_contrib_nbextensions/nbextensions/highlighter/tst_highlights.tex -> /root/.local/share/jupyter/nbextensions/highlighter/tst_highlights.tex\n",
            "\u001b[32m[I 10:24:40 InstallContribNbextensionsApp]\u001b[m Copying: /usr/local/lib/python3.6/dist-packages/jupyter_contrib_nbextensions/nbextensions/highlighter/highlighter.js -> /root/.local/share/jupyter/nbextensions/highlighter/highlighter.js\n",
            "\u001b[32m[I 10:24:40 InstallContribNbextensionsApp]\u001b[m Copying: /usr/local/lib/python3.6/dist-packages/jupyter_contrib_nbextensions/nbextensions/highlighter/tst_highlights.html -> /root/.local/share/jupyter/nbextensions/highlighter/tst_highlights.html\n",
            "\u001b[32m[I 10:24:40 InstallContribNbextensionsApp]\u001b[m Copying: /usr/local/lib/python3.6/dist-packages/jupyter_contrib_nbextensions/nbextensions/highlighter/demo_highlighter.ipynb -> /root/.local/share/jupyter/nbextensions/highlighter/demo_highlighter.ipynb\n",
            "\u001b[32m[I 10:24:40 InstallContribNbextensionsApp]\u001b[m Copying: /usr/local/lib/python3.6/dist-packages/jupyter_contrib_nbextensions/nbextensions/highlighter/image.gif -> /root/.local/share/jupyter/nbextensions/highlighter/image.gif\n",
            "\u001b[32m[I 10:24:40 InstallContribNbextensionsApp]\u001b[m Copying: /usr/local/lib/python3.6/dist-packages/jupyter_contrib_nbextensions/nbextensions/highlighter/export_highlights.tex -> /root/.local/share/jupyter/nbextensions/highlighter/export_highlights.tex\n",
            "\u001b[32m[I 10:24:40 InstallContribNbextensionsApp]\u001b[m Copying: /usr/local/lib/python3.6/dist-packages/jupyter_contrib_nbextensions/nbextensions/highlighter/export_highlights.ipynb -> /root/.local/share/jupyter/nbextensions/highlighter/export_highlights.ipynb\n",
            "\u001b[32m[I 10:24:40 InstallContribNbextensionsApp]\u001b[m Copying: /usr/local/lib/python3.6/dist-packages/jupyter_contrib_nbextensions/nbextensions/highlighter/demo_highlighter.html -> /root/.local/share/jupyter/nbextensions/highlighter/demo_highlighter.html\n",
            "\u001b[32m[I 10:24:40 InstallContribNbextensionsApp]\u001b[m - Validating: \u001b[32mOK\u001b[0m\n",
            "\u001b[32m[I 10:24:40 InstallContribNbextensionsApp]\u001b[m Installing /usr/local/lib/python3.6/dist-packages/jupyter_contrib_nbextensions/nbextensions/printview -> printview\n",
            "\u001b[32m[I 10:24:40 InstallContribNbextensionsApp]\u001b[m Making directory: /root/.local/share/jupyter/nbextensions/printview/\n",
            "\u001b[32m[I 10:24:40 InstallContribNbextensionsApp]\u001b[m Copying: /usr/local/lib/python3.6/dist-packages/jupyter_contrib_nbextensions/nbextensions/printview/main.js -> /root/.local/share/jupyter/nbextensions/printview/main.js\n",
            "\u001b[32m[I 10:24:40 InstallContribNbextensionsApp]\u001b[m Copying: /usr/local/lib/python3.6/dist-packages/jupyter_contrib_nbextensions/nbextensions/printview/printview.yaml -> /root/.local/share/jupyter/nbextensions/printview/printview.yaml\n",
            "\u001b[32m[I 10:24:40 InstallContribNbextensionsApp]\u001b[m Copying: /usr/local/lib/python3.6/dist-packages/jupyter_contrib_nbextensions/nbextensions/printview/readme.md -> /root/.local/share/jupyter/nbextensions/printview/readme.md\n",
            "\u001b[32m[I 10:24:40 InstallContribNbextensionsApp]\u001b[m Copying: /usr/local/lib/python3.6/dist-packages/jupyter_contrib_nbextensions/nbextensions/printview/icon.png -> /root/.local/share/jupyter/nbextensions/printview/icon.png\n",
            "\u001b[32m[I 10:24:40 InstallContribNbextensionsApp]\u001b[m Copying: /usr/local/lib/python3.6/dist-packages/jupyter_contrib_nbextensions/nbextensions/printview/printview-button.png -> /root/.local/share/jupyter/nbextensions/printview/printview-button.png\n",
            "\u001b[32m[I 10:24:40 InstallContribNbextensionsApp]\u001b[m - Validating: \u001b[32mOK\u001b[0m\n",
            "\u001b[32m[I 10:24:40 InstallContribNbextensionsApp]\u001b[m Installing /usr/local/lib/python3.6/dist-packages/jupyter_contrib_nbextensions/nbextensions/skip-traceback -> skip-traceback\n",
            "\u001b[32m[I 10:24:40 InstallContribNbextensionsApp]\u001b[m Making directory: /root/.local/share/jupyter/nbextensions/skip-traceback/\n",
            "\u001b[32m[I 10:24:40 InstallContribNbextensionsApp]\u001b[m Copying: /usr/local/lib/python3.6/dist-packages/jupyter_contrib_nbextensions/nbextensions/skip-traceback/skip-traceback.png -> /root/.local/share/jupyter/nbextensions/skip-traceback/skip-traceback.png\n",
            "\u001b[32m[I 10:24:40 InstallContribNbextensionsApp]\u001b[m Copying: /usr/local/lib/python3.6/dist-packages/jupyter_contrib_nbextensions/nbextensions/skip-traceback/main.js -> /root/.local/share/jupyter/nbextensions/skip-traceback/main.js\n",
            "\u001b[32m[I 10:24:40 InstallContribNbextensionsApp]\u001b[m Copying: /usr/local/lib/python3.6/dist-packages/jupyter_contrib_nbextensions/nbextensions/skip-traceback/readme.md -> /root/.local/share/jupyter/nbextensions/skip-traceback/readme.md\n",
            "\u001b[32m[I 10:24:40 InstallContribNbextensionsApp]\u001b[m Copying: /usr/local/lib/python3.6/dist-packages/jupyter_contrib_nbextensions/nbextensions/skip-traceback/icon.png -> /root/.local/share/jupyter/nbextensions/skip-traceback/icon.png\n",
            "\u001b[32m[I 10:24:40 InstallContribNbextensionsApp]\u001b[m Copying: /usr/local/lib/python3.6/dist-packages/jupyter_contrib_nbextensions/nbextensions/skip-traceback/skip-traceback.yaml -> /root/.local/share/jupyter/nbextensions/skip-traceback/skip-traceback.yaml\n",
            "\u001b[32m[I 10:24:40 InstallContribNbextensionsApp]\u001b[m Copying: /usr/local/lib/python3.6/dist-packages/jupyter_contrib_nbextensions/nbextensions/skip-traceback/traceback.png -> /root/.local/share/jupyter/nbextensions/skip-traceback/traceback.png\n",
            "\u001b[32m[I 10:24:40 InstallContribNbextensionsApp]\u001b[m - Validating: \u001b[32mOK\u001b[0m\n",
            "\u001b[32m[I 10:24:40 InstallContribNbextensionsApp]\u001b[m Installing /usr/local/lib/python3.6/dist-packages/jupyter_contrib_nbextensions/nbextensions/rubberband -> rubberband\n",
            "\u001b[32m[I 10:24:40 InstallContribNbextensionsApp]\u001b[m Making directory: /root/.local/share/jupyter/nbextensions/rubberband/\n",
            "\u001b[32m[I 10:24:40 InstallContribNbextensionsApp]\u001b[m Copying: /usr/local/lib/python3.6/dist-packages/jupyter_contrib_nbextensions/nbextensions/rubberband/main.js -> /root/.local/share/jupyter/nbextensions/rubberband/main.js\n",
            "\u001b[32m[I 10:24:40 InstallContribNbextensionsApp]\u001b[m Copying: /usr/local/lib/python3.6/dist-packages/jupyter_contrib_nbextensions/nbextensions/rubberband/readme.md -> /root/.local/share/jupyter/nbextensions/rubberband/readme.md\n",
            "\u001b[32m[I 10:24:40 InstallContribNbextensionsApp]\u001b[m Copying: /usr/local/lib/python3.6/dist-packages/jupyter_contrib_nbextensions/nbextensions/rubberband/icon.png -> /root/.local/share/jupyter/nbextensions/rubberband/icon.png\n",
            "\u001b[32m[I 10:24:40 InstallContribNbextensionsApp]\u001b[m Copying: /usr/local/lib/python3.6/dist-packages/jupyter_contrib_nbextensions/nbextensions/rubberband/main.css -> /root/.local/share/jupyter/nbextensions/rubberband/main.css\n",
            "\u001b[32m[I 10:24:40 InstallContribNbextensionsApp]\u001b[m Copying: /usr/local/lib/python3.6/dist-packages/jupyter_contrib_nbextensions/nbextensions/rubberband/rubberband.yaml -> /root/.local/share/jupyter/nbextensions/rubberband/rubberband.yaml\n",
            "\u001b[32m[I 10:24:40 InstallContribNbextensionsApp]\u001b[m - Validating: \u001b[32mOK\u001b[0m\n",
            "\u001b[32m[I 10:24:40 InstallContribNbextensionsApp]\u001b[m Installing /usr/local/lib/python3.6/dist-packages/jupyter_contrib_nbextensions/nbextensions/code_prettify -> code_prettify\n",
            "\u001b[32m[I 10:24:40 InstallContribNbextensionsApp]\u001b[m Making directory: /root/.local/share/jupyter/nbextensions/code_prettify/\n",
            "\u001b[32m[I 10:24:40 InstallContribNbextensionsApp]\u001b[m Copying: /usr/local/lib/python3.6/dist-packages/jupyter_contrib_nbextensions/nbextensions/code_prettify/demo-R.gif -> /root/.local/share/jupyter/nbextensions/code_prettify/demo-R.gif\n",
            "\u001b[32m[I 10:24:40 InstallContribNbextensionsApp]\u001b[m Copying: /usr/local/lib/python3.6/dist-packages/jupyter_contrib_nbextensions/nbextensions/code_prettify/isort.js -> /root/.local/share/jupyter/nbextensions/code_prettify/isort.js\n",
            "\u001b[32m[I 10:24:40 InstallContribNbextensionsApp]\u001b[m Copying: /usr/local/lib/python3.6/dist-packages/jupyter_contrib_nbextensions/nbextensions/code_prettify/code_prettify.yaml -> /root/.local/share/jupyter/nbextensions/code_prettify/code_prettify.yaml\n",
            "\u001b[32m[I 10:24:40 InstallContribNbextensionsApp]\u001b[m Copying: /usr/local/lib/python3.6/dist-packages/jupyter_contrib_nbextensions/nbextensions/code_prettify/demo-jv.gif -> /root/.local/share/jupyter/nbextensions/code_prettify/demo-jv.gif\n",
            "\u001b[32m[I 10:24:40 InstallContribNbextensionsApp]\u001b[m Copying: /usr/local/lib/python3.6/dist-packages/jupyter_contrib_nbextensions/nbextensions/code_prettify/README_code_prettify.md -> /root/.local/share/jupyter/nbextensions/code_prettify/README_code_prettify.md\n",
            "\u001b[32m[I 10:24:40 InstallContribNbextensionsApp]\u001b[m Copying: /usr/local/lib/python3.6/dist-packages/jupyter_contrib_nbextensions/nbextensions/code_prettify/demo_2to3.gif -> /root/.local/share/jupyter/nbextensions/code_prettify/demo_2to3.gif\n",
            "\u001b[32m[I 10:24:40 InstallContribNbextensionsApp]\u001b[m Copying: /usr/local/lib/python3.6/dist-packages/jupyter_contrib_nbextensions/nbextensions/code_prettify/README_2to3.md -> /root/.local/share/jupyter/nbextensions/code_prettify/README_2to3.md\n",
            "\u001b[32m[I 10:24:40 InstallContribNbextensionsApp]\u001b[m Copying: /usr/local/lib/python3.6/dist-packages/jupyter_contrib_nbextensions/nbextensions/code_prettify/2to3.yaml -> /root/.local/share/jupyter/nbextensions/code_prettify/2to3.yaml\n",
            "\u001b[32m[I 10:24:40 InstallContribNbextensionsApp]\u001b[m Copying: /usr/local/lib/python3.6/dist-packages/jupyter_contrib_nbextensions/nbextensions/code_prettify/demo-py.gif -> /root/.local/share/jupyter/nbextensions/code_prettify/demo-py.gif\n",
            "\u001b[32m[I 10:24:40 InstallContribNbextensionsApp]\u001b[m Copying: /usr/local/lib/python3.6/dist-packages/jupyter_contrib_nbextensions/nbextensions/code_prettify/kernel_exec_on_cell.js -> /root/.local/share/jupyter/nbextensions/code_prettify/kernel_exec_on_cell.js\n",
            "\u001b[32m[I 10:24:40 InstallContribNbextensionsApp]\u001b[m Copying: /usr/local/lib/python3.6/dist-packages/jupyter_contrib_nbextensions/nbextensions/code_prettify/README_autopep8.md -> /root/.local/share/jupyter/nbextensions/code_prettify/README_autopep8.md\n",
            "\u001b[32m[I 10:24:40 InstallContribNbextensionsApp]\u001b[m Copying: /usr/local/lib/python3.6/dist-packages/jupyter_contrib_nbextensions/nbextensions/code_prettify/code_prettify.js -> /root/.local/share/jupyter/nbextensions/code_prettify/code_prettify.js\n",
            "\u001b[32m[I 10:24:40 InstallContribNbextensionsApp]\u001b[m Copying: /usr/local/lib/python3.6/dist-packages/jupyter_contrib_nbextensions/nbextensions/code_prettify/README_isort.md -> /root/.local/share/jupyter/nbextensions/code_prettify/README_isort.md\n",
            "\u001b[32m[I 10:24:40 InstallContribNbextensionsApp]\u001b[m Copying: /usr/local/lib/python3.6/dist-packages/jupyter_contrib_nbextensions/nbextensions/code_prettify/autopep8.js -> /root/.local/share/jupyter/nbextensions/code_prettify/autopep8.js\n",
            "\u001b[32m[I 10:24:40 InstallContribNbextensionsApp]\u001b[m Copying: /usr/local/lib/python3.6/dist-packages/jupyter_contrib_nbextensions/nbextensions/code_prettify/README.md -> /root/.local/share/jupyter/nbextensions/code_prettify/README.md\n",
            "\u001b[32m[I 10:24:40 InstallContribNbextensionsApp]\u001b[m Copying: /usr/local/lib/python3.6/dist-packages/jupyter_contrib_nbextensions/nbextensions/code_prettify/2to3.js -> /root/.local/share/jupyter/nbextensions/code_prettify/2to3.js\n",
            "\u001b[32m[I 10:24:40 InstallContribNbextensionsApp]\u001b[m Copying: /usr/local/lib/python3.6/dist-packages/jupyter_contrib_nbextensions/nbextensions/code_prettify/isort.yaml -> /root/.local/share/jupyter/nbextensions/code_prettify/isort.yaml\n",
            "\u001b[32m[I 10:24:40 InstallContribNbextensionsApp]\u001b[m Copying: /usr/local/lib/python3.6/dist-packages/jupyter_contrib_nbextensions/nbextensions/code_prettify/autopep8.yaml -> /root/.local/share/jupyter/nbextensions/code_prettify/autopep8.yaml\n",
            "\u001b[32m[I 10:24:40 InstallContribNbextensionsApp]\u001b[m - Validating: \u001b[32mOK\u001b[0m\n",
            "\u001b[32m[I 10:24:40 InstallContribNbextensionsApp]\u001b[m Installing /usr/local/lib/python3.6/dist-packages/jupyter_contrib_nbextensions/nbextensions/code_prettify -> code_prettify\n",
            "\u001b[32m[I 10:24:40 InstallContribNbextensionsApp]\u001b[m Up to date: /root/.local/share/jupyter/nbextensions/code_prettify/demo-R.gif\n",
            "\u001b[32m[I 10:24:40 InstallContribNbextensionsApp]\u001b[m Up to date: /root/.local/share/jupyter/nbextensions/code_prettify/isort.js\n",
            "\u001b[32m[I 10:24:40 InstallContribNbextensionsApp]\u001b[m Up to date: /root/.local/share/jupyter/nbextensions/code_prettify/code_prettify.yaml\n",
            "\u001b[32m[I 10:24:40 InstallContribNbextensionsApp]\u001b[m Up to date: /root/.local/share/jupyter/nbextensions/code_prettify/demo-jv.gif\n",
            "\u001b[32m[I 10:24:40 InstallContribNbextensionsApp]\u001b[m Up to date: /root/.local/share/jupyter/nbextensions/code_prettify/README_code_prettify.md\n",
            "\u001b[32m[I 10:24:40 InstallContribNbextensionsApp]\u001b[m Up to date: /root/.local/share/jupyter/nbextensions/code_prettify/demo_2to3.gif\n",
            "\u001b[32m[I 10:24:40 InstallContribNbextensionsApp]\u001b[m Up to date: /root/.local/share/jupyter/nbextensions/code_prettify/README_2to3.md\n",
            "\u001b[32m[I 10:24:40 InstallContribNbextensionsApp]\u001b[m Up to date: /root/.local/share/jupyter/nbextensions/code_prettify/2to3.yaml\n",
            "\u001b[32m[I 10:24:40 InstallContribNbextensionsApp]\u001b[m Up to date: /root/.local/share/jupyter/nbextensions/code_prettify/demo-py.gif\n",
            "\u001b[32m[I 10:24:40 InstallContribNbextensionsApp]\u001b[m Up to date: /root/.local/share/jupyter/nbextensions/code_prettify/kernel_exec_on_cell.js\n",
            "\u001b[32m[I 10:24:40 InstallContribNbextensionsApp]\u001b[m Up to date: /root/.local/share/jupyter/nbextensions/code_prettify/README_autopep8.md\n",
            "\u001b[32m[I 10:24:40 InstallContribNbextensionsApp]\u001b[m Up to date: /root/.local/share/jupyter/nbextensions/code_prettify/code_prettify.js\n",
            "\u001b[32m[I 10:24:40 InstallContribNbextensionsApp]\u001b[m Up to date: /root/.local/share/jupyter/nbextensions/code_prettify/README_isort.md\n",
            "\u001b[32m[I 10:24:40 InstallContribNbextensionsApp]\u001b[m Up to date: /root/.local/share/jupyter/nbextensions/code_prettify/autopep8.js\n",
            "\u001b[32m[I 10:24:40 InstallContribNbextensionsApp]\u001b[m Up to date: /root/.local/share/jupyter/nbextensions/code_prettify/README.md\n",
            "\u001b[32m[I 10:24:40 InstallContribNbextensionsApp]\u001b[m Up to date: /root/.local/share/jupyter/nbextensions/code_prettify/2to3.js\n",
            "\u001b[32m[I 10:24:40 InstallContribNbextensionsApp]\u001b[m Up to date: /root/.local/share/jupyter/nbextensions/code_prettify/isort.yaml\n",
            "\u001b[32m[I 10:24:40 InstallContribNbextensionsApp]\u001b[m Up to date: /root/.local/share/jupyter/nbextensions/code_prettify/autopep8.yaml\n",
            "\u001b[32m[I 10:24:40 InstallContribNbextensionsApp]\u001b[m - Validating: \u001b[32mOK\u001b[0m\n",
            "\u001b[32m[I 10:24:40 InstallContribNbextensionsApp]\u001b[m Installing /usr/local/lib/python3.6/dist-packages/jupyter_contrib_nbextensions/nbextensions/code_prettify -> code_prettify\n",
            "\u001b[32m[I 10:24:40 InstallContribNbextensionsApp]\u001b[m Up to date: /root/.local/share/jupyter/nbextensions/code_prettify/demo-R.gif\n",
            "\u001b[32m[I 10:24:40 InstallContribNbextensionsApp]\u001b[m Up to date: /root/.local/share/jupyter/nbextensions/code_prettify/isort.js\n",
            "\u001b[32m[I 10:24:40 InstallContribNbextensionsApp]\u001b[m Up to date: /root/.local/share/jupyter/nbextensions/code_prettify/code_prettify.yaml\n",
            "\u001b[32m[I 10:24:40 InstallContribNbextensionsApp]\u001b[m Up to date: /root/.local/share/jupyter/nbextensions/code_prettify/demo-jv.gif\n",
            "\u001b[32m[I 10:24:40 InstallContribNbextensionsApp]\u001b[m Up to date: /root/.local/share/jupyter/nbextensions/code_prettify/README_code_prettify.md\n",
            "\u001b[32m[I 10:24:40 InstallContribNbextensionsApp]\u001b[m Up to date: /root/.local/share/jupyter/nbextensions/code_prettify/demo_2to3.gif\n",
            "\u001b[32m[I 10:24:40 InstallContribNbextensionsApp]\u001b[m Up to date: /root/.local/share/jupyter/nbextensions/code_prettify/README_2to3.md\n",
            "\u001b[32m[I 10:24:40 InstallContribNbextensionsApp]\u001b[m Up to date: /root/.local/share/jupyter/nbextensions/code_prettify/2to3.yaml\n",
            "\u001b[32m[I 10:24:40 InstallContribNbextensionsApp]\u001b[m Up to date: /root/.local/share/jupyter/nbextensions/code_prettify/demo-py.gif\n",
            "\u001b[32m[I 10:24:40 InstallContribNbextensionsApp]\u001b[m Up to date: /root/.local/share/jupyter/nbextensions/code_prettify/kernel_exec_on_cell.js\n",
            "\u001b[32m[I 10:24:40 InstallContribNbextensionsApp]\u001b[m Up to date: /root/.local/share/jupyter/nbextensions/code_prettify/README_autopep8.md\n",
            "\u001b[32m[I 10:24:40 InstallContribNbextensionsApp]\u001b[m Up to date: /root/.local/share/jupyter/nbextensions/code_prettify/code_prettify.js\n",
            "\u001b[32m[I 10:24:40 InstallContribNbextensionsApp]\u001b[m Up to date: /root/.local/share/jupyter/nbextensions/code_prettify/README_isort.md\n",
            "\u001b[32m[I 10:24:40 InstallContribNbextensionsApp]\u001b[m Up to date: /root/.local/share/jupyter/nbextensions/code_prettify/autopep8.js\n",
            "\u001b[32m[I 10:24:40 InstallContribNbextensionsApp]\u001b[m Up to date: /root/.local/share/jupyter/nbextensions/code_prettify/README.md\n",
            "\u001b[32m[I 10:24:40 InstallContribNbextensionsApp]\u001b[m Up to date: /root/.local/share/jupyter/nbextensions/code_prettify/2to3.js\n",
            "\u001b[32m[I 10:24:40 InstallContribNbextensionsApp]\u001b[m Up to date: /root/.local/share/jupyter/nbextensions/code_prettify/isort.yaml\n",
            "\u001b[32m[I 10:24:40 InstallContribNbextensionsApp]\u001b[m Up to date: /root/.local/share/jupyter/nbextensions/code_prettify/autopep8.yaml\n",
            "\u001b[32m[I 10:24:40 InstallContribNbextensionsApp]\u001b[m - Validating: \u001b[32mOK\u001b[0m\n",
            "\u001b[32m[I 10:24:40 InstallContribNbextensionsApp]\u001b[m Installing /usr/local/lib/python3.6/dist-packages/jupyter_contrib_nbextensions/nbextensions/code_prettify -> code_prettify\n",
            "\u001b[32m[I 10:24:40 InstallContribNbextensionsApp]\u001b[m Up to date: /root/.local/share/jupyter/nbextensions/code_prettify/demo-R.gif\n",
            "\u001b[32m[I 10:24:40 InstallContribNbextensionsApp]\u001b[m Up to date: /root/.local/share/jupyter/nbextensions/code_prettify/isort.js\n",
            "\u001b[32m[I 10:24:40 InstallContribNbextensionsApp]\u001b[m Up to date: /root/.local/share/jupyter/nbextensions/code_prettify/code_prettify.yaml\n",
            "\u001b[32m[I 10:24:40 InstallContribNbextensionsApp]\u001b[m Up to date: /root/.local/share/jupyter/nbextensions/code_prettify/demo-jv.gif\n",
            "\u001b[32m[I 10:24:40 InstallContribNbextensionsApp]\u001b[m Up to date: /root/.local/share/jupyter/nbextensions/code_prettify/README_code_prettify.md\n",
            "\u001b[32m[I 10:24:40 InstallContribNbextensionsApp]\u001b[m Up to date: /root/.local/share/jupyter/nbextensions/code_prettify/demo_2to3.gif\n",
            "\u001b[32m[I 10:24:40 InstallContribNbextensionsApp]\u001b[m Up to date: /root/.local/share/jupyter/nbextensions/code_prettify/README_2to3.md\n",
            "\u001b[32m[I 10:24:40 InstallContribNbextensionsApp]\u001b[m Up to date: /root/.local/share/jupyter/nbextensions/code_prettify/2to3.yaml\n",
            "\u001b[32m[I 10:24:40 InstallContribNbextensionsApp]\u001b[m Up to date: /root/.local/share/jupyter/nbextensions/code_prettify/demo-py.gif\n",
            "\u001b[32m[I 10:24:40 InstallContribNbextensionsApp]\u001b[m Up to date: /root/.local/share/jupyter/nbextensions/code_prettify/kernel_exec_on_cell.js\n",
            "\u001b[32m[I 10:24:40 InstallContribNbextensionsApp]\u001b[m Up to date: /root/.local/share/jupyter/nbextensions/code_prettify/README_autopep8.md\n",
            "\u001b[32m[I 10:24:40 InstallContribNbextensionsApp]\u001b[m Up to date: /root/.local/share/jupyter/nbextensions/code_prettify/code_prettify.js\n",
            "\u001b[32m[I 10:24:40 InstallContribNbextensionsApp]\u001b[m Up to date: /root/.local/share/jupyter/nbextensions/code_prettify/README_isort.md\n",
            "\u001b[32m[I 10:24:40 InstallContribNbextensionsApp]\u001b[m Up to date: /root/.local/share/jupyter/nbextensions/code_prettify/autopep8.js\n",
            "\u001b[32m[I 10:24:40 InstallContribNbextensionsApp]\u001b[m Up to date: /root/.local/share/jupyter/nbextensions/code_prettify/README.md\n",
            "\u001b[32m[I 10:24:40 InstallContribNbextensionsApp]\u001b[m Up to date: /root/.local/share/jupyter/nbextensions/code_prettify/2to3.js\n",
            "\u001b[32m[I 10:24:40 InstallContribNbextensionsApp]\u001b[m Up to date: /root/.local/share/jupyter/nbextensions/code_prettify/isort.yaml\n",
            "\u001b[32m[I 10:24:40 InstallContribNbextensionsApp]\u001b[m Up to date: /root/.local/share/jupyter/nbextensions/code_prettify/autopep8.yaml\n",
            "\u001b[32m[I 10:24:40 InstallContribNbextensionsApp]\u001b[m - Validating: \u001b[32mOK\u001b[0m\n",
            "\u001b[32m[I 10:24:40 InstallContribNbextensionsApp]\u001b[m Installing /usr/local/lib/python3.6/dist-packages/jupyter_contrib_nbextensions/nbextensions/snippets_menu -> snippets_menu\n",
            "\u001b[32m[I 10:24:40 InstallContribNbextensionsApp]\u001b[m Making directory: /root/.local/share/jupyter/nbextensions/snippets_menu/\n",
            "\u001b[32m[I 10:24:40 InstallContribNbextensionsApp]\u001b[m Copying: /usr/local/lib/python3.6/dist-packages/jupyter_contrib_nbextensions/nbextensions/snippets_menu/snippets_menu.css -> /root/.local/share/jupyter/nbextensions/snippets_menu/snippets_menu.css\n",
            "\u001b[32m[I 10:24:40 InstallContribNbextensionsApp]\u001b[m Copying: /usr/local/lib/python3.6/dist-packages/jupyter_contrib_nbextensions/nbextensions/snippets_menu/screenshot2.png -> /root/.local/share/jupyter/nbextensions/snippets_menu/screenshot2.png\n",
            "\u001b[32m[I 10:24:40 InstallContribNbextensionsApp]\u001b[m Copying: /usr/local/lib/python3.6/dist-packages/jupyter_contrib_nbextensions/nbextensions/snippets_menu/main.js -> /root/.local/share/jupyter/nbextensions/snippets_menu/main.js\n",
            "\u001b[32m[I 10:24:40 InstallContribNbextensionsApp]\u001b[m Copying: /usr/local/lib/python3.6/dist-packages/jupyter_contrib_nbextensions/nbextensions/snippets_menu/config.yaml -> /root/.local/share/jupyter/nbextensions/snippets_menu/config.yaml\n",
            "\u001b[32m[I 10:24:40 InstallContribNbextensionsApp]\u001b[m Copying: /usr/local/lib/python3.6/dist-packages/jupyter_contrib_nbextensions/nbextensions/snippets_menu/snippets_submenu_markdown.js -> /root/.local/share/jupyter/nbextensions/snippets_menu/snippets_submenu_markdown.js\n",
            "\u001b[32m[I 10:24:40 InstallContribNbextensionsApp]\u001b[m Copying: /usr/local/lib/python3.6/dist-packages/jupyter_contrib_nbextensions/nbextensions/snippets_menu/thumbnail.png -> /root/.local/share/jupyter/nbextensions/snippets_menu/thumbnail.png\n",
            "\u001b[32m[I 10:24:40 InstallContribNbextensionsApp]\u001b[m Copying: /usr/local/lib/python3.6/dist-packages/jupyter_contrib_nbextensions/nbextensions/snippets_menu/readme.md -> /root/.local/share/jupyter/nbextensions/snippets_menu/readme.md\n",
            "\u001b[32m[I 10:24:40 InstallContribNbextensionsApp]\u001b[m Copying: /usr/local/lib/python3.6/dist-packages/jupyter_contrib_nbextensions/nbextensions/snippets_menu/snippets_submenu_python.js -> /root/.local/share/jupyter/nbextensions/snippets_menu/snippets_submenu_python.js\n",
            "\u001b[32m[I 10:24:40 InstallContribNbextensionsApp]\u001b[m Copying: /usr/local/lib/python3.6/dist-packages/jupyter_contrib_nbextensions/nbextensions/snippets_menu/screenshot3.png -> /root/.local/share/jupyter/nbextensions/snippets_menu/screenshot3.png\n",
            "\u001b[32m[I 10:24:40 InstallContribNbextensionsApp]\u001b[m Copying: /usr/local/lib/python3.6/dist-packages/jupyter_contrib_nbextensions/nbextensions/snippets_menu/examples_for_custom.js -> /root/.local/share/jupyter/nbextensions/snippets_menu/examples_for_custom.js\n",
            "\u001b[32m[I 10:24:40 InstallContribNbextensionsApp]\u001b[m Copying: /usr/local/lib/python3.6/dist-packages/jupyter_contrib_nbextensions/nbextensions/snippets_menu/screenshot1.png -> /root/.local/share/jupyter/nbextensions/snippets_menu/screenshot1.png\n",
            "\u001b[32m[I 10:24:40 InstallContribNbextensionsApp]\u001b[m Making directory: /root/.local/share/jupyter/nbextensions/snippets_menu/snippets_submenus_python\n",
            "\u001b[32m[I 10:24:40 InstallContribNbextensionsApp]\u001b[m Copying: /usr/local/lib/python3.6/dist-packages/jupyter_contrib_nbextensions/nbextensions/snippets_menu/snippets_submenus_python/numpy_polynomial.js -> /root/.local/share/jupyter/nbextensions/snippets_menu/snippets_submenus_python/numpy_polynomial.js\n",
            "\u001b[32m[I 10:24:40 InstallContribNbextensionsApp]\u001b[m Copying: /usr/local/lib/python3.6/dist-packages/jupyter_contrib_nbextensions/nbextensions/snippets_menu/snippets_submenus_python/sympy.js -> /root/.local/share/jupyter/nbextensions/snippets_menu/snippets_submenus_python/sympy.js\n",
            "\u001b[32m[I 10:24:40 InstallContribNbextensionsApp]\u001b[m Copying: /usr/local/lib/python3.6/dist-packages/jupyter_contrib_nbextensions/nbextensions/snippets_menu/snippets_submenus_python/astropy.js -> /root/.local/share/jupyter/nbextensions/snippets_menu/snippets_submenus_python/astropy.js\n",
            "\u001b[32m[I 10:24:40 InstallContribNbextensionsApp]\u001b[m Copying: /usr/local/lib/python3.6/dist-packages/jupyter_contrib_nbextensions/nbextensions/snippets_menu/snippets_submenus_python/numba.js -> /root/.local/share/jupyter/nbextensions/snippets_menu/snippets_submenus_python/numba.js\n",
            "\u001b[32m[I 10:24:40 InstallContribNbextensionsApp]\u001b[m Copying: /usr/local/lib/python3.6/dist-packages/jupyter_contrib_nbextensions/nbextensions/snippets_menu/snippets_submenus_python/python_regex.js -> /root/.local/share/jupyter/nbextensions/snippets_menu/snippets_submenus_python/python_regex.js\n",
            "\u001b[32m[I 10:24:40 InstallContribNbextensionsApp]\u001b[m Copying: /usr/local/lib/python3.6/dist-packages/jupyter_contrib_nbextensions/nbextensions/snippets_menu/snippets_submenus_python/numpy.js -> /root/.local/share/jupyter/nbextensions/snippets_menu/snippets_submenus_python/numpy.js\n",
            "\u001b[32m[I 10:24:40 InstallContribNbextensionsApp]\u001b[m Copying: /usr/local/lib/python3.6/dist-packages/jupyter_contrib_nbextensions/nbextensions/snippets_menu/snippets_submenus_python/sympy_assumptions.js -> /root/.local/share/jupyter/nbextensions/snippets_menu/snippets_submenus_python/sympy_assumptions.js\n",
            "\u001b[32m[I 10:24:40 InstallContribNbextensionsApp]\u001b[m Copying: /usr/local/lib/python3.6/dist-packages/jupyter_contrib_nbextensions/nbextensions/snippets_menu/snippets_submenus_python/scipy_constants.js -> /root/.local/share/jupyter/nbextensions/snippets_menu/snippets_submenus_python/scipy_constants.js\n",
            "\u001b[32m[I 10:24:40 InstallContribNbextensionsApp]\u001b[m Copying: /usr/local/lib/python3.6/dist-packages/jupyter_contrib_nbextensions/nbextensions/snippets_menu/snippets_submenus_python/h5py.js -> /root/.local/share/jupyter/nbextensions/snippets_menu/snippets_submenus_python/h5py.js\n",
            "\u001b[32m[I 10:24:40 InstallContribNbextensionsApp]\u001b[m Copying: /usr/local/lib/python3.6/dist-packages/jupyter_contrib_nbextensions/nbextensions/snippets_menu/snippets_submenus_python/numpy_ufuncs.js -> /root/.local/share/jupyter/nbextensions/snippets_menu/snippets_submenus_python/numpy_ufuncs.js\n",
            "\u001b[32m[I 10:24:40 InstallContribNbextensionsApp]\u001b[m Copying: /usr/local/lib/python3.6/dist-packages/jupyter_contrib_nbextensions/nbextensions/snippets_menu/snippets_submenus_python/pandas.js -> /root/.local/share/jupyter/nbextensions/snippets_menu/snippets_submenus_python/pandas.js\n",
            "\u001b[32m[I 10:24:40 InstallContribNbextensionsApp]\u001b[m Copying: /usr/local/lib/python3.6/dist-packages/jupyter_contrib_nbextensions/nbextensions/snippets_menu/snippets_submenus_python/scipy.js -> /root/.local/share/jupyter/nbextensions/snippets_menu/snippets_submenus_python/scipy.js\n",
            "\u001b[32m[I 10:24:40 InstallContribNbextensionsApp]\u001b[m Copying: /usr/local/lib/python3.6/dist-packages/jupyter_contrib_nbextensions/nbextensions/snippets_menu/snippets_submenus_python/matplotlib.js -> /root/.local/share/jupyter/nbextensions/snippets_menu/snippets_submenus_python/matplotlib.js\n",
            "\u001b[32m[I 10:24:40 InstallContribNbextensionsApp]\u001b[m Copying: /usr/local/lib/python3.6/dist-packages/jupyter_contrib_nbextensions/nbextensions/snippets_menu/snippets_submenus_python/scipy_special.js -> /root/.local/share/jupyter/nbextensions/snippets_menu/snippets_submenus_python/scipy_special.js\n",
            "\u001b[32m[I 10:24:40 InstallContribNbextensionsApp]\u001b[m Copying: /usr/local/lib/python3.6/dist-packages/jupyter_contrib_nbextensions/nbextensions/snippets_menu/snippets_submenus_python/sympy_functions.js -> /root/.local/share/jupyter/nbextensions/snippets_menu/snippets_submenus_python/sympy_functions.js\n",
            "\u001b[32m[I 10:24:40 InstallContribNbextensionsApp]\u001b[m Copying: /usr/local/lib/python3.6/dist-packages/jupyter_contrib_nbextensions/nbextensions/snippets_menu/snippets_submenus_python/python.js -> /root/.local/share/jupyter/nbextensions/snippets_menu/snippets_submenus_python/python.js\n",
            "\u001b[32m[I 10:24:40 InstallContribNbextensionsApp]\u001b[m - Validating: \u001b[32mOK\u001b[0m\n",
            "\u001b[32m[I 10:24:40 InstallContribNbextensionsApp]\u001b[m Installing /usr/local/lib/python3.6/dist-packages/jupyter_contrib_nbextensions/nbextensions/execute_time -> execute_time\n",
            "\u001b[32m[I 10:24:40 InstallContribNbextensionsApp]\u001b[m Making directory: /root/.local/share/jupyter/nbextensions/execute_time/\n",
            "\u001b[32m[I 10:24:40 InstallContribNbextensionsApp]\u001b[m Copying: /usr/local/lib/python3.6/dist-packages/jupyter_contrib_nbextensions/nbextensions/execute_time/ExecuteTime.yaml -> /root/.local/share/jupyter/nbextensions/execute_time/ExecuteTime.yaml\n",
            "\u001b[32m[I 10:24:40 InstallContribNbextensionsApp]\u001b[m Copying: /usr/local/lib/python3.6/dist-packages/jupyter_contrib_nbextensions/nbextensions/execute_time/ExecuteTime.css -> /root/.local/share/jupyter/nbextensions/execute_time/ExecuteTime.css\n",
            "\u001b[32m[I 10:24:40 InstallContribNbextensionsApp]\u001b[m Copying: /usr/local/lib/python3.6/dist-packages/jupyter_contrib_nbextensions/nbextensions/execute_time/readme.md -> /root/.local/share/jupyter/nbextensions/execute_time/readme.md\n",
            "\u001b[32m[I 10:24:40 InstallContribNbextensionsApp]\u001b[m Copying: /usr/local/lib/python3.6/dist-packages/jupyter_contrib_nbextensions/nbextensions/execute_time/icon.png -> /root/.local/share/jupyter/nbextensions/execute_time/icon.png\n",
            "\u001b[32m[I 10:24:40 InstallContribNbextensionsApp]\u001b[m Copying: /usr/local/lib/python3.6/dist-packages/jupyter_contrib_nbextensions/nbextensions/execute_time/execution-timings-box.png -> /root/.local/share/jupyter/nbextensions/execute_time/execution-timings-box.png\n",
            "\u001b[32m[I 10:24:40 InstallContribNbextensionsApp]\u001b[m Copying: /usr/local/lib/python3.6/dist-packages/jupyter_contrib_nbextensions/nbextensions/execute_time/execution-timings-menu.png -> /root/.local/share/jupyter/nbextensions/execute_time/execution-timings-menu.png\n",
            "\u001b[32m[I 10:24:40 InstallContribNbextensionsApp]\u001b[m Copying: /usr/local/lib/python3.6/dist-packages/jupyter_contrib_nbextensions/nbextensions/execute_time/ExecuteTime.js -> /root/.local/share/jupyter/nbextensions/execute_time/ExecuteTime.js\n",
            "\u001b[32m[I 10:24:40 InstallContribNbextensionsApp]\u001b[m - Validating: \u001b[32mOK\u001b[0m\n",
            "\u001b[32m[I 10:24:40 InstallContribNbextensionsApp]\u001b[m Installing /usr/local/lib/python3.6/dist-packages/jupyter_contrib_nbextensions/nbextensions/spellchecker -> spellchecker\n",
            "\u001b[32m[I 10:24:40 InstallContribNbextensionsApp]\u001b[m Making directory: /root/.local/share/jupyter/nbextensions/spellchecker/\n",
            "\u001b[32m[I 10:24:40 InstallContribNbextensionsApp]\u001b[m Copying: /usr/local/lib/python3.6/dist-packages/jupyter_contrib_nbextensions/nbextensions/spellchecker/screenshot.png -> /root/.local/share/jupyter/nbextensions/spellchecker/screenshot.png\n",
            "\u001b[32m[I 10:24:40 InstallContribNbextensionsApp]\u001b[m Copying: /usr/local/lib/python3.6/dist-packages/jupyter_contrib_nbextensions/nbextensions/spellchecker/main.js -> /root/.local/share/jupyter/nbextensions/spellchecker/main.js\n",
            "\u001b[32m[I 10:24:40 InstallContribNbextensionsApp]\u001b[m Copying: /usr/local/lib/python3.6/dist-packages/jupyter_contrib_nbextensions/nbextensions/spellchecker/config.yaml -> /root/.local/share/jupyter/nbextensions/spellchecker/config.yaml\n",
            "\u001b[32m[I 10:24:40 InstallContribNbextensionsApp]\u001b[m Copying: /usr/local/lib/python3.6/dist-packages/jupyter_contrib_nbextensions/nbextensions/spellchecker/README.md -> /root/.local/share/jupyter/nbextensions/spellchecker/README.md\n",
            "\u001b[32m[I 10:24:40 InstallContribNbextensionsApp]\u001b[m Copying: /usr/local/lib/python3.6/dist-packages/jupyter_contrib_nbextensions/nbextensions/spellchecker/main.css -> /root/.local/share/jupyter/nbextensions/spellchecker/main.css\n",
            "\u001b[32m[I 10:24:40 InstallContribNbextensionsApp]\u001b[m Copying: /usr/local/lib/python3.6/dist-packages/jupyter_contrib_nbextensions/nbextensions/spellchecker/download_new_dict.py -> /root/.local/share/jupyter/nbextensions/spellchecker/download_new_dict.py\n",
            "\u001b[32m[I 10:24:40 InstallContribNbextensionsApp]\u001b[m Making directory: /root/.local/share/jupyter/nbextensions/spellchecker/typo\n",
            "\u001b[32m[I 10:24:40 InstallContribNbextensionsApp]\u001b[m Copying: /usr/local/lib/python3.6/dist-packages/jupyter_contrib_nbextensions/nbextensions/spellchecker/typo/LICENSE.txt -> /root/.local/share/jupyter/nbextensions/spellchecker/typo/LICENSE.txt\n",
            "\u001b[32m[I 10:24:40 InstallContribNbextensionsApp]\u001b[m Copying: /usr/local/lib/python3.6/dist-packages/jupyter_contrib_nbextensions/nbextensions/spellchecker/typo/typo.js -> /root/.local/share/jupyter/nbextensions/spellchecker/typo/typo.js\n",
            "\u001b[32m[I 10:24:40 InstallContribNbextensionsApp]\u001b[m Making directory: /root/.local/share/jupyter/nbextensions/spellchecker/__pycache__\n",
            "\u001b[32m[I 10:24:40 InstallContribNbextensionsApp]\u001b[m Copying: /usr/local/lib/python3.6/dist-packages/jupyter_contrib_nbextensions/nbextensions/spellchecker/__pycache__/download_new_dict.cpython-36.pyc -> /root/.local/share/jupyter/nbextensions/spellchecker/__pycache__/download_new_dict.cpython-36.pyc\n",
            "\u001b[32m[I 10:24:40 InstallContribNbextensionsApp]\u001b[m - Validating: \u001b[32mOK\u001b[0m\n",
            "\u001b[32m[I 10:24:40 InstallContribNbextensionsApp]\u001b[m Installing /usr/local/lib/python3.6/dist-packages/jupyter_contrib_nbextensions/nbextensions/limit_output -> limit_output\n",
            "\u001b[32m[I 10:24:40 InstallContribNbextensionsApp]\u001b[m Making directory: /root/.local/share/jupyter/nbextensions/limit_output/\n",
            "\u001b[32m[I 10:24:40 InstallContribNbextensionsApp]\u001b[m Copying: /usr/local/lib/python3.6/dist-packages/jupyter_contrib_nbextensions/nbextensions/limit_output/main.js -> /root/.local/share/jupyter/nbextensions/limit_output/main.js\n",
            "\u001b[32m[I 10:24:40 InstallContribNbextensionsApp]\u001b[m Copying: /usr/local/lib/python3.6/dist-packages/jupyter_contrib_nbextensions/nbextensions/limit_output/readme.md -> /root/.local/share/jupyter/nbextensions/limit_output/readme.md\n",
            "\u001b[32m[I 10:24:40 InstallContribNbextensionsApp]\u001b[m Copying: /usr/local/lib/python3.6/dist-packages/jupyter_contrib_nbextensions/nbextensions/limit_output/limit-output.yaml -> /root/.local/share/jupyter/nbextensions/limit_output/limit-output.yaml\n",
            "\u001b[32m[I 10:24:40 InstallContribNbextensionsApp]\u001b[m Copying: /usr/local/lib/python3.6/dist-packages/jupyter_contrib_nbextensions/nbextensions/limit_output/icon.png -> /root/.local/share/jupyter/nbextensions/limit_output/icon.png\n",
            "\u001b[32m[I 10:24:40 InstallContribNbextensionsApp]\u001b[m - Validating: \u001b[32mOK\u001b[0m\n",
            "\u001b[32m[I 10:24:40 InstallContribNbextensionsApp]\u001b[m Installing /usr/local/lib/python3.6/dist-packages/jupyter_contrib_nbextensions/nbextensions/hide_input -> hide_input\n",
            "\u001b[32m[I 10:24:40 InstallContribNbextensionsApp]\u001b[m Making directory: /root/.local/share/jupyter/nbextensions/hide_input/\n",
            "\u001b[32m[I 10:24:40 InstallContribNbextensionsApp]\u001b[m Copying: /usr/local/lib/python3.6/dist-packages/jupyter_contrib_nbextensions/nbextensions/hide_input/main.js -> /root/.local/share/jupyter/nbextensions/hide_input/main.js\n",
            "\u001b[32m[I 10:24:40 InstallContribNbextensionsApp]\u001b[m Copying: /usr/local/lib/python3.6/dist-packages/jupyter_contrib_nbextensions/nbextensions/hide_input/readme.md -> /root/.local/share/jupyter/nbextensions/hide_input/readme.md\n",
            "\u001b[32m[I 10:24:40 InstallContribNbextensionsApp]\u001b[m Copying: /usr/local/lib/python3.6/dist-packages/jupyter_contrib_nbextensions/nbextensions/hide_input/icon.png -> /root/.local/share/jupyter/nbextensions/hide_input/icon.png\n",
            "\u001b[32m[I 10:24:40 InstallContribNbextensionsApp]\u001b[m Copying: /usr/local/lib/python3.6/dist-packages/jupyter_contrib_nbextensions/nbextensions/hide_input/hide-input.yaml -> /root/.local/share/jupyter/nbextensions/hide_input/hide-input.yaml\n",
            "\u001b[32m[I 10:24:40 InstallContribNbextensionsApp]\u001b[m - Validating: \u001b[32mOK\u001b[0m\n",
            "\u001b[32m[I 10:24:40 InstallContribNbextensionsApp]\u001b[m Installing /usr/local/lib/python3.6/dist-packages/jupyter_contrib_nbextensions/nbextensions/toc2 -> toc2\n",
            "\u001b[32m[I 10:24:40 InstallContribNbextensionsApp]\u001b[m Making directory: /root/.local/share/jupyter/nbextensions/toc2/\n",
            "\u001b[32m[I 10:24:40 InstallContribNbextensionsApp]\u001b[m Copying: /usr/local/lib/python3.6/dist-packages/jupyter_contrib_nbextensions/nbextensions/toc2/demo_dark.png -> /root/.local/share/jupyter/nbextensions/toc2/demo_dark.png\n",
            "\u001b[32m[I 10:24:40 InstallContribNbextensionsApp]\u001b[m Copying: /usr/local/lib/python3.6/dist-packages/jupyter_contrib_nbextensions/nbextensions/toc2/demo3.gif -> /root/.local/share/jupyter/nbextensions/toc2/demo3.gif\n",
            "\u001b[32m[I 10:24:40 InstallContribNbextensionsApp]\u001b[m Copying: /usr/local/lib/python3.6/dist-packages/jupyter_contrib_nbextensions/nbextensions/toc2/main.js -> /root/.local/share/jupyter/nbextensions/toc2/main.js\n",
            "\u001b[32m[I 10:24:40 InstallContribNbextensionsApp]\u001b[m Copying: /usr/local/lib/python3.6/dist-packages/jupyter_contrib_nbextensions/nbextensions/toc2/image.png -> /root/.local/share/jupyter/nbextensions/toc2/image.png\n",
            "\u001b[32m[I 10:24:40 InstallContribNbextensionsApp]\u001b[m Copying: /usr/local/lib/python3.6/dist-packages/jupyter_contrib_nbextensions/nbextensions/toc2/icon.png -> /root/.local/share/jupyter/nbextensions/toc2/icon.png\n",
            "\u001b[32m[I 10:24:40 InstallContribNbextensionsApp]\u001b[m Copying: /usr/local/lib/python3.6/dist-packages/jupyter_contrib_nbextensions/nbextensions/toc2/demo2.gif -> /root/.local/share/jupyter/nbextensions/toc2/demo2.gif\n",
            "\u001b[32m[I 10:24:40 InstallContribNbextensionsApp]\u001b[m Copying: /usr/local/lib/python3.6/dist-packages/jupyter_contrib_nbextensions/nbextensions/toc2/demo.gif -> /root/.local/share/jupyter/nbextensions/toc2/demo.gif\n",
            "\u001b[32m[I 10:24:40 InstallContribNbextensionsApp]\u001b[m Copying: /usr/local/lib/python3.6/dist-packages/jupyter_contrib_nbextensions/nbextensions/toc2/README.md -> /root/.local/share/jupyter/nbextensions/toc2/README.md\n",
            "\u001b[32m[I 10:24:40 InstallContribNbextensionsApp]\u001b[m Copying: /usr/local/lib/python3.6/dist-packages/jupyter_contrib_nbextensions/nbextensions/toc2/main.css -> /root/.local/share/jupyter/nbextensions/toc2/main.css\n",
            "\u001b[32m[I 10:24:40 InstallContribNbextensionsApp]\u001b[m Copying: /usr/local/lib/python3.6/dist-packages/jupyter_contrib_nbextensions/nbextensions/toc2/toc2.js -> /root/.local/share/jupyter/nbextensions/toc2/toc2.js\n",
            "\u001b[32m[I 10:24:40 InstallContribNbextensionsApp]\u001b[m Copying: /usr/local/lib/python3.6/dist-packages/jupyter_contrib_nbextensions/nbextensions/toc2/toc2.yaml -> /root/.local/share/jupyter/nbextensions/toc2/toc2.yaml\n",
            "\u001b[32m[I 10:24:40 InstallContribNbextensionsApp]\u001b[m - Validating: \u001b[32mOK\u001b[0m\n",
            "\u001b[32m[I 10:24:40 InstallContribNbextensionsApp]\u001b[m Installing /usr/local/lib/python3.6/dist-packages/jupyter_contrib_nbextensions/nbextensions/hinterland -> hinterland\n",
            "\u001b[32m[I 10:24:40 InstallContribNbextensionsApp]\u001b[m Making directory: /root/.local/share/jupyter/nbextensions/hinterland/\n",
            "\u001b[32m[I 10:24:40 InstallContribNbextensionsApp]\u001b[m Copying: /usr/local/lib/python3.6/dist-packages/jupyter_contrib_nbextensions/nbextensions/hinterland/hinterland.js -> /root/.local/share/jupyter/nbextensions/hinterland/hinterland.js\n",
            "\u001b[32m[I 10:24:40 InstallContribNbextensionsApp]\u001b[m Copying: /usr/local/lib/python3.6/dist-packages/jupyter_contrib_nbextensions/nbextensions/hinterland/hinterland.yaml -> /root/.local/share/jupyter/nbextensions/hinterland/hinterland.yaml\n",
            "\u001b[32m[I 10:24:40 InstallContribNbextensionsApp]\u001b[m Copying: /usr/local/lib/python3.6/dist-packages/jupyter_contrib_nbextensions/nbextensions/hinterland/README.md -> /root/.local/share/jupyter/nbextensions/hinterland/README.md\n",
            "\u001b[32m[I 10:24:40 InstallContribNbextensionsApp]\u001b[m - Validating: \u001b[32mOK\u001b[0m\n",
            "\u001b[32m[I 10:24:40 InstallContribNbextensionsApp]\u001b[m Installing /usr/local/lib/python3.6/dist-packages/jupyter_contrib_nbextensions/nbextensions/hide_header -> hide_header\n",
            "\u001b[32m[I 10:24:40 InstallContribNbextensionsApp]\u001b[m Making directory: /root/.local/share/jupyter/nbextensions/hide_header/\n",
            "\u001b[32m[I 10:24:40 InstallContribNbextensionsApp]\u001b[m Copying: /usr/local/lib/python3.6/dist-packages/jupyter_contrib_nbextensions/nbextensions/hide_header/main.js -> /root/.local/share/jupyter/nbextensions/hide_header/main.js\n",
            "\u001b[32m[I 10:24:40 InstallContribNbextensionsApp]\u001b[m Copying: /usr/local/lib/python3.6/dist-packages/jupyter_contrib_nbextensions/nbextensions/hide_header/hide_header.yaml -> /root/.local/share/jupyter/nbextensions/hide_header/hide_header.yaml\n",
            "\u001b[32m[I 10:24:40 InstallContribNbextensionsApp]\u001b[m Copying: /usr/local/lib/python3.6/dist-packages/jupyter_contrib_nbextensions/nbextensions/hide_header/README.md -> /root/.local/share/jupyter/nbextensions/hide_header/README.md\n",
            "\u001b[32m[I 10:24:40 InstallContribNbextensionsApp]\u001b[m - Validating: \u001b[32mOK\u001b[0m\n",
            "\u001b[32m[I 10:24:40 InstallContribNbextensionsApp]\u001b[m Installing /usr/local/lib/python3.6/dist-packages/jupyter_contrib_nbextensions/nbextensions/hide_input_all -> hide_input_all\n",
            "\u001b[32m[I 10:24:40 InstallContribNbextensionsApp]\u001b[m Making directory: /root/.local/share/jupyter/nbextensions/hide_input_all/\n",
            "\u001b[32m[I 10:24:40 InstallContribNbextensionsApp]\u001b[m Copying: /usr/local/lib/python3.6/dist-packages/jupyter_contrib_nbextensions/nbextensions/hide_input_all/main.js -> /root/.local/share/jupyter/nbextensions/hide_input_all/main.js\n",
            "\u001b[32m[I 10:24:40 InstallContribNbextensionsApp]\u001b[m Copying: /usr/local/lib/python3.6/dist-packages/jupyter_contrib_nbextensions/nbextensions/hide_input_all/readme.md -> /root/.local/share/jupyter/nbextensions/hide_input_all/readme.md\n",
            "\u001b[32m[I 10:24:40 InstallContribNbextensionsApp]\u001b[m Copying: /usr/local/lib/python3.6/dist-packages/jupyter_contrib_nbextensions/nbextensions/hide_input_all/icon.png -> /root/.local/share/jupyter/nbextensions/hide_input_all/icon.png\n",
            "\u001b[32m[I 10:24:40 InstallContribNbextensionsApp]\u001b[m Copying: /usr/local/lib/python3.6/dist-packages/jupyter_contrib_nbextensions/nbextensions/hide_input_all/hide_input_all_show.png -> /root/.local/share/jupyter/nbextensions/hide_input_all/hide_input_all_show.png\n",
            "\u001b[32m[I 10:24:40 InstallContribNbextensionsApp]\u001b[m Copying: /usr/local/lib/python3.6/dist-packages/jupyter_contrib_nbextensions/nbextensions/hide_input_all/hide_input_all_hide.png -> /root/.local/share/jupyter/nbextensions/hide_input_all/hide_input_all_hide.png\n",
            "\u001b[32m[I 10:24:40 InstallContribNbextensionsApp]\u001b[m Copying: /usr/local/lib/python3.6/dist-packages/jupyter_contrib_nbextensions/nbextensions/hide_input_all/hide_input_all.yaml -> /root/.local/share/jupyter/nbextensions/hide_input_all/hide_input_all.yaml\n",
            "\u001b[32m[I 10:24:40 InstallContribNbextensionsApp]\u001b[m - Validating: \u001b[32mOK\u001b[0m\n",
            "\u001b[32m[I 10:24:40 InstallContribNbextensionsApp]\u001b[m Installing /usr/local/lib/python3.6/dist-packages/jupyter_contrib_nbextensions/nbextensions/cell_filter -> cell_filter\n",
            "\u001b[32m[I 10:24:40 InstallContribNbextensionsApp]\u001b[m Making directory: /root/.local/share/jupyter/nbextensions/cell_filter/\n",
            "\u001b[32m[I 10:24:40 InstallContribNbextensionsApp]\u001b[m Copying: /usr/local/lib/python3.6/dist-packages/jupyter_contrib_nbextensions/nbextensions/cell_filter/cell_filter.yml -> /root/.local/share/jupyter/nbextensions/cell_filter/cell_filter.yml\n",
            "\u001b[32m[I 10:24:40 InstallContribNbextensionsApp]\u001b[m Copying: /usr/local/lib/python3.6/dist-packages/jupyter_contrib_nbextensions/nbextensions/cell_filter/cell_filter.js -> /root/.local/share/jupyter/nbextensions/cell_filter/cell_filter.js\n",
            "\u001b[32m[I 10:24:40 InstallContribNbextensionsApp]\u001b[m Copying: /usr/local/lib/python3.6/dist-packages/jupyter_contrib_nbextensions/nbextensions/cell_filter/README.md -> /root/.local/share/jupyter/nbextensions/cell_filter/README.md\n",
            "\u001b[32m[I 10:24:40 InstallContribNbextensionsApp]\u001b[m - Validating: \u001b[32mOK\u001b[0m\n",
            "\u001b[32m[I 10:24:40 InstallContribNbextensionsApp]\u001b[m Installing /usr/local/lib/python3.6/dist-packages/jupyter_contrib_nbextensions/nbextensions/addbefore -> addbefore\n",
            "\u001b[32m[I 10:24:40 InstallContribNbextensionsApp]\u001b[m Making directory: /root/.local/share/jupyter/nbextensions/addbefore/\n",
            "\u001b[32m[I 10:24:40 InstallContribNbextensionsApp]\u001b[m Copying: /usr/local/lib/python3.6/dist-packages/jupyter_contrib_nbextensions/nbextensions/addbefore/main.js -> /root/.local/share/jupyter/nbextensions/addbefore/main.js\n",
            "\u001b[32m[I 10:24:40 InstallContribNbextensionsApp]\u001b[m Copying: /usr/local/lib/python3.6/dist-packages/jupyter_contrib_nbextensions/nbextensions/addbefore/readme.md -> /root/.local/share/jupyter/nbextensions/addbefore/readme.md\n",
            "\u001b[32m[I 10:24:40 InstallContribNbextensionsApp]\u001b[m Copying: /usr/local/lib/python3.6/dist-packages/jupyter_contrib_nbextensions/nbextensions/addbefore/icon.png -> /root/.local/share/jupyter/nbextensions/addbefore/icon.png\n",
            "\u001b[32m[I 10:24:40 InstallContribNbextensionsApp]\u001b[m Copying: /usr/local/lib/python3.6/dist-packages/jupyter_contrib_nbextensions/nbextensions/addbefore/addbefore.yaml -> /root/.local/share/jupyter/nbextensions/addbefore/addbefore.yaml\n",
            "\u001b[32m[I 10:24:40 InstallContribNbextensionsApp]\u001b[m - Validating: \u001b[32mOK\u001b[0m\n",
            "\u001b[32m[I 10:24:40 InstallContribNbextensionsApp]\u001b[m Installing /usr/local/lib/python3.6/dist-packages/jupyter_contrib_nbextensions/nbextensions/help_panel -> help_panel\n",
            "\u001b[32m[I 10:24:40 InstallContribNbextensionsApp]\u001b[m Making directory: /root/.local/share/jupyter/nbextensions/help_panel/\n",
            "\u001b[32m[I 10:24:40 InstallContribNbextensionsApp]\u001b[m Copying: /usr/local/lib/python3.6/dist-packages/jupyter_contrib_nbextensions/nbextensions/help_panel/help_panel.js -> /root/.local/share/jupyter/nbextensions/help_panel/help_panel.js\n",
            "\u001b[32m[I 10:24:40 InstallContribNbextensionsApp]\u001b[m Copying: /usr/local/lib/python3.6/dist-packages/jupyter_contrib_nbextensions/nbextensions/help_panel/help_panel.yaml -> /root/.local/share/jupyter/nbextensions/help_panel/help_panel.yaml\n",
            "\u001b[32m[I 10:24:40 InstallContribNbextensionsApp]\u001b[m Copying: /usr/local/lib/python3.6/dist-packages/jupyter_contrib_nbextensions/nbextensions/help_panel/readme.md -> /root/.local/share/jupyter/nbextensions/help_panel/readme.md\n",
            "\u001b[32m[I 10:24:40 InstallContribNbextensionsApp]\u001b[m Copying: /usr/local/lib/python3.6/dist-packages/jupyter_contrib_nbextensions/nbextensions/help_panel/help_panel.css -> /root/.local/share/jupyter/nbextensions/help_panel/help_panel.css\n",
            "\u001b[32m[I 10:24:40 InstallContribNbextensionsApp]\u001b[m Copying: /usr/local/lib/python3.6/dist-packages/jupyter_contrib_nbextensions/nbextensions/help_panel/icon.png -> /root/.local/share/jupyter/nbextensions/help_panel/icon.png\n",
            "\u001b[32m[I 10:24:40 InstallContribNbextensionsApp]\u001b[m Copying: /usr/local/lib/python3.6/dist-packages/jupyter_contrib_nbextensions/nbextensions/help_panel/help_panel_ext_fullscreen.png -> /root/.local/share/jupyter/nbextensions/help_panel/help_panel_ext_fullscreen.png\n",
            "\u001b[32m[I 10:24:40 InstallContribNbextensionsApp]\u001b[m Copying: /usr/local/lib/python3.6/dist-packages/jupyter_contrib_nbextensions/nbextensions/help_panel/help_panel_ext.png -> /root/.local/share/jupyter/nbextensions/help_panel/help_panel_ext.png\n",
            "\u001b[32m[I 10:24:40 InstallContribNbextensionsApp]\u001b[m Making directory: /root/.local/share/jupyter/nbextensions/help_panel/img\n",
            "\u001b[32m[I 10:24:40 InstallContribNbextensionsApp]\u001b[m Copying: /usr/local/lib/python3.6/dist-packages/jupyter_contrib_nbextensions/nbextensions/help_panel/img/handle-v.png -> /root/.local/share/jupyter/nbextensions/help_panel/img/handle-v.png\n",
            "\u001b[32m[I 10:24:40 InstallContribNbextensionsApp]\u001b[m - Validating: \u001b[32mOK\u001b[0m\n",
            "\u001b[32m[I 10:24:40 InstallContribNbextensionsApp]\u001b[m Installing /usr/local/lib/python3.6/dist-packages/jupyter_contrib_nbextensions/nbextensions/skill -> skill\n",
            "\u001b[32m[I 10:24:40 InstallContribNbextensionsApp]\u001b[m Making directory: /root/.local/share/jupyter/nbextensions/skill/\n",
            "\u001b[32m[I 10:24:40 InstallContribNbextensionsApp]\u001b[m Copying: /usr/local/lib/python3.6/dist-packages/jupyter_contrib_nbextensions/nbextensions/skill/main.js -> /root/.local/share/jupyter/nbextensions/skill/main.js\n",
            "\u001b[32m[I 10:24:40 InstallContribNbextensionsApp]\u001b[m Copying: /usr/local/lib/python3.6/dist-packages/jupyter_contrib_nbextensions/nbextensions/skill/skill.js -> /root/.local/share/jupyter/nbextensions/skill/skill.js\n",
            "\u001b[32m[I 10:24:40 InstallContribNbextensionsApp]\u001b[m Copying: /usr/local/lib/python3.6/dist-packages/jupyter_contrib_nbextensions/nbextensions/skill/skill.yaml -> /root/.local/share/jupyter/nbextensions/skill/skill.yaml\n",
            "\u001b[32m[I 10:24:40 InstallContribNbextensionsApp]\u001b[m Copying: /usr/local/lib/python3.6/dist-packages/jupyter_contrib_nbextensions/nbextensions/skill/README.md -> /root/.local/share/jupyter/nbextensions/skill/README.md\n",
            "\u001b[32m[I 10:24:40 InstallContribNbextensionsApp]\u001b[m - Validating: \u001b[32mOK\u001b[0m\n",
            "\u001b[32m[I 10:24:40 InstallContribNbextensionsApp]\u001b[m Installing /usr/local/lib/python3.6/dist-packages/jupyter_contrib_nbextensions/nbextensions/tree-filter -> tree-filter\n",
            "\u001b[32m[I 10:24:40 InstallContribNbextensionsApp]\u001b[m Making directory: /root/.local/share/jupyter/nbextensions/tree-filter/\n",
            "\u001b[32m[I 10:24:40 InstallContribNbextensionsApp]\u001b[m Copying: /usr/local/lib/python3.6/dist-packages/jupyter_contrib_nbextensions/nbextensions/tree-filter/readme.md -> /root/.local/share/jupyter/nbextensions/tree-filter/readme.md\n",
            "\u001b[32m[I 10:24:40 InstallContribNbextensionsApp]\u001b[m Copying: /usr/local/lib/python3.6/dist-packages/jupyter_contrib_nbextensions/nbextensions/tree-filter/index.js -> /root/.local/share/jupyter/nbextensions/tree-filter/index.js\n",
            "\u001b[32m[I 10:24:40 InstallContribNbextensionsApp]\u001b[m Copying: /usr/local/lib/python3.6/dist-packages/jupyter_contrib_nbextensions/nbextensions/tree-filter/tree-filter.yaml -> /root/.local/share/jupyter/nbextensions/tree-filter/tree-filter.yaml\n",
            "\u001b[32m[I 10:24:40 InstallContribNbextensionsApp]\u001b[m Copying: /usr/local/lib/python3.6/dist-packages/jupyter_contrib_nbextensions/nbextensions/tree-filter/demo.gif -> /root/.local/share/jupyter/nbextensions/tree-filter/demo.gif\n",
            "\u001b[32m[I 10:24:40 InstallContribNbextensionsApp]\u001b[m - Validating: \u001b[32mOK\u001b[0m\n",
            "\u001b[32m[I 10:24:40 InstallContribNbextensionsApp]\u001b[m Installing /usr/local/lib/python3.6/dist-packages/jupyter_highlight_selected_word/static/highlight_selected_word -> highlight_selected_word\n",
            "\u001b[32m[I 10:24:40 InstallContribNbextensionsApp]\u001b[m Making directory: /root/.local/share/jupyter/nbextensions/highlight_selected_word/\n",
            "\u001b[32m[I 10:24:40 InstallContribNbextensionsApp]\u001b[m Copying: /usr/local/lib/python3.6/dist-packages/jupyter_highlight_selected_word/static/highlight_selected_word/main.js -> /root/.local/share/jupyter/nbextensions/highlight_selected_word/main.js\n",
            "\u001b[32m[I 10:24:40 InstallContribNbextensionsApp]\u001b[m Copying: /usr/local/lib/python3.6/dist-packages/jupyter_highlight_selected_word/static/highlight_selected_word/configurator.yaml -> /root/.local/share/jupyter/nbextensions/highlight_selected_word/configurator.yaml\n",
            "\u001b[32m[I 10:24:40 InstallContribNbextensionsApp]\u001b[m Copying: /usr/local/lib/python3.6/dist-packages/jupyter_highlight_selected_word/static/highlight_selected_word/README.md -> /root/.local/share/jupyter/nbextensions/highlight_selected_word/README.md\n",
            "\u001b[32m[I 10:24:40 InstallContribNbextensionsApp]\u001b[m - Validating: \u001b[32mOK\u001b[0m\n",
            "\u001b[32m[I 10:24:40 InstallContribNbextensionsApp]\u001b[m Installing /usr/local/lib/python3.6/dist-packages/latex_envs/static -> latex_envs\n",
            "\u001b[32m[I 10:24:40 InstallContribNbextensionsApp]\u001b[m Making directory: /root/.local/share/jupyter/nbextensions/latex_envs/\n",
            "\u001b[32m[I 10:24:40 InstallContribNbextensionsApp]\u001b[m Copying: /usr/local/lib/python3.6/dist-packages/latex_envs/static/main_toolbar.png -> /root/.local/share/jupyter/nbextensions/latex_envs/main_toolbar.png\n",
            "\u001b[32m[I 10:24:40 InstallContribNbextensionsApp]\u001b[m Copying: /usr/local/lib/python3.6/dist-packages/latex_envs/static/example.png -> /root/.local/share/jupyter/nbextensions/latex_envs/example.png\n",
            "\u001b[32m[I 10:24:40 InstallContribNbextensionsApp]\u001b[m Copying: /usr/local/lib/python3.6/dist-packages/latex_envs/static/bibtex2.js -> /root/.local/share/jupyter/nbextensions/latex_envs/bibtex2.js\n",
            "\u001b[32m[I 10:24:40 InstallContribNbextensionsApp]\u001b[m Copying: /usr/local/lib/python3.6/dist-packages/latex_envs/static/latex_envs.js -> /root/.local/share/jupyter/nbextensions/latex_envs/latex_envs.js\n",
            "\u001b[32m[I 10:24:40 InstallContribNbextensionsApp]\u001b[m Copying: /usr/local/lib/python3.6/dist-packages/latex_envs/static/configuration_toolbar.png -> /root/.local/share/jupyter/nbextensions/latex_envs/configuration_toolbar.png\n",
            "\u001b[32m[I 10:24:40 InstallContribNbextensionsApp]\u001b[m Copying: /usr/local/lib/python3.6/dist-packages/latex_envs/static/thmsInNb4.js -> /root/.local/share/jupyter/nbextensions/latex_envs/thmsInNb4.js\n",
            "\u001b[32m[I 10:24:40 InstallContribNbextensionsApp]\u001b[m Copying: /usr/local/lib/python3.6/dist-packages/latex_envs/static/icon.png -> /root/.local/share/jupyter/nbextensions/latex_envs/icon.png\n",
            "\u001b[32m[I 10:24:40 InstallContribNbextensionsApp]\u001b[m Copying: /usr/local/lib/python3.6/dist-packages/latex_envs/static/initNb.js -> /root/.local/share/jupyter/nbextensions/latex_envs/initNb.js\n",
            "\u001b[32m[I 10:24:40 InstallContribNbextensionsApp]\u001b[m Copying: /usr/local/lib/python3.6/dist-packages/latex_envs/static/bibInNb4.js -> /root/.local/share/jupyter/nbextensions/latex_envs/bibInNb4.js\n",
            "\u001b[32m[I 10:24:40 InstallContribNbextensionsApp]\u001b[m Copying: /usr/local/lib/python3.6/dist-packages/latex_envs/static/envsLatex.js -> /root/.local/share/jupyter/nbextensions/latex_envs/envsLatex.js\n",
            "\u001b[32m[I 10:24:40 InstallContribNbextensionsApp]\u001b[m Copying: /usr/local/lib/python3.6/dist-packages/latex_envs/static/envsLatex.json -> /root/.local/share/jupyter/nbextensions/latex_envs/envsLatex.json\n",
            "\u001b[32m[I 10:24:40 InstallContribNbextensionsApp]\u001b[m Copying: /usr/local/lib/python3.6/dist-packages/latex_envs/static/example_user_envs.json -> /root/.local/share/jupyter/nbextensions/latex_envs/example_user_envs.json\n",
            "\u001b[32m[I 10:24:40 InstallContribNbextensionsApp]\u001b[m Copying: /usr/local/lib/python3.6/dist-packages/latex_envs/static/latex_envs.yaml -> /root/.local/share/jupyter/nbextensions/latex_envs/latex_envs.yaml\n",
            "\u001b[32m[I 10:24:40 InstallContribNbextensionsApp]\u001b[m Copying: /usr/local/lib/python3.6/dist-packages/latex_envs/static/README.md -> /root/.local/share/jupyter/nbextensions/latex_envs/README.md\n",
            "\u001b[32m[I 10:24:40 InstallContribNbextensionsApp]\u001b[m Copying: /usr/local/lib/python3.6/dist-packages/latex_envs/static/latex_envs.css -> /root/.local/share/jupyter/nbextensions/latex_envs/latex_envs.css\n",
            "\u001b[32m[I 10:24:40 InstallContribNbextensionsApp]\u001b[m Making directory: /root/.local/share/jupyter/nbextensions/latex_envs/doc\n",
            "\u001b[32m[I 10:24:40 InstallContribNbextensionsApp]\u001b[m Copying: /usr/local/lib/python3.6/dist-packages/latex_envs/static/doc/documentation.pdf -> /root/.local/share/jupyter/nbextensions/latex_envs/doc/documentation.pdf\n",
            "\u001b[32m[I 10:24:40 InstallContribNbextensionsApp]\u001b[m Copying: /usr/local/lib/python3.6/dist-packages/latex_envs/static/doc/main_toolbar.png -> /root/.local/share/jupyter/nbextensions/latex_envs/doc/main_toolbar.png\n",
            "\u001b[32m[I 10:24:40 InstallContribNbextensionsApp]\u001b[m Copying: /usr/local/lib/python3.6/dist-packages/latex_envs/static/doc/example.png -> /root/.local/share/jupyter/nbextensions/latex_envs/doc/example.png\n",
            "\u001b[32m[I 10:24:40 InstallContribNbextensionsApp]\u001b[m Copying: /usr/local/lib/python3.6/dist-packages/latex_envs/static/doc/header.tex -> /root/.local/share/jupyter/nbextensions/latex_envs/doc/header.tex\n",
            "\u001b[32m[I 10:24:40 InstallContribNbextensionsApp]\u001b[m Copying: /usr/local/lib/python3.6/dist-packages/latex_envs/static/doc/documentation.tex -> /root/.local/share/jupyter/nbextensions/latex_envs/doc/documentation.tex\n",
            "\u001b[32m[I 10:24:40 InstallContribNbextensionsApp]\u001b[m Copying: /usr/local/lib/python3.6/dist-packages/latex_envs/static/doc/configuration_toolbar.png -> /root/.local/share/jupyter/nbextensions/latex_envs/doc/configuration_toolbar.png\n",
            "\u001b[32m[I 10:24:40 InstallContribNbextensionsApp]\u001b[m Copying: /usr/local/lib/python3.6/dist-packages/latex_envs/static/doc/latex_env_doc.tex -> /root/.local/share/jupyter/nbextensions/latex_envs/doc/latex_env_doc.tex\n",
            "\u001b[32m[I 10:24:40 InstallContribNbextensionsApp]\u001b[m Copying: /usr/local/lib/python3.6/dist-packages/latex_envs/static/doc/latex_env_doc.ipynb -> /root/.local/share/jupyter/nbextensions/latex_envs/doc/latex_env_doc.ipynb\n",
            "\u001b[32m[I 10:24:40 InstallContribNbextensionsApp]\u001b[m Copying: /usr/local/lib/python3.6/dist-packages/latex_envs/static/doc/biblio_ipython.bib -> /root/.local/share/jupyter/nbextensions/latex_envs/doc/biblio_ipython.bib\n",
            "\u001b[32m[I 10:24:40 InstallContribNbextensionsApp]\u001b[m Copying: /usr/local/lib/python3.6/dist-packages/latex_envs/static/doc/latex_env_doc.html -> /root/.local/share/jupyter/nbextensions/latex_envs/doc/latex_env_doc.html\n",
            "\u001b[32m[I 10:24:40 InstallContribNbextensionsApp]\u001b[m Copying: /usr/local/lib/python3.6/dist-packages/latex_envs/static/doc/Toggles.png -> /root/.local/share/jupyter/nbextensions/latex_envs/doc/Toggles.png\n",
            "\u001b[32m[I 10:24:40 InstallContribNbextensionsApp]\u001b[m Copying: /usr/local/lib/python3.6/dist-packages/latex_envs/static/doc/config_toolbar.png -> /root/.local/share/jupyter/nbextensions/latex_envs/doc/config_toolbar.png\n",
            "\u001b[32m[I 10:24:40 InstallContribNbextensionsApp]\u001b[m Copying: /usr/local/lib/python3.6/dist-packages/latex_envs/static/doc/IEEEtran.bst -> /root/.local/share/jupyter/nbextensions/latex_envs/doc/IEEEtran.bst\n",
            "\u001b[32m[I 10:24:40 InstallContribNbextensionsApp]\u001b[m Copying: /usr/local/lib/python3.6/dist-packages/latex_envs/static/doc/README.md -> /root/.local/share/jupyter/nbextensions/latex_envs/doc/README.md\n",
            "\u001b[32m[I 10:24:40 InstallContribNbextensionsApp]\u001b[m Copying: /usr/local/lib/python3.6/dist-packages/latex_envs/static/doc/LaTeX_envs_menu.png -> /root/.local/share/jupyter/nbextensions/latex_envs/doc/LaTeX_envs_menu.png\n",
            "\u001b[32m[I 10:24:40 InstallContribNbextensionsApp]\u001b[m Making directory: /root/.local/share/jupyter/nbextensions/latex_envs/doc/latex_env_doc_files\n",
            "\u001b[32m[I 10:24:40 InstallContribNbextensionsApp]\u001b[m Copying: /usr/local/lib/python3.6/dist-packages/latex_envs/static/doc/latex_env_doc_files/latex_env_doc_47_0.png -> /root/.local/share/jupyter/nbextensions/latex_envs/doc/latex_env_doc_files/latex_env_doc_47_0.png\n",
            "\u001b[32m[I 10:24:40 InstallContribNbextensionsApp]\u001b[m Copying: /usr/local/lib/python3.6/dist-packages/latex_envs/static/doc/latex_env_doc_files/latex_env_doc_44_0.png -> /root/.local/share/jupyter/nbextensions/latex_envs/doc/latex_env_doc_files/latex_env_doc_44_0.png\n",
            "\u001b[32m[I 10:24:40 InstallContribNbextensionsApp]\u001b[m Copying: /usr/local/lib/python3.6/dist-packages/latex_envs/static/doc/latex_env_doc_files/latex_env_doc_24_2.png -> /root/.local/share/jupyter/nbextensions/latex_envs/doc/latex_env_doc_files/latex_env_doc_24_2.png\n",
            "\u001b[32m[I 10:24:40 InstallContribNbextensionsApp]\u001b[m Copying: /usr/local/lib/python3.6/dist-packages/latex_envs/static/doc/latex_env_doc_files/latex_env_doc_41_0.png -> /root/.local/share/jupyter/nbextensions/latex_envs/doc/latex_env_doc_files/latex_env_doc_41_0.png\n",
            "\u001b[32m[I 10:24:40 InstallContribNbextensionsApp]\u001b[m Copying: /usr/local/lib/python3.6/dist-packages/latex_envs/static/doc/latex_env_doc_files/latex_env_doc_46_0.png -> /root/.local/share/jupyter/nbextensions/latex_envs/doc/latex_env_doc_files/latex_env_doc_46_0.png\n",
            "\u001b[32m[I 10:24:40 InstallContribNbextensionsApp]\u001b[m Copying: /usr/local/lib/python3.6/dist-packages/latex_envs/static/doc/latex_env_doc_files/latex_env_doc_50_0.png -> /root/.local/share/jupyter/nbextensions/latex_envs/doc/latex_env_doc_files/latex_env_doc_50_0.png\n",
            "\u001b[32m[I 10:24:40 InstallContribNbextensionsApp]\u001b[m Copying: /usr/local/lib/python3.6/dist-packages/latex_envs/static/doc/latex_env_doc_files/latex_env_doc_49_0.png -> /root/.local/share/jupyter/nbextensions/latex_envs/doc/latex_env_doc_files/latex_env_doc_49_0.png\n",
            "\u001b[32m[I 10:24:40 InstallContribNbextensionsApp]\u001b[m Copying: /usr/local/lib/python3.6/dist-packages/latex_envs/static/doc/latex_env_doc_files/latex_env_doc_51_0.png -> /root/.local/share/jupyter/nbextensions/latex_envs/doc/latex_env_doc_files/latex_env_doc_51_0.png\n",
            "\u001b[32m[I 10:24:40 InstallContribNbextensionsApp]\u001b[m Copying: /usr/local/lib/python3.6/dist-packages/latex_envs/static/doc/latex_env_doc_files/latex_env_doc_27_2.png -> /root/.local/share/jupyter/nbextensions/latex_envs/doc/latex_env_doc_files/latex_env_doc_27_2.png\n",
            "\u001b[32m[I 10:24:40 InstallContribNbextensionsApp]\u001b[m Copying: /usr/local/lib/python3.6/dist-packages/latex_envs/static/doc/latex_env_doc_files/latex_env_doc_42_0.png -> /root/.local/share/jupyter/nbextensions/latex_envs/doc/latex_env_doc_files/latex_env_doc_42_0.png\n",
            "\u001b[32m[I 10:24:40 InstallContribNbextensionsApp]\u001b[m Copying: /usr/local/lib/python3.6/dist-packages/latex_envs/static/doc/latex_env_doc_files/latex_env_doc_23_2.png -> /root/.local/share/jupyter/nbextensions/latex_envs/doc/latex_env_doc_files/latex_env_doc_23_2.png\n",
            "\u001b[32m[I 10:24:40 InstallContribNbextensionsApp]\u001b[m Copying: /usr/local/lib/python3.6/dist-packages/latex_envs/static/doc/latex_env_doc_files/latex_env_doc_26_2.png -> /root/.local/share/jupyter/nbextensions/latex_envs/doc/latex_env_doc_files/latex_env_doc_26_2.png\n",
            "\u001b[32m[I 10:24:40 InstallContribNbextensionsApp]\u001b[m Copying: /usr/local/lib/python3.6/dist-packages/latex_envs/static/doc/latex_env_doc_files/latex_env_doc_52_0.png -> /root/.local/share/jupyter/nbextensions/latex_envs/doc/latex_env_doc_files/latex_env_doc_52_0.png\n",
            "\u001b[32m[I 10:24:40 InstallContribNbextensionsApp]\u001b[m Copying: /usr/local/lib/python3.6/dist-packages/latex_envs/static/doc/latex_env_doc_files/latex_env_doc_43_0.png -> /root/.local/share/jupyter/nbextensions/latex_envs/doc/latex_env_doc_files/latex_env_doc_43_0.png\n",
            "\u001b[32m[I 10:24:40 InstallContribNbextensionsApp]\u001b[m Copying: /usr/local/lib/python3.6/dist-packages/latex_envs/static/doc/latex_env_doc_files/latex_env_doc_48_0.png -> /root/.local/share/jupyter/nbextensions/latex_envs/doc/latex_env_doc_files/latex_env_doc_48_0.png\n",
            "\u001b[32m[I 10:24:40 InstallContribNbextensionsApp]\u001b[m Copying: /usr/local/lib/python3.6/dist-packages/latex_envs/static/doc/latex_env_doc_files/latex_env_doc_45_0.png -> /root/.local/share/jupyter/nbextensions/latex_envs/doc/latex_env_doc_files/latex_env_doc_45_0.png\n",
            "\u001b[32m[I 10:24:40 InstallContribNbextensionsApp]\u001b[m Making directory: /root/.local/share/jupyter/nbextensions/latex_envs/doc/.ipynb_checkpoints\n",
            "\u001b[32m[I 10:24:40 InstallContribNbextensionsApp]\u001b[m Copying: /usr/local/lib/python3.6/dist-packages/latex_envs/static/doc/.ipynb_checkpoints/latex_env_doc-checkpoint.ipynb -> /root/.local/share/jupyter/nbextensions/latex_envs/doc/.ipynb_checkpoints/latex_env_doc-checkpoint.ipynb\n",
            "\u001b[32m[I 10:24:40 InstallContribNbextensionsApp]\u001b[m - Validating: \u001b[32mOK\u001b[0m\n",
            "\u001b[32m[I 10:24:40 InstallContribNbextensionsApp]\u001b[m Installing jupyter_contrib_nbextensions items to config in /root/.jupyter\n",
            "Enabling: jupyter_nbextensions_configurator\n",
            "- Writing config: /root/.jupyter\n",
            "    - Validating...\n",
            "      jupyter_nbextensions_configurator  \u001b[32mOK\u001b[0m\n",
            "Enabling notebook nbextension nbextensions_configurator/config_menu/main...\n",
            "Enabling tree nbextension nbextensions_configurator/tree_tab/main...\n",
            "\u001b[32m[I 10:24:40 InstallContribNbextensionsApp]\u001b[m Enabling notebook extension contrib_nbextensions_help_item/main...\n",
            "\u001b[32m[I 10:24:40 InstallContribNbextensionsApp]\u001b[m       - Validating: \u001b[32mOK\u001b[0m\n",
            "\u001b[32m[I 10:24:40 InstallContribNbextensionsApp]\u001b[m - Editing config: /root/.jupyter/jupyter_nbconvert_config.json\n",
            "\u001b[32m[I 10:24:40 InstallContribNbextensionsApp]\u001b[m --  Configuring nbconvert template path\n",
            "\u001b[32m[I 10:24:40 InstallContribNbextensionsApp]\u001b[m --  Configuring nbconvert preprocessors\n",
            "\u001b[32m[I 10:24:40 InstallContribNbextensionsApp]\u001b[m - Writing config: /root/.jupyter/jupyter_nbconvert_config.json\n",
            "\u001b[32m[I 10:24:40 InstallContribNbextensionsApp]\u001b[m --  Writing updated config file /root/.jupyter/jupyter_nbconvert_config.json\n",
            "Enabling: jupyter_nbextensions_configurator\n",
            "- Writing config: /root/.jupyter\n",
            "    - Validating...\n",
            "      jupyter_nbextensions_configurator  \u001b[32mOK\u001b[0m\n",
            "Enabling notebook nbextension nbextensions_configurator/config_menu/main...\n",
            "Enabling tree nbextension nbextensions_configurator/tree_tab/main...\n"
          ],
          "name": "stdout"
        }
      ]
    },
    {
      "cell_type": "markdown",
      "metadata": {
        "id": "le7BIzl0ilh4",
        "colab_type": "text"
      },
      "source": [
        "# Metric spaces"
      ]
    },
    {
      "cell_type": "markdown",
      "metadata": {
        "id": "ShgbaIARilh5",
        "colab_type": "text"
      },
      "source": [
        "#### Prove that:\n",
        "For every metric space (X, d):\n",
        "- For eny $\\mathcal{U} = \\{U | U$ is open in $(X, d)\\}$ holds $\\bigcup_{U \\in \\mathcal{U}} U$ is open in $(X, d)$\n",
        "- For eny two $U, V \\subset X$ open in $(X, d)$ holds: $U \\cap V$ is open in $(X, d)$\n",
        "- $X$ is open in $(X, d)$\n",
        "- $\\emptyset$ is open in $(X, d)$"
      ]
    },
    {
      "cell_type": "markdown",
      "metadata": {
        "id": "VWQhX1DJjbpK",
        "colab_type": "text"
      },
      "source": [
        "**Proof:**\n",
        "\n",
        "\n",
        "*   $\\bigcup U $ is the smallest set which includes all the $U$ sets. So, for $\\forall x \\in \\bigcup U,\\ x\\in U $ ($x$ is part of at least one open set) $\\implies $  By definition of open set, for $\\forall x \\in \\bigcup U, \\  $  $\\exists r \\in R \\ $such that $B(x,r) \\subset U \\subset \\bigcup U \\implies \\bigcup U $ is open set.\n",
        "*  $\\forall x\\in U \\cap V, \\ x\\in U $ and $x \\in V$ open sets. $\\implies \\forall x \\in U\\cap V,\\  \\exists r_1,r_2 $ such that $B(x,r_1) \\subset U$ and $B(x,r_2) \\subset V$. Let's say $r_1 < r_2$, than $B(x,r_1) \\subset B(x,r_2) \\subset V $ and $ B(x,r_1) \\subset U \\implies B(x,r_1) \\subset U \\cap V \\implies \\forall x \\in U \\cap V, \\exists r $ such that $B(x,r) \\in U \\cap V \\implies U \\cap V $ is open set.     \n",
        "\n",
        "* ?\n",
        "\n",
        "* ?\n"
      ]
    },
    {
      "cell_type": "markdown",
      "metadata": {
        "id": "xJq35Lx6ilh5",
        "colab_type": "text"
      },
      "source": [
        "#### Prove that:\n",
        "- For eny finity set $(U)_{i=1}^{n}$ of open sets in $(X, d)$, $\\bigcap_{i=1}^{n}U$ is open in $(X, d)$"
      ]
    },
    {
      "cell_type": "markdown",
      "metadata": {
        "id": "6s3bTQ2YnsAY",
        "colab_type": "text"
      },
      "source": [
        "***Proof:***\n",
        "$\\forall x \\in \\bigcap _{i=1}^n U,\\ x \\in U_1,U_2,..,U_n$ open sets. $\\implies \\exists r_1,r_2,..r_n, $ such that $ B(x,r_i) \\subset U_i,\\  1 \\leq i \\leq n$. Let's say $r_k = min(r_1,r_2,..,r_n)$. Then, $B(x,r_k) \\subset B(x,r_i) \\subset U_i, 1 \\leq i \\leq n \\implies B(x,r_k) \\subset \\bigcap_{i=1}^nU \\implies \\forall x \\in \\bigcap _{i=1}^n U,\\ \\exists r_k $ such that $B(x,r_k) \\subset \\bigcap _{i=1}^n U \\implies \\bigcap _{i=1}^n U\\  $is open set."
      ]
    },
    {
      "cell_type": "markdown",
      "metadata": {
        "id": "ih3S11gkilh6",
        "colab_type": "text"
      },
      "source": [
        "#### Prove that for set $U \\subset X$ is open if and only if for each point $x \\in U$ there exists the open neighbourhood $V$ of $x$ such that $V \\subset U$"
      ]
    },
    {
      "cell_type": "markdown",
      "metadata": {
        "id": "9j_JNKq8PvmG",
        "colab_type": "text"
      },
      "source": [
        "**Proof:**\n",
        "\n",
        "*   **If $\\forall x \\in U, \\exists$ open neighbourhood $V\\implies U$ is open :** $\\forall x \\in U, \\exists$ open set $V$ such that $x \\in V \\subset U \n",
        "\\Longleftrightarrow \\exists r,$ such that $B(x,r)\\subset V \\subset U \\implies U$ is open. \n",
        "*   **If U is open $\\implies \\forall x \\in U, \\exists $ open neighbourhood $V$:** $U$ is open $\\Longleftrightarrow \\forall x \\in U, \\exists r, B(x,r) \\subset U.$ Interior of $B(x,r)$ is open set wich includes $x \\implies \\forall x \\in U,$ has open neighbourhood $V$, such that $V\\subset U$.\n",
        "\n",
        "\n",
        "\n"
      ]
    },
    {
      "cell_type": "markdown",
      "metadata": {
        "id": "uzxwluozilh7",
        "colab_type": "text"
      },
      "source": [
        "#### Prove that, closed ball is closed subset in $(X, d)$\n"
      ]
    },
    {
      "cell_type": "markdown",
      "metadata": {
        "id": "xGYLEuQMhoyE",
        "colab_type": "text"
      },
      "source": [
        ""
      ]
    },
    {
      "cell_type": "markdown",
      "metadata": {
        "id": "LWgrfAmuilh7",
        "colab_type": "text"
      },
      "source": [
        "#### Prove that\n",
        "For every metric space (X, d):\n",
        "- For eny $\\mathcal{F} = \\{F | F$ is closed in $(X, d)\\}$ holds $\\bigcap_{F \\in \\mathcal{F}} F$ is closed in $(X, d)$\n",
        "- For eny two $F_1, F_2 \\subset X$ closed in $(X, d)$ holds: $F_1 \\cup F_2$ is closed in $(X, d)$\n",
        "- $X$ is closed in $(X, d)$\n",
        "- $\\emptyset$ is closed in $(X, d)$"
      ]
    },
    {
      "cell_type": "markdown",
      "metadata": {
        "id": "tF7yhtkJkNG3",
        "colab_type": "text"
      },
      "source": [
        "***Proof:***\n",
        "\n",
        "\n",
        "*   $\\forall \\mathcal{F} = \\{F | F$ is closed in $(X, d)\\}, \\mathcal U = \\{X-F|F$ is closed in $(X,d)\\}$ is set of open sets in $(X,d)$. $ X - \\bigcap _{F \\in \\mathcal F} F = \\bigcup _{U \\in \\mathcal U} U$ is open $\\implies$ $\\bigcap _{F \\in \\mathcal F} F$ is closed set.\n",
        "*   $U_1 = X - F_1, U_2 = X - F_2$ are open sets. $X-F_1 \\cup F_2 = U_1 \\cap U_2$. Intersection of finite number of open sets is open $\\implies F_1 \\cup F_2$ is closed.  \n",
        "\n"
      ]
    },
    {
      "cell_type": "markdown",
      "metadata": {
        "id": "cURDYkMrilh8",
        "colab_type": "text"
      },
      "source": [
        "#### Prove that:\n",
        "- For eny finity set $(F)_{i=1}^{n}$ of closed sets in $(X, d)$, $\\bigcup_{i=1}^{n}F$ is closed in $(X, d)$"
      ]
    },
    {
      "cell_type": "markdown",
      "metadata": {
        "id": "4-1-VkoRoPA6",
        "colab_type": "text"
      },
      "source": [
        " $X - \\bigcup_{i=1}^{n}F = \\bigcap _ {i=1}^{n} U,$ where $U = X-F$ is open set. Intersection of finite number open sets is an open set $\\implies \\bigcup_{i=1}^{n}F$ is a closed set."
      ]
    },
    {
      "cell_type": "markdown",
      "metadata": {
        "id": "gNeeNVa7ilh9",
        "colab_type": "text"
      },
      "source": [
        "#### Prove that, if $F \\subset X$ is closed then $X - F$ is open in $(X, d)$ "
      ]
    },
    {
      "cell_type": "markdown",
      "metadata": {
        "id": "1INfhXIsilh9",
        "colab_type": "text"
      },
      "source": [
        "# Metrics in Euclidean spaces"
      ]
    },
    {
      "cell_type": "markdown",
      "metadata": {
        "id": "scmbQbyoilh-",
        "colab_type": "text"
      },
      "source": [
        "#### Prove that:\n",
        "- for every $u, v \\in \\mathbb{R}^{n}$: $d(u, v) \\geq 0$\n",
        "- for every $v \\in \\mathbb{R}^{n}$: $d(v, v) = 0$\n",
        "- for every $u, v \\in \\mathbb{R}^{n}$: $d(u, v) = d(v, u)$ (symmetry)\n",
        "- for every $u, v, w \\in \\mathbb{R}^{n}$: $d(u, w) \\leq d(v, u) + d(v, w)$ (triangle inequality)"
      ]
    },
    {
      "cell_type": "markdown",
      "metadata": {
        "id": "1TW5CfQIvEVx",
        "colab_type": "text"
      },
      "source": [
        "***Proof:***\n",
        "\n",
        "\n",
        "*   $d(u.v) = \\sqrt {\\sum (u_i - v_i)^2};$ $u,v \\in R^n \\implies u_i, v_i$ are real $\\implies \\sum (u_i - v_i)^2 \\geq 0 $; Square root from positive real number is a positive real number.\n",
        "*   $d(v,v) = \\sqrt {\\sum (v_i - v_i)^2} = 0 $\n",
        "* $d(u.v) = \\sqrt {\\sum (u_i - v_i)^2} = \\sqrt {\\sum (v_i - u_i)^2} = d(v,u) $\n",
        "* $d(u,w)^2 = ||u-w||^2 = ||u-v+v-w||^2 = (u-v+v-w)(u-v+v-w) = (u-v)^2+(v-w)^2+2(u-v)(v-w) \\leq ||u-v||^2+||v-w||^2+2||u-v||*||v-w|| \\leq (||u-v||+||v-w||)^2  \\implies d(u,w) \\leq d(u,v) + d(v,w)$\n"
      ]
    },
    {
      "cell_type": "markdown",
      "metadata": {
        "id": "8Npt_d6Nilh_",
        "colab_type": "text"
      },
      "source": [
        "#### Prove the same properties hold for $d(u, v) = ||u-v||_1$ ($||u-v||_1 = \\sum_{i = 1}^{n}|u_i - v_i|$)"
      ]
    },
    {
      "cell_type": "markdown",
      "metadata": {
        "id": "mSNxew7z8V6k",
        "colab_type": "text"
      },
      "source": [
        "***Proof:***\n",
        "$d(u, v) = ||u-v||_1 = \\sum |u_i -v_i|$\n",
        "\n",
        "\n",
        "*   $|u_i - v_i| \\geq 0 \\implies \\sum |u_i - v_i| \\geq 0$\n",
        "*   $d(v,v) = \\sum |v_i - v_i| = 0 $\n",
        "*   $d(u, v) = \\sum |u_i -v_i| = \\sum |v_i -u_i| = d(v,u)$\n",
        "*   $d(u,w) = \\sum |u_i -w_i| = \\sum |u_i -v_i + v_i - w_i| \\leq \\sum |u_i -v_i| + \\sum |v_i - w_i| \\leq d(u,v) + d(v,w) $\n",
        "\n"
      ]
    },
    {
      "cell_type": "markdown",
      "metadata": {
        "id": "MsDlMNXpilh_",
        "colab_type": "text"
      },
      "source": [
        "## Sequences and limits"
      ]
    },
    {
      "cell_type": "markdown",
      "metadata": {
        "id": "WvWGtwkdiliA",
        "colab_type": "text"
      },
      "source": [
        "#### Prove that $x = \\lim_{n\\to\\infty}{x_n}$ in $(X, d)$ if and only if (iff) for every $r \\in \\mathbb{R}$ there exists $n_0 \\in \\mathbb{N}$ such that: $x_i \\in B(x, r)$ for every $i \\gt n_0$"
      ]
    },
    {
      "cell_type": "markdown",
      "metadata": {
        "id": "U8NSq35MS8Dh",
        "colab_type": "text"
      },
      "source": [
        ""
      ]
    },
    {
      "cell_type": "markdown",
      "metadata": {
        "id": "UZX8K4D7iliA",
        "colab_type": "text"
      },
      "source": [
        "#### Prove that if $x = \\lim_{n\\to\\infty}{x_n}$ and $x \\notin \\{-\\infty, \\infty\\}$ then $(x_i)_{i=1}^{\\infty} = (x_1, x_2, \\dots, x_n)$ is a Cauchy sequence\n",
        "<br>\n",
        "For closed set $F \\subset \\mathbb{R}^n$ and convergent sequence $(x_i)_{i=1}^{\\infty} = (x_1, x_2, \\dots, x_n)$ such that there exists $n_0 \\in \\mathbb{N}$ such that $x_i \\in F$ for each $i \\gt n_0$ then: $\\lim_{n\\to\\infty}{x_n} \\in F$"
      ]
    },
    {
      "cell_type": "markdown",
      "metadata": {
        "id": "tUpwr9B9Uhh4",
        "colab_type": "text"
      },
      "source": [
        "***Proof:***\n",
        "$x = \\lim_{n\\to\\infty}{x_n} \\Leftrightarrow \\forall r \\in R, \\exists n_0 \\in N$ such that $x_i \\in B(x,r), \\forall i > n_0. \\forall i,j >n_0$, $x_i,x_j \\in B(x,r), d(x_i,x_j) \\leq 2r \\implies $ Cauchy sequence.\n"
      ]
    },
    {
      "cell_type": "markdown",
      "metadata": {
        "id": "THanfPLxiliB",
        "colab_type": "text"
      },
      "source": [
        "#### Prove that if $F$ is open from previous example, statement does not hold. "
      ]
    },
    {
      "cell_type": "markdown",
      "metadata": {
        "id": "EqRBvhlZd6vo",
        "colab_type": "text"
      },
      "source": [
        ""
      ]
    },
    {
      "cell_type": "markdown",
      "metadata": {
        "id": "3bMmd-RuiliB",
        "colab_type": "text"
      },
      "source": [
        "#### Prove that inherited metric is a metric"
      ]
    },
    {
      "cell_type": "markdown",
      "metadata": {
        "id": "OUxIM91FiliC",
        "colab_type": "text"
      },
      "source": [
        "## Limits of functions"
      ]
    },
    {
      "cell_type": "markdown",
      "metadata": {
        "id": "iHdmqlBniliD",
        "colab_type": "text"
      },
      "source": [
        "Let $f:S \\to Y$ is function between subset $S \\subset X$ of a metric space $(X, d_x)$ and metric space $(Y, d_Y)$\n",
        "- We say that the limit of function $f:(S, d_x) \\to (Y, d_Y)$ between metric spaces in some limit point $c \\in X$ of the subset $S$ is $y \\in Y $if for each open neighborhood of $y \\in V \\subset Y$ there exists the open seighborhood of $c \\in U \\subset X$ such that $f(U \\cap S) \\subset V$\n",
        "<br>\n",
        "This definition is equiualent of definition:\n",
        "<br>\n",
        "- The limit of function $f:(S, d_X) \\to (Y, d_Y)$ between metric spaces in limit point $c \\in X$ of the subset $S$ is $y \\in Y $ if for each open ball $B(x, r) \\subset Y$ there exists the ball $B(c, l) \\subset X$ such that $f(B(c, l) \\cap S) \\subset B(y, r)$\n",
        "<br>\n",
        "or\n",
        "<br>\n",
        "- The limit of function $f:(S, d_X) \\to (Y, d_Y)$ between metric spaces in limit point $c \\in X$ of subset $S$ is $y \\in Y $ if for any $r \\in \\mathbb{R}$ there exists $l \\in \\mathbb{R}$ such that for every $x \\in S$ with $d_X(x, c) < l$ implies that $d_Y(f(x), y) < r$"
      ]
    },
    {
      "cell_type": "markdown",
      "metadata": {
        "id": "mT-OxTcxiliF",
        "colab_type": "text"
      },
      "source": [
        "#### Prove that this three definitions are equiualent for eny function between eny two metric spaces"
      ]
    },
    {
      "cell_type": "markdown",
      "metadata": {
        "id": "phOdgGo0iliF",
        "colab_type": "text"
      },
      "source": [
        "## Continuous functions "
      ]
    },
    {
      "cell_type": "markdown",
      "metadata": {
        "id": "v_Oln2GGiliG",
        "colab_type": "text"
      },
      "source": [
        "#### Prove that function is continuous in $c$ if for eny sequence $(x_n)_{n=1}^{\\infty} \\subset X$ such that $\\lim_{n \\to \\infty}x_n = c$ we have $\\lim_{n \\to \\infty}f(x_n) = f(c)$"
      ]
    },
    {
      "cell_type": "markdown",
      "metadata": {
        "id": "SafCOk9q0u-r",
        "colab_type": "text"
      },
      "source": [
        "***Proof:***\n",
        "By definition of continuous function in $c$, $f: (S,d_x) \\rightarrow (Y,d_y)$ is continuous in $c$ if $lim _{x\\rightarrow c} f(x) \\rightarrow f(c)$; Limit of the function: $ \\forall V$ open neighborhood such that $f(c) \\in V \\subset S, \\exists U,$ open neighborhood such that $f(U \\cap S) \\subset V;$ By definition of convergent sequence, for open $U, \\exists n$ such that $\\forall i>n, x_i \\in U \\implies \\exists n, \\forall i>n, f(x_i) \\in V \\implies \\lim_{n \\to \\infty}f(x_n) = f(c)$  "
      ]
    },
    {
      "cell_type": "markdown",
      "metadata": {
        "id": "hK1X2mnoiliH",
        "colab_type": "text"
      },
      "source": [
        "#### Prove that function is continuous if for every open set $V \\subset Y$ the $f^{-1}(V)$ is open in $X$"
      ]
    },
    {
      "cell_type": "markdown",
      "metadata": {
        "id": "yzTuvS2giliI",
        "colab_type": "text"
      },
      "source": [
        "#### Prove that function is continuous if for every closed set $F \\subset Y$ the $f^{-1}(F)$ is open in $X$"
      ]
    },
    {
      "cell_type": "markdown",
      "metadata": {
        "id": "z4ifROBniliJ",
        "colab_type": "text"
      },
      "source": [
        "#### Prove that any composition of continous functions is continous"
      ]
    },
    {
      "cell_type": "markdown",
      "metadata": {
        "id": "GHuOlrj7EgnU",
        "colab_type": "text"
      },
      "source": [
        "$f: X\\rightarrow Y, g: Y \\rightarrow Z;$ $ g(y)$ is continuous $\\Leftrightarrow \\forall $ open neighborhood $g(y)\\in G \\subset Z, \\exists $ open neighborhood $y \\in F \\subset Y$ such that $f(F) \\subset G;$ $f(x)$ is continuous $\\Leftrightarrow $ for open neighborhood $f(x)\\in F \\subset Y, \\exists $ open neighborhood $x \\in U \\subset X$ such that $f(U) \\subset F; \\implies \\forall$ open neighborhood $g(f(x)) \\in G \\subset Z, \\exists $ open neighborhood $x \\in U \\subset X$, such that $g(f(U)) \\subset G $  "
      ]
    },
    {
      "cell_type": "code",
      "metadata": {
        "id": "PXEYzPcziliJ",
        "colab_type": "code",
        "colab": {}
      },
      "source": [
        ""
      ],
      "execution_count": 0,
      "outputs": []
    }
  ]
}