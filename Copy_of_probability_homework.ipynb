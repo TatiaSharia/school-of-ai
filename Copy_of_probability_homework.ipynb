{
  "nbformat": 4,
  "nbformat_minor": 0,
  "metadata": {
    "kernelspec": {
      "display_name": "Python 3",
      "language": "python",
      "name": "python3"
    },
    "language_info": {
      "codemirror_mode": {
        "name": "ipython",
        "version": 3
      },
      "file_extension": ".py",
      "mimetype": "text/x-python",
      "name": "python",
      "nbconvert_exporter": "python",
      "pygments_lexer": "ipython3",
      "version": "3.7.4"
    },
    "colab": {
      "name": "Copy of probability-homework.ipynb",
      "provenance": [],
      "collapsed_sections": [],
      "include_colab_link": true
    }
  },
  "cells": [
    {
      "cell_type": "markdown",
      "metadata": {
        "id": "view-in-github",
        "colab_type": "text"
      },
      "source": [
        "<a href=\"https://colab.research.google.com/github/TatiaSharia/school-of-ai/blob/master/Copy_of_probability_homework.ipynb\" target=\"_parent\"><img src=\"https://colab.research.google.com/assets/colab-badge.svg\" alt=\"Open In Colab\"/></a>"
      ]
    },
    {
      "cell_type": "code",
      "metadata": {
        "id": "xQaTShK0txaJ",
        "colab_type": "code",
        "colab": {}
      },
      "source": [
        "%load_ext autoreload\n",
        "%autoreload 2\n",
        "\n",
        "%matplotlib inline"
      ],
      "execution_count": 0,
      "outputs": []
    },
    {
      "cell_type": "markdown",
      "metadata": {
        "id": "n942fU18txaM",
        "colab_type": "text"
      },
      "source": [
        "## Basic setup"
      ]
    },
    {
      "cell_type": "markdown",
      "metadata": {
        "id": "k72zI9TdtxaM",
        "colab_type": "text"
      },
      "source": [
        "Create anaconda environment\n",
        "<br>\n",
        "```bash\n",
        "conda create -n ml python=3.7.4 jupyter\n",
        "```\n",
        "Install fastai library\n",
        "<br>\n",
        "```bash\n",
        "conda install -c pytorch -c fastai fastai\n",
        "```"
      ]
    },
    {
      "cell_type": "markdown",
      "metadata": {
        "id": "B1hc0u-DtxaN",
        "colab_type": "text"
      },
      "source": [
        "# Sigma-algebras"
      ]
    },
    {
      "cell_type": "markdown",
      "metadata": {
        "id": "QNYbwJGrtxaO",
        "colab_type": "text"
      },
      "source": [
        "#### Prove that:\n",
        "Composition of mesurable functions is a mesurable function"
      ]
    },
    {
      "cell_type": "markdown",
      "metadata": {
        "id": "2kcuEYIiG4Ch",
        "colab_type": "text"
      },
      "source": [
        "***Proof:***\n",
        "Let's take any $f:(X, \\mathcal{F}_X) \\to (Y, \\mathcal{F}_Y)$ and $g:(Y, \\mathcal{F}_Y) \\to (Z, \\mathcal{F}_Z)$ measurable functions. We have to show that for $ \\forall F \\in \\mathcal{F}_Z, f^{-1}(g^{-1}(F)) \\in \\mathcal{F}_X : \\  $ $g(y)$ is measurable $\\Leftrightarrow \\forall F \\in \\mathcal{F}_Z,\\  g^{-1}(F) \\in \\mathcal{F}_Y. \\  $ Since f(x) is measurable and $g^{-1}(F) \\in \\mathcal{F}_Y \\implies f^{-1}(g^{-1}(F)) \\in \\mathcal{F}_X \\implies g \\circ f \\ $ is measurable."
      ]
    },
    {
      "cell_type": "markdown",
      "metadata": {
        "id": "wqSteVoatxaP",
        "colab_type": "text"
      },
      "source": [
        "## Mesure"
      ]
    },
    {
      "cell_type": "markdown",
      "metadata": {
        "id": "Korsco_etxaQ",
        "colab_type": "text"
      },
      "source": [
        "#### Prove the following mesure properties:\n",
        "- if $A \\subset B$ then $\\mu(A) \\le \\mu(B)$\n",
        "<br>\n",
        "Proof: $(B - A) \\cup (A \\cap B) = (B - A) \\cup A = B$ and $(B - A) \\cap (A \\cap B) = \\emptyset$ so $\\mu((B - A) \\cup (A \\cap B)) = \\mu(B - A) + \\mu(A \\cap B) = \\mu(B - A) + \\mu(A) = \\mu(B)$ so $\\mu(A) \\le \\mu(B)$"
      ]
    },
    {
      "cell_type": "markdown",
      "metadata": {
        "id": "Myw8HbIItxaQ",
        "colab_type": "text"
      },
      "source": [
        "## Probability"
      ]
    },
    {
      "cell_type": "markdown",
      "metadata": {
        "id": "wPEt6JmJtxaR",
        "colab_type": "text"
      },
      "source": [
        "#### Prove that:\n",
        "For probability mesure $P$ and events $A, B, C \\subset \\Omega$\n",
        "- $P(A \\cup B) = P(A) + P(B) - P(A \\cap B)$\n",
        "<br>"
      ]
    },
    {
      "cell_type": "markdown",
      "metadata": {
        "id": "Yl_RpxVsWvhl",
        "colab_type": "text"
      },
      "source": [
        "??\n"
      ]
    },
    {
      "cell_type": "markdown",
      "metadata": {
        "id": "yUHRm1tftxaR",
        "colab_type": "text"
      },
      "source": [
        "## Random variable"
      ]
    },
    {
      "cell_type": "markdown",
      "metadata": {
        "id": "hdymrfaJtxaS",
        "colab_type": "text"
      },
      "source": [
        "#### Prove that:\n",
        "$$\n",
        "\\sigma^2 = \\operatorname{E}[X^2] - (\\operatorname{E}[X])^2\n",
        "$$\n",
        "Assuming that expectation exists\n",
        "<br>\n",
        "Denoted by $\\sigma^2$\n",
        "<br>"
      ]
    },
    {
      "cell_type": "markdown",
      "metadata": {
        "id": "wENMfgHPl61J",
        "colab_type": "text"
      },
      "source": [
        "***Proof:***\n",
        "\n",
        "$\\sigma ^2 = E[(X - E[X])^2] = E[x^2-2XE[x]+E[x]^2]=E[x^2]-2E[x]E[x]+E[x]^2=E[x^2]-E[x]^2$"
      ]
    }
  ]
}