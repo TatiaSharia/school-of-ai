{
  "nbformat": 4,
  "nbformat_minor": 0,
  "metadata": {
    "kernelspec": {
      "display_name": "Python 3",
      "language": "python",
      "name": "python3"
    },
    "language_info": {
      "codemirror_mode": {
        "name": "ipython",
        "version": 3
      },
      "file_extension": ".py",
      "mimetype": "text/x-python",
      "name": "python",
      "nbconvert_exporter": "python",
      "pygments_lexer": "ipython3",
      "version": "3.7.4"
    },
    "colab": {
      "name": "Copy of linear_algebra-1.ipynb",
      "provenance": [],
      "collapsed_sections": []
    }
  },
  "cells": [
    {
      "cell_type": "code",
      "metadata": {
        "id": "q96H-fBcPx6_",
        "colab_type": "code",
        "outputId": "829f3d79-aa87-47a3-fa88-50f26851e962",
        "colab": {
          "base_uri": "https://localhost:8080/",
          "height": 52
        }
      },
      "source": [
        "%load_ext autoreload\n",
        "%autoreload 2\n",
        "\n",
        "%matplotlib inline"
      ],
      "execution_count": 0,
      "outputs": [
        {
          "output_type": "stream",
          "text": [
            "The autoreload extension is already loaded. To reload it, use:\n",
            "  %reload_ext autoreload\n"
          ],
          "name": "stdout"
        }
      ]
    },
    {
      "cell_type": "markdown",
      "metadata": {
        "id": "rECR1fhpPx7C",
        "colab_type": "text"
      },
      "source": [
        "## Basic setup"
      ]
    },
    {
      "cell_type": "markdown",
      "metadata": {
        "id": "vZK_PI9GPx7D",
        "colab_type": "text"
      },
      "source": [
        "Create anaconda environnement\n",
        "<br>\n",
        "```bash\n",
        "conda create -n ml python=3.7.4 jupyter\n",
        "```\n",
        "Install fastai library\n",
        "<br>\n",
        "```bash\n",
        "conda install -c pytorch -c fastai fastai\n",
        "```"
      ]
    },
    {
      "cell_type": "markdown",
      "metadata": {
        "id": "wMbdTLiZPx7E",
        "colab_type": "text"
      },
      "source": [
        "# Set theory basics"
      ]
    },
    {
      "cell_type": "markdown",
      "metadata": {
        "id": "9DC7ygTzPx7E",
        "colab_type": "text"
      },
      "source": [
        "Set (small) collection of mathematical (unique) elements $\\{x, y, z, ...\\}$, for instance set of integers $\\{1, 2, 3, ...\\}$, set of real numbers $\\mathbb{R}$ numbers. We can describe set with it's property, e.g. set of real numbers between $1$ and $5$ will be $\\{x | x \\in \\mathbb{R}, 1\\leq x \\leq 5 \\}$."
      ]
    },
    {
      "cell_type": "code",
      "metadata": {
        "id": "SRFL0HNWPx7F",
        "colab_type": "code",
        "outputId": "bd9e238d-9df1-48ac-c140-6b123618fdde",
        "colab": {
          "base_uri": "https://localhost:8080/",
          "height": 35
        }
      },
      "source": [
        "S = set([2, 4])\n",
        "A = {1, 2, 3, 4, 4}\n",
        "B = {2, 4}\n",
        "C = {1, 2, 18, 28}\n",
        "type(S), type(A), type(B), A"
      ],
      "execution_count": 0,
      "outputs": [
        {
          "output_type": "execute_result",
          "data": {
            "text/plain": [
              "(set, set, set, {1, 2, 3, 4})"
            ]
          },
          "metadata": {
            "tags": []
          },
          "execution_count": 72
        }
      ]
    },
    {
      "cell_type": "markdown",
      "metadata": {
        "id": "0unmTstFPx7H",
        "colab_type": "text"
      },
      "source": [
        "We sey that element $a \\in A$ if element $a$ belongs to set $A$ and $a \\notin A$ in other case"
      ]
    },
    {
      "cell_type": "code",
      "metadata": {
        "id": "ziwKwwI0Px7I",
        "colab_type": "code",
        "outputId": "6b3326c4-d59f-42bb-ab5d-13a7a154fbc7",
        "colab": {
          "base_uri": "https://localhost:8080/",
          "height": 35
        }
      },
      "source": [
        "1 in A, 2 in B, 3 in C"
      ],
      "execution_count": 0,
      "outputs": [
        {
          "output_type": "execute_result",
          "data": {
            "text/plain": [
              "(True, True, False)"
            ]
          },
          "metadata": {
            "tags": []
          },
          "execution_count": 73
        }
      ]
    },
    {
      "cell_type": "markdown",
      "metadata": {
        "id": "KswS2ksCPx7J",
        "colab_type": "text"
      },
      "source": [
        "Note: sometimes we write $a, b \\in A$ (or $a, b, c \\in A$, $a,b,c,d \\in A$, $a_1, a_2, ..., a_n \\in A$) instead of $a \\in A$ and $b \\in A$ (or $a \\in A$ and $b \\in A$ and $c \\in A$, $a \\in A$ and $b \\in A$ and $c \\in A$ and $d \\in A$, $a_1 \\in A$ and $a_2 \\in A$ and ... $a_n \\in A$)"
      ]
    },
    {
      "cell_type": "markdown",
      "metadata": {
        "id": "aMqAKq_SPx7K",
        "colab_type": "text"
      },
      "source": [
        "Set (category) of all \"small\" sets $Set$"
      ]
    },
    {
      "cell_type": "markdown",
      "metadata": {
        "id": "R5Cm-PezPx7K",
        "colab_type": "text"
      },
      "source": [
        "Subset $B \\subseteq A$ if for every $x$ element of $B$, $x \\in A$ "
      ]
    },
    {
      "cell_type": "code",
      "metadata": {
        "id": "tqVhYEgdPx7L",
        "colab_type": "code",
        "outputId": "7d2b50af-3479-4b8b-9041-08732319ca04",
        "colab": {
          "base_uri": "https://localhost:8080/",
          "height": 35
        }
      },
      "source": [
        "B.issubset(A), A.issubset(B)"
      ],
      "execution_count": 0,
      "outputs": [
        {
          "output_type": "execute_result",
          "data": {
            "text/plain": [
              "(True, False)"
            ]
          },
          "metadata": {
            "tags": []
          },
          "execution_count": 74
        }
      ]
    },
    {
      "cell_type": "markdown",
      "metadata": {
        "id": "pI3SgkC7Px7N",
        "colab_type": "text"
      },
      "source": [
        "Prove that $A \\subseteq A$\n",
        "\n",
        "***Proof: For each $x$ element of $A$,  $x \\in A$***"
      ]
    },
    {
      "cell_type": "markdown",
      "metadata": {
        "id": "Bbnnlt0_Px7N",
        "colab_type": "text"
      },
      "source": [
        "Proper subset $B \\subset A$ if for every element $b \\in B$: $A \\in A$ and there exists $a \\in a$ such that: $a \\notin B$, or in other words $B \\subseteq A$ and $B \\neq A$"
      ]
    },
    {
      "cell_type": "markdown",
      "metadata": {
        "id": "PAh4Y-YEPx7O",
        "colab_type": "text"
      },
      "source": [
        "If $A \\subseteq B$ and $B \\subseteq A$ $\\to$ $A = B$"
      ]
    },
    {
      "cell_type": "markdown",
      "metadata": {
        "id": "P-NQ5DJ_Px7O",
        "colab_type": "text"
      },
      "source": [
        "Empty set a $\\emptyset$ is a set without elements at all and which is contained in any set $\\emptyset \\subseteq A$ for any $A \\in Set$ so $\\emptyset$ is the \"smallest\" set (Proof it)"
      ]
    },
    {
      "cell_type": "markdown",
      "metadata": {
        "id": "qW9ya-qq3d07",
        "colab_type": "text"
      },
      "source": [
        "***Proof: Otherwise, there must be $x \\in \\emptyset$ such that $x \\notin A$***"
      ]
    },
    {
      "cell_type": "code",
      "metadata": {
        "id": "Cckejb_qPx7P",
        "colab_type": "code",
        "outputId": "c13452c1-0f6d-4d03-b9f4-aad246e33410",
        "colab": {
          "base_uri": "https://localhost:8080/",
          "height": 35
        }
      },
      "source": [
        "#O = set() \n",
        "O = {}\n",
        "type(O)"
      ],
      "execution_count": 0,
      "outputs": [
        {
          "output_type": "execute_result",
          "data": {
            "text/plain": [
              "dict"
            ]
          },
          "metadata": {
            "tags": []
          },
          "execution_count": 75
        }
      ]
    },
    {
      "cell_type": "markdown",
      "metadata": {
        "id": "h-MdW1nTPx7R",
        "colab_type": "text"
      },
      "source": [
        "Intersection of two sets $A$ and $B$ $A \\cap B$ is a \"biggest\" subset of $A$ and $B$, that means for every set $C$ such that, $C \\subseteq A$ and $C \\subseteq B$ $\\to$ (implies) $C \\subseteq A\\cap B$"
      ]
    },
    {
      "cell_type": "code",
      "metadata": {
        "id": "3rN7VVhUPx7R",
        "colab_type": "code",
        "outputId": "0a3fc447-b97d-4d24-ca71-20a2bef34665",
        "colab": {
          "base_uri": "https://localhost:8080/",
          "height": 35
        }
      },
      "source": [
        "A.intersection(B), A.intersection(C), A, B, C"
      ],
      "execution_count": 0,
      "outputs": [
        {
          "output_type": "execute_result",
          "data": {
            "text/plain": [
              "({2, 4}, {1, 2}, {1, 2, 3, 4}, {2, 4}, {1, 2, 18, 28})"
            ]
          },
          "metadata": {
            "tags": []
          },
          "execution_count": 76
        }
      ]
    },
    {
      "cell_type": "markdown",
      "metadata": {
        "id": "zarRucv_Px7U",
        "colab_type": "text"
      },
      "source": [
        "Give an exmaples of two sets $A$ and $B$ for which $A \\cap B = \\emptyset$\n",
        "\n",
        "***Ex.: $A_1 = \\{1,2\\}$ and $A_2 = \\emptyset$***"
      ]
    },
    {
      "cell_type": "markdown",
      "metadata": {
        "id": "arPyVYlEPx7U",
        "colab_type": "text"
      },
      "source": [
        "Prove that if $B \\subset A$ then $A \\cap B = B$\n",
        "\n",
        "***Proof: $B \\subseteq B$ and $B \\subset A \\to B \\subseteq A \\cap B$. Any larger set than $B$ will include at least one $x$ which does not belong to $B \\implies B $ is largest subset of $A\\cap B \\to A\\cap B = B$***"
      ]
    },
    {
      "cell_type": "markdown",
      "metadata": {
        "id": "yQ7gwSOdPx7V",
        "colab_type": "text"
      },
      "source": [
        "Prove that $A \\cap B = B \\cap A$\n",
        "\n"
      ]
    },
    {
      "cell_type": "markdown",
      "metadata": {
        "id": "63RK0qA05B_M",
        "colab_type": "text"
      },
      "source": [
        "***Proof: $A \\cap B$ is the largest subset of $A$ and $B$,***\n",
        "***$B \\cap A$ is the largest subset of $A$ and $B$***"
      ]
    },
    {
      "cell_type": "markdown",
      "metadata": {
        "id": "mGSU9oaZPx7W",
        "colab_type": "text"
      },
      "source": [
        "Union of two sets $A$ and $B$ $A \\cup B$ is a \"smallest\" set that contains both - $A$ and $B$, that means:\n",
        "for every set $D$ such that $A \\subseteq D$ and $B \\subseteq D$ $\\to$ (implies) $A \\cup B \\subseteq D$"
      ]
    },
    {
      "cell_type": "code",
      "metadata": {
        "id": "TjETxL9RPx7X",
        "colab_type": "code",
        "outputId": "62ad9d01-63e8-4928-d564-33ee0f28504c",
        "colab": {
          "base_uri": "https://localhost:8080/",
          "height": 35
        }
      },
      "source": [
        "A, C, A.union(C), A.union(B) "
      ],
      "execution_count": 0,
      "outputs": [
        {
          "output_type": "execute_result",
          "data": {
            "text/plain": [
              "({1, 2, 3, 4}, {1, 2, 18, 28}, {1, 2, 3, 4, 18, 28}, {1, 2, 3, 4})"
            ]
          },
          "metadata": {
            "tags": []
          },
          "execution_count": 77
        }
      ]
    },
    {
      "cell_type": "markdown",
      "metadata": {
        "id": "LNAu3gdZPx7Z",
        "colab_type": "text"
      },
      "source": [
        "Prove that if $B \\subset A$ then $A \\cup B = A$"
      ]
    },
    {
      "cell_type": "markdown",
      "metadata": {
        "id": "KhDRLCBy6E_K",
        "colab_type": "text"
      },
      "source": [
        "***Proof:***\n",
        "$B \\subset A$ and $A \\subseteq A \\to B \\cup A \\subseteq A $, $A$ is the smallest set which includes $A \\to A = A \\cup B$ "
      ]
    },
    {
      "cell_type": "markdown",
      "metadata": {
        "id": "mYD4A2aSPx7Z",
        "colab_type": "text"
      },
      "source": [
        "Prove that $A \\cup B = B \\cup A$"
      ]
    },
    {
      "cell_type": "markdown",
      "metadata": {
        "id": "bi6vT4TIPx7a",
        "colab_type": "text"
      },
      "source": [
        "Difference between two sets $A$ snd $B$ is the set $A - B$ or $A \\ B$ for which $a \\in A - B$ if $a \\in A$ and $a \\notin B$"
      ]
    },
    {
      "cell_type": "code",
      "metadata": {
        "id": "38ZRqcqXPx7a",
        "colab_type": "code",
        "outputId": "156ac3de-1338-479f-91ad-5d7e089cc79f",
        "colab": {
          "base_uri": "https://localhost:8080/",
          "height": 35
        }
      },
      "source": [
        "A - B, A - C, C - A, A, B, C"
      ],
      "execution_count": 0,
      "outputs": [
        {
          "output_type": "execute_result",
          "data": {
            "text/plain": [
              "({1, 3}, {3, 4}, {18, 28}, {1, 2, 3, 4}, {2, 4}, {1, 2, 18, 28})"
            ]
          },
          "metadata": {
            "tags": []
          },
          "execution_count": 78
        }
      ]
    },
    {
      "cell_type": "markdown",
      "metadata": {
        "id": "CDLFOaHPPx7c",
        "colab_type": "text"
      },
      "source": [
        "For set $A$ and subset $B$ we denote $A - B$ with $\\overline{B}$ or $B^{C}$"
      ]
    },
    {
      "cell_type": "markdown",
      "metadata": {
        "id": "l-1YtFKQPx7d",
        "colab_type": "text"
      },
      "source": [
        "Set of subsets (powerset) of the set $X$ will be $2^X = \\{A | A \\subseteq X\\}$"
      ]
    },
    {
      "cell_type": "code",
      "metadata": {
        "id": "PiZ7cWlRPx7d",
        "colab_type": "code",
        "outputId": "ded33b0a-577f-453d-c79f-c9933ad1330d",
        "colab": {
          "base_uri": "https://localhost:8080/",
          "height": 381
        }
      },
      "source": [
        "from itertools import combinations, chain\n",
        "pset = chain.from_iterable(set(combinations(A, r)) for r in range(len(A)+1))\n",
        "P_A = set(pset)\n",
        "A, P_A, len(A), len(P_A), 2**(len(A)), len(P_A) == 2**(len(A))"
      ],
      "execution_count": 0,
      "outputs": [
        {
          "output_type": "execute_result",
          "data": {
            "text/plain": [
              "({1, 2, 3, 4},\n",
              " {(),\n",
              "  (1,),\n",
              "  (1, 2),\n",
              "  (1, 2, 3),\n",
              "  (1, 2, 3, 4),\n",
              "  (1, 2, 4),\n",
              "  (1, 3),\n",
              "  (1, 3, 4),\n",
              "  (1, 4),\n",
              "  (2,),\n",
              "  (2, 3),\n",
              "  (2, 3, 4),\n",
              "  (2, 4),\n",
              "  (3,),\n",
              "  (3, 4),\n",
              "  (4,)},\n",
              " 4,\n",
              " 16,\n",
              " 16,\n",
              " True)"
            ]
          },
          "metadata": {
            "tags": []
          },
          "execution_count": 79
        }
      ]
    },
    {
      "cell_type": "markdown",
      "metadata": {
        "id": "IoeQoVYaPx7f",
        "colab_type": "text"
      },
      "source": [
        "Cartesian product of sets $A$ and $B$ in set of ordered pairs := $A\\times B = \\{(a, b) | a \\in A \\textrm{ and } b\\in B\\}$"
      ]
    },
    {
      "cell_type": "code",
      "metadata": {
        "id": "zfpFkpOtPx7f",
        "colab_type": "code",
        "outputId": "fb190352-aaef-4713-b859-571c44e6e0bd",
        "colab": {
          "base_uri": "https://localhost:8080/",
          "height": 35
        }
      },
      "source": [
        "\n",
        "AxB = {(a, b) for a in A for b in B}\n",
        "AxB, len(A), len(B), len(AxB)"
      ],
      "execution_count": 0,
      "outputs": [
        {
          "output_type": "execute_result",
          "data": {
            "text/plain": [
              "({(1, 2), (1, 4), (2, 2), (2, 4), (3, 2), (3, 4), (4, 2), (4, 4)}, 4, 2, 8)"
            ]
          },
          "metadata": {
            "tags": []
          },
          "execution_count": 80
        }
      ]
    },
    {
      "cell_type": "code",
      "metadata": {
        "id": "DYG4ZgWlPx7h",
        "colab_type": "code",
        "outputId": "ed24d187-d4c8-4c26-e21c-1f921c6a9227",
        "colab": {
          "base_uri": "https://localhost:8080/",
          "height": 572
        }
      },
      "source": [
        "AxBxC = {(a,b,c) for a in A for b in B for c in C} \n",
        "AxBxC"
      ],
      "execution_count": 0,
      "outputs": [
        {
          "output_type": "execute_result",
          "data": {
            "text/plain": [
              "{(1, 2, 1),\n",
              " (1, 2, 2),\n",
              " (1, 2, 18),\n",
              " (1, 2, 28),\n",
              " (1, 4, 1),\n",
              " (1, 4, 2),\n",
              " (1, 4, 18),\n",
              " (1, 4, 28),\n",
              " (2, 2, 1),\n",
              " (2, 2, 2),\n",
              " (2, 2, 18),\n",
              " (2, 2, 28),\n",
              " (2, 4, 1),\n",
              " (2, 4, 2),\n",
              " (2, 4, 18),\n",
              " (2, 4, 28),\n",
              " (3, 2, 1),\n",
              " (3, 2, 2),\n",
              " (3, 2, 18),\n",
              " (3, 2, 28),\n",
              " (3, 4, 1),\n",
              " (3, 4, 2),\n",
              " (3, 4, 18),\n",
              " (3, 4, 28),\n",
              " (4, 2, 1),\n",
              " (4, 2, 2),\n",
              " (4, 2, 18),\n",
              " (4, 2, 28),\n",
              " (4, 4, 1),\n",
              " (4, 4, 2),\n",
              " (4, 4, 18),\n",
              " (4, 4, 28)}"
            ]
          },
          "metadata": {
            "tags": []
          },
          "execution_count": 81
        }
      ]
    },
    {
      "cell_type": "markdown",
      "metadata": {
        "id": "JQGmnVz5Px7j",
        "colab_type": "text"
      },
      "source": [
        "Exclusively for mathematicians $(a, b) = \\{a, \\{a, b\\}\\}$ and $A \\times B = \\{\\{a, \\{a, b\\}\\} | a \\in A \\textrm{ and } b\\in B\\}$"
      ]
    },
    {
      "cell_type": "markdown",
      "metadata": {
        "id": "nusv8ZcQPx7j",
        "colab_type": "text"
      },
      "source": [
        "Every subset $R$ of $AxB$ is called relation. We write $aRb$ iff $(a, b) \\in R$"
      ]
    },
    {
      "cell_type": "markdown",
      "metadata": {
        "id": "o0tcTdlPPx7k",
        "colab_type": "text"
      },
      "source": [
        "Special cases of relations:"
      ]
    },
    {
      "cell_type": "markdown",
      "metadata": {
        "id": "X0JHDeZfPx7l",
        "colab_type": "text"
      },
      "source": [
        "For every set $A$ the diagonal $\\Delta \\subseteq A \\times A$ is $\\{(a, a) | a \\in A\\}$"
      ]
    },
    {
      "cell_type": "code",
      "metadata": {
        "id": "BItPB3CJPx7l",
        "colab_type": "code",
        "outputId": "ea0c6259-5dd5-4415-befd-07084055057c",
        "colab": {
          "base_uri": "https://localhost:8080/",
          "height": 35
        }
      },
      "source": [
        "#delta = ? # Use comprehension\n",
        "delta = {(a,a) for a in A}\n",
        "delta"
      ],
      "execution_count": 0,
      "outputs": [
        {
          "output_type": "execute_result",
          "data": {
            "text/plain": [
              "{(1, 1), (2, 2), (3, 3), (4, 4)}"
            ]
          },
          "metadata": {
            "tags": []
          },
          "execution_count": 82
        }
      ]
    },
    {
      "cell_type": "markdown",
      "metadata": {
        "id": "87k_sPRCPx7n",
        "colab_type": "text"
      },
      "source": [
        "Equivalence relation on the set $A$: $E \\subset A \\times A$ with properties:\n",
        "- For each $a \\in A$ $aEa$, which means that diagonal $\\Delta \\subseteq E$ (reflexive property)\n",
        "- For each $a, b \\in A$ iff $aEb$ then $bEa$ (symmetric property)\n",
        "- For each $a, b, c \\in A$ if $aEb$ and $bEc$ then $aEc$\n"
      ]
    },
    {
      "cell_type": "markdown",
      "metadata": {
        "id": "q2AaC1CMPx7o",
        "colab_type": "text"
      },
      "source": [
        "Partial order relation $\\leq$\n",
        "- For each $a \\in A$ $a \\leq a$, which means that diagonal $\\Delta \\subseteq E$ (reflexive property)\n",
        "- For each $a, b \\in A$ if $a \\leq b$ and $b\\leq a$ then $a = b$ (anti-symmetric property)\n",
        "- For each $a, b, c \\in A$ if $a \\leq b$ and $b \\leq c$ then $a \\leq c$"
      ]
    },
    {
      "cell_type": "markdown",
      "metadata": {
        "id": "kheka2uiPx7p",
        "colab_type": "text"
      },
      "source": [
        "Function, map $f$ between two sets $A$ and $B$ is the special relation such thet for every $a\\in A$ and every $b^{'}, b^{''} \\in B$ if $af{b^{'}}$ and $af{b^{''}}$ $\\to$ $b^{'}={b^{''}}$.\n"
      ]
    },
    {
      "cell_type": "markdown",
      "metadata": {
        "id": "CCvlMqVuPx7r",
        "colab_type": "text"
      },
      "source": [
        "We write : $f:A \\to B$ or $A \\xrightarrow{f} B$ instead of $f \\subseteq A \\times B $ and $f(a)=b$ or $f:a \\mapsto b$ instead of $afb$"
      ]
    },
    {
      "cell_type": "markdown",
      "metadata": {
        "id": "usAoGsNRPx7r",
        "colab_type": "text"
      },
      "source": [
        "We write $f, g :A \\to B$ or $f_1, f_2, ..., f_n : A \\to B$ instead of $f: A\\to B$ and $g:A \\to B$ or  $f_1: A \\to B$ and $f_2 : A \\to B$ ... $f_n : A \\to B$"
      ]
    },
    {
      "cell_type": "code",
      "metadata": {
        "id": "-yqeTxpiPx7s",
        "colab_type": "code",
        "outputId": "61efeabf-db69-4124-c8f7-a9c6d3307695",
        "colab": {
          "base_uri": "https://localhost:8080/",
          "height": 35
        }
      },
      "source": [
        "f = lambda x: x**2\n",
        "A, set(map(f, A)), A"
      ],
      "execution_count": 0,
      "outputs": [
        {
          "output_type": "execute_result",
          "data": {
            "text/plain": [
              "({1, 2, 3, 4}, {1, 4, 9, 16}, {1, 2, 3, 4})"
            ]
          },
          "metadata": {
            "tags": []
          },
          "execution_count": 83
        }
      ]
    },
    {
      "cell_type": "markdown",
      "metadata": {
        "id": "NROWKnYRPx7u",
        "colab_type": "text"
      },
      "source": [
        "Composition of $f:A \\to B$ and $g:B \\to C$ is $g \\circ f : A \\to C$ where $a \\mapsto g(f(a))$ for each $a \\in A$"
      ]
    },
    {
      "cell_type": "markdown",
      "metadata": {
        "id": "usx5EreNPx7v",
        "colab_type": "text"
      },
      "source": [
        "or $A \\xrightarrow{f} B \\xrightarrow{g} C$ than $g \\circ f:A \\to C$"
      ]
    },
    {
      "cell_type": "markdown",
      "metadata": {
        "id": "jHJiAgrGPx7v",
        "colab_type": "text"
      },
      "source": [
        "Identity map $1_A:A \\to A$ is defined as $1_A(a) = a$ for each $a \\ int A$\n",
        "<br>\n",
        "If set is given we sometimes write $1:A \\to A$ for simplicity"
      ]
    },
    {
      "cell_type": "code",
      "metadata": {
        "id": "MbhnzatfPx7w",
        "colab_type": "code",
        "outputId": "eb44aaec-ab4f-4b01-a250-3bad647a00e6",
        "colab": {
          "base_uri": "https://localhost:8080/",
          "height": 35
        }
      },
      "source": [
        "g = lambda y: y + 12\n",
        "gf = lambda x : g(f(x))\n",
        "A, set(map(g, set(map(f, A)))), set(map(gf, A)), A"
      ],
      "execution_count": 0,
      "outputs": [
        {
          "output_type": "execute_result",
          "data": {
            "text/plain": [
              "({1, 2, 3, 4}, {13, 16, 21, 28}, {13, 16, 21, 28}, {1, 2, 3, 4})"
            ]
          },
          "metadata": {
            "tags": []
          },
          "execution_count": 84
        }
      ]
    },
    {
      "cell_type": "markdown",
      "metadata": {
        "id": "3CA1mU_wPx7y",
        "colab_type": "text"
      },
      "source": [
        "Injection (monomorphism): $m:A \\to B$ is called injection if for eqch pair of elements $a^{'}, a^{''} \\in A$ if $f(a^{'}) = f(a^{''})$ $\\to$ $a^{'} = a^{''}$."
      ]
    },
    {
      "cell_type": "markdown",
      "metadata": {
        "id": "8PW0dCpLPx7z",
        "colab_type": "text"
      },
      "source": [
        "Surjection (epimorphism): $p:A \\to B$ is called injection if for ech pair of elements $a^{'}, a^{''} \\in A$ if $f(a^{'}) = f(a^{''})$ $\\to$ $a^{'} = a^{''}$."
      ]
    },
    {
      "cell_type": "markdown",
      "metadata": {
        "id": "MU_1KDGoPx7z",
        "colab_type": "text"
      },
      "source": [
        "Prove that:\n",
        "- for every injection $m:A \\to B$ and pair of functions $f, g :C \\to A$: if $m \\circ f = m \\circ g$ then $f = g$ and vice-versa\n",
        "- for every surjection $e:A \\to B$ and every pair of functions $f, g :B \\to C$: if $f \\circ e = g \\circ e$ then $f = g$ and vice-versa\n",
        "\n"
      ]
    },
    {
      "cell_type": "markdown",
      "metadata": {
        "id": "SX6tI1HA_deT",
        "colab_type": "text"
      },
      "source": [
        "***Proof:***\n",
        "\n",
        "*  $\\forall c\\in C$, $m( f (c )) = m( g(c)) $ . From the definition of injection $ \\implies f(c) = g(c) \\implies f = g$\n",
        "*   surjection:  $\\forall b \\in B,\\  \\exists a \\in A$, such that $b=e(a) \\implies e(a) $ covers whole set of $B \\implies $  $f(e(a)) = g(e(a))$ is true for each element of $ B \\implies f=g;$ \\\\\n",
        " $f=g$ means $\\forall b \\in B \\ f(b) = g(b), e(a) $ covers whole set of $B \\implies \\ f(e(a)) = g(e(a))$ \n",
        "\n"
      ]
    },
    {
      "cell_type": "markdown",
      "metadata": {
        "id": "twfggsYBPx70",
        "colab_type": "text"
      },
      "source": [
        "Bijection: $f: A \\to B$ is called bijection if $f$ is injection and surjection simultaneously"
      ]
    },
    {
      "cell_type": "markdown",
      "metadata": {
        "id": "GWHMqpl2Px73",
        "colab_type": "text"
      },
      "source": [
        "Prooof that \n",
        "- composition of injections is injection itself\n",
        "- composition of surjections is surjection itself\n",
        "- composition of bijections is bijection itself\n",
        "<br>\n",
        "or give a counterexamples"
      ]
    },
    {
      "cell_type": "markdown",
      "metadata": {
        "id": "JPleqvQwPRaJ",
        "colab_type": "text"
      },
      "source": [
        "***Proof:***\n",
        "\n",
        "1. $\\forall f,g: X \\to Y$ such that $\\forall x_1,x_2 \\in X,\\ f(x_1)=f(x_2) \\to x_1 = x_2$ (same for $g$), we have to prove that $\\forall x',x'' \\in X, f(g(x')) = f(g(x'')) \\to x'=x'';$ \\\\\n",
        "\n",
        "Injective property of $f: g(x')=g(x'');$ \\\\\n",
        "Injective property of $g: x'=x'';$ \\\\\n",
        "So, $f(g(x')) = f(g(x'')) \\to x'=x'';$\n",
        "2. $\\forall$ surjective $g: X \\to Y,\\ f:Y \\to Z$, we have to prove that $\\forall z \\in Z,\\ \\exists x \\in X $ such that $z=f(g(x))$ \\\\\n",
        "Surjective property of $f: \\exists y \\in Y$ such that $f(y) = z$; \\\\\n",
        "Surjective property of $g: \\exists x \\in X$ such that $g(x) = y$; \\\\ \n",
        "So, $\\forall z \\in Z,\\ \\exists x \\in X $ such that $z=f(g(x))$; \\\\\n",
        "3. $1,2 \\to 3$\n"
      ]
    },
    {
      "cell_type": "markdown",
      "metadata": {
        "id": "wy3BwJObPx75",
        "colab_type": "text"
      },
      "source": [
        "If there exists a biujection between two sets $A$ and $B$, we call this two sets equivalent sets and write $A \\equiv B$ or $A \\cong B$"
      ]
    },
    {
      "cell_type": "markdown",
      "metadata": {
        "id": "kadt9m1JPx76",
        "colab_type": "text"
      },
      "source": [
        "Proove that for each set $A$:\n",
        "- $A \\cong A$\n",
        "- iff $B \\cong A$ then $B \\cong A$ for every pair of sets $A$ and $B$\n",
        "- if $A \\cong B$ and $B \\cong C$ then $A \\cong C$ for every triplet $A$, $B$ and $C$"
      ]
    },
    {
      "cell_type": "markdown",
      "metadata": {
        "id": "GoY4sGjiDYg8",
        "colab_type": "text"
      },
      "source": [
        "***Proof:***\n",
        "\n",
        "*   $1_A:A\\to A\\ $is bijection\n",
        "*   ??\n",
        "* $\\exists$ bijections $f:A\\to B$ and $g:B \\to C $ \\\\\n",
        "composition of bijections is bijection $\\to $ $f \\circ g$ is bijection \\\\ $\\exists f \\circ g :A \\to C \\implies A \\cong C  $\n",
        "\n"
      ]
    },
    {
      "cell_type": "markdown",
      "metadata": {
        "id": "ZqbO6dIaPx76",
        "colab_type": "text"
      },
      "source": [
        "Prooof that there exists bijection between set of natural and even numbers"
      ]
    },
    {
      "cell_type": "markdown",
      "metadata": {
        "id": "uvfdRyrmEemw",
        "colab_type": "text"
      },
      "source": [
        "***Proof:***\n",
        "\n",
        " $f(n) = 2*(n-1), n\\in N$ is bijection $(2*(n_1-1)=2*(n_2-1) \\implies n_1 =n_2)$ and surjection $(\\forall$ even number $p \\exists n, p=2*(n-1)$"
      ]
    },
    {
      "cell_type": "markdown",
      "metadata": {
        "id": "s16dG9LLPx77",
        "colab_type": "text"
      },
      "source": [
        "Proof thet if we have the bijection between two finity sets than they have an equal number of elements"
      ]
    },
    {
      "cell_type": "markdown",
      "metadata": {
        "id": "DPlbi660ZSNC",
        "colab_type": "text"
      },
      "source": [
        "***Proof:***\n",
        "Bijective $\\forall f: X \\to Y\\ $ let's consider 2 cases: \\\\\n",
        "1. Number of elements of $X$ is greater than $Y:$ $X$ should contain at least 1 pair of $(x',x''),\\ x' \\neq x'' $ such that $f(x')=f(x'') \\implies f\\ $ cannot be injective.\n",
        "2. Number of elements of $Y$ is greater than $X:$ As a result of the definition of function same element of $X$ cannot be mapped to the different elements of $Y \\implies $ There must be at least one $y \\in Y $ such that $\\nexists x \\in X,\\ f(x)=y \\implies f$ cannot be surjective. \\\\\n",
        "$1,2 \\implies\\ $ if $f$ is bijective number of elements of $A$ and $B$ are equal. "
      ]
    },
    {
      "cell_type": "markdown",
      "metadata": {
        "id": "fGpCHPsWPx78",
        "colab_type": "text"
      },
      "source": [
        "Prove that $A \\times B \\cong B \\times A$"
      ]
    },
    {
      "cell_type": "markdown",
      "metadata": {
        "id": "gNxFvYMCPx78",
        "colab_type": "text"
      },
      "source": [
        "Suppose we have a set $I$ and $A$ and bijection $i:I \\to C \\subseteq 2^A$ than $I$ is called index set."
      ]
    },
    {
      "cell_type": "markdown",
      "metadata": {
        "id": "oNqqIAb3Px79",
        "colab_type": "text"
      },
      "source": [
        "Let $I = \\mathbb{N}$ the we have a sequence of sets $(A_1, A_2, ...)$, or if $I$ is finit then we have a finity sequence of sets"
      ]
    },
    {
      "cell_type": "markdown",
      "metadata": {
        "id": "vWR1DFXpPx79",
        "colab_type": "text"
      },
      "source": [
        "We can generalize intersections and unions for as many sets as we want"
      ]
    },
    {
      "cell_type": "markdown",
      "metadata": {
        "id": "QVVFBjn8Px7-",
        "colab_type": "text"
      },
      "source": [
        "$\\cap_{i\\in I}A_i$ and $\\cup_{i\\in I}A_i$"
      ]
    },
    {
      "cell_type": "code",
      "metadata": {
        "id": "nrKkBMDBPx7_",
        "colab_type": "code",
        "outputId": "264a4c17-213f-4a60-e173-e54b2eddb69a",
        "colab": {
          "base_uri": "https://localhost:8080/",
          "height": 52
        }
      },
      "source": [
        "# Inplement in python\n",
        "#1\n",
        "b=A\n",
        "c=A\n",
        "for a in P_A:\n",
        "  b = b.intersection(a)\n",
        "  c = c.union(a)\n",
        "print(f'Intersection of all elements of powerset of A = {b}') \n",
        "print (f'union of all elements of powerset of A = {c}') \n"
      ],
      "execution_count": 0,
      "outputs": [
        {
          "output_type": "stream",
          "text": [
            "Intersection of all elements of powerset of A = set()\n",
            "union of all elements of powerset of A = {1, 2, 3, 4}\n"
          ],
          "name": "stdout"
        }
      ]
    },
    {
      "cell_type": "markdown",
      "metadata": {
        "id": "t5WA-120Px8B",
        "colab_type": "text"
      },
      "source": [
        "We can also define cartesian product of any \"number\" of sets $\\prod_{i \\in I}{A_i}$"
      ]
    },
    {
      "cell_type": "code",
      "metadata": {
        "id": "C8svvKQePx8B",
        "colab_type": "code",
        "colab": {}
      },
      "source": [
        "# Inplement in python \n",
        "  "
      ],
      "execution_count": 0,
      "outputs": []
    },
    {
      "cell_type": "markdown",
      "metadata": {
        "id": "-Y6N8efLPx8D",
        "colab_type": "text"
      },
      "source": [
        "- $\\overline{\\cap_{i\\in I}A_i} = \\cup_{i\\in I}\\overline{A_i}$\n",
        "- $\\overline{\\cup_{i\\in I}A_i} = \\cap_{i\\in I}\\overline{A_i}$\n",
        "<br>\n",
        "or\n",
        "<br>\n",
        "- $\\overline{A \\cap B} = \\overline{A} \\cup \\overline{B}$\n",
        "- $\\overline{A \\cup B} = \\overline{A} \\cap \\overline{B}$"
      ]
    },
    {
      "cell_type": "markdown",
      "metadata": {
        "id": "ayFgjg4sPx8E",
        "colab_type": "text"
      },
      "source": [
        "Prove that:\n",
        "$$A \\cap (B \\cup C)=(A \\cap B) \\cup (A\\cap C)$$\n",
        "$$A \\cup (B \\cap C)=(A \\cup B) \\cap (A\\cup C)$$"
      ]
    },
    {
      "cell_type": "markdown",
      "metadata": {
        "id": "7zBOKoVOPx8F",
        "colab_type": "text"
      },
      "source": [
        "# Linear Algebra"
      ]
    },
    {
      "cell_type": "markdown",
      "metadata": {
        "id": "TDEsixZ6Px8F",
        "colab_type": "text"
      },
      "source": [
        "Branch of mathematics widle used in many feilds. We'll introduce you to the essentials used in ML and DL.\n",
        "Many notions are simplified (sorry for mathematicians) for better ubderstanding and implementation.\n",
        "We'll implement some basics of LA in NumPy library and have a glance of it's use in CS fields."
      ]
    },
    {
      "cell_type": "markdown",
      "metadata": {
        "id": "-_Blz7AFPx8G",
        "colab_type": "text"
      },
      "source": [
        "## Scalars"
      ]
    },
    {
      "cell_type": "markdown",
      "metadata": {
        "id": "qtO7mVtYPx8G",
        "colab_type": "text"
      },
      "source": [
        "Real set of numbers $\\mathbb{R}$. Scalars as elements of the set of real numbers $x \\in \\mathbb{R}$ with sum, multiplication, etc.\n",
        "We define subset of numbers: natural numbers $\\mathbb{N}$, integers $\\mathbb{Z}$, rational numbers $\\mathbb{Q}$ and irrational numbers $\\mathbb{R}\\setminus\\mathbb{Q}$"
      ]
    },
    {
      "cell_type": "code",
      "metadata": {
        "id": "wOqDv75TPx8H",
        "colab_type": "code",
        "outputId": "a58f559e-a7bb-4111-c1a6-3dba5913410a",
        "colab": {
          "base_uri": "https://localhost:8080/",
          "height": 35
        }
      },
      "source": [
        "m = 100 \n",
        "n = 5.0\n",
        "type(m), type(n), type(m + n), m + n"
      ],
      "execution_count": 0,
      "outputs": [
        {
          "output_type": "execute_result",
          "data": {
            "text/plain": [
              "(int, float, float, 105.0)"
            ]
          },
          "metadata": {
            "tags": []
          },
          "execution_count": 86
        }
      ]
    },
    {
      "cell_type": "markdown",
      "metadata": {
        "id": "Q_8AoyEyPx8I",
        "colab_type": "text"
      },
      "source": [
        "Take $a \\in \\mathbb{R}$ then for each $b \\in \\mathbb{R}$ there exists $\\alpha \\in \\mathbb{R}$ such that $b = \\alpha a$"
      ]
    },
    {
      "cell_type": "markdown",
      "metadata": {
        "id": "VvguMV8kPx8K",
        "colab_type": "text"
      },
      "source": [
        "## Vectors"
      ]
    },
    {
      "cell_type": "markdown",
      "metadata": {
        "id": "PVPmZbCMPx8K",
        "colab_type": "text"
      },
      "source": [
        "vectors can be considered as subset of cartesian product of $\\mathbb{R}$ ($\\mathbb{N}$, $\\mathbb{Z}$, $\\mathbb{Q}$, etc)\n",
        "<br>\n",
        "For instance vector $x = (x_1, x_2, \\dots, x_n)$ we can write $x \\in \\mathbb{R}^{n}$\n",
        "<br>"
      ]
    },
    {
      "cell_type": "code",
      "metadata": {
        "id": "Li2joY_RPx8L",
        "colab_type": "code",
        "colab": {}
      },
      "source": [
        "import numpy as np"
      ],
      "execution_count": 0,
      "outputs": []
    },
    {
      "cell_type": "code",
      "metadata": {
        "id": "r4XYBcEbPx8N",
        "colab_type": "code",
        "outputId": "87f64012-445c-43e2-f399-5ecd73851381",
        "colab": {
          "base_uri": "https://localhost:8080/",
          "height": 35
        }
      },
      "source": [
        "la = [1, 2, 3, 4]\n",
        "na = np.array([1, 2, 3, 4, 5])\n",
        "la, na"
      ],
      "execution_count": 0,
      "outputs": [
        {
          "output_type": "execute_result",
          "data": {
            "text/plain": [
              "([1, 2, 3, 4], array([1, 2, 3, 4, 5]))"
            ]
          },
          "metadata": {
            "tags": []
          },
          "execution_count": 88
        }
      ]
    },
    {
      "cell_type": "markdown",
      "metadata": {
        "id": "u46A606SPx8P",
        "colab_type": "text"
      },
      "source": [
        "In many cases we'll work with collumn vectors like $\\begin{align}\n",
        "    x &= \\begin{bmatrix}\n",
        "           x_{1} \\\\\n",
        "           x_{2} \\\\\n",
        "           \\vdots \\\\\n",
        "           x_{m}\n",
        "         \\end{bmatrix}\n",
        "  \\end{align}$"
      ]
    },
    {
      "cell_type": "markdown",
      "metadata": {
        "id": "nIE03tH7Px8P",
        "colab_type": "text"
      },
      "source": [
        "What is the difference between set $\\{a_1, a_2, \\dots, a_n\\}$ and vector $(a_1, a_2, \\dots, a_n)$? ***Elements of set must be different, elements of vector can be arbitrary.***"
      ]
    },
    {
      "cell_type": "markdown",
      "metadata": {
        "id": "zTU94iILPx8Q",
        "colab_type": "text"
      },
      "source": [
        "Indexing the vectors"
      ]
    },
    {
      "cell_type": "code",
      "metadata": {
        "id": "rWmGZquXPx8Q",
        "colab_type": "code",
        "outputId": "768d749f-55d1-4e7b-d8a3-768bdc4dc1d5",
        "colab": {
          "base_uri": "https://localhost:8080/",
          "height": 35
        }
      },
      "source": [
        "la[-1], la[2], la[2:], la[:-1], la[2:4]"
      ],
      "execution_count": 0,
      "outputs": [
        {
          "output_type": "execute_result",
          "data": {
            "text/plain": [
              "(4, 3, [3, 4], [1, 2, 3], [3, 4])"
            ]
          },
          "metadata": {
            "tags": []
          },
          "execution_count": 89
        }
      ]
    },
    {
      "cell_type": "code",
      "metadata": {
        "id": "64Ra6hGmPx8S",
        "colab_type": "code",
        "outputId": "75898b2c-0c47-472f-a92d-1eb66d8ca8fd",
        "colab": {
          "base_uri": "https://localhost:8080/",
          "height": 35
        }
      },
      "source": [
        "na[-1], na[2], na[2:], na[:-1], na[2:4]"
      ],
      "execution_count": 0,
      "outputs": [
        {
          "output_type": "execute_result",
          "data": {
            "text/plain": [
              "(5, 3, array([3, 4, 5]), array([1, 2, 3, 4]), array([3, 4]))"
            ]
          },
          "metadata": {
            "tags": []
          },
          "execution_count": 90
        }
      ]
    },
    {
      "cell_type": "code",
      "metadata": {
        "id": "5eWxBj-ZPx8U",
        "colab_type": "code",
        "outputId": "cc5c05ea-ce20-48d7-f5fc-76ca57dd3898",
        "colab": {
          "base_uri": "https://localhost:8080/",
          "height": 35
        }
      },
      "source": [
        "lid = [1, 2]\n",
        "na[lid]"
      ],
      "execution_count": 0,
      "outputs": [
        {
          "output_type": "execute_result",
          "data": {
            "text/plain": [
              "array([2, 3])"
            ]
          },
          "metadata": {
            "tags": []
          },
          "execution_count": 91
        }
      ]
    },
    {
      "cell_type": "code",
      "metadata": {
        "id": "0C7dHh2PPx8X",
        "colab_type": "code",
        "colab": {}
      },
      "source": [
        "nid = np.array(lid)"
      ],
      "execution_count": 0,
      "outputs": []
    },
    {
      "cell_type": "code",
      "metadata": {
        "id": "kuk5pm3IPx8b",
        "colab_type": "code",
        "outputId": "9af88171-a705-4ab7-d681-77c63571420e",
        "colab": {
          "base_uri": "https://localhost:8080/",
          "height": 35
        }
      },
      "source": [
        "na[lid]"
      ],
      "execution_count": 0,
      "outputs": [
        {
          "output_type": "execute_result",
          "data": {
            "text/plain": [
              "array([2, 3])"
            ]
          },
          "metadata": {
            "tags": []
          },
          "execution_count": 93
        }
      ]
    },
    {
      "cell_type": "markdown",
      "metadata": {
        "id": "1fc_ZmMZPx8d",
        "colab_type": "text"
      },
      "source": [
        "## Matrices"
      ]
    },
    {
      "cell_type": "markdown",
      "metadata": {
        "id": "JZsECjkDPx8e",
        "colab_type": "text"
      },
      "source": [
        "Matrix $X$ can be considered as mulitidimensional array \n",
        "$\\begin{align}\n",
        "    X &= \\begin{matrix}\n",
        "        x_{11} & x_{12} & \\dots x_{1m} \\\\\n",
        "        x_{21} & x_{22} & \\dots x_{2m} \\\\\n",
        "        \\vdots & \\vdots & \\vdots \\\\\n",
        "        x_{n1} & x_{n2} & \\dots x_{nm} \\\\\n",
        "    \\end{matrix}\n",
        "\\end{align}$\n",
        "or \n",
        "$\\begin{align}\n",
        "    X &= \\begin{pmatrix}\n",
        "        x_{11} & x_{12} & \\dots x_{1m} \\\\\n",
        "        x_{21} & x_{22} & \\dots x_{2m} \\\\\n",
        "        \\vdots & \\vdots & \\vdots \\\\\n",
        "        x_{n1} & x_{n2} & \\dots x_{nm} \\\\\n",
        "    \\end{pmatrix}\n",
        "\\end{align}$\n",
        "or\n",
        "$\\begin{align}\n",
        "    X &= \\begin{bmatrix}\n",
        "        x_{11} & x_{12} & \\dots x_{1m} \\\\\n",
        "        x_{21} & x_{22} & \\dots x_{2m} \\\\\n",
        "        \\vdots & \\vdots & \\vdots \\\\\n",
        "        x_{n1} & x_{n2} & \\dots x_{nm} \\\\\n",
        "    \\end{bmatrix}\n",
        "\\end{align}$\n",
        "<br>\n",
        "Matrix also can be defined by indices $A_{i, j}$ if we don't need concrete demensions"
      ]
    },
    {
      "cell_type": "markdown",
      "metadata": {
        "id": "K0VDZku3Px8f",
        "colab_type": "text"
      },
      "source": [
        "We say that $X$ has $n \\times m$ dimension\n",
        "<br>\n",
        "or $X \\in \\mathbb{R}^{n \\times m}$"
      ]
    },
    {
      "cell_type": "markdown",
      "metadata": {
        "id": "nT98pCuUPx8f",
        "colab_type": "text"
      },
      "source": [
        "e.g. $\\begin{align}\n",
        "    X &= \\begin{pmatrix}\n",
        "        1 & 2 & 3 \\\\\n",
        "        4 & 5 & 6 \\\\\n",
        "        7 & 8 & 9 \\\\\n",
        "    \\end{pmatrix}\n",
        "\\end{align}$\n",
        "<br>\n",
        "Then $X_{23} = 6$"
      ]
    },
    {
      "cell_type": "markdown",
      "metadata": {
        "id": "12YnA09oPx8g",
        "colab_type": "text"
      },
      "source": [
        "Main diagonal of matrix $X$ are elements $x_{i,j}$ where $i = j$\n",
        "<br>\n",
        "$\\begin{align}\n",
        "    X &= \\begin{pmatrix}\n",
        "        x_{11} &  & \\dots \\\\\n",
        "         & x_{22} & \\dots \\\\\n",
        "        \\vdots & \\vdots & \\vdots \\\\\n",
        "         &  & \\dots x_{nm} \\\\\n",
        "    \\end{pmatrix}\n",
        "\\end{align}$\n"
      ]
    },
    {
      "cell_type": "code",
      "metadata": {
        "id": "UsicKmx6Px8g",
        "colab_type": "code",
        "outputId": "e2c849dc-4713-4e75-f8a7-6758e5463c7e",
        "colab": {
          "base_uri": "https://localhost:8080/",
          "height": 87
        }
      },
      "source": [
        "lm = [[1, 2, 3], [4, 5, 6], [7, 8, 9]]\n",
        "nm = np.array(lm) # np.array([[1, 2, 3], [4, 5, 6]])\n",
        "print(lm)\n",
        "print(nm)"
      ],
      "execution_count": 0,
      "outputs": [
        {
          "output_type": "stream",
          "text": [
            "[[1, 2, 3], [4, 5, 6], [7, 8, 9]]\n",
            "[[1 2 3]\n",
            " [4 5 6]\n",
            " [7 8 9]]\n"
          ],
          "name": "stdout"
        }
      ]
    },
    {
      "cell_type": "code",
      "metadata": {
        "id": "G8wY13tXPx8i",
        "colab_type": "code",
        "outputId": "6df45732-d05f-4561-b8f4-da9f330f1e15",
        "colab": {
          "base_uri": "https://localhost:8080/",
          "height": 35
        }
      },
      "source": [
        "lm[1][2], nm[1][2]"
      ],
      "execution_count": 0,
      "outputs": [
        {
          "output_type": "execute_result",
          "data": {
            "text/plain": [
              "(6, 6)"
            ]
          },
          "metadata": {
            "tags": []
          },
          "execution_count": 95
        }
      ]
    },
    {
      "cell_type": "code",
      "metadata": {
        "id": "BDhTDh86Px8j",
        "colab_type": "code",
        "outputId": "b2130519-eca1-4ce6-c32c-e5e028629dbf",
        "colab": {
          "base_uri": "https://localhost:8080/",
          "height": 52
        }
      },
      "source": [
        "lm[1:], nm[1:]"
      ],
      "execution_count": 0,
      "outputs": [
        {
          "output_type": "execute_result",
          "data": {
            "text/plain": [
              "([[4, 5, 6], [7, 8, 9]], array([[4, 5, 6],\n",
              "        [7, 8, 9]]))"
            ]
          },
          "metadata": {
            "tags": []
          },
          "execution_count": 96
        }
      ]
    },
    {
      "cell_type": "code",
      "metadata": {
        "id": "Fhgy5IOfPx8m",
        "colab_type": "code",
        "outputId": "4cf30170-6a85-4f65-d5da-147acf1dab5b",
        "colab": {
          "base_uri": "https://localhost:8080/",
          "height": 139
        }
      },
      "source": [
        "print(lm[1:2]) \n",
        "print(nm[1:, :]) \n",
        "nc_1 = nm[0, :]\n",
        "print(nc_1)\n",
        "nc_1[0] = 12\n",
        "nm, nc_1"
      ],
      "execution_count": 0,
      "outputs": [
        {
          "output_type": "stream",
          "text": [
            "[[4, 5, 6]]\n",
            "[[4 5 6]\n",
            " [7 8 9]]\n",
            "[1 2 3]\n"
          ],
          "name": "stdout"
        },
        {
          "output_type": "execute_result",
          "data": {
            "text/plain": [
              "(array([[12,  2,  3],\n",
              "        [ 4,  5,  6],\n",
              "        [ 7,  8,  9]]), array([12,  2,  3]))"
            ]
          },
          "metadata": {
            "tags": []
          },
          "execution_count": 97
        }
      ]
    },
    {
      "cell_type": "code",
      "metadata": {
        "id": "OdV39C92Px8o",
        "colab_type": "code",
        "outputId": "db65fdd0-bf5b-4d88-8e84-a72a8434db19",
        "colab": {
          "base_uri": "https://localhost:8080/",
          "height": 35
        }
      },
      "source": [
        "np.diag(nm, k=0)"
      ],
      "execution_count": 0,
      "outputs": [
        {
          "output_type": "execute_result",
          "data": {
            "text/plain": [
              "array([12,  5,  9])"
            ]
          },
          "metadata": {
            "tags": []
          },
          "execution_count": 98
        }
      ]
    },
    {
      "cell_type": "markdown",
      "metadata": {
        "id": "-3eKUOG2Px8p",
        "colab_type": "text"
      },
      "source": [
        "## Tensors"
      ]
    },
    {
      "cell_type": "markdown",
      "metadata": {
        "id": "5JooPod9Px8p",
        "colab_type": "text"
      },
      "source": [
        "Let's go to the higher dimesions and define tensor $X$ as part of $\\mathbb{R}^{n \\times m \\times k}$\n",
        "<br>\n",
        "then we have a three indices instead of two, and $x_{i, j, k}$ is the element of tensor $X$ across the $i, j$ and $k$ indices"
      ]
    },
    {
      "cell_type": "markdown",
      "metadata": {
        "id": "y3Bk3JiiPx8q",
        "colab_type": "text"
      },
      "source": [
        "In similar manner we can define more than three dimensional tensors $X \\in \\mathbb{R}^{n_1 \\times n_2 \\times \\dots \\times n_p}$"
      ]
    },
    {
      "cell_type": "code",
      "metadata": {
        "id": "OMey-1WbPx8q",
        "colab_type": "code",
        "outputId": "9903c6c9-6de9-45a1-b194-5b2e89244f1a",
        "colab": {
          "base_uri": "https://localhost:8080/",
          "height": 156
        }
      },
      "source": [
        "lt = [[[1, 2, 3], [4, 5, 6], [7, 8, 9]], [[10, 11, 12], [13, 14, 15], [16, 17, 18]]]\n",
        "mt = np.array(lt) # or np.array([[[1, 2, 3], [4, 5, 6], [7, 8, 9]], [[10, 11, 12], [13, 14, 15], [16, 17, 18]]])\n",
        "print(mt)\n",
        "print(lt)"
      ],
      "execution_count": 0,
      "outputs": [
        {
          "output_type": "stream",
          "text": [
            "[[[ 1  2  3]\n",
            "  [ 4  5  6]\n",
            "  [ 7  8  9]]\n",
            "\n",
            " [[10 11 12]\n",
            "  [13 14 15]\n",
            "  [16 17 18]]]\n",
            "[[[1, 2, 3], [4, 5, 6], [7, 8, 9]], [[10, 11, 12], [13, 14, 15], [16, 17, 18]]]\n"
          ],
          "name": "stdout"
        }
      ]
    },
    {
      "cell_type": "code",
      "metadata": {
        "id": "hLJ5-4fnPx8t",
        "colab_type": "code",
        "colab": {}
      },
      "source": [
        "mt = np.random.randint(0,100, size=(3, 3, 3))"
      ],
      "execution_count": 0,
      "outputs": []
    },
    {
      "cell_type": "code",
      "metadata": {
        "id": "ibYOOZ9YPx8u",
        "colab_type": "code",
        "outputId": "a6925348-b8e2-4775-ede8-3d980fafa2d4",
        "colab": {
          "base_uri": "https://localhost:8080/",
          "height": 208
        }
      },
      "source": [
        "mt"
      ],
      "execution_count": 0,
      "outputs": [
        {
          "output_type": "execute_result",
          "data": {
            "text/plain": [
              "array([[[56,  5, 34],\n",
              "        [41, 63, 12],\n",
              "        [68, 89,  1]],\n",
              "\n",
              "       [[61, 30, 66],\n",
              "        [ 1, 84, 71],\n",
              "        [40, 20, 83]],\n",
              "\n",
              "       [[78, 37, 40],\n",
              "        [43, 30, 15],\n",
              "        [75, 90, 16]]])"
            ]
          },
          "metadata": {
            "tags": []
          },
          "execution_count": 101
        }
      ]
    },
    {
      "cell_type": "code",
      "metadata": {
        "id": "EIHcOJDRPx8v",
        "colab_type": "code",
        "colab": {}
      },
      "source": [
        "md = np.random.randint(0,100, size=(2, 3, 4))"
      ],
      "execution_count": 0,
      "outputs": []
    },
    {
      "cell_type": "code",
      "metadata": {
        "scrolled": false,
        "id": "HxCmZSaDPx8w",
        "colab_type": "code",
        "outputId": "0b1cbdcb-aae4-4f34-8527-3b4d594e8995",
        "colab": {
          "base_uri": "https://localhost:8080/",
          "height": 139
        }
      },
      "source": [
        "md"
      ],
      "execution_count": 0,
      "outputs": [
        {
          "output_type": "execute_result",
          "data": {
            "text/plain": [
              "array([[[45, 99, 47, 74],\n",
              "        [57, 21,  4, 12],\n",
              "        [64, 54, 18, 91]],\n",
              "\n",
              "       [[53,  8, 73, 96],\n",
              "        [29, 66, 98, 99],\n",
              "        [33, 17, 40, 35]]])"
            ]
          },
          "metadata": {
            "tags": []
          },
          "execution_count": 103
        }
      ]
    },
    {
      "cell_type": "code",
      "metadata": {
        "id": "7y0nQovlPx8y",
        "colab_type": "code",
        "colab": {}
      },
      "source": [
        "mmd = np.random.randint(0, 100, size=(2, 3, 4, 5, 6))"
      ],
      "execution_count": 0,
      "outputs": []
    },
    {
      "cell_type": "code",
      "metadata": {
        "scrolled": true,
        "id": "ODt3grgHPx8z",
        "colab_type": "code",
        "outputId": "e1c84a87-2a3f-4a5b-94e2-fc15bf808efd",
        "colab": {
          "base_uri": "https://localhost:8080/",
          "height": 1000
        }
      },
      "source": [
        "mmd"
      ],
      "execution_count": 0,
      "outputs": [
        {
          "output_type": "execute_result",
          "data": {
            "text/plain": [
              "array([[[[[74, 89, 75, 73,  1, 80],\n",
              "          [27, 45, 94, 15, 40, 30],\n",
              "          [50, 71, 10, 56, 60, 28],\n",
              "          [69, 89, 48, 98,  5,  4],\n",
              "          [90, 80, 33, 73, 86, 35]],\n",
              "\n",
              "         [[39, 54, 63, 69, 32, 58],\n",
              "          [54,  8, 58,  2, 57, 45],\n",
              "          [65, 25,  4, 72, 31, 98],\n",
              "          [80, 44, 89, 84, 83, 91],\n",
              "          [18, 98, 83, 28, 17, 81]],\n",
              "\n",
              "         [[73, 52, 60, 43, 40, 28],\n",
              "          [37, 28, 95, 30, 91, 40],\n",
              "          [37, 52, 60, 87, 78, 22],\n",
              "          [83, 82, 64, 86, 65, 89],\n",
              "          [ 3, 46, 47, 73, 93, 48]],\n",
              "\n",
              "         [[27, 23, 97, 73, 48, 22],\n",
              "          [62,  3,  9, 49, 95, 24],\n",
              "          [96, 55, 26, 50, 56,  6],\n",
              "          [46, 83, 64, 25, 94, 92],\n",
              "          [85, 88, 75, 34, 77, 45]]],\n",
              "\n",
              "\n",
              "        [[[14,  3, 79,  2, 22, 89],\n",
              "          [77, 21, 36, 35, 15, 43],\n",
              "          [63, 56, 25, 56, 52, 15],\n",
              "          [24, 32, 65,  6, 28, 68],\n",
              "          [10, 73, 36, 22, 25, 64]],\n",
              "\n",
              "         [[72,  3, 28, 55, 33, 45],\n",
              "          [ 3, 30, 48, 79,  3, 80],\n",
              "          [94, 59, 37, 89, 99, 40],\n",
              "          [33, 94,  1, 25,  8,  2],\n",
              "          [ 4,  2,  0, 34, 45,  7]],\n",
              "\n",
              "         [[16, 76, 32, 32, 88, 82],\n",
              "          [ 9, 63, 10, 84,  2, 93],\n",
              "          [93,  6, 64, 78, 11, 36],\n",
              "          [21,  1, 80, 64, 45, 19],\n",
              "          [19, 13, 57,  2, 86, 71]],\n",
              "\n",
              "         [[47, 44, 67,  3, 40, 44],\n",
              "          [53, 22, 23, 26, 26,  9],\n",
              "          [88, 81, 69, 78, 27, 70],\n",
              "          [ 5, 13, 73, 14, 57, 10],\n",
              "          [ 6, 48, 56, 10, 79, 57]]],\n",
              "\n",
              "\n",
              "        [[[ 6, 97, 37, 79, 97, 75],\n",
              "          [67, 10, 65, 69, 29, 62],\n",
              "          [70, 62, 64,  4, 54, 41],\n",
              "          [49, 30, 47,  3, 41, 21],\n",
              "          [26, 31, 42, 72, 60, 49]],\n",
              "\n",
              "         [[74, 55, 22, 62, 67, 98],\n",
              "          [93, 38, 59,  2, 57, 58],\n",
              "          [87, 70, 43, 88, 48, 74],\n",
              "          [25, 59, 82, 50, 84, 47],\n",
              "          [43, 88, 83, 37, 56, 95]],\n",
              "\n",
              "         [[65, 45, 12, 30, 91, 35],\n",
              "          [14, 86, 12, 96, 63, 28],\n",
              "          [66, 61, 97, 94, 19, 26],\n",
              "          [71, 54, 73, 35,  4, 40],\n",
              "          [76,  1, 76, 67, 39, 56]],\n",
              "\n",
              "         [[25, 40, 59, 58, 87, 19],\n",
              "          [81, 30, 28, 99, 88,  2],\n",
              "          [88, 11, 69, 16, 64, 36],\n",
              "          [54, 93, 82, 79,  6, 84],\n",
              "          [94, 29, 58, 50, 73,  2]]]],\n",
              "\n",
              "\n",
              "\n",
              "       [[[[16, 93, 95, 39, 58, 66],\n",
              "          [87, 25, 40,  5, 12, 61],\n",
              "          [76,  5, 20, 67, 72, 91],\n",
              "          [57, 69, 72, 87, 19, 91],\n",
              "          [95,  6, 69,  7, 68, 14]],\n",
              "\n",
              "         [[48, 68, 58, 72, 62, 90],\n",
              "          [38, 47, 36, 81, 91, 43],\n",
              "          [78, 38, 18, 62, 36,  4],\n",
              "          [70, 59, 39, 40, 32, 41],\n",
              "          [ 9, 55, 99, 84, 28, 55]],\n",
              "\n",
              "         [[39, 68, 48, 15, 12, 64],\n",
              "          [63, 61, 24, 30, 37, 31],\n",
              "          [80,  5, 56, 96, 94, 82],\n",
              "          [82, 21, 74, 25, 40, 13],\n",
              "          [ 0, 86, 33, 80, 49, 36]],\n",
              "\n",
              "         [[79, 43, 77, 75, 94, 29],\n",
              "          [53, 36, 44, 88, 85, 16],\n",
              "          [45, 24, 54,  3,  6, 10],\n",
              "          [87, 75, 71, 93, 31, 12],\n",
              "          [52, 30, 10, 42, 13, 94]]],\n",
              "\n",
              "\n",
              "        [[[ 8, 29, 43, 35, 35, 88],\n",
              "          [12, 28, 62, 30, 70, 74],\n",
              "          [88, 77, 69, 59, 86, 75],\n",
              "          [27, 23, 90, 39, 10,  6],\n",
              "          [27, 50, 20, 17, 42, 90]],\n",
              "\n",
              "         [[40, 87, 45,  2, 44, 50],\n",
              "          [44,  9, 20, 14, 59, 10],\n",
              "          [ 1, 11, 78, 22, 49, 61],\n",
              "          [45, 56, 80, 82, 87, 39],\n",
              "          [80, 52, 68, 10, 88, 11]],\n",
              "\n",
              "         [[64, 65, 40, 58, 84, 33],\n",
              "          [71, 31, 12, 63, 38, 51],\n",
              "          [13, 43, 55, 75, 63, 94],\n",
              "          [20, 72, 42,  5, 87, 98],\n",
              "          [51, 11, 46, 17, 68, 98]],\n",
              "\n",
              "         [[10, 11, 41, 77, 32, 71],\n",
              "          [83, 87, 70, 74, 30, 80],\n",
              "          [43, 10, 84, 79, 54, 60],\n",
              "          [12, 29, 67, 16, 12, 30],\n",
              "          [21, 21, 92,  7, 65, 43]]],\n",
              "\n",
              "\n",
              "        [[[79, 97, 51,  3, 40, 92],\n",
              "          [83, 49, 93, 32, 66, 52],\n",
              "          [62, 19, 88, 59, 66, 68],\n",
              "          [44, 64, 64, 18, 26, 17],\n",
              "          [66, 18, 98,  1, 66,  1]],\n",
              "\n",
              "         [[54, 45, 72, 31, 85, 83],\n",
              "          [65, 13, 56, 77, 80, 77],\n",
              "          [14, 21,  3,  8, 31,  3],\n",
              "          [46, 38,  5, 93, 29, 45],\n",
              "          [79, 63, 91, 30,  5, 40]],\n",
              "\n",
              "         [[ 3, 62, 25, 45, 23, 13],\n",
              "          [27, 63, 14, 74, 23, 89],\n",
              "          [53, 66,  2, 20, 89, 80],\n",
              "          [13, 10, 49, 41, 83, 20],\n",
              "          [91, 63, 71,  3, 42, 46]],\n",
              "\n",
              "         [[27, 46, 53, 53, 24,  7],\n",
              "          [10, 36, 58, 90, 80, 82],\n",
              "          [ 9, 54, 34, 19, 85, 58],\n",
              "          [74, 14, 20, 53, 87, 58],\n",
              "          [32, 69, 23, 65, 14, 47]]]]])"
            ]
          },
          "metadata": {
            "tags": []
          },
          "execution_count": 105
        }
      ]
    },
    {
      "cell_type": "markdown",
      "metadata": {
        "id": "M9lF3zTPPx80",
        "colab_type": "text"
      },
      "source": [
        "Transpose of matrix $X$ denoted by $X^T$ defined by elements $(X^{T})_{i, j} = X_{j, i}$ or $X \\in \\mathbb{R}^{n \\times m}$ then $T^{T} \\in \\mathbb{R}^{m \\times n}$\n",
        "<br>\n",
        "e.g.\n",
        "<br>\n",
        "$\\begin{align}\n",
        "    X &= \\begin{pmatrix}\n",
        "        x_{11} & x_{12} & \\dots x_{1m} \\\\\n",
        "        x_{21} & x_{22} & \\dots x_{2m} \\\\\n",
        "        \\vdots & \\vdots & \\vdots \\\\\n",
        "        x_{n1} & x_{n2} & \\dots x_{nm} \\\\\n",
        "    \\end{pmatrix}\n",
        "\\end{align}$ then $\\begin{align}\n",
        "    X^{T} &= \\begin{pmatrix}\n",
        "        x_{11} & x_{21} & \\dots x_{m1} \\\\\n",
        "        x_{12} & x_{22} & \\dots x_{m2} \\\\\n",
        "        \\vdots & \\vdots & \\vdots \\\\\n",
        "        x_{1n} & x_{2n} & \\dots x_{mn} \\\\\n",
        "    \\end{pmatrix}\n",
        "\\end{align}$"
      ]
    },
    {
      "cell_type": "markdown",
      "metadata": {
        "id": "PXdLmoWTPx81",
        "colab_type": "text"
      },
      "source": [
        "Transpose can be thought as mirror along with the main diagonal"
      ]
    },
    {
      "cell_type": "markdown",
      "metadata": {
        "id": "fqsxsFNhPx81",
        "colab_type": "text"
      },
      "source": [
        "Visualisation of transpose matrix $X \\in \\mathbb{R}^{4 \\times 4}$"
      ]
    },
    {
      "cell_type": "markdown",
      "metadata": {
        "id": "1KpagVOqPx82",
        "colab_type": "text"
      },
      "source": [
        "![SegmentLocal](images/la1/transpose1.gif \"segment\")"
      ]
    },
    {
      "cell_type": "markdown",
      "metadata": {
        "id": "gHFZW39zPx84",
        "colab_type": "text"
      },
      "source": [
        "Transpose matrix $X \\in \\mathbb{R}^{2 \\times 3}$"
      ]
    },
    {
      "cell_type": "markdown",
      "metadata": {
        "id": "n6oaXw_ePx85",
        "colab_type": "text"
      },
      "source": [
        "![SegmentLocal](images/la1/transpose2.gif \"segment\")"
      ]
    },
    {
      "cell_type": "markdown",
      "metadata": {
        "id": "FiymLpCnPx85",
        "colab_type": "text"
      },
      "source": [
        "We can consider scalar as one dimensional vector and vector as $v = (v_1, v_2, \\dots, v_n)$ as matrix with $1 \\times n$ dimensions and \n",
        "$\\begin{align}\n",
        "    u &= \\begin{bmatrix}\n",
        "           u_{1} \\\\\n",
        "           u_{2} \\\\\n",
        "           \\vdots \\\\\n",
        "           u_{m}\n",
        "         \\end{bmatrix}\n",
        " \\end{align}$ as matrix with $m \\times 1$ dimensions\n",
        "<br>\n",
        "then \n",
        "$\\begin{align}\n",
        "    v^{T} &= \\begin{bmatrix}\n",
        "           v_{1} \\\\\n",
        "           v_{2} \\\\\n",
        "           \\vdots \\\\\n",
        "           v_{n}\n",
        "         \\end{bmatrix}\n",
        " \\end{align}$ and $u^{T} = (u_1, u_2, \\dots, u_m)$"
      ]
    },
    {
      "cell_type": "code",
      "metadata": {
        "id": "K3zJY-t9Px85",
        "colab_type": "code",
        "outputId": "3f29d985-c5ec-46c7-945d-a70516d0ad0d",
        "colab": {
          "base_uri": "https://localhost:8080/",
          "height": 69
        }
      },
      "source": [
        "print(nm)"
      ],
      "execution_count": 0,
      "outputs": [
        {
          "output_type": "stream",
          "text": [
            "[[12  2  3]\n",
            " [ 4  5  6]\n",
            " [ 7  8  9]]\n"
          ],
          "name": "stdout"
        }
      ]
    },
    {
      "cell_type": "code",
      "metadata": {
        "id": "AVXvk0skPx87",
        "colab_type": "code",
        "outputId": "2824452e-b1b0-487e-8526-32ef129af496",
        "colab": {
          "base_uri": "https://localhost:8080/",
          "height": 69
        }
      },
      "source": [
        "print(nm.T)"
      ],
      "execution_count": 0,
      "outputs": [
        {
          "output_type": "stream",
          "text": [
            "[[12  4  7]\n",
            " [ 2  5  8]\n",
            " [ 3  6  9]]\n"
          ],
          "name": "stdout"
        }
      ]
    },
    {
      "cell_type": "markdown",
      "metadata": {
        "id": "8tr_d2HxPx88",
        "colab_type": "text"
      },
      "source": [
        "For scalar $a \\in \\mathbb{R}$ we have $a^{T} = a$"
      ]
    },
    {
      "cell_type": "markdown",
      "metadata": {
        "id": "krwKr8ANPx8-",
        "colab_type": "text"
      },
      "source": [
        "# Operations on Matrices"
      ]
    },
    {
      "cell_type": "markdown",
      "metadata": {
        "id": "NBETsI-TPx8-",
        "colab_type": "text"
      },
      "source": [
        "We can add two $A, B \\in \\mathbb{R}^{n \\times m}$ matrices $C = A + B$ as \n",
        "$\\begin{align}\n",
        "    C &= \\begin{pmatrix}\n",
        "        {a_{11} + b_{11}} & {a_{12} + b_{12}} & \\dots {a_{1m} + b_{1m}} \\\\\n",
        "        {a_{21} + b_{21}} & {a_{22} + b_{22}} & \\dots {a_{2m} + b_{2m}} \\\\\n",
        "        \\vdots & \\vdots & \\vdots \\\\\n",
        "        {a_{n1} + b_{n1}} & {a_{n2} + b_{n2}} & \\dots {a_{nm} + b_{nm}} \\\\\n",
        "    \\end{pmatrix}\n",
        "\\end{align}$ or we could write $c_{i, j} = a_{i, j} + b_{i, j}$"
      ]
    },
    {
      "cell_type": "code",
      "metadata": {
        "id": "FZxTq--jPx8_",
        "colab_type": "code",
        "outputId": "424a92a5-b317-458e-995f-7ffa274d097b",
        "colab": {
          "base_uri": "https://localhost:8080/",
          "height": 173
        }
      },
      "source": [
        "m1 = np.array([[2, 4, 6], [12, 14, 16], [22, 24, 26]])\n",
        "m2 = np.array([[1, 3, 4], [11, 13, 14], [42, 44, 44]])\n",
        "print(m1)\n",
        "print(m2)\n",
        "print(m1 + m2)"
      ],
      "execution_count": 0,
      "outputs": [
        {
          "output_type": "stream",
          "text": [
            "[[ 2  4  6]\n",
            " [12 14 16]\n",
            " [22 24 26]]\n",
            "[[ 1  3  4]\n",
            " [11 13 14]\n",
            " [42 44 44]]\n",
            "[[ 3  7 10]\n",
            " [23 27 30]\n",
            " [64 68 70]]\n"
          ],
          "name": "stdout"
        }
      ]
    },
    {
      "cell_type": "markdown",
      "metadata": {
        "id": "3WsjjAt4Px9A",
        "colab_type": "text"
      },
      "source": [
        "Add scalar $a \\in \\mathbb{R}$ and matrix $X \\in \\mathbb{R}^{n \\times m}$ as \n",
        "$\\begin{align}\n",
        "    X + a &= \\begin{pmatrix}\n",
        "        {x_{11} + a} & {x_{12} + a} & \\dots {x_{1m} + a} \\\\\n",
        "        {x_{21} + a} & {x_{22} + a} & \\dots {x_{2m} + a} \\\\\n",
        "        \\vdots & \\vdots & \\vdots \\\\\n",
        "        {x_{n1} + a} & {x_{n2} + a} & \\dots {x_{nm} + a} \\\\\n",
        "    \\end{pmatrix}\n",
        "\\end{align}$ or we could write ${(X + a)}_{i, j} = x_{i, j} + a$\n",
        "<br>\n",
        "In the same way we can define ${(a + X)}_{i, j} = a + x_{i, j}$\n",
        "<br>\n",
        "Multiplication of scalar and matrix\n",
        "$\\begin{align}\n",
        "    Xa &= \\begin{pmatrix}\n",
        "        {x_{11}a} & {x_{12}a} & \\dots {x_{1m}a} \\\\\n",
        "        {x_{21}a} & {x_{22}a} & \\dots {x_{2m}a} \\\\\n",
        "        \\vdots & \\vdots & \\vdots \\\\\n",
        "        {x_{n1}a} & {x_{n2}a} & \\dots {x_{nm}a} \\\\\n",
        "    \\end{pmatrix}\n",
        "\\end{align}$ or we could write ${(X + a)}_{i, j} = x_{i, j} + a$\n",
        "<br>\n",
        "In the same way we can define ${(aX)}_{i, j} = ax_{i, j}$\n",
        "<br>\n",
        "so we have $C = aX + b$ for $a \\in \\mathbb{R}$ and matrix $X \\in \\mathbb{R}^{n \\times m}$\n"
      ]
    },
    {
      "cell_type": "markdown",
      "metadata": {
        "id": "Dky3k-T0Px9B",
        "colab_type": "text"
      },
      "source": [
        "Prove that $a + X = X + a$ and $aX = Xa$ for every scalar $a \\in \\mathbb{R}$ and matrix $X \\in \\mathbb{R}^{n \\times m}$"
      ]
    },
    {
      "cell_type": "markdown",
      "metadata": {
        "id": "6dnqgQvTrt2N",
        "colab_type": "text"
      },
      "source": [
        "***From the definition: $(a+X)_{i,j} = a + x_{i,j};\\ (X+a)_{i,j} = x_{i,j} + a; $ Right hand side of the equations are scalar addition which has a commutative property $\\implies (a+X)_{i,j} = (X+a)_{i,j}$   ***"
      ]
    },
    {
      "cell_type": "code",
      "metadata": {
        "id": "ZWIdp4uSPx9B",
        "colab_type": "code",
        "outputId": "cd176823-1828-49b3-86dc-464dc2178ca2",
        "colab": {
          "base_uri": "https://localhost:8080/",
          "height": 104
        }
      },
      "source": [
        "m1, m1*5 + 2"
      ],
      "execution_count": 0,
      "outputs": [
        {
          "output_type": "execute_result",
          "data": {
            "text/plain": [
              "(array([[ 2,  4,  6],\n",
              "        [12, 14, 16],\n",
              "        [22, 24, 26]]), array([[ 12,  22,  32],\n",
              "        [ 62,  72,  82],\n",
              "        [112, 122, 132]]))"
            ]
          },
          "metadata": {
            "tags": []
          },
          "execution_count": 109
        }
      ]
    },
    {
      "cell_type": "markdown",
      "metadata": {
        "id": "BsqMoYPbPx9C",
        "colab_type": "text"
      },
      "source": [
        "Add matrix and vector $A + b$ where $A \\in \\mathbb{R}^{n \\times m}$ $b \\in \\mathbb{R}^{1 \\times m}$ can be done by broadcasting\n",
        "<br>\n",
        "$C_{i, j} = A_{i, j} + b_{j}$"
      ]
    },
    {
      "cell_type": "code",
      "metadata": {
        "id": "UUwd__-APx9E",
        "colab_type": "code",
        "colab": {}
      },
      "source": [
        "v1 = np.array([[2], [4], [6]])\n"
      ],
      "execution_count": 0,
      "outputs": []
    },
    {
      "cell_type": "code",
      "metadata": {
        "id": "bNBM7bLvPx9G",
        "colab_type": "code",
        "outputId": "bac0b467-2f56-4964-b1ac-792d31faadc8",
        "colab": {
          "base_uri": "https://localhost:8080/",
          "height": 243
        }
      },
      "source": [
        "print(m1)\n",
        "print(v1)\n",
        "print(v1.T)\n",
        "print(m1 + v1)\n",
        "print(m1 + v1.T)"
      ],
      "execution_count": 0,
      "outputs": [
        {
          "output_type": "stream",
          "text": [
            "[[ 2  4  6]\n",
            " [12 14 16]\n",
            " [22 24 26]]\n",
            "[[2]\n",
            " [4]\n",
            " [6]]\n",
            "[[2 4 6]]\n",
            "[[ 4  6  8]\n",
            " [16 18 20]\n",
            " [28 30 32]]\n",
            "[[ 4  8 12]\n",
            " [14 18 22]\n",
            " [24 28 32]]\n"
          ],
          "name": "stdout"
        }
      ]
    },
    {
      "cell_type": "markdown",
      "metadata": {
        "id": "FCug6cmgPx9H",
        "colab_type": "text"
      },
      "source": [
        "For matrix $A \\in \\mathbb{R}^{n \\times m}$ and $B \\in \\mathbb{R}^{m \\times l}$ let's define $C = AB$ as $C_{i, j} = \\sum_{k = 1}^{n}{A_{i, k}B_{k, j}}$ it is clear that $C \\in \\mathbb{R}^{n \\times l}$"
      ]
    },
    {
      "cell_type": "markdown",
      "metadata": {
        "id": "vMzRG2VnPx9I",
        "colab_type": "text"
      },
      "source": [
        "Lets visualize"
      ]
    },
    {
      "cell_type": "markdown",
      "metadata": {
        "id": "QBAdBHINPx9I",
        "colab_type": "text"
      },
      "source": [
        "![SegmentLocal](images/la1/mult1.gif \"segment\")"
      ]
    },
    {
      "cell_type": "code",
      "metadata": {
        "id": "2GPjXB0EPx9I",
        "colab_type": "code",
        "colab": {}
      },
      "source": [
        "m1 = np.array([[1, 2, 1], [0, 1, 0], [2, 3, 4]])\n",
        "m2 = np.array([[2, 5], [6, 7], [1, 8]])"
      ],
      "execution_count": 0,
      "outputs": []
    },
    {
      "cell_type": "code",
      "metadata": {
        "id": "q7ERrpPDPx9K",
        "colab_type": "code",
        "outputId": "c16ba6b5-9b4d-42ca-c1c2-e0f536f4ad8e",
        "colab": {
          "base_uri": "https://localhost:8080/",
          "height": 121
        }
      },
      "source": [
        "print(m1)\n",
        "print(m2)"
      ],
      "execution_count": 0,
      "outputs": [
        {
          "output_type": "stream",
          "text": [
            "[[1 2 1]\n",
            " [0 1 0]\n",
            " [2 3 4]]\n",
            "[[2 5]\n",
            " [6 7]\n",
            " [1 8]]\n"
          ],
          "name": "stdout"
        }
      ]
    },
    {
      "cell_type": "code",
      "metadata": {
        "id": "5CfaJRmSPx9M",
        "colab_type": "code",
        "colab": {}
      },
      "source": [
        "# m3 = np.dot(m1, m2)\n",
        "m3 = m1 @ m2"
      ],
      "execution_count": 0,
      "outputs": []
    },
    {
      "cell_type": "code",
      "metadata": {
        "id": "G3-VIs3VPx9N",
        "colab_type": "code",
        "outputId": "71edcbd0-19d4-4cd0-d886-429a4b78824f",
        "colab": {
          "base_uri": "https://localhost:8080/",
          "height": 69
        }
      },
      "source": [
        "print(m3)"
      ],
      "execution_count": 0,
      "outputs": [
        {
          "output_type": "stream",
          "text": [
            "[[15 27]\n",
            " [ 6  7]\n",
            " [26 63]]\n"
          ],
          "name": "stdout"
        }
      ]
    },
    {
      "cell_type": "markdown",
      "metadata": {
        "id": "sugIaLePPx9P",
        "colab_type": "text"
      },
      "source": [
        "Or slower version"
      ]
    },
    {
      "cell_type": "markdown",
      "metadata": {
        "id": "oacuG5gOPx9P",
        "colab_type": "text"
      },
      "source": [
        "![SegmentLocal](images/la1/mult2.gif \"segment\")"
      ]
    },
    {
      "cell_type": "code",
      "metadata": {
        "id": "ic3tEfs_Px9P",
        "colab_type": "code",
        "colab": {}
      },
      "source": [
        "n1 = np.array([[8, 1, 2], [-5, 6, 7]])\n",
        "n2 = np.array([[-5, 1], [0, 2], [-11, 7]])"
      ],
      "execution_count": 0,
      "outputs": []
    },
    {
      "cell_type": "code",
      "metadata": {
        "id": "V5OFrewIPx9R",
        "colab_type": "code",
        "outputId": "90a610ea-4a7b-41a7-93a2-0e7ac8c2cdab",
        "colab": {
          "base_uri": "https://localhost:8080/",
          "height": 104
        }
      },
      "source": [
        "print(n1)\n",
        "print(n2)"
      ],
      "execution_count": 0,
      "outputs": [
        {
          "output_type": "stream",
          "text": [
            "[[ 8  1  2]\n",
            " [-5  6  7]]\n",
            "[[ -5   1]\n",
            " [  0   2]\n",
            " [-11   7]]\n"
          ],
          "name": "stdout"
        }
      ]
    },
    {
      "cell_type": "code",
      "metadata": {
        "id": "NM6nvu3rPx9T",
        "colab_type": "code",
        "colab": {}
      },
      "source": [
        "#n3 = np.dot(n1, n2)\n",
        "n3 = n1 @ n2"
      ],
      "execution_count": 0,
      "outputs": []
    },
    {
      "cell_type": "code",
      "metadata": {
        "id": "aEui-GAJPx9U",
        "colab_type": "code",
        "outputId": "1d0ea525-feaa-449c-b8d6-453cb44f9a62",
        "colab": {
          "base_uri": "https://localhost:8080/",
          "height": 52
        }
      },
      "source": [
        "print(n3) #, n3"
      ],
      "execution_count": 0,
      "outputs": [
        {
          "output_type": "stream",
          "text": [
            "[[-62  24]\n",
            " [-52  56]]\n"
          ],
          "name": "stdout"
        }
      ]
    },
    {
      "cell_type": "markdown",
      "metadata": {
        "id": "37o7K1aHPx9W",
        "colab_type": "text"
      },
      "source": [
        "Hadamard product of $A \\in \\mathbb{R^{n \\times m}}$ and $B \\in \\mathbb{R^{n \\times m}}$ define $C = A \\odot B$ if $C_{i, j} = A_{i, j}B_{i, j}$ (elementwise product)"
      ]
    },
    {
      "cell_type": "code",
      "metadata": {
        "id": "TTn-crgHPx9X",
        "colab_type": "code",
        "colab": {}
      },
      "source": [
        "a1 = np.random.random(size=(2, 3))\n",
        "a2 = np.random.random(size=(2, 3))"
      ],
      "execution_count": 0,
      "outputs": []
    },
    {
      "cell_type": "code",
      "metadata": {
        "id": "WytWt5tbPx9Y",
        "colab_type": "code",
        "outputId": "21342ff5-65f8-4048-de21-6a5981f546a4",
        "colab": {
          "base_uri": "https://localhost:8080/",
          "height": 121
        }
      },
      "source": [
        "print(a1)\n",
        "\n",
        "print(a2)\n",
        "\n",
        "print(a1 * a2)"
      ],
      "execution_count": 0,
      "outputs": [
        {
          "output_type": "stream",
          "text": [
            "[[0.24354355 0.79538282 0.98151362]\n",
            " [0.06582206 0.05476516 0.05027372]]\n",
            "[[0.33929362 0.11637484 0.26189027]\n",
            " [0.83160184 0.03806201 0.84521315]]\n",
            "[[0.08263277 0.09256255 0.25704887]\n",
            " [0.05473774 0.00208447 0.04249201]]\n"
          ],
          "name": "stdout"
        }
      ]
    },
    {
      "cell_type": "code",
      "metadata": {
        "id": "UWVuv0hTPx9b",
        "colab_type": "code",
        "colab": {}
      },
      "source": [
        "a1 = np.array([[1, 2], [4, 8], [3., 4.]])\n",
        "a2 = np.array([[2, 4.], [4., 4], [3., 2.]])"
      ],
      "execution_count": 0,
      "outputs": []
    },
    {
      "cell_type": "code",
      "metadata": {
        "id": "wX-5Y5nFPx9c",
        "colab_type": "code",
        "outputId": "85b27d17-b836-4818-f8ee-ece31236e796",
        "colab": {
          "base_uri": "https://localhost:8080/",
          "height": 69
        }
      },
      "source": [
        "a1"
      ],
      "execution_count": 0,
      "outputs": [
        {
          "output_type": "execute_result",
          "data": {
            "text/plain": [
              "array([[1., 2.],\n",
              "       [4., 8.],\n",
              "       [3., 4.]])"
            ]
          },
          "metadata": {
            "tags": []
          },
          "execution_count": 123
        }
      ]
    },
    {
      "cell_type": "code",
      "metadata": {
        "id": "477ouVqhPx9d",
        "colab_type": "code",
        "outputId": "778b5584-87d5-4061-b9f0-6145b7a7d2c5",
        "colab": {
          "base_uri": "https://localhost:8080/",
          "height": 69
        }
      },
      "source": [
        "a2"
      ],
      "execution_count": 0,
      "outputs": [
        {
          "output_type": "execute_result",
          "data": {
            "text/plain": [
              "array([[2., 4.],\n",
              "       [4., 4.],\n",
              "       [3., 2.]])"
            ]
          },
          "metadata": {
            "tags": []
          },
          "execution_count": 124
        }
      ]
    },
    {
      "cell_type": "code",
      "metadata": {
        "id": "16VNYIdtPx9f",
        "colab_type": "code",
        "outputId": "a769ca27-6b74-4d36-ee29-42fb9eb24d39",
        "colab": {
          "base_uri": "https://localhost:8080/",
          "height": 69
        }
      },
      "source": [
        "a1 * a2"
      ],
      "execution_count": 0,
      "outputs": [
        {
          "output_type": "execute_result",
          "data": {
            "text/plain": [
              "array([[ 2.,  8.],\n",
              "       [16., 32.],\n",
              "       [ 9.,  8.]])"
            ]
          },
          "metadata": {
            "tags": []
          },
          "execution_count": 125
        }
      ]
    },
    {
      "cell_type": "code",
      "metadata": {
        "id": "d_qhGuUxPx9g",
        "colab_type": "code",
        "outputId": "52870873-dbde-4680-c422-c78d6b717b09",
        "colab": {
          "base_uri": "https://localhost:8080/",
          "height": 35
        }
      },
      "source": [
        "np.sum(a1 * a2)"
      ],
      "execution_count": 0,
      "outputs": [
        {
          "output_type": "execute_result",
          "data": {
            "text/plain": [
              "75.0"
            ]
          },
          "metadata": {
            "tags": []
          },
          "execution_count": 126
        }
      ]
    },
    {
      "cell_type": "code",
      "metadata": {
        "id": "40kaXFALPx9i",
        "colab_type": "code",
        "outputId": "e2d15a91-dd87-4711-e5e7-36134c4fa81e",
        "colab": {
          "base_uri": "https://localhost:8080/",
          "height": 69
        }
      },
      "source": [
        "np.multiply(a1, a2)"
      ],
      "execution_count": 0,
      "outputs": [
        {
          "output_type": "execute_result",
          "data": {
            "text/plain": [
              "array([[ 2.,  8.],\n",
              "       [16., 32.],\n",
              "       [ 9.,  8.]])"
            ]
          },
          "metadata": {
            "tags": []
          },
          "execution_count": 127
        }
      ]
    },
    {
      "cell_type": "code",
      "metadata": {
        "id": "HSujVDwZPx9j",
        "colab_type": "code",
        "outputId": "8efa07ea-bfaa-4205-a201-69a06aa0c510",
        "colab": {
          "base_uri": "https://localhost:8080/",
          "height": 35
        }
      },
      "source": [
        "np.sum(np.multiply(a1, a2))"
      ],
      "execution_count": 0,
      "outputs": [
        {
          "output_type": "execute_result",
          "data": {
            "text/plain": [
              "75.0"
            ]
          },
          "metadata": {
            "tags": []
          },
          "execution_count": 128
        }
      ]
    },
    {
      "cell_type": "code",
      "metadata": {
        "id": "OpRSA--SPx9k",
        "colab_type": "code",
        "colab": {}
      },
      "source": [
        "a1 = np.arange(3*2).reshape((3, 2))\n",
        "a1 = np.arange(3*2).reshape((2, 3))"
      ],
      "execution_count": 0,
      "outputs": []
    },
    {
      "cell_type": "code",
      "metadata": {
        "id": "Dn6Ix3zMPx9l",
        "colab_type": "code",
        "outputId": "572435e6-4319-47a5-af5b-77dfc4f6dbe0",
        "colab": {
          "base_uri": "https://localhost:8080/",
          "height": 52
        }
      },
      "source": [
        "a1"
      ],
      "execution_count": 0,
      "outputs": [
        {
          "output_type": "execute_result",
          "data": {
            "text/plain": [
              "array([[0, 1, 2],\n",
              "       [3, 4, 5]])"
            ]
          },
          "metadata": {
            "tags": []
          },
          "execution_count": 130
        }
      ]
    },
    {
      "cell_type": "code",
      "metadata": {
        "id": "uHSc9aNEPx9m",
        "colab_type": "code",
        "outputId": "f257201e-2302-48a5-d372-d44d01e1072f",
        "colab": {
          "base_uri": "https://localhost:8080/",
          "height": 69
        }
      },
      "source": [
        "a2"
      ],
      "execution_count": 0,
      "outputs": [
        {
          "output_type": "execute_result",
          "data": {
            "text/plain": [
              "array([[2., 4.],\n",
              "       [4., 4.],\n",
              "       [3., 2.]])"
            ]
          },
          "metadata": {
            "tags": []
          },
          "execution_count": 131
        }
      ]
    },
    {
      "cell_type": "code",
      "metadata": {
        "id": "yNfssYziPx9o",
        "colab_type": "code",
        "outputId": "88c7f1ed-15af-4211-aa21-830dbd93ecfa",
        "colab": {
          "base_uri": "https://localhost:8080/",
          "height": 52
        }
      },
      "source": [
        "a1 @ a2"
      ],
      "execution_count": 0,
      "outputs": [
        {
          "output_type": "execute_result",
          "data": {
            "text/plain": [
              "array([[10.,  8.],\n",
              "       [37., 38.]])"
            ]
          },
          "metadata": {
            "tags": []
          },
          "execution_count": 132
        }
      ]
    },
    {
      "cell_type": "markdown",
      "metadata": {
        "id": "bBXniF6gPx9q",
        "colab_type": "text"
      },
      "source": [
        "Dot product of vectors $v, u \\in \\mathbb{R}^{n} \\equiv \\mathbb{R}^{1 \\times n}$ define as $v^{T}u$"
      ]
    },
    {
      "cell_type": "markdown",
      "metadata": {
        "id": "1gX_GsJmPx9r",
        "colab_type": "text"
      },
      "source": [
        "Prove that $uv^{T} = vu^{T}$ for each $v, u \\in \\mathbb{R}^{n}$"
      ]
    },
    {
      "cell_type": "markdown",
      "metadata": {
        "id": "j01j6l0Dt52x",
        "colab_type": "text"
      },
      "source": [
        "***Proof:***\n",
        "$ uv^T=\\sum_i u_iv_i = \\sum_i v_i u_i = vu^T $"
      ]
    },
    {
      "cell_type": "markdown",
      "metadata": {
        "id": "aheMSQ5jPx9r",
        "colab_type": "text"
      },
      "source": [
        "For each pair of matrices $A, B \\in \\mathbb{R}^{n \\times m}$ holds:\n",
        "- $A + B = B + A$\n",
        "- $(A + B) + C = B + (A + C)$\n",
        "- $A(B + C) = AB + AC$\n",
        "- $A(BC) = (AB)C$"
      ]
    },
    {
      "cell_type": "markdown",
      "metadata": {
        "id": "TysLsAv4Px9s",
        "colab_type": "text"
      },
      "source": [
        "Prove that $(AB)^{T} = B^{T}A^{T}$ for each pair of matrices $A, B \\in \\mathbb{R}^{n \\times m}$"
      ]
    },
    {
      "cell_type": "markdown",
      "metadata": {
        "id": "klDHt-eMuefG",
        "colab_type": "text"
      },
      "source": [
        "***Proof:***\n",
        "${AB_{i,j}}^T = AB_{j,i} =  \\sum_{k} A_{j,k} B_{k,i} = \\sum_k B_{k,i} A_{j,k} =\\sum_k {B^T}_{i,k} {A^T}_{k,j} = B^T A^T $"
      ]
    },
    {
      "cell_type": "markdown",
      "metadata": {
        "id": "sV-ZAYViPx9s",
        "colab_type": "text"
      },
      "source": [
        "For instance $Ax=b$"
      ]
    },
    {
      "cell_type": "markdown",
      "metadata": {
        "id": "q9vPZ0DDPx9s",
        "colab_type": "text"
      },
      "source": [
        "Vectorization vs loops"
      ]
    },
    {
      "cell_type": "code",
      "metadata": {
        "id": "VOpi_VDZPx9t",
        "colab_type": "code",
        "outputId": "14f64c0b-b90c-4363-f73a-0d67f696d04c",
        "colab": {
          "base_uri": "https://localhost:8080/",
          "height": 208
        }
      },
      "source": [
        "l1 = np.random.randn(3, 4)\n",
        "l2 = np.random.randn(4, 6)\n",
        "l1, l2"
      ],
      "execution_count": 0,
      "outputs": [
        {
          "output_type": "execute_result",
          "data": {
            "text/plain": [
              "(array([[-1.34692238, -1.22289475,  0.72439195, -1.66548866],\n",
              "        [-0.37227942, -0.90130691, -0.18189233,  0.99347645],\n",
              "        [ 0.31943078, -0.85333904,  1.67566908,  0.46485237]]),\n",
              " array([[ 0.97474664,  1.12741302,  0.05636026,  1.27625796,  1.00117174,\n",
              "          0.11253885],\n",
              "        [-0.92389753,  0.59536644,  0.14915925, -1.13599516,  0.73425647,\n",
              "         -0.17754879],\n",
              "        [ 1.51063823, -0.08977545, -1.03860687,  0.19507401,  0.75389635,\n",
              "         -0.87369097],\n",
              "        [-0.28438966, -0.6487835 , -1.21713903,  0.3614335 , -0.40512317,\n",
              "          1.34138029]]))"
            ]
          },
          "metadata": {
            "tags": []
          },
          "execution_count": 133
        }
      ]
    },
    {
      "cell_type": "code",
      "metadata": {
        "id": "JNHL5F8wPx9w",
        "colab_type": "code",
        "colab": {}
      },
      "source": [
        "def dot_prod(mx1, mx2, verbose = False):\n",
        "    mx3 = np.zeros((mx1.shape[0], mx2.shape[1]))\n",
        "    if verbose: print(f'mx3.shape = {mx3.shape}')\n",
        "    for i in range(mx1.shape[0]):\n",
        "        if verbose: print(f'i = {i}')\n",
        "        for k in range(mx2.shape[1]):\n",
        "            if verbose: print(f'\\tk = {k}')\n",
        "            for j in range(mx1.shape[1]):\n",
        "                if verbose: print(f'\\t\\tj = {j}')\n",
        "                mx3[i, k] += mx1[i, j] * mx2[j, k]\n",
        "    \n",
        "    return mx3\n",
        "            "
      ],
      "execution_count": 0,
      "outputs": []
    },
    {
      "cell_type": "code",
      "metadata": {
        "scrolled": true,
        "id": "eej4KAHqPx9w",
        "colab_type": "code",
        "outputId": "35bfc259-ab7b-4ffc-e177-f517cb357c2e",
        "colab": {
          "base_uri": "https://localhost:8080/",
          "height": 52
        }
      },
      "source": [
        "%time l3_loop = dot_prod(l1, l2)"
      ],
      "execution_count": 0,
      "outputs": [
        {
          "output_type": "stream",
          "text": [
            "CPU times: user 79 µs, sys: 0 ns, total: 79 µs\n",
            "Wall time: 83 µs\n"
          ],
          "name": "stdout"
        }
      ]
    },
    {
      "cell_type": "code",
      "metadata": {
        "id": "nihez759Px9x",
        "colab_type": "code",
        "outputId": "6b39f05e-5019-4522-d7d6-e0be6bca8e39",
        "colab": {
          "base_uri": "https://localhost:8080/",
          "height": 121
        }
      },
      "source": [
        "l3_loop"
      ],
      "execution_count": 0,
      "outputs": [
        {
          "output_type": "execute_result",
          "data": {
            "text/plain": [
              "array([[ 1.38486331, -1.23109936,  1.01645384, -0.79047125, -1.02557449,\n",
              "        -2.80140599],\n",
              "       [-0.08747082, -1.58454221, -1.17570436,  0.8723489 , -1.57411435,\n",
              "         1.60967747],\n",
              "       [ 3.49889248, -0.5999415 , -2.41543159,  1.87195779,  0.7681937 ,\n",
              "        -0.65301545]])"
            ]
          },
          "metadata": {
            "tags": []
          },
          "execution_count": 136
        }
      ]
    },
    {
      "cell_type": "code",
      "metadata": {
        "id": "oohpAvNfPx9y",
        "colab_type": "code",
        "outputId": "fb042aa6-c847-4d04-dbeb-b081a7940d18",
        "colab": {
          "base_uri": "https://localhost:8080/",
          "height": 156
        }
      },
      "source": [
        "%time l1 @ l2"
      ],
      "execution_count": 0,
      "outputs": [
        {
          "output_type": "stream",
          "text": [
            "CPU times: user 41 µs, sys: 0 ns, total: 41 µs\n",
            "Wall time: 44.8 µs\n"
          ],
          "name": "stdout"
        },
        {
          "output_type": "execute_result",
          "data": {
            "text/plain": [
              "array([[ 1.38486331, -1.23109936,  1.01645384, -0.79047125, -1.02557449,\n",
              "        -2.80140599],\n",
              "       [-0.08747082, -1.58454221, -1.17570436,  0.8723489 , -1.57411435,\n",
              "         1.60967747],\n",
              "       [ 3.49889248, -0.5999415 , -2.41543159,  1.87195779,  0.7681937 ,\n",
              "        -0.65301545]])"
            ]
          },
          "metadata": {
            "tags": []
          },
          "execution_count": 137
        }
      ]
    },
    {
      "cell_type": "code",
      "metadata": {
        "scrolled": true,
        "id": "DSqUi8EsPx91",
        "colab_type": "code",
        "outputId": "574885df-86c8-4c3e-d87e-a977332236d9",
        "colab": {
          "base_uri": "https://localhost:8080/",
          "height": 468
        }
      },
      "source": [
        "b1 = np.random.randn(500, 10000)\n",
        "b2 = np.random.randn(10000, 800)\n",
        "b1, b2"
      ],
      "execution_count": 0,
      "outputs": [
        {
          "output_type": "execute_result",
          "data": {
            "text/plain": [
              "(array([[ 1.17396898,  0.4540408 ,  1.73976535, ..., -1.73474368,\n",
              "          0.29319212,  0.73275708],\n",
              "        [ 0.90506116, -0.34038833,  0.5848684 , ...,  0.43191027,\n",
              "         -0.60682755, -0.14778143],\n",
              "        [ 1.38829445, -1.09055164,  1.33345409, ...,  0.95230589,\n",
              "          0.84307182,  0.01992393],\n",
              "        ...,\n",
              "        [-0.27545372,  1.43027236, -0.03862311, ..., -0.77004803,\n",
              "          0.78908425,  1.27865119],\n",
              "        [-1.37862162, -0.24992877, -0.71903677, ...,  0.3113555 ,\n",
              "          1.04719293,  0.52294189],\n",
              "        [ 0.08954027,  2.13323649, -0.38559528, ...,  0.44657962,\n",
              "         -0.18940454, -1.13849471]]),\n",
              " array([[-0.09894974, -0.08217734,  0.16936205, ...,  0.42608814,\n",
              "         -0.51015115, -0.72020847],\n",
              "        [ 0.73546231, -3.40661926,  0.23943229, ...,  0.01130434,\n",
              "          0.98210549,  0.79988656],\n",
              "        [-0.48881453, -0.35532952,  2.19976492, ..., -0.08611902,\n",
              "         -0.67324552,  1.03474942],\n",
              "        ...,\n",
              "        [-0.01887623,  1.14371377,  0.12659463, ...,  2.66204955,\n",
              "         -0.89373626,  0.58578191],\n",
              "        [-0.38744161, -1.08402315, -0.99185683, ..., -1.05828495,\n",
              "         -0.97284693, -0.71424607],\n",
              "        [ 0.38324597,  1.23974853,  0.1132705 , ..., -0.64472591,\n",
              "         -0.0412582 ,  0.42064554]]))"
            ]
          },
          "metadata": {
            "tags": []
          },
          "execution_count": 138
        }
      ]
    },
    {
      "cell_type": "code",
      "metadata": {
        "scrolled": false,
        "id": "OgahsSatPx92",
        "colab_type": "code",
        "outputId": "064e7c58-376d-484e-ed8e-cb6f814dd254",
        "colab": {
          "base_uri": "https://localhost:8080/",
          "height": 381
        }
      },
      "source": [
        "%time b3_loop = dot_prod(b1, b2)"
      ],
      "execution_count": 0,
      "outputs": [
        {
          "output_type": "error",
          "ename": "KeyboardInterrupt",
          "evalue": "ignored",
          "traceback": [
            "\u001b[0;31m---------------------------------------------------------------------------\u001b[0m",
            "\u001b[0;31mKeyboardInterrupt\u001b[0m                         Traceback (most recent call last)",
            "\u001b[0;32m<ipython-input-139-bdc76f074960>\u001b[0m in \u001b[0;36m<module>\u001b[0;34m()\u001b[0m\n\u001b[0;32m----> 1\u001b[0;31m \u001b[0mget_ipython\u001b[0m\u001b[0;34m(\u001b[0m\u001b[0;34m)\u001b[0m\u001b[0;34m.\u001b[0m\u001b[0mmagic\u001b[0m\u001b[0;34m(\u001b[0m\u001b[0;34m'time b3_loop = dot_prod(b1, b2)'\u001b[0m\u001b[0;34m)\u001b[0m\u001b[0;34m\u001b[0m\u001b[0;34m\u001b[0m\u001b[0m\n\u001b[0m",
            "\u001b[0;32m/usr/local/lib/python3.6/dist-packages/IPython/core/interactiveshell.py\u001b[0m in \u001b[0;36mmagic\u001b[0;34m(self, arg_s)\u001b[0m\n\u001b[1;32m   2158\u001b[0m         \u001b[0mmagic_name\u001b[0m\u001b[0;34m,\u001b[0m \u001b[0m_\u001b[0m\u001b[0;34m,\u001b[0m \u001b[0mmagic_arg_s\u001b[0m \u001b[0;34m=\u001b[0m \u001b[0marg_s\u001b[0m\u001b[0;34m.\u001b[0m\u001b[0mpartition\u001b[0m\u001b[0;34m(\u001b[0m\u001b[0;34m' '\u001b[0m\u001b[0;34m)\u001b[0m\u001b[0;34m\u001b[0m\u001b[0;34m\u001b[0m\u001b[0m\n\u001b[1;32m   2159\u001b[0m         \u001b[0mmagic_name\u001b[0m \u001b[0;34m=\u001b[0m \u001b[0mmagic_name\u001b[0m\u001b[0;34m.\u001b[0m\u001b[0mlstrip\u001b[0m\u001b[0;34m(\u001b[0m\u001b[0mprefilter\u001b[0m\u001b[0;34m.\u001b[0m\u001b[0mESC_MAGIC\u001b[0m\u001b[0;34m)\u001b[0m\u001b[0;34m\u001b[0m\u001b[0;34m\u001b[0m\u001b[0m\n\u001b[0;32m-> 2160\u001b[0;31m         \u001b[0;32mreturn\u001b[0m \u001b[0mself\u001b[0m\u001b[0;34m.\u001b[0m\u001b[0mrun_line_magic\u001b[0m\u001b[0;34m(\u001b[0m\u001b[0mmagic_name\u001b[0m\u001b[0;34m,\u001b[0m \u001b[0mmagic_arg_s\u001b[0m\u001b[0;34m)\u001b[0m\u001b[0;34m\u001b[0m\u001b[0;34m\u001b[0m\u001b[0m\n\u001b[0m\u001b[1;32m   2161\u001b[0m \u001b[0;34m\u001b[0m\u001b[0m\n\u001b[1;32m   2162\u001b[0m     \u001b[0;31m#-------------------------------------------------------------------------\u001b[0m\u001b[0;34m\u001b[0m\u001b[0;34m\u001b[0m\u001b[0;34m\u001b[0m\u001b[0m\n",
            "\u001b[0;32m/usr/local/lib/python3.6/dist-packages/IPython/core/interactiveshell.py\u001b[0m in \u001b[0;36mrun_line_magic\u001b[0;34m(self, magic_name, line)\u001b[0m\n\u001b[1;32m   2079\u001b[0m                 \u001b[0mkwargs\u001b[0m\u001b[0;34m[\u001b[0m\u001b[0;34m'local_ns'\u001b[0m\u001b[0;34m]\u001b[0m \u001b[0;34m=\u001b[0m \u001b[0msys\u001b[0m\u001b[0;34m.\u001b[0m\u001b[0m_getframe\u001b[0m\u001b[0;34m(\u001b[0m\u001b[0mstack_depth\u001b[0m\u001b[0;34m)\u001b[0m\u001b[0;34m.\u001b[0m\u001b[0mf_locals\u001b[0m\u001b[0;34m\u001b[0m\u001b[0;34m\u001b[0m\u001b[0m\n\u001b[1;32m   2080\u001b[0m             \u001b[0;32mwith\u001b[0m \u001b[0mself\u001b[0m\u001b[0;34m.\u001b[0m\u001b[0mbuiltin_trap\u001b[0m\u001b[0;34m:\u001b[0m\u001b[0;34m\u001b[0m\u001b[0;34m\u001b[0m\u001b[0m\n\u001b[0;32m-> 2081\u001b[0;31m                 \u001b[0mresult\u001b[0m \u001b[0;34m=\u001b[0m \u001b[0mfn\u001b[0m\u001b[0;34m(\u001b[0m\u001b[0;34m*\u001b[0m\u001b[0margs\u001b[0m\u001b[0;34m,\u001b[0m\u001b[0;34m**\u001b[0m\u001b[0mkwargs\u001b[0m\u001b[0;34m)\u001b[0m\u001b[0;34m\u001b[0m\u001b[0;34m\u001b[0m\u001b[0m\n\u001b[0m\u001b[1;32m   2082\u001b[0m             \u001b[0;32mreturn\u001b[0m \u001b[0mresult\u001b[0m\u001b[0;34m\u001b[0m\u001b[0;34m\u001b[0m\u001b[0m\n\u001b[1;32m   2083\u001b[0m \u001b[0;34m\u001b[0m\u001b[0m\n",
            "\u001b[0;32m</usr/local/lib/python3.6/dist-packages/decorator.py:decorator-gen-60>\u001b[0m in \u001b[0;36mtime\u001b[0;34m(self, line, cell, local_ns)\u001b[0m\n",
            "\u001b[0;32m/usr/local/lib/python3.6/dist-packages/IPython/core/magic.py\u001b[0m in \u001b[0;36m<lambda>\u001b[0;34m(f, *a, **k)\u001b[0m\n\u001b[1;32m    186\u001b[0m     \u001b[0;31m# but it's overkill for just that one bit of state.\u001b[0m\u001b[0;34m\u001b[0m\u001b[0;34m\u001b[0m\u001b[0;34m\u001b[0m\u001b[0m\n\u001b[1;32m    187\u001b[0m     \u001b[0;32mdef\u001b[0m \u001b[0mmagic_deco\u001b[0m\u001b[0;34m(\u001b[0m\u001b[0marg\u001b[0m\u001b[0;34m)\u001b[0m\u001b[0;34m:\u001b[0m\u001b[0;34m\u001b[0m\u001b[0;34m\u001b[0m\u001b[0m\n\u001b[0;32m--> 188\u001b[0;31m         \u001b[0mcall\u001b[0m \u001b[0;34m=\u001b[0m \u001b[0;32mlambda\u001b[0m \u001b[0mf\u001b[0m\u001b[0;34m,\u001b[0m \u001b[0;34m*\u001b[0m\u001b[0ma\u001b[0m\u001b[0;34m,\u001b[0m \u001b[0;34m**\u001b[0m\u001b[0mk\u001b[0m\u001b[0;34m:\u001b[0m \u001b[0mf\u001b[0m\u001b[0;34m(\u001b[0m\u001b[0;34m*\u001b[0m\u001b[0ma\u001b[0m\u001b[0;34m,\u001b[0m \u001b[0;34m**\u001b[0m\u001b[0mk\u001b[0m\u001b[0;34m)\u001b[0m\u001b[0;34m\u001b[0m\u001b[0;34m\u001b[0m\u001b[0m\n\u001b[0m\u001b[1;32m    189\u001b[0m \u001b[0;34m\u001b[0m\u001b[0m\n\u001b[1;32m    190\u001b[0m         \u001b[0;32mif\u001b[0m \u001b[0mcallable\u001b[0m\u001b[0;34m(\u001b[0m\u001b[0marg\u001b[0m\u001b[0;34m)\u001b[0m\u001b[0;34m:\u001b[0m\u001b[0;34m\u001b[0m\u001b[0;34m\u001b[0m\u001b[0m\n",
            "\u001b[0;32m/usr/local/lib/python3.6/dist-packages/IPython/core/magics/execution.py\u001b[0m in \u001b[0;36mtime\u001b[0;34m(self, line, cell, local_ns)\u001b[0m\n\u001b[1;32m   1191\u001b[0m         \u001b[0;32melse\u001b[0m\u001b[0;34m:\u001b[0m\u001b[0;34m\u001b[0m\u001b[0;34m\u001b[0m\u001b[0m\n\u001b[1;32m   1192\u001b[0m             \u001b[0mst\u001b[0m \u001b[0;34m=\u001b[0m \u001b[0mclock2\u001b[0m\u001b[0;34m(\u001b[0m\u001b[0;34m)\u001b[0m\u001b[0;34m\u001b[0m\u001b[0;34m\u001b[0m\u001b[0m\n\u001b[0;32m-> 1193\u001b[0;31m             \u001b[0mexec\u001b[0m\u001b[0;34m(\u001b[0m\u001b[0mcode\u001b[0m\u001b[0;34m,\u001b[0m \u001b[0mglob\u001b[0m\u001b[0;34m,\u001b[0m \u001b[0mlocal_ns\u001b[0m\u001b[0;34m)\u001b[0m\u001b[0;34m\u001b[0m\u001b[0;34m\u001b[0m\u001b[0m\n\u001b[0m\u001b[1;32m   1194\u001b[0m             \u001b[0mend\u001b[0m \u001b[0;34m=\u001b[0m \u001b[0mclock2\u001b[0m\u001b[0;34m(\u001b[0m\u001b[0;34m)\u001b[0m\u001b[0;34m\u001b[0m\u001b[0;34m\u001b[0m\u001b[0m\n\u001b[1;32m   1195\u001b[0m             \u001b[0mout\u001b[0m \u001b[0;34m=\u001b[0m \u001b[0;32mNone\u001b[0m\u001b[0;34m\u001b[0m\u001b[0;34m\u001b[0m\u001b[0m\n",
            "\u001b[0;32m<timed exec>\u001b[0m in \u001b[0;36m<module>\u001b[0;34m()\u001b[0m\n",
            "\u001b[0;32m<ipython-input-134-671bba6402ae>\u001b[0m in \u001b[0;36mdot_prod\u001b[0;34m(mx1, mx2, verbose)\u001b[0m\n\u001b[1;32m      8\u001b[0m             \u001b[0;32mfor\u001b[0m \u001b[0mj\u001b[0m \u001b[0;32min\u001b[0m \u001b[0mrange\u001b[0m\u001b[0;34m(\u001b[0m\u001b[0mmx1\u001b[0m\u001b[0;34m.\u001b[0m\u001b[0mshape\u001b[0m\u001b[0;34m[\u001b[0m\u001b[0;36m1\u001b[0m\u001b[0;34m]\u001b[0m\u001b[0;34m)\u001b[0m\u001b[0;34m:\u001b[0m\u001b[0;34m\u001b[0m\u001b[0;34m\u001b[0m\u001b[0m\n\u001b[1;32m      9\u001b[0m                 \u001b[0;32mif\u001b[0m \u001b[0mverbose\u001b[0m\u001b[0;34m:\u001b[0m \u001b[0mprint\u001b[0m\u001b[0;34m(\u001b[0m\u001b[0;34mf'\\t\\tj = {j}'\u001b[0m\u001b[0;34m)\u001b[0m\u001b[0;34m\u001b[0m\u001b[0;34m\u001b[0m\u001b[0m\n\u001b[0;32m---> 10\u001b[0;31m                 \u001b[0mmx3\u001b[0m\u001b[0;34m[\u001b[0m\u001b[0mi\u001b[0m\u001b[0;34m,\u001b[0m \u001b[0mk\u001b[0m\u001b[0;34m]\u001b[0m \u001b[0;34m+=\u001b[0m \u001b[0mmx1\u001b[0m\u001b[0;34m[\u001b[0m\u001b[0mi\u001b[0m\u001b[0;34m,\u001b[0m \u001b[0mj\u001b[0m\u001b[0;34m]\u001b[0m \u001b[0;34m*\u001b[0m \u001b[0mmx2\u001b[0m\u001b[0;34m[\u001b[0m\u001b[0mj\u001b[0m\u001b[0;34m,\u001b[0m \u001b[0mk\u001b[0m\u001b[0;34m]\u001b[0m\u001b[0;34m\u001b[0m\u001b[0;34m\u001b[0m\u001b[0m\n\u001b[0m\u001b[1;32m     11\u001b[0m \u001b[0;34m\u001b[0m\u001b[0m\n\u001b[1;32m     12\u001b[0m     \u001b[0;32mreturn\u001b[0m \u001b[0mmx3\u001b[0m\u001b[0;34m\u001b[0m\u001b[0;34m\u001b[0m\u001b[0m\n",
            "\u001b[0;31mKeyboardInterrupt\u001b[0m: "
          ]
        }
      ]
    },
    {
      "cell_type": "code",
      "metadata": {
        "id": "EbPZ1TTQPx93",
        "colab_type": "code",
        "colab": {}
      },
      "source": [
        "def dot_prod_2(mx1, mx2, verbose = False):\n",
        "    mx3 = np.zeros((mx1.shape[0], mx2.shape[1]))\n",
        "    if verbose: print(f'mx3.shape = {mx3.shape}')\n",
        "    for i in range(mx1.shape[0]):\n",
        "        if verbose: print(f'i = {i}')\n",
        "        for k in range(mx2.shape[1]):\n",
        "            mx3[i, k] = mx1[i, :] @ mx2[:, k]\n",
        "            if verbose: \n",
        "                print(f'\\tk = {mx1[i:]}') \n",
        "                print(f'\\tk = {mx2[:, k]}')\n",
        "            \n",
        "            #mx3[i, k] = s\n",
        "    \n",
        "    return mx3"
      ],
      "execution_count": 0,
      "outputs": []
    },
    {
      "cell_type": "code",
      "metadata": {
        "scrolled": true,
        "id": "sXM2A8GAPx94",
        "colab_type": "code",
        "colab": {}
      },
      "source": [
        "%time l3_loop = dot_prod_2(l1, l2)"
      ],
      "execution_count": 0,
      "outputs": []
    },
    {
      "cell_type": "code",
      "metadata": {
        "id": "FAGaHUiRPx95",
        "colab_type": "code",
        "colab": {}
      },
      "source": [
        "l3_loop"
      ],
      "execution_count": 0,
      "outputs": []
    },
    {
      "cell_type": "code",
      "metadata": {
        "scrolled": true,
        "id": "Q8--CQBHPx96",
        "colab_type": "code",
        "colab": {}
      },
      "source": [
        "%time b3_loop = dot_prod_2(b1, b2)"
      ],
      "execution_count": 0,
      "outputs": []
    },
    {
      "cell_type": "markdown",
      "metadata": {
        "id": "GAcPhewjPx97",
        "colab_type": "text"
      },
      "source": [
        "Matrix vector multiplication"
      ]
    },
    {
      "cell_type": "code",
      "metadata": {
        "id": "mGeG0ZkKPx97",
        "colab_type": "code",
        "colab": {}
      },
      "source": [
        "def dot_prod_3(mx1, mx2, verbose = False):\n",
        "    mx3 = np.zeros((mx1.shape[0], mx2.shape[1]))\n",
        "    if verbose: print(f'mx3.shape = {mx3.shape}')\n",
        "    for i in range(mx1.shape[0]):\n",
        "        if verbose: print(f'i = {i}')\n",
        "        mx3[i, :] = mx1[i, :] @ mx2\n",
        "        if verbose: \n",
        "            print(f'\\tk = {mx2[:, k]}')\n",
        "            \n",
        "            #mx3[i, k] = s\n",
        "    \n",
        "    return mx3"
      ],
      "execution_count": 0,
      "outputs": []
    },
    {
      "cell_type": "code",
      "metadata": {
        "id": "WIpciZEOPx98",
        "colab_type": "code",
        "colab": {}
      },
      "source": [
        "%time l3_loop = dot_prod_3(l1, l2)"
      ],
      "execution_count": 0,
      "outputs": []
    },
    {
      "cell_type": "code",
      "metadata": {
        "id": "mhjSWd2pPx99",
        "colab_type": "code",
        "colab": {}
      },
      "source": [
        "l3_loop"
      ],
      "execution_count": 0,
      "outputs": []
    },
    {
      "cell_type": "code",
      "metadata": {
        "id": "dKznAYXBPx9-",
        "colab_type": "code",
        "colab": {}
      },
      "source": [
        "%time b3_loop = dot_prod_3(b1, b2)"
      ],
      "execution_count": 0,
      "outputs": []
    },
    {
      "cell_type": "markdown",
      "metadata": {
        "id": "Jns64EEaPx9_",
        "colab_type": "text"
      },
      "source": [
        "## Vectorize version"
      ]
    },
    {
      "cell_type": "code",
      "metadata": {
        "id": "5PVeXEOpPx-A",
        "colab_type": "code",
        "colab": {}
      },
      "source": [
        "%time l3_vec = l1 @ l2"
      ],
      "execution_count": 0,
      "outputs": []
    },
    {
      "cell_type": "code",
      "metadata": {
        "id": "FHx21HhZPx-B",
        "colab_type": "code",
        "colab": {}
      },
      "source": [
        "l3_vec"
      ],
      "execution_count": 0,
      "outputs": []
    },
    {
      "cell_type": "code",
      "metadata": {
        "id": "muCMlH0kPx-B",
        "colab_type": "code",
        "colab": {}
      },
      "source": [
        "%time b3_vec = b1 @ b2"
      ],
      "execution_count": 0,
      "outputs": []
    },
    {
      "cell_type": "code",
      "metadata": {
        "scrolled": true,
        "id": "sxpLR-uzPx-C",
        "colab_type": "code",
        "colab": {}
      },
      "source": [
        "b3_vec"
      ],
      "execution_count": 0,
      "outputs": []
    },
    {
      "cell_type": "code",
      "metadata": {
        "id": "R52nBdNAPx-D",
        "colab_type": "code",
        "colab": {}
      },
      "source": [
        "%time l3 = l1 @ l2"
      ],
      "execution_count": 0,
      "outputs": []
    },
    {
      "cell_type": "code",
      "metadata": {
        "id": "CSgePszNPx-F",
        "colab_type": "code",
        "colab": {}
      },
      "source": [
        "%time b3 = b1 @ b2"
      ],
      "execution_count": 0,
      "outputs": []
    },
    {
      "cell_type": "code",
      "metadata": {
        "id": "iQ83OqiZPx-F",
        "colab_type": "code",
        "colab": {}
      },
      "source": [
        "%time b3_vec = b1 @ b2"
      ],
      "execution_count": 0,
      "outputs": []
    },
    {
      "cell_type": "markdown",
      "metadata": {
        "id": "YiGW00-cPx-G",
        "colab_type": "text"
      },
      "source": [
        "## Functions on tensors"
      ]
    },
    {
      "cell_type": "markdown",
      "metadata": {
        "id": "rYYTkMRUPx-H",
        "colab_type": "text"
      },
      "source": [
        "We can define function $f:A \\to B$ where $A, B \\in \\mathbb{R}^{n1 \\times n2 \\dots \\times n_{k}}$ where function is defined elementwise $B_{i, j} = f(A_{i, j})$"
      ]
    },
    {
      "cell_type": "markdown",
      "metadata": {
        "id": "1Pu0QYXEPx-H",
        "colab_type": "text"
      },
      "source": [
        "For instance function $f(x) = x + 5$ on matrix $A \\in \\mathbb{R}^{n \\times m}$ will give us $A + 5$"
      ]
    },
    {
      "cell_type": "code",
      "metadata": {
        "id": "l-_BDGLDPx-H",
        "colab_type": "code",
        "colab": {}
      },
      "source": [
        "mt = np.array([[1, 2], [-1, -2], [0., 4.]])\n",
        "f = lambda x: x + 5\n",
        "print(mt) \n",
        "print(f(mt))\n",
        "print(mt + 5)"
      ],
      "execution_count": 0,
      "outputs": []
    },
    {
      "cell_type": "code",
      "metadata": {
        "id": "6tF4p2PyPx-K",
        "colab_type": "code",
        "colab": {}
      },
      "source": [
        "import numpy as np\n",
        "import math"
      ],
      "execution_count": 0,
      "outputs": []
    },
    {
      "cell_type": "code",
      "metadata": {
        "id": "Z2r67_zkPx-K",
        "colab_type": "code",
        "colab": {}
      },
      "source": [
        "f = lambda x: x**2"
      ],
      "execution_count": 0,
      "outputs": []
    },
    {
      "cell_type": "code",
      "metadata": {
        "id": "eZqoDK1GPx-L",
        "colab_type": "code",
        "outputId": "7b3cbca6-09fd-4714-d7b9-8570e7de953c",
        "colab": {
          "base_uri": "https://localhost:8080/",
          "height": 35
        }
      },
      "source": [
        "f(-1)"
      ],
      "execution_count": 0,
      "outputs": [
        {
          "output_type": "execute_result",
          "data": {
            "text/plain": [
              "1"
            ]
          },
          "metadata": {
            "tags": []
          },
          "execution_count": 142
        }
      ]
    },
    {
      "cell_type": "code",
      "metadata": {
        "id": "2iu_f-Q_Px-M",
        "colab_type": "code",
        "colab": {}
      },
      "source": [
        "x = np.linspace(-5, 5, 1000)"
      ],
      "execution_count": 0,
      "outputs": []
    },
    {
      "cell_type": "code",
      "metadata": {
        "id": "L-2ii0lEPx-N",
        "colab_type": "code",
        "outputId": "828e23d8-3226-4105-ce9b-f0aa086fdf2d",
        "colab": {
          "base_uri": "https://localhost:8080/",
          "height": 1000
        }
      },
      "source": [
        "x"
      ],
      "execution_count": 0,
      "outputs": [
        {
          "output_type": "execute_result",
          "data": {
            "text/plain": [
              "array([-5.        , -4.98998999, -4.97997998, -4.96996997, -4.95995996,\n",
              "       -4.94994995, -4.93993994, -4.92992993, -4.91991992, -4.90990991,\n",
              "       -4.8998999 , -4.88988989, -4.87987988, -4.86986987, -4.85985986,\n",
              "       -4.84984985, -4.83983984, -4.82982983, -4.81981982, -4.80980981,\n",
              "       -4.7997998 , -4.78978979, -4.77977978, -4.76976977, -4.75975976,\n",
              "       -4.74974975, -4.73973974, -4.72972973, -4.71971972, -4.70970971,\n",
              "       -4.6996997 , -4.68968969, -4.67967968, -4.66966967, -4.65965966,\n",
              "       -4.64964965, -4.63963964, -4.62962963, -4.61961962, -4.60960961,\n",
              "       -4.5995996 , -4.58958959, -4.57957958, -4.56956957, -4.55955956,\n",
              "       -4.54954955, -4.53953954, -4.52952953, -4.51951952, -4.50950951,\n",
              "       -4.4994995 , -4.48948949, -4.47947948, -4.46946947, -4.45945946,\n",
              "       -4.44944945, -4.43943944, -4.42942943, -4.41941942, -4.40940941,\n",
              "       -4.3993994 , -4.38938939, -4.37937938, -4.36936937, -4.35935936,\n",
              "       -4.34934935, -4.33933934, -4.32932933, -4.31931932, -4.30930931,\n",
              "       -4.2992993 , -4.28928929, -4.27927928, -4.26926927, -4.25925926,\n",
              "       -4.24924925, -4.23923924, -4.22922923, -4.21921922, -4.20920921,\n",
              "       -4.1991992 , -4.18918919, -4.17917918, -4.16916917, -4.15915916,\n",
              "       -4.14914915, -4.13913914, -4.12912913, -4.11911912, -4.10910911,\n",
              "       -4.0990991 , -4.08908909, -4.07907908, -4.06906907, -4.05905906,\n",
              "       -4.04904905, -4.03903904, -4.02902903, -4.01901902, -4.00900901,\n",
              "       -3.998999  , -3.98898899, -3.97897898, -3.96896897, -3.95895896,\n",
              "       -3.94894895, -3.93893894, -3.92892893, -3.91891892, -3.90890891,\n",
              "       -3.8988989 , -3.88888889, -3.87887888, -3.86886887, -3.85885886,\n",
              "       -3.84884885, -3.83883884, -3.82882883, -3.81881882, -3.80880881,\n",
              "       -3.7987988 , -3.78878879, -3.77877878, -3.76876877, -3.75875876,\n",
              "       -3.74874875, -3.73873874, -3.72872873, -3.71871872, -3.70870871,\n",
              "       -3.6986987 , -3.68868869, -3.67867868, -3.66866867, -3.65865866,\n",
              "       -3.64864865, -3.63863864, -3.62862863, -3.61861862, -3.60860861,\n",
              "       -3.5985986 , -3.58858859, -3.57857858, -3.56856857, -3.55855856,\n",
              "       -3.54854855, -3.53853854, -3.52852853, -3.51851852, -3.50850851,\n",
              "       -3.4984985 , -3.48848849, -3.47847848, -3.46846847, -3.45845846,\n",
              "       -3.44844845, -3.43843844, -3.42842843, -3.41841842, -3.40840841,\n",
              "       -3.3983984 , -3.38838839, -3.37837838, -3.36836837, -3.35835836,\n",
              "       -3.34834835, -3.33833834, -3.32832833, -3.31831832, -3.30830831,\n",
              "       -3.2982983 , -3.28828829, -3.27827828, -3.26826827, -3.25825826,\n",
              "       -3.24824825, -3.23823824, -3.22822823, -3.21821822, -3.20820821,\n",
              "       -3.1981982 , -3.18818819, -3.17817818, -3.16816817, -3.15815816,\n",
              "       -3.14814815, -3.13813814, -3.12812813, -3.11811812, -3.10810811,\n",
              "       -3.0980981 , -3.08808809, -3.07807808, -3.06806807, -3.05805806,\n",
              "       -3.04804805, -3.03803804, -3.02802803, -3.01801802, -3.00800801,\n",
              "       -2.997998  , -2.98798799, -2.97797798, -2.96796797, -2.95795796,\n",
              "       -2.94794795, -2.93793794, -2.92792793, -2.91791792, -2.90790791,\n",
              "       -2.8978979 , -2.88788789, -2.87787788, -2.86786787, -2.85785786,\n",
              "       -2.84784785, -2.83783784, -2.82782783, -2.81781782, -2.80780781,\n",
              "       -2.7977978 , -2.78778779, -2.77777778, -2.76776777, -2.75775776,\n",
              "       -2.74774775, -2.73773774, -2.72772773, -2.71771772, -2.70770771,\n",
              "       -2.6976977 , -2.68768769, -2.67767768, -2.66766767, -2.65765766,\n",
              "       -2.64764765, -2.63763764, -2.62762763, -2.61761762, -2.60760761,\n",
              "       -2.5975976 , -2.58758759, -2.57757758, -2.56756757, -2.55755756,\n",
              "       -2.54754755, -2.53753754, -2.52752753, -2.51751752, -2.50750751,\n",
              "       -2.4974975 , -2.48748749, -2.47747748, -2.46746747, -2.45745746,\n",
              "       -2.44744745, -2.43743744, -2.42742743, -2.41741742, -2.40740741,\n",
              "       -2.3973974 , -2.38738739, -2.37737738, -2.36736737, -2.35735736,\n",
              "       -2.34734735, -2.33733734, -2.32732733, -2.31731732, -2.30730731,\n",
              "       -2.2972973 , -2.28728729, -2.27727728, -2.26726727, -2.25725726,\n",
              "       -2.24724725, -2.23723724, -2.22722723, -2.21721722, -2.20720721,\n",
              "       -2.1971972 , -2.18718719, -2.17717718, -2.16716717, -2.15715716,\n",
              "       -2.14714715, -2.13713714, -2.12712713, -2.11711712, -2.10710711,\n",
              "       -2.0970971 , -2.08708709, -2.07707708, -2.06706707, -2.05705706,\n",
              "       -2.04704705, -2.03703704, -2.02702703, -2.01701702, -2.00700701,\n",
              "       -1.996997  , -1.98698699, -1.97697698, -1.96696697, -1.95695696,\n",
              "       -1.94694695, -1.93693694, -1.92692693, -1.91691692, -1.90690691,\n",
              "       -1.8968969 , -1.88688689, -1.87687688, -1.86686687, -1.85685686,\n",
              "       -1.84684685, -1.83683684, -1.82682683, -1.81681682, -1.80680681,\n",
              "       -1.7967968 , -1.78678679, -1.77677678, -1.76676677, -1.75675676,\n",
              "       -1.74674675, -1.73673674, -1.72672673, -1.71671672, -1.70670671,\n",
              "       -1.6966967 , -1.68668669, -1.67667668, -1.66666667, -1.65665666,\n",
              "       -1.64664665, -1.63663664, -1.62662663, -1.61661662, -1.60660661,\n",
              "       -1.5965966 , -1.58658659, -1.57657658, -1.56656657, -1.55655656,\n",
              "       -1.54654655, -1.53653654, -1.52652653, -1.51651652, -1.50650651,\n",
              "       -1.4964965 , -1.48648649, -1.47647648, -1.46646647, -1.45645646,\n",
              "       -1.44644645, -1.43643644, -1.42642643, -1.41641642, -1.40640641,\n",
              "       -1.3963964 , -1.38638639, -1.37637638, -1.36636637, -1.35635636,\n",
              "       -1.34634635, -1.33633634, -1.32632633, -1.31631632, -1.30630631,\n",
              "       -1.2962963 , -1.28628629, -1.27627628, -1.26626627, -1.25625626,\n",
              "       -1.24624625, -1.23623624, -1.22622623, -1.21621622, -1.20620621,\n",
              "       -1.1961962 , -1.18618619, -1.17617618, -1.16616617, -1.15615616,\n",
              "       -1.14614615, -1.13613614, -1.12612613, -1.11611612, -1.10610611,\n",
              "       -1.0960961 , -1.08608609, -1.07607608, -1.06606607, -1.05605606,\n",
              "       -1.04604605, -1.03603604, -1.02602603, -1.01601602, -1.00600601,\n",
              "       -0.995996  , -0.98598599, -0.97597598, -0.96596597, -0.95595596,\n",
              "       -0.94594595, -0.93593594, -0.92592593, -0.91591592, -0.90590591,\n",
              "       -0.8958959 , -0.88588589, -0.87587588, -0.86586587, -0.85585586,\n",
              "       -0.84584585, -0.83583584, -0.82582583, -0.81581582, -0.80580581,\n",
              "       -0.7957958 , -0.78578579, -0.77577578, -0.76576577, -0.75575576,\n",
              "       -0.74574575, -0.73573574, -0.72572573, -0.71571572, -0.70570571,\n",
              "       -0.6956957 , -0.68568569, -0.67567568, -0.66566567, -0.65565566,\n",
              "       -0.64564565, -0.63563564, -0.62562563, -0.61561562, -0.60560561,\n",
              "       -0.5955956 , -0.58558559, -0.57557558, -0.56556557, -0.55555556,\n",
              "       -0.54554555, -0.53553554, -0.52552553, -0.51551552, -0.50550551,\n",
              "       -0.4954955 , -0.48548549, -0.47547548, -0.46546547, -0.45545546,\n",
              "       -0.44544545, -0.43543544, -0.42542543, -0.41541542, -0.40540541,\n",
              "       -0.3953954 , -0.38538539, -0.37537538, -0.36536537, -0.35535536,\n",
              "       -0.34534535, -0.33533534, -0.32532533, -0.31531532, -0.30530531,\n",
              "       -0.2952953 , -0.28528529, -0.27527528, -0.26526527, -0.25525526,\n",
              "       -0.24524525, -0.23523524, -0.22522523, -0.21521522, -0.20520521,\n",
              "       -0.1951952 , -0.18518519, -0.17517518, -0.16516517, -0.15515516,\n",
              "       -0.14514515, -0.13513514, -0.12512513, -0.11511512, -0.10510511,\n",
              "       -0.0950951 , -0.08508509, -0.07507508, -0.06506507, -0.05505506,\n",
              "       -0.04504505, -0.03503504, -0.02502503, -0.01501502, -0.00500501,\n",
              "        0.00500501,  0.01501502,  0.02502503,  0.03503504,  0.04504505,\n",
              "        0.05505506,  0.06506507,  0.07507508,  0.08508509,  0.0950951 ,\n",
              "        0.10510511,  0.11511512,  0.12512513,  0.13513514,  0.14514515,\n",
              "        0.15515516,  0.16516517,  0.17517518,  0.18518519,  0.1951952 ,\n",
              "        0.20520521,  0.21521522,  0.22522523,  0.23523524,  0.24524525,\n",
              "        0.25525526,  0.26526527,  0.27527528,  0.28528529,  0.2952953 ,\n",
              "        0.30530531,  0.31531532,  0.32532533,  0.33533534,  0.34534535,\n",
              "        0.35535536,  0.36536537,  0.37537538,  0.38538539,  0.3953954 ,\n",
              "        0.40540541,  0.41541542,  0.42542543,  0.43543544,  0.44544545,\n",
              "        0.45545546,  0.46546547,  0.47547548,  0.48548549,  0.4954955 ,\n",
              "        0.50550551,  0.51551552,  0.52552553,  0.53553554,  0.54554555,\n",
              "        0.55555556,  0.56556557,  0.57557558,  0.58558559,  0.5955956 ,\n",
              "        0.60560561,  0.61561562,  0.62562563,  0.63563564,  0.64564565,\n",
              "        0.65565566,  0.66566567,  0.67567568,  0.68568569,  0.6956957 ,\n",
              "        0.70570571,  0.71571572,  0.72572573,  0.73573574,  0.74574575,\n",
              "        0.75575576,  0.76576577,  0.77577578,  0.78578579,  0.7957958 ,\n",
              "        0.80580581,  0.81581582,  0.82582583,  0.83583584,  0.84584585,\n",
              "        0.85585586,  0.86586587,  0.87587588,  0.88588589,  0.8958959 ,\n",
              "        0.90590591,  0.91591592,  0.92592593,  0.93593594,  0.94594595,\n",
              "        0.95595596,  0.96596597,  0.97597598,  0.98598599,  0.995996  ,\n",
              "        1.00600601,  1.01601602,  1.02602603,  1.03603604,  1.04604605,\n",
              "        1.05605606,  1.06606607,  1.07607608,  1.08608609,  1.0960961 ,\n",
              "        1.10610611,  1.11611612,  1.12612613,  1.13613614,  1.14614615,\n",
              "        1.15615616,  1.16616617,  1.17617618,  1.18618619,  1.1961962 ,\n",
              "        1.20620621,  1.21621622,  1.22622623,  1.23623624,  1.24624625,\n",
              "        1.25625626,  1.26626627,  1.27627628,  1.28628629,  1.2962963 ,\n",
              "        1.30630631,  1.31631632,  1.32632633,  1.33633634,  1.34634635,\n",
              "        1.35635636,  1.36636637,  1.37637638,  1.38638639,  1.3963964 ,\n",
              "        1.40640641,  1.41641642,  1.42642643,  1.43643644,  1.44644645,\n",
              "        1.45645646,  1.46646647,  1.47647648,  1.48648649,  1.4964965 ,\n",
              "        1.50650651,  1.51651652,  1.52652653,  1.53653654,  1.54654655,\n",
              "        1.55655656,  1.56656657,  1.57657658,  1.58658659,  1.5965966 ,\n",
              "        1.60660661,  1.61661662,  1.62662663,  1.63663664,  1.64664665,\n",
              "        1.65665666,  1.66666667,  1.67667668,  1.68668669,  1.6966967 ,\n",
              "        1.70670671,  1.71671672,  1.72672673,  1.73673674,  1.74674675,\n",
              "        1.75675676,  1.76676677,  1.77677678,  1.78678679,  1.7967968 ,\n",
              "        1.80680681,  1.81681682,  1.82682683,  1.83683684,  1.84684685,\n",
              "        1.85685686,  1.86686687,  1.87687688,  1.88688689,  1.8968969 ,\n",
              "        1.90690691,  1.91691692,  1.92692693,  1.93693694,  1.94694695,\n",
              "        1.95695696,  1.96696697,  1.97697698,  1.98698699,  1.996997  ,\n",
              "        2.00700701,  2.01701702,  2.02702703,  2.03703704,  2.04704705,\n",
              "        2.05705706,  2.06706707,  2.07707708,  2.08708709,  2.0970971 ,\n",
              "        2.10710711,  2.11711712,  2.12712713,  2.13713714,  2.14714715,\n",
              "        2.15715716,  2.16716717,  2.17717718,  2.18718719,  2.1971972 ,\n",
              "        2.20720721,  2.21721722,  2.22722723,  2.23723724,  2.24724725,\n",
              "        2.25725726,  2.26726727,  2.27727728,  2.28728729,  2.2972973 ,\n",
              "        2.30730731,  2.31731732,  2.32732733,  2.33733734,  2.34734735,\n",
              "        2.35735736,  2.36736737,  2.37737738,  2.38738739,  2.3973974 ,\n",
              "        2.40740741,  2.41741742,  2.42742743,  2.43743744,  2.44744745,\n",
              "        2.45745746,  2.46746747,  2.47747748,  2.48748749,  2.4974975 ,\n",
              "        2.50750751,  2.51751752,  2.52752753,  2.53753754,  2.54754755,\n",
              "        2.55755756,  2.56756757,  2.57757758,  2.58758759,  2.5975976 ,\n",
              "        2.60760761,  2.61761762,  2.62762763,  2.63763764,  2.64764765,\n",
              "        2.65765766,  2.66766767,  2.67767768,  2.68768769,  2.6976977 ,\n",
              "        2.70770771,  2.71771772,  2.72772773,  2.73773774,  2.74774775,\n",
              "        2.75775776,  2.76776777,  2.77777778,  2.78778779,  2.7977978 ,\n",
              "        2.80780781,  2.81781782,  2.82782783,  2.83783784,  2.84784785,\n",
              "        2.85785786,  2.86786787,  2.87787788,  2.88788789,  2.8978979 ,\n",
              "        2.90790791,  2.91791792,  2.92792793,  2.93793794,  2.94794795,\n",
              "        2.95795796,  2.96796797,  2.97797798,  2.98798799,  2.997998  ,\n",
              "        3.00800801,  3.01801802,  3.02802803,  3.03803804,  3.04804805,\n",
              "        3.05805806,  3.06806807,  3.07807808,  3.08808809,  3.0980981 ,\n",
              "        3.10810811,  3.11811812,  3.12812813,  3.13813814,  3.14814815,\n",
              "        3.15815816,  3.16816817,  3.17817818,  3.18818819,  3.1981982 ,\n",
              "        3.20820821,  3.21821822,  3.22822823,  3.23823824,  3.24824825,\n",
              "        3.25825826,  3.26826827,  3.27827828,  3.28828829,  3.2982983 ,\n",
              "        3.30830831,  3.31831832,  3.32832833,  3.33833834,  3.34834835,\n",
              "        3.35835836,  3.36836837,  3.37837838,  3.38838839,  3.3983984 ,\n",
              "        3.40840841,  3.41841842,  3.42842843,  3.43843844,  3.44844845,\n",
              "        3.45845846,  3.46846847,  3.47847848,  3.48848849,  3.4984985 ,\n",
              "        3.50850851,  3.51851852,  3.52852853,  3.53853854,  3.54854855,\n",
              "        3.55855856,  3.56856857,  3.57857858,  3.58858859,  3.5985986 ,\n",
              "        3.60860861,  3.61861862,  3.62862863,  3.63863864,  3.64864865,\n",
              "        3.65865866,  3.66866867,  3.67867868,  3.68868869,  3.6986987 ,\n",
              "        3.70870871,  3.71871872,  3.72872873,  3.73873874,  3.74874875,\n",
              "        3.75875876,  3.76876877,  3.77877878,  3.78878879,  3.7987988 ,\n",
              "        3.80880881,  3.81881882,  3.82882883,  3.83883884,  3.84884885,\n",
              "        3.85885886,  3.86886887,  3.87887888,  3.88888889,  3.8988989 ,\n",
              "        3.90890891,  3.91891892,  3.92892893,  3.93893894,  3.94894895,\n",
              "        3.95895896,  3.96896897,  3.97897898,  3.98898899,  3.998999  ,\n",
              "        4.00900901,  4.01901902,  4.02902903,  4.03903904,  4.04904905,\n",
              "        4.05905906,  4.06906907,  4.07907908,  4.08908909,  4.0990991 ,\n",
              "        4.10910911,  4.11911912,  4.12912913,  4.13913914,  4.14914915,\n",
              "        4.15915916,  4.16916917,  4.17917918,  4.18918919,  4.1991992 ,\n",
              "        4.20920921,  4.21921922,  4.22922923,  4.23923924,  4.24924925,\n",
              "        4.25925926,  4.26926927,  4.27927928,  4.28928929,  4.2992993 ,\n",
              "        4.30930931,  4.31931932,  4.32932933,  4.33933934,  4.34934935,\n",
              "        4.35935936,  4.36936937,  4.37937938,  4.38938939,  4.3993994 ,\n",
              "        4.40940941,  4.41941942,  4.42942943,  4.43943944,  4.44944945,\n",
              "        4.45945946,  4.46946947,  4.47947948,  4.48948949,  4.4994995 ,\n",
              "        4.50950951,  4.51951952,  4.52952953,  4.53953954,  4.54954955,\n",
              "        4.55955956,  4.56956957,  4.57957958,  4.58958959,  4.5995996 ,\n",
              "        4.60960961,  4.61961962,  4.62962963,  4.63963964,  4.64964965,\n",
              "        4.65965966,  4.66966967,  4.67967968,  4.68968969,  4.6996997 ,\n",
              "        4.70970971,  4.71971972,  4.72972973,  4.73973974,  4.74974975,\n",
              "        4.75975976,  4.76976977,  4.77977978,  4.78978979,  4.7997998 ,\n",
              "        4.80980981,  4.81981982,  4.82982983,  4.83983984,  4.84984985,\n",
              "        4.85985986,  4.86986987,  4.87987988,  4.88988989,  4.8998999 ,\n",
              "        4.90990991,  4.91991992,  4.92992993,  4.93993994,  4.94994995,\n",
              "        4.95995996,  4.96996997,  4.97997998,  4.98998999,  5.        ])"
            ]
          },
          "metadata": {
            "tags": []
          },
          "execution_count": 144
        }
      ]
    },
    {
      "cell_type": "code",
      "metadata": {
        "id": "swW8UI0aPx-O",
        "colab_type": "code",
        "colab": {}
      },
      "source": [
        "fv = f #np.vectorize(f)"
      ],
      "execution_count": 0,
      "outputs": []
    },
    {
      "cell_type": "code",
      "metadata": {
        "id": "qNC_4ofRPx-P",
        "colab_type": "code",
        "colab": {}
      },
      "source": [
        "fx = fv(x)"
      ],
      "execution_count": 0,
      "outputs": []
    },
    {
      "cell_type": "code",
      "metadata": {
        "id": "Rp_ENDfEPx-Q",
        "colab_type": "code",
        "outputId": "f18187ab-096b-442a-bda5-946c6e5c9c66",
        "colab": {
          "base_uri": "https://localhost:8080/",
          "height": 35
        }
      },
      "source": [
        "x.shape, fx.shape"
      ],
      "execution_count": 0,
      "outputs": [
        {
          "output_type": "execute_result",
          "data": {
            "text/plain": [
              "((1000,), (1000,))"
            ]
          },
          "metadata": {
            "tags": []
          },
          "execution_count": 147
        }
      ]
    },
    {
      "cell_type": "code",
      "metadata": {
        "id": "gPQnhT1uPx-R",
        "colab_type": "code",
        "colab": {}
      },
      "source": [
        "import matplotlib.pyplot as plt"
      ],
      "execution_count": 0,
      "outputs": []
    },
    {
      "cell_type": "code",
      "metadata": {
        "id": "1o-UTxZFPx-R",
        "colab_type": "code",
        "outputId": "4294c6dd-1319-44c8-b049-1a0e5c519499",
        "colab": {
          "base_uri": "https://localhost:8080/",
          "height": 287
        }
      },
      "source": [
        "plt.plot(x, fx)"
      ],
      "execution_count": 0,
      "outputs": [
        {
          "output_type": "execute_result",
          "data": {
            "text/plain": [
              "[<matplotlib.lines.Line2D at 0x7fe1c22422b0>]"
            ]
          },
          "metadata": {
            "tags": []
          },
          "execution_count": 149
        },
        {
          "output_type": "display_data",
          "data": {
            "image/png": "[encoded data removed]",
            "text/plain": [
              "<Figure size 432x288 with 1 Axes>"
            ]
          },
          "metadata": {
            "tags": []
          }
        }
      ]
    },
    {
      "cell_type": "code",
      "metadata": {
        "id": "venxwOy8Px-S",
        "colab_type": "code",
        "colab": {}
      },
      "source": [
        "sig = np.vectorize(lambda x: 1 / (1 + math.exp(-x)))"
      ],
      "execution_count": 0,
      "outputs": []
    },
    {
      "cell_type": "code",
      "metadata": {
        "id": "eNSHwKxpPx-T",
        "colab_type": "code",
        "outputId": "65361435-e314-4b49-cf38-a31b61dfd9d4",
        "colab": {
          "base_uri": "https://localhost:8080/",
          "height": 287
        }
      },
      "source": [
        "plt.plot(x, sig(x))"
      ],
      "execution_count": 0,
      "outputs": [
        {
          "output_type": "execute_result",
          "data": {
            "text/plain": [
              "[<matplotlib.lines.Line2D at 0x7fe1bf9dfba8>]"
            ]
          },
          "metadata": {
            "tags": []
          },
          "execution_count": 151
        },
        {
          "output_type": "display_data",
          "data": {
            "image/png": "[encoded data removed]",
            "text/plain": [
              "<Figure size 432x288 with 1 Axes>"
            ]
          },
          "metadata": {
            "tags": []
          }
        }
      ]
    },
    {
      "cell_type": "code",
      "metadata": {
        "id": "eQmbiPOiPx-U",
        "colab_type": "code",
        "outputId": "2c8c0c82-e85a-4c96-f86e-c0eb1ea541ed",
        "colab": {
          "base_uri": "https://localhost:8080/",
          "height": 269
        }
      },
      "source": [
        "plt.plot(x, sig(x))\n",
        "plt.grid()"
      ],
      "execution_count": 0,
      "outputs": [
        {
          "output_type": "display_data",
          "data": {
            "image/png": "[encoded data removed]",
            "text/plain": [
              "<Figure size 432x288 with 1 Axes>"
            ]
          },
          "metadata": {
            "tags": []
          }
        }
      ]
    },
    {
      "cell_type": "markdown",
      "metadata": {
        "id": "qFc0IooLPx-U",
        "colab_type": "text"
      },
      "source": [
        "## Images as tensors and matrices"
      ]
    },
    {
      "cell_type": "code",
      "metadata": {
        "id": "Fj6zL-QzPx-V",
        "colab_type": "code",
        "colab": {}
      },
      "source": [
        "import cv2"
      ],
      "execution_count": 0,
      "outputs": []
    },
    {
      "cell_type": "code",
      "metadata": {
        "id": "vZPIrVDOPx-W",
        "colab_type": "code",
        "colab": {}
      },
      "source": [
        "! pip install opencv-python"
      ],
      "execution_count": 0,
      "outputs": []
    },
    {
      "cell_type": "code",
      "metadata": {
        "id": "ZSOAyq1iPx-W",
        "colab_type": "code",
        "colab": {}
      },
      "source": [
        "from pathlib import Path"
      ],
      "execution_count": 0,
      "outputs": []
    },
    {
      "cell_type": "code",
      "metadata": {
        "id": "Fl52wooBPx-X",
        "colab_type": "code",
        "colab": {}
      },
      "source": [
        "path = Path('images')"
      ],
      "execution_count": 0,
      "outputs": []
    },
    {
      "cell_type": "code",
      "metadata": {
        "id": "QNTbq5tfPx-Y",
        "colab_type": "code",
        "colab": {}
      },
      "source": [
        "ls = ! ls {path}\n",
        "la1 = path / ls[0]"
      ],
      "execution_count": 0,
      "outputs": []
    },
    {
      "cell_type": "code",
      "metadata": {
        "id": "pdHn7eT-Px-Z",
        "colab_type": "code",
        "colab": {}
      },
      "source": [
        "ls"
      ],
      "execution_count": 0,
      "outputs": []
    },
    {
      "cell_type": "code",
      "metadata": {
        "id": "n-JsBDBGPx-c",
        "colab_type": "code",
        "colab": {}
      },
      "source": [
        "img_brg = cv2.imread(str(la1 / 'tbilisi1.jpg'), cv2.IMREAD_ANYCOLOR)"
      ],
      "execution_count": 0,
      "outputs": []
    },
    {
      "cell_type": "code",
      "metadata": {
        "id": "1Ui56rcAPx-d",
        "colab_type": "code",
        "colab": {}
      },
      "source": [
        "type(img_brg), img_brg.shape"
      ],
      "execution_count": 0,
      "outputs": []
    },
    {
      "cell_type": "code",
      "metadata": {
        "scrolled": true,
        "id": "Y18fjE6-Px-f",
        "colab_type": "code",
        "colab": {}
      },
      "source": [
        "plt.figure(figsize=(50, 50))\n",
        "plt.imshow(img_brg, cmap=None)\n",
        "plt.show()"
      ],
      "execution_count": 0,
      "outputs": []
    },
    {
      "cell_type": "code",
      "metadata": {
        "id": "zj4b0-aqPx-g",
        "colab_type": "code",
        "colab": {}
      },
      "source": [
        "img = cv2.cvtColor(img_brg, cv2.COLOR_RGB2BGR)"
      ],
      "execution_count": 0,
      "outputs": []
    },
    {
      "cell_type": "code",
      "metadata": {
        "id": "1JKzffmVPx-h",
        "colab_type": "code",
        "colab": {}
      },
      "source": [
        "import matplotlib.pyplot as plt"
      ],
      "execution_count": 0,
      "outputs": []
    },
    {
      "cell_type": "code",
      "metadata": {
        "id": "lbH5Hrr8Px-i",
        "colab_type": "code",
        "colab": {}
      },
      "source": [
        "def show_img(im, figsize=(50, 50), cmap=None):\n",
        "    plt.figure(figsize=figsize)\n",
        "    plt.imshow(im, cmap=cmap)\n",
        "    plt.show()"
      ],
      "execution_count": 0,
      "outputs": []
    },
    {
      "cell_type": "code",
      "metadata": {
        "id": "8t_vknqtPx-j",
        "colab_type": "code",
        "colab": {}
      },
      "source": [
        "show_img(img)"
      ],
      "execution_count": 0,
      "outputs": []
    },
    {
      "cell_type": "code",
      "metadata": {
        "id": "cSE8zXV8Px-j",
        "colab_type": "code",
        "colab": {}
      },
      "source": [
        "gray = cv2.cvtColor(img, cv2.COLOR_RGB2GRAY)"
      ],
      "execution_count": 0,
      "outputs": []
    },
    {
      "cell_type": "code",
      "metadata": {
        "scrolled": true,
        "id": "sN6KZQwgPx-k",
        "colab_type": "code",
        "colab": {}
      },
      "source": [
        "show_img(gray, cmap='gray')"
      ],
      "execution_count": 0,
      "outputs": []
    },
    {
      "cell_type": "code",
      "metadata": {
        "id": "WfYCMq-IPx-n",
        "colab_type": "code",
        "colab": {}
      },
      "source": [
        "gray_t = gray.T"
      ],
      "execution_count": 0,
      "outputs": []
    },
    {
      "cell_type": "code",
      "metadata": {
        "scrolled": true,
        "id": "B3VB-XyFPx-o",
        "colab_type": "code",
        "colab": {}
      },
      "source": [
        "gray_t.shape\n",
        "show_img(gray_t, cmap='gray')"
      ],
      "execution_count": 0,
      "outputs": []
    },
    {
      "cell_type": "code",
      "metadata": {
        "scrolled": true,
        "id": "LmX9GPrIPx-q",
        "colab_type": "code",
        "colab": {}
      },
      "source": [
        "show_img(gray - 100, cmap='gray')"
      ],
      "execution_count": 0,
      "outputs": []
    },
    {
      "cell_type": "markdown",
      "metadata": {
        "id": "59VgFrfzPx-t",
        "colab_type": "text"
      },
      "source": [
        "## Example 1"
      ]
    },
    {
      "cell_type": "code",
      "metadata": {
        "id": "OwtwlisBPx-t",
        "colab_type": "code",
        "colab": {}
      },
      "source": [
        "X = np.random.rand(10)\n",
        "A = np.random.rand(10)\n",
        "b = np.random.rand(1)"
      ],
      "execution_count": 0,
      "outputs": []
    },
    {
      "cell_type": "code",
      "metadata": {
        "id": "WwmcKgX0Px-u",
        "colab_type": "code",
        "outputId": "01064a75-ab70-4e98-81c9-70929576de6b",
        "colab": {
          "base_uri": "https://localhost:8080/",
          "height": 35
        }
      },
      "source": [
        "A @ X + b"
      ],
      "execution_count": 0,
      "outputs": [
        {
          "output_type": "execute_result",
          "data": {
            "text/plain": [
              "array([1.94346497])"
            ]
          },
          "metadata": {
            "tags": []
          },
          "execution_count": 155
        }
      ]
    },
    {
      "cell_type": "code",
      "metadata": {
        "id": "Qf0-bZd-Px-z",
        "colab_type": "code",
        "outputId": "1bf2f1f7-c400-4c4e-8aca-e572b7052b3e",
        "colab": {
          "base_uri": "https://localhost:8080/",
          "height": 35
        }
      },
      "source": [
        "sig(A @ X + b)"
      ],
      "execution_count": 0,
      "outputs": [
        {
          "output_type": "execute_result",
          "data": {
            "text/plain": [
              "array([0.87473231])"
            ]
          },
          "metadata": {
            "tags": []
          },
          "execution_count": 156
        }
      ]
    },
    {
      "cell_type": "markdown",
      "metadata": {
        "id": "yKloFbEgPx-0",
        "colab_type": "text"
      },
      "source": [
        "## Example 2"
      ]
    },
    {
      "cell_type": "code",
      "metadata": {
        "id": "E0-8vUR7Px-1",
        "colab_type": "code",
        "colab": {}
      },
      "source": [
        "W = np.array([20, 20]) # Weights\n",
        "b = np.array([-30]) # bias"
      ],
      "execution_count": 0,
      "outputs": []
    },
    {
      "cell_type": "code",
      "metadata": {
        "id": "S24hKKh7Px-1",
        "colab_type": "code",
        "colab": {}
      },
      "source": [
        "X = np.array([1, 0])"
      ],
      "execution_count": 0,
      "outputs": []
    },
    {
      "cell_type": "code",
      "metadata": {
        "id": "PXvV4NMaPx-2",
        "colab_type": "code",
        "colab": {}
      },
      "source": [
        "d = sig(W @ X + b)"
      ],
      "execution_count": 0,
      "outputs": []
    },
    {
      "cell_type": "code",
      "metadata": {
        "id": "-kIWMkclPx-3",
        "colab_type": "code",
        "outputId": "305331b6-b96b-4fdf-ab05-afb5b9c756aa",
        "colab": {
          "base_uri": "https://localhost:8080/",
          "height": 35
        }
      },
      "source": [
        "np.around(d, decimals=1)"
      ],
      "execution_count": 0,
      "outputs": [
        {
          "output_type": "execute_result",
          "data": {
            "text/plain": [
              "array([0.])"
            ]
          },
          "metadata": {
            "tags": []
          },
          "execution_count": 160
        }
      ]
    },
    {
      "cell_type": "code",
      "metadata": {
        "id": "encnnEK5Px-4",
        "colab_type": "code",
        "colab": {}
      },
      "source": [
        "ff = lambda _X, _W, _b: sig(np.dot(_W.T, _X) + _b)"
      ],
      "execution_count": 0,
      "outputs": []
    },
    {
      "cell_type": "code",
      "metadata": {
        "id": "kML8DDtvPx-5",
        "colab_type": "code",
        "colab": {}
      },
      "source": [
        "BA = [[0, 0], [0, 1], [1, 0], [1, 1]]"
      ],
      "execution_count": 0,
      "outputs": []
    },
    {
      "cell_type": "code",
      "metadata": {
        "id": "sVjnEmM5Px-6",
        "colab_type": "code",
        "outputId": "ca3b86e6-f374-46af-b2ef-d0a7c726ec4d",
        "colab": {
          "base_uri": "https://localhost:8080/",
          "height": 87
        }
      },
      "source": [
        "for ba in BA:\n",
        "    print(ba, np.around(ff(ba, W, b), decimals=1))"
      ],
      "execution_count": 0,
      "outputs": [
        {
          "output_type": "stream",
          "text": [
            "[0, 0] [0.]\n",
            "[0, 1] [0.]\n",
            "[1, 0] [0.]\n",
            "[1, 1] [1.]\n"
          ],
          "name": "stdout"
        }
      ]
    },
    {
      "cell_type": "markdown",
      "metadata": {
        "id": "V9R-xCL8Px-6",
        "colab_type": "text"
      },
      "source": [
        "Change bias"
      ]
    },
    {
      "cell_type": "code",
      "metadata": {
        "id": "Ka9RQb-aPx-7",
        "colab_type": "code",
        "colab": {}
      },
      "source": [
        "b = np.array([-10])"
      ],
      "execution_count": 0,
      "outputs": []
    },
    {
      "cell_type": "code",
      "metadata": {
        "id": "bF7-tyImPx-8",
        "colab_type": "code",
        "outputId": "4ae42c3f-3fbe-4368-c607-988e0b7addee",
        "colab": {
          "base_uri": "https://localhost:8080/",
          "height": 87
        }
      },
      "source": [
        "for ba in BA:\n",
        "    print(ba, np.around(ff(ba, W, b), decimals=1))"
      ],
      "execution_count": 0,
      "outputs": [
        {
          "output_type": "stream",
          "text": [
            "[0, 0] [0.]\n",
            "[0, 1] [1.]\n",
            "[1, 0] [1.]\n",
            "[1, 1] [1.]\n"
          ],
          "name": "stdout"
        }
      ]
    },
    {
      "cell_type": "markdown",
      "metadata": {
        "id": "jebGBnPCPx-_",
        "colab_type": "text"
      },
      "source": [
        "Write combination for $XOR$ calculation"
      ]
    },
    {
      "cell_type": "code",
      "metadata": {
        "id": "3lNOvuFe_cgI",
        "colab_type": "code",
        "outputId": "8925cc23-33ec-43c8-d036-ef8cc1a1aaf4",
        "colab": {
          "base_uri": "https://localhost:8080/",
          "height": 87
        }
      },
      "source": [
        "b = np.array([-30, 10]) \n",
        "W = np.array([[20, 20], [-20,-20]])\n",
        "for ba in BA:\n",
        "   print(ba, np.around(ff(ba,W.T,b), decimals = 1)) #[And, Nor]"
      ],
      "execution_count": 0,
      "outputs": [
        {
          "output_type": "stream",
          "text": [
            "[0, 0] [0. 1.]\n",
            "[0, 1] [0. 0.]\n",
            "[1, 0] [0. 0.]\n",
            "[1, 1] [1. 0.]\n"
          ],
          "name": "stdout"
        }
      ]
    },
    {
      "cell_type": "code",
      "metadata": {
        "id": "1IThffOIF_4q",
        "colab_type": "code",
        "outputId": "88257031-5d9d-4239-8ba7-14de091d8933",
        "colab": {
          "base_uri": "https://localhost:8080/",
          "height": 87
        }
      },
      "source": [
        "# + Nor\n",
        "b1 = 10\n",
        "W1 = np.array([-20,-20])\n",
        "for ba in BA:\n",
        "  x = np.around(ff(ba,W.T,b), decimals = 1) \n",
        "  print(ba, x, np.around(ff(x,W1,b1), decimals = 1))\n"
      ],
      "execution_count": 0,
      "outputs": [
        {
          "output_type": "stream",
          "text": [
            "[0, 0] [0. 1.] 0.0\n",
            "[0, 1] [0. 0.] 1.0\n",
            "[1, 0] [0. 0.] 1.0\n",
            "[1, 1] [1. 0.] 0.0\n"
          ],
          "name": "stdout"
        }
      ]
    },
    {
      "cell_type": "code",
      "metadata": {
        "id": "wDpjIfgPPx_A",
        "colab_type": "code",
        "outputId": "9f89244d-fae7-4e6a-f24f-28128cccf454",
        "colab": {
          "base_uri": "https://localhost:8080/",
          "height": 87
        }
      },
      "source": [
        ""
      ],
      "execution_count": 0,
      "outputs": [
        {
          "output_type": "stream",
          "text": [
            "[0, 0] [1.]\n",
            "[0, 1] [0.]\n",
            "[1, 0] [0.]\n",
            "[1, 1] [0.]\n"
          ],
          "name": "stdout"
        }
      ]
    },
    {
      "cell_type": "code",
      "metadata": {
        "id": "QWiwk2yW_2vh",
        "colab_type": "code",
        "colab": {}
      },
      "source": [
        ""
      ],
      "execution_count": 0,
      "outputs": []
    }
  ]
}