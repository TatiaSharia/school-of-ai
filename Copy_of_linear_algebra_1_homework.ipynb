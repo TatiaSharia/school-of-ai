{
  "nbformat": 4,
  "nbformat_minor": 0,
  "metadata": {
    "kernelspec": {
      "display_name": "Python 3",
      "language": "python",
      "name": "python3"
    },
    "language_info": {
      "codemirror_mode": {
        "name": "ipython",
        "version": 3
      },
      "file_extension": ".py",
      "mimetype": "text/x-python",
      "name": "python",
      "nbconvert_exporter": "python",
      "pygments_lexer": "ipython3",
      "version": "3.7.4"
    },
    "colab": {
      "name": "Copy of linear_algebra-1-homework.ipynb",
      "provenance": [],
      "collapsed_sections": [],
      "include_colab_link": true
    }
  },
  "cells": [
    {
      "cell_type": "markdown",
      "metadata": {
        "id": "view-in-github",
        "colab_type": "text"
      },
      "source": [
        "<a href=\"https://colab.research.google.com/github/TatiaSharia/school-of-ai/blob/master/Copy_of_linear_algebra_1_homework.ipynb\" target=\"_parent\"><img src=\"https://colab.research.google.com/assets/colab-badge.svg\" alt=\"Open In Colab\"/></a>"
      ]
    },
    {
      "cell_type": "code",
      "metadata": {
        "id": "FuI6XujHoP9C",
        "colab_type": "code",
        "colab": {}
      },
      "source": [
        "%load_ext autoreload\n",
        "%autoreload 2\n",
        "\n",
        "%matplotlib inline"
      ],
      "execution_count": 0,
      "outputs": []
    },
    {
      "cell_type": "markdown",
      "metadata": {
        "id": "uBmWIsD1oP9H",
        "colab_type": "text"
      },
      "source": [
        "## Basic setup"
      ]
    },
    {
      "cell_type": "markdown",
      "metadata": {
        "id": "Kom5FSjWoP9I",
        "colab_type": "text"
      },
      "source": [
        "Create anaconda environment\n",
        "<br>\n",
        "```bash\n",
        "conda create -n ml python=3.7.4 jupyter\n",
        "```\n",
        "Install fastai library\n",
        "<br>\n",
        "```bash\n",
        "conda install -c pytorch -c fastai fastai\n",
        "```"
      ]
    },
    {
      "cell_type": "markdown",
      "metadata": {
        "id": "cKngP2HioP9J",
        "colab_type": "text"
      },
      "source": [
        "# Set theory basics"
      ]
    },
    {
      "cell_type": "markdown",
      "metadata": {
        "id": "ReELWb7HoP9J",
        "colab_type": "text"
      },
      "source": [
        "#### Prove that:\n",
        "<br>\n",
        "$A \\subseteq A$"
      ]
    },
    {
      "cell_type": "markdown",
      "metadata": {
        "id": "zW01JHgao5Kt",
        "colab_type": "text"
      },
      "source": [
        "***Proof: For each element $x$ in set $A$,  $x \\in A$***"
      ]
    },
    {
      "cell_type": "markdown",
      "metadata": {
        "id": "Gi8j9cS3oP9K",
        "colab_type": "text"
      },
      "source": [
        "#### Prove that:\n",
        "<br>\n",
        "If $A \\subseteq B$ and $B \\subseteq A$ $\\to$ $A = B$"
      ]
    },
    {
      "cell_type": "markdown",
      "metadata": {
        "id": "_s7qYyaYpoDU",
        "colab_type": "text"
      },
      "source": [
        ""
      ]
    },
    {
      "cell_type": "markdown",
      "metadata": {
        "id": "ZRzKZWFuoP9L",
        "colab_type": "text"
      },
      "source": [
        "#### Prove that:\n",
        "<br>\n",
        "if $B \\subset A$ then $A \\cap B = B$"
      ]
    },
    {
      "cell_type": "markdown",
      "metadata": {
        "id": "JR4ysuOfrPT3",
        "colab_type": "text"
      },
      "source": [
        "\n",
        "***Proof: $B \\subseteq B$ and $B \\subset A \\implies B \\subseteq A \\cap B. $ $A \\cap B$ is the largest set such that $\\forall x \\in A \\cap B, x \\in A$ and $x\\in B. $ On the other hand, any larger set than $B$ will include at least one $x$ which does not belong to $B \\implies B $ is the largest subset of $A\\cap B \\implies A\\cap B = B$***"
      ]
    },
    {
      "cell_type": "markdown",
      "metadata": {
        "id": "78Y9KRXnoP9L",
        "colab_type": "text"
      },
      "source": [
        "#### Prove that:\n",
        "<br>\n",
        "$A \\cap B = B \\cap A$"
      ]
    },
    {
      "cell_type": "markdown",
      "metadata": {
        "id": "3KytUXyboP9M",
        "colab_type": "text"
      },
      "source": [
        "#### Prove that:\n",
        "<br>\n",
        "if $B \\subset A$ then $A \\cup B = A$"
      ]
    },
    {
      "cell_type": "markdown",
      "metadata": {
        "id": "-LiwbpwRvAb9",
        "colab_type": "text"
      },
      "source": [
        "***Proof:***\n",
        "$B \\subset A$ and $A \\subseteq A \\implies B \\cup A \\subseteq A $, $A$ is the smallest set which includes $A \\implies A$ is the smallest set which includes both of the sets  $\\implies A = A \\cup B$ "
      ]
    },
    {
      "cell_type": "markdown",
      "metadata": {
        "id": "3SpYB7LcoP9N",
        "colab_type": "text"
      },
      "source": [
        "#### Prove that:\n",
        "<br>\n",
        "$A \\cup B = B \\cup A$"
      ]
    },
    {
      "cell_type": "markdown",
      "metadata": {
        "id": "rcaJB7qpoP9N",
        "colab_type": "text"
      },
      "source": [
        "#### Prove that:\n",
        "- for every injection $m:A \\to B$ and pair of functions $f, g :C \\to A$: if $m \\circ f = m \\circ g$ then $f = g$ and vice-versa\n",
        "- for every surjection $e:A \\to B$ and every pair of functions $f, g :B \\to C$: if $f \\circ e = g \\circ e$ then $f = g$ and vice-versa"
      ]
    },
    {
      "cell_type": "markdown",
      "metadata": {
        "id": "PldTX1mzwoX6",
        "colab_type": "text"
      },
      "source": [
        "***Proof:***\n",
        "\n",
        "*  $\\forall c\\in C$, $m( f (c )) = m( g(c)) $ . From the definition of injection $ \\implies f(c) = g(c) \\implies f = g$\n",
        "*   surjection:  $\\forall b \\in B,\\  \\exists a \\in A$, such that $b=e(a) \\implies e(a) $ covers whole set of $B \\implies $  $f(e(a)) = g(e(a))$ is true for each element of $ B \\implies f=g;$ \\\\\n",
        " $f=g$ means $\\forall b \\in B \\ f(b) = g(b), e(a) $ covers whole set of $B \\implies \\ f(e(a)) = g(e(a))$ \n",
        "\n"
      ]
    },
    {
      "cell_type": "markdown",
      "metadata": {
        "id": "--ELNi4ioP9O",
        "colab_type": "text"
      },
      "source": [
        "#### Prove that \n",
        "- composition of injections is injection itself\n",
        "- composition of surjections is surjection itself\n",
        "- composition of bijections is bijection itself\n",
        "<br>\n",
        "or give a counterexamples"
      ]
    },
    {
      "cell_type": "markdown",
      "metadata": {
        "id": "b1gsjy27wsT0",
        "colab_type": "text"
      },
      "source": [
        "***Proof:***\n",
        "\n",
        "1. $\\forall f,g: X \\to Y$ such that $\\forall x_1,x_2 \\in X,\\ f(x_1)=f(x_2) \\implies x_1 = x_2$ (same for $g$), we have to prove that $\\forall x',x'' \\in X, f(g(x')) = f(g(x'')) \\implies x'=x'';$ \\\\\n",
        "\n",
        "Injective property of $f: g(x')=g(x'');$ \\\\\n",
        "Injective property of $g: x'=x'';$ \\\\\n",
        "So, $f(g(x')) = f(g(x'')) \\implies x'=x'';$\n",
        "2. $\\forall$ surjective $g: X \\to Y,\\ f:Y \\to Z$, we have to prove that $\\forall z \\in Z,\\ \\exists x \\in X $ such that $z=f(g(x))$ \\\\\n",
        "Surjective property of $f: \\exists y \\in Y$ such that $f(y) = z$; \\\\\n",
        "Surjective property of $g: \\exists x \\in X$ such that $g(x) = y$; \\\\ \n",
        "So, $\\forall z \\in Z,\\ \\exists x \\in X $ such that $z=f(g(x))$; \\\\\n",
        "3. $1,2 \\implies 3$\n"
      ]
    },
    {
      "cell_type": "markdown",
      "metadata": {
        "id": "EpUyFgUtoP9O",
        "colab_type": "text"
      },
      "source": [
        "#### Prove that for each set $A$:\n",
        "- $A \\cong A$\n",
        "- if $B \\cong A$ then $B \\cong A$ for every pair of sets $A$ and $B$\n",
        "- if $A \\cong B$ and $B \\cong C$ then $A \\cong C$ for every triplet $A$, $B$ and $C$"
      ]
    },
    {
      "cell_type": "markdown",
      "metadata": {
        "id": "Uk3YDDbVw8QW",
        "colab_type": "text"
      },
      "source": [
        "***Proof:***\n",
        "\n",
        "*   $1_A:A\\to A\\ $is bijection\n",
        "*   ??\n",
        "* $\\exists$ bijections $f:A\\to B$ and $g:B \\to C $ \\\\\n",
        "composition of bijections is bijection $\\to $ $f \\circ g$ is bijection \\\\ $\\exists f \\circ g :A \\to C \\implies A \\cong C  $\n",
        "\n"
      ]
    },
    {
      "cell_type": "markdown",
      "metadata": {
        "id": "jBXNpkIFoP9P",
        "colab_type": "text"
      },
      "source": [
        "#### Prove that:\n",
        "<br>\n",
        "there exists a bijection between set of natural and even numbers"
      ]
    },
    {
      "cell_type": "markdown",
      "metadata": {
        "id": "jKMX40vmxFxW",
        "colab_type": "text"
      },
      "source": [
        "***Proof:***\n",
        "\n",
        " $f(n) = 2*(n-1), n\\in N$ is bijection $(2*(n_1-1)=2*(n_2-1) \\implies n_1 =n_2)$ and surjection $(\\forall$ even number $p \\exists n, p=2*(n-1)$"
      ]
    },
    {
      "cell_type": "markdown",
      "metadata": {
        "id": "g4MaoiwboP9Q",
        "colab_type": "text"
      },
      "source": [
        "#### Prove that:\n",
        "<br>\n",
        "if we have a bijection between two finite sets than they have an equal number of elements"
      ]
    },
    {
      "cell_type": "markdown",
      "metadata": {
        "id": "Gane66PSxM3T",
        "colab_type": "text"
      },
      "source": [
        "***Proof:***\n",
        "Bijective $\\forall f: X \\to Y\\ $ let's consider 2 cases: \\\\\n",
        "1. Number of elements of $X$ is greater than $Y:$ $X$ should contain at least 1 pair of $(x',x''),\\ x' \\neq x'' $ such that $f(x')=f(x'') \\implies f\\ $ cannot be injective.\n",
        "2. Number of elements of $Y$ is greater than $X:$ As a result of the definition of function same element of $X$ cannot be mapped to the different elements of $Y \\implies $ There must be at least one $y \\in Y $ such that $\\nexists x \\in X,\\ f(x)=y \\implies f$ cannot be surjective. \\\\\n",
        "$1,2 \\implies\\ $ if $f$ is bijective number of elements of $A$ and $B$ are equal. "
      ]
    },
    {
      "cell_type": "markdown",
      "metadata": {
        "id": "HTlY0EgYoP9Q",
        "colab_type": "text"
      },
      "source": [
        "#### Prove that:\n",
        "<br>\n",
        "$A \\times B \\cong B \\times A$"
      ]
    },
    {
      "cell_type": "markdown",
      "metadata": {
        "id": "CHVLF9HaoP9R",
        "colab_type": "text"
      },
      "source": [
        "$\\cap_{i\\in I}A_i$ and $\\cup_{i\\in I}A_i$"
      ]
    },
    {
      "cell_type": "code",
      "metadata": {
        "id": "lt-Q4RJvoP9R",
        "colab_type": "code",
        "colab": {
          "base_uri": "https://localhost:8080/",
          "height": 52
        },
        "outputId": "61cf0eb7-4ab0-4471-fa42-ad78233d96b8"
      },
      "source": [
        "# Inplement in python\n",
        "A = {1, 2, 3, 4}\n",
        "\n",
        "from itertools import combinations, chain\n",
        "pset = chain.from_iterable(set(combinations(A, r)) for r in range(len(A)+1))\n",
        "P_A = set(pset)\n",
        "\n",
        "b=A\n",
        "c=A\n",
        "for a in P_A:\n",
        "  b = b.intersection(a)\n",
        "  c = c.union(a)\n",
        "print(f'Intersection of all elements of powerset of A = {b}') \n",
        "print (f'union of all elements of powerset of A = {c}') \n"
      ],
      "execution_count": 6,
      "outputs": [
        {
          "output_type": "stream",
          "text": [
            "Intersection of all elements of powerset of A = set()\n",
            "union of all elements of powerset of A = {1, 2, 3, 4}\n"
          ],
          "name": "stdout"
        }
      ]
    },
    {
      "cell_type": "markdown",
      "metadata": {
        "id": "dVTLJjwYoP9U",
        "colab_type": "text"
      },
      "source": [
        "We can also define cartesian product of any \"number\" of sets $\\prod_{i \\in I}{A_i}$"
      ]
    },
    {
      "cell_type": "code",
      "metadata": {
        "id": "fhTlb5lPoP9V",
        "colab_type": "code",
        "colab": {}
      },
      "source": [
        "# Inplement in python"
      ],
      "execution_count": 0,
      "outputs": []
    },
    {
      "cell_type": "markdown",
      "metadata": {
        "id": "cAU2xlZUoP9X",
        "colab_type": "text"
      },
      "source": [
        "#### Prove that:\n",
        "<br>\n",
        "$$A \\cap (B \\cup C)=(A \\cap B) \\cup (A\\cap C)$$\n",
        "$$A \\cup (B \\cap C)=(A \\cup B) \\cap (A\\cup C)$$"
      ]
    },
    {
      "cell_type": "markdown",
      "metadata": {
        "id": "E-fIZ-2RoP9Y",
        "colab_type": "text"
      },
      "source": [
        "# Linear Algebra"
      ]
    },
    {
      "cell_type": "markdown",
      "metadata": {
        "id": "Ey0jRQFeoP9Y",
        "colab_type": "text"
      },
      "source": [
        "#### Prove that:\n",
        "<br>\n",
        "$(AB)^{T} = B^{T}A^{T}$ for each pair of matrices $A, B \\in \\mathbb{R}^{n \\times m}$"
      ]
    },
    {
      "cell_type": "markdown",
      "metadata": {
        "id": "aAvDgBp590oL",
        "colab_type": "text"
      },
      "source": [
        "\n",
        "\n",
        "***Proof:***\n",
        "${AB_{i,j}}^T = AB_{j,i} =  \\sum_{k} A_{j,k} B_{k,i} = \\sum_k B_{k,i} A_{j,k} =\\sum_k {B^T}_{i,k} {A^T}_{k,j} = B^T A^T $"
      ]
    },
    {
      "cell_type": "markdown",
      "metadata": {
        "id": "bByyV0A1oP9Z",
        "colab_type": "text"
      },
      "source": [
        "## Functions on tensors"
      ]
    },
    {
      "cell_type": "markdown",
      "metadata": {
        "id": "o7lwlRpvoP9Z",
        "colab_type": "text"
      },
      "source": [
        "#### Write combination for $XOR$ calculation"
      ]
    },
    {
      "cell_type": "code",
      "metadata": {
        "id": "foJ0o8eHoP9a",
        "colab_type": "code",
        "colab": {
          "base_uri": "https://localhost:8080/",
          "height": 87
        },
        "outputId": "c8414f17-77de-4b7c-f4a6-4fde37493ec9"
      },
      "source": [
        "import numpy as np\n",
        "import math\n",
        "sig = np.vectorize(lambda x: 1 / (1 + math.exp(-x)))\n",
        "ff = lambda _X, _W, _b: sig(np.dot(_W.T, _X) + _b)\n",
        "BA = [[0, 0], [0, 1], [1, 0], [1, 1]]\n",
        "\n",
        "b = np.array([-30, 10]) \n",
        "W = np.array([[20, 20], [-20,-20]])\n",
        "for ba in BA:\n",
        "   print(ba, np.around(ff(ba,W.T,b), decimals = 1)) #[And, Nor]"
      ],
      "execution_count": 14,
      "outputs": [
        {
          "output_type": "stream",
          "text": [
            "[0, 0] [0. 1.]\n",
            "[0, 1] [0. 0.]\n",
            "[1, 0] [0. 0.]\n",
            "[1, 1] [1. 0.]\n"
          ],
          "name": "stdout"
        }
      ]
    },
    {
      "cell_type": "code",
      "metadata": {
        "id": "GirUPF3g-hNy",
        "colab_type": "code",
        "colab": {
          "base_uri": "https://localhost:8080/",
          "height": 87
        },
        "outputId": "7259c92e-947d-4d32-9443-138957098c9f"
      },
      "source": [
        "# + Nor\n",
        "b1 = 10\n",
        "W1 = np.array([-20,-20])\n",
        "for ba in BA:\n",
        "  x = np.around(ff(ba,W.T,b), decimals = 1) \n",
        "  print(ba, x, np.around(ff(x,W1,b1), decimals = 1))"
      ],
      "execution_count": 15,
      "outputs": [
        {
          "output_type": "stream",
          "text": [
            "[0, 0] [0. 1.] 0.0\n",
            "[0, 1] [0. 0.] 1.0\n",
            "[1, 0] [0. 0.] 1.0\n",
            "[1, 1] [1. 0.] 0.0\n"
          ],
          "name": "stdout"
        }
      ]
    },
    {
      "cell_type": "code",
      "metadata": {
        "id": "Ya3N5TFJ_jAJ",
        "colab_type": "code",
        "colab": {}
      },
      "source": [
        ""
      ],
      "execution_count": 0,
      "outputs": []
    }
  ]
}