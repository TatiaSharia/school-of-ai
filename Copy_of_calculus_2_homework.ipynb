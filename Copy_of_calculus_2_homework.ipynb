{
  "nbformat": 4,
  "nbformat_minor": 0,
  "metadata": {
    "kernelspec": {
      "display_name": "Python 3",
      "language": "python",
      "name": "python3"
    },
    "language_info": {
      "codemirror_mode": {
        "name": "ipython",
        "version": 3
      },
      "file_extension": ".py",
      "mimetype": "text/x-python",
      "name": "python",
      "nbconvert_exporter": "python",
      "pygments_lexer": "ipython3",
      "version": "3.7.4"
    },
    "colab": {
      "name": "Copy of calculus-2-homework.ipynb",
      "provenance": [],
      "include_colab_link": true
    }
  },
  "cells": [
    {
      "cell_type": "markdown",
      "metadata": {
        "id": "view-in-github",
        "colab_type": "text"
      },
      "source": [
        "<a href=\"https://colab.research.google.com/github/TatiaSharia/school-of-ai/blob/master/Copy_of_calculus_2_homework.ipynb\" target=\"_parent\"><img src=\"https://colab.research.google.com/assets/colab-badge.svg\" alt=\"Open In Colab\"/></a>"
      ]
    },
    {
      "cell_type": "code",
      "metadata": {
        "id": "00p9ZiBJ8J84",
        "colab_type": "code",
        "colab": {}
      },
      "source": [
        "%load_ext autoreload\n",
        "%autoreload 2\n",
        "\n",
        "%matplotlib inline"
      ],
      "execution_count": 0,
      "outputs": []
    },
    {
      "cell_type": "markdown",
      "metadata": {
        "id": "W6MQNQpE8J87",
        "colab_type": "text"
      },
      "source": [
        "## Basic setup"
      ]
    },
    {
      "cell_type": "markdown",
      "metadata": {
        "id": "b3ddazo-8J88",
        "colab_type": "text"
      },
      "source": [
        "Create anaconda environment\n",
        "<br>\n",
        "```bash\n",
        "conda create -n ml python=3.7.4 jupyter\n",
        "```\n",
        "Install fastai library\n",
        "<br>\n",
        "```bash\n",
        "conda install -c pytorch -c fastai fastai\n",
        "```"
      ]
    },
    {
      "cell_type": "markdown",
      "metadata": {
        "id": "7R_oNC7f8J89",
        "colab_type": "text"
      },
      "source": [
        "# Derivatives"
      ]
    },
    {
      "cell_type": "markdown",
      "metadata": {
        "id": "YgOW6ln28J8-",
        "colab_type": "text"
      },
      "source": [
        "#### Example:\n",
        "$$f(x,y) = \\begin{cases}x & \\text{if }y \\ne x^2 \\\\ 0 & \\text{if }y = x^2\\end{cases}$$"
      ]
    },
    {
      "cell_type": "markdown",
      "metadata": {
        "id": "oy7P-4T6LSam",
        "colab_type": "text"
      },
      "source": [
        "Partial derivatives: Across $x$ axis, at $(x_0,x_0^2)$ point - for positive $\\epsilon \\rightarrow 0, $ $f(x_0+ \\epsilon, x_0^2) = x_0+\\epsilon, $ while $f(x_0,x_0^2) = 0$ $lim_{\\epsilon \\rightarrow 0} [f(x_0+\\epsilon, x_0^2) - f(x_0,x_0^2) = x_0+\\epsilon=x_0 \\neq 0 \\implies f(x,y)$ is not differentiable across $x$ axis $\\implies$ does not have a partial derivative across $x$ axis $\\implies f(x,y) $ does not have a total derivative."
      ]
    },
    {
      "cell_type": "markdown",
      "metadata": {
        "id": "xABgcy368J8-",
        "colab_type": "text"
      },
      "source": [
        "#### Example:\n",
        "$$f(x,y) = \\begin{cases}y^3/(x^2+y^2) & \\text{if }(x,y) \\ne (0,0) \\\\ 0 & \\text{if }(x,y) = (0,0)\\end{cases}$$"
      ]
    },
    {
      "cell_type": "markdown",
      "metadata": {
        "id": "w20LcU2EPj64",
        "colab_type": "text"
      },
      "source": [
        "At $(0,0)$, across $x$ axis : $lim_{\\epsilon \\rightarrow 0} [f(\\epsilon, 0) - f(0,0]=lim_{\\epsilon \\rightarrow 0}0^3/(\\epsilon ^2 + 0^2)\\rightarrow 0; \\ $ Across $y$ axis: $lim_{\\epsilon \\rightarrow 0} [f(0,\\epsilon) - f(0,0] = lim_{\\epsilon \\rightarrow 0} [\\epsilon^3/(0^2+\\epsilon^2)] \\rightarrow \\epsilon \\rightarrow 0; \\implies $ function is continuous across $x$ and $y$ axis at $(0,0)$ point. Derivatives: $x: lim_{\\epsilon \\rightarrow 0} [f(\\epsilon, 0) - f(0,0]/\\epsilon = 0/\\epsilon=0; y: lim_{\\epsilon \\rightarrow 0} [f(0, \\epsilon) - f(0,0]/ \\epsilon = \\epsilon / \\epsilon = 1; $"
      ]
    }
  ]
}